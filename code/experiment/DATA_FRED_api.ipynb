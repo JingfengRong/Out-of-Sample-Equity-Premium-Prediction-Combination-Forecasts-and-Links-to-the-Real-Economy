{
 "cells": [
  {
   "cell_type": "markdown",
   "metadata": {},
   "source": [
    "# FRED (Federal Reserve Economic Data) Python API"
   ]
  },
  {
   "cell_type": "markdown",
   "metadata": {},
   "source": [
    "A working toturioal on a third part API on [FRED](https://fred.stlouisfed.org/) database.\n",
    "\n",
    "Require `fredapi` package. Documntation can be found [here](https://github.com/mortada/fredapi).\n",
    "\n",
    "More usage example about `fredapi` can be found [here](https://mortada.net/python-api-for-fred.html)"
   ]
  },
  {
   "cell_type": "code",
   "execution_count": 1,
   "metadata": {},
   "outputs": [],
   "source": [
    "from fredapi import Fred\n",
    "fred = Fred(api_key='631315bacbfa8bb2b05f554ff915e38e')\n",
    "data = fred.get_series('AAA')\n"
   ]
  },
  {
   "cell_type": "code",
   "execution_count": 8,
   "metadata": {},
   "outputs": [],
   "source": [
    "AAA = fred.get_series('AAA')\n",
    "BAA = fred.get_series('BAA')\n",
    "credit_premium = BAA - AAA"
   ]
  },
  {
   "cell_type": "code",
   "execution_count": 9,
   "metadata": {},
   "outputs": [
    {
     "data": {
      "text/plain": [
       "<AxesSubplot:>"
      ]
     },
     "execution_count": 9,
     "metadata": {},
     "output_type": "execute_result"
    },
    {
     "data": {
      "image/png": "[encoded data removed]",
      "text/plain": [
       "<Figure size 432x288 with 1 Axes>"
      ]
     },
     "metadata": {
      "needs_background": "light"
     },
     "output_type": "display_data"
    }
   ],
   "source": [
    "credit_premium.plot()"
   ]
  },
  {
   "cell_type": "code",
   "execution_count": 3,
   "metadata": {},
   "outputs": [
    {
     "data": {
      "text/html": [
       "<div>\n",
       "<style scoped>\n",
       "    .dataframe tbody tr th:only-of-type {\n",
       "        vertical-align: middle;\n",
       "    }\n",
       "\n",
       "    .dataframe tbody tr th {\n",
       "        vertical-align: top;\n",
       "    }\n",
       "\n",
       "    .dataframe thead th {\n",
       "        text-align: right;\n",
       "    }\n",
       "</style>\n",
       "<table border=\"1\" class=\"dataframe\">\n",
       "  <thead>\n",
       "    <tr style=\"text-align: right;\">\n",
       "      <th>series id</th>\n",
       "      <th>DTWEXBGS</th>\n",
       "    </tr>\n",
       "  </thead>\n",
       "  <tbody>\n",
       "    <tr>\n",
       "      <th>frequency</th>\n",
       "      <td>Daily</td>\n",
       "    </tr>\n",
       "    <tr>\n",
       "      <th>frequency_short</th>\n",
       "      <td>D</td>\n",
       "    </tr>\n",
       "    <tr>\n",
       "      <th>id</th>\n",
       "      <td>DTWEXBGS</td>\n",
       "    </tr>\n",
       "    <tr>\n",
       "      <th>last_updated</th>\n",
       "      <td>2022-05-23 15:20:06-05:00</td>\n",
       "    </tr>\n",
       "    <tr>\n",
       "      <th>notes</th>\n",
       "      <td>None</td>\n",
       "    </tr>\n",
       "    <tr>\n",
       "      <th>observation_end</th>\n",
       "      <td>2022-05-20 00:00:00</td>\n",
       "    </tr>\n",
       "    <tr>\n",
       "      <th>observation_start</th>\n",
       "      <td>2006-01-02 00:00:00</td>\n",
       "    </tr>\n",
       "    <tr>\n",
       "      <th>popularity</th>\n",
       "      <td>76</td>\n",
       "    </tr>\n",
       "    <tr>\n",
       "      <th>realtime_end</th>\n",
       "      <td>2022-05-25 00:00:00</td>\n",
       "    </tr>\n",
       "    <tr>\n",
       "      <th>realtime_start</th>\n",
       "      <td>2022-05-25 00:00:00</td>\n",
       "    </tr>\n",
       "    <tr>\n",
       "      <th>seasonal_adjustment</th>\n",
       "      <td>Not Seasonally Adjusted</td>\n",
       "    </tr>\n",
       "    <tr>\n",
       "      <th>seasonal_adjustment_short</th>\n",
       "      <td>NSA</td>\n",
       "    </tr>\n",
       "    <tr>\n",
       "      <th>title</th>\n",
       "      <td>Nominal Broad U.S. Dollar Index</td>\n",
       "    </tr>\n",
       "    <tr>\n",
       "      <th>units</th>\n",
       "      <td>Index Jan 2006=100</td>\n",
       "    </tr>\n",
       "    <tr>\n",
       "      <th>units_short</th>\n",
       "      <td>Index Jan 2006=100</td>\n",
       "    </tr>\n",
       "  </tbody>\n",
       "</table>\n",
       "</div>"
      ],
      "text/plain": [
       "series id                                         DTWEXBGS\n",
       "frequency                                            Daily\n",
       "frequency_short                                          D\n",
       "id                                                DTWEXBGS\n",
       "last_updated                     2022-05-23 15:20:06-05:00\n",
       "notes                                                 None\n",
       "observation_end                        2022-05-20 00:00:00\n",
       "observation_start                      2006-01-02 00:00:00\n",
       "popularity                                              76\n",
       "realtime_end                           2022-05-25 00:00:00\n",
       "realtime_start                         2022-05-25 00:00:00\n",
       "seasonal_adjustment                Not Seasonally Adjusted\n",
       "seasonal_adjustment_short                              NSA\n",
       "title                      Nominal Broad U.S. Dollar Index\n",
       "units                                   Index Jan 2006=100\n",
       "units_short                             Index Jan 2006=100"
      ]
     },
     "execution_count": 3,
     "metadata": {},
     "output_type": "execute_result"
    }
   ],
   "source": [
    "fred.search('DTWEXBGS').T"
   ]
  }
 ],
 "metadata": {
  "kernelspec": {
   "display_name": "Python 3.9.13 ('tactical_asset_allocation')",
   "language": "python",
   "name": "python3"
  },
  "language_info": {
   "codemirror_mode": {
    "name": "ipython",
    "version": 3
   },
   "file_extension": ".py",
   "mimetype": "text/x-python",
   "name": "python",
   "nbconvert_exporter": "python",
   "pygments_lexer": "ipython3",
   "version": "3.9.13"
  },
  "orig_nbformat": 4,
  "vscode": {
   "interpreter": {
    "hash": "7570e427e973fb3b6bfd659c66bf78cc4cabecf651bb8f199a8f71cadb6634f8"
   }
  }
 },
 "nbformat": 4,
 "nbformat_minor": 2
}
