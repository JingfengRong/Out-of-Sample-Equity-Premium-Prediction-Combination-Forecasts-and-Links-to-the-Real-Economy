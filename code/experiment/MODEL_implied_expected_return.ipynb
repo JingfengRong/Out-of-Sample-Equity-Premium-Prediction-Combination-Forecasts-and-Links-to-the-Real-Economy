{
 "cells": [
  {
   "cell_type": "markdown",
   "metadata": {},
   "source": [
    "# Implied Expected Return"
   ]
  },
  {
   "cell_type": "code",
   "execution_count": 1,
   "metadata": {},
   "outputs": [],
   "source": [
    "from __future__ import annotations\n",
    "import pandas as pd\n",
    "import numpy as np\n",
    "from dateutil.relativedelta import relativedelta\n",
    "from datetime import datetime\n",
    "import matplotlib.pyplot as plt\n",
    "import sys\n",
    "sys.path.append('../module')\n",
    "import re\n",
    "\n",
    "import statsmodels.api as sm\n",
    "from sklearn.covariance import LedoitWolf\n",
    "from sklearn.model_selection import TimeSeriesSplit\n",
    "\n",
    "from model import get_shrunk_covariance_matrix\n",
    "from model import get_implied_expected_return\n",
    "from analysis import get_return_forecast_performance\n",
    "from IO_handler import post_dataframe_to_latex_table\n",
    "from data_handler import get_econ_predictors\n",
    "from data_handler import get_monthly_date_format, get_quarterly_date_format"
   ]
  },
  {
   "cell_type": "markdown",
   "metadata": {},
   "source": [
    "Load equity return daily data and market portfolio weight daily time series data"
   ]
  },
  {
   "cell_type": "code",
   "execution_count": 2,
   "metadata": {},
   "outputs": [
    {
     "data": {
      "text/html": [
       "<div>\n",
       "<style scoped>\n",
       "    .dataframe tbody tr th:only-of-type {\n",
       "        vertical-align: middle;\n",
       "    }\n",
       "\n",
       "    .dataframe tbody tr th {\n",
       "        vertical-align: top;\n",
       "    }\n",
       "\n",
       "    .dataframe thead th {\n",
       "        text-align: right;\n",
       "    }\n",
       "</style>\n",
       "<table border=\"1\" class=\"dataframe\">\n",
       "  <thead>\n",
       "    <tr style=\"text-align: right;\">\n",
       "      <th></th>\n",
       "      <th>Stock</th>\n",
       "      <th>Bond</th>\n",
       "    </tr>\n",
       "  </thead>\n",
       "  <tbody>\n",
       "    <tr>\n",
       "      <th>1947-06</th>\n",
       "      <td>0.002637</td>\n",
       "      <td>0.000950</td>\n",
       "    </tr>\n",
       "    <tr>\n",
       "      <th>1947-09</th>\n",
       "      <td>-0.006575</td>\n",
       "      <td>0.000950</td>\n",
       "    </tr>\n",
       "    <tr>\n",
       "      <th>1947-12</th>\n",
       "      <td>0.012574</td>\n",
       "      <td>0.002000</td>\n",
       "    </tr>\n",
       "    <tr>\n",
       "      <th>1948-03</th>\n",
       "      <td>-0.014379</td>\n",
       "      <td>0.002375</td>\n",
       "    </tr>\n",
       "    <tr>\n",
       "      <th>1948-06</th>\n",
       "      <td>0.110080</td>\n",
       "      <td>0.002500</td>\n",
       "    </tr>\n",
       "    <tr>\n",
       "      <th>...</th>\n",
       "      <td>...</td>\n",
       "      <td>...</td>\n",
       "    </tr>\n",
       "    <tr>\n",
       "      <th>2020-12</th>\n",
       "      <td>0.116881</td>\n",
       "      <td>0.000275</td>\n",
       "    </tr>\n",
       "    <tr>\n",
       "      <th>2021-03</th>\n",
       "      <td>0.057725</td>\n",
       "      <td>0.000225</td>\n",
       "    </tr>\n",
       "    <tr>\n",
       "      <th>2021-06</th>\n",
       "      <td>0.081706</td>\n",
       "      <td>0.000075</td>\n",
       "    </tr>\n",
       "    <tr>\n",
       "      <th>2021-09</th>\n",
       "      <td>0.002336</td>\n",
       "      <td>0.000100</td>\n",
       "    </tr>\n",
       "    <tr>\n",
       "      <th>2021-12</th>\n",
       "      <td>0.106474</td>\n",
       "      <td>0.000100</td>\n",
       "    </tr>\n",
       "  </tbody>\n",
       "</table>\n",
       "<p>299 rows × 2 columns</p>\n",
       "</div>"
      ],
      "text/plain": [
       "            Stock      Bond\n",
       "1947-06  0.002637  0.000950\n",
       "1947-09 -0.006575  0.000950\n",
       "1947-12  0.012574  0.002000\n",
       "1948-03 -0.014379  0.002375\n",
       "1948-06  0.110080  0.002500\n",
       "...           ...       ...\n",
       "2020-12  0.116881  0.000275\n",
       "2021-03  0.057725  0.000225\n",
       "2021-06  0.081706  0.000075\n",
       "2021-09  0.002336  0.000100\n",
       "2021-12  0.106474  0.000100\n",
       "\n",
       "[299 rows x 2 columns]"
      ]
     },
     "execution_count": 2,
     "metadata": {},
     "output_type": "execute_result"
    }
   ],
   "source": [
    "# load data \n",
    "START_DATE = '1947-01'\n",
    "END_DATE = '2021-12'\n",
    "data_freq = 'quarterly'\n",
    "\n",
    "date_freq_to_data_func_map = {'monthly': ('../../data/econ_predictors_monthly_2021_Amit_Goyal.csv',\n",
    "                                        get_monthly_date_format), \n",
    "                            'quarterly': ('../../data/econ_predictors_quarterly_2021_Amit_Goyal.csv',\n",
    "                                        get_quarterly_date_format)}\n",
    "data_path, date_format_func = date_freq_to_data_func_map[data_freq]\n",
    "\n",
    "data = pd.read_csv(data_path, index_col=0)\n",
    "data.index = [date_format_func(str(x), {'format':'%Y%m'}) for x in data.index]\n",
    "econ_data = data[START_DATE:END_DATE]\n",
    "\n",
    "equity_price = econ_data['Index'].apply(lambda x: re.sub(r'[^\\w\\s|.]', '', x))\n",
    "equity_price = equity_price.astype(float)\n",
    "equity_return = equity_price.pct_change().dropna()\n",
    "rf = econ_data['Rfree']\n",
    "\n",
    "equities_returns_df = pd.DataFrame([equity_return, rf]).T.dropna()\n",
    "equities_returns_df.columns = ['Stock', 'Bond']\n",
    "equities_returns_df"
   ]
  },
  {
   "cell_type": "code",
   "execution_count": 3,
   "metadata": {},
   "outputs": [
    {
     "data": {
      "text/html": [
       "<div>\n",
       "<style scoped>\n",
       "    .dataframe tbody tr th:only-of-type {\n",
       "        vertical-align: middle;\n",
       "    }\n",
       "\n",
       "    .dataframe tbody tr th {\n",
       "        vertical-align: top;\n",
       "    }\n",
       "\n",
       "    .dataframe thead th {\n",
       "        text-align: right;\n",
       "    }\n",
       "</style>\n",
       "<table border=\"1\" class=\"dataframe\">\n",
       "  <thead>\n",
       "    <tr style=\"text-align: right;\">\n",
       "      <th></th>\n",
       "      <th>Stock</th>\n",
       "      <th>Bond</th>\n",
       "    </tr>\n",
       "  </thead>\n",
       "  <tbody>\n",
       "    <tr>\n",
       "      <th>1947-06</th>\n",
       "      <td>0.5</td>\n",
       "      <td>0.5</td>\n",
       "    </tr>\n",
       "    <tr>\n",
       "      <th>1947-09</th>\n",
       "      <td>0.5</td>\n",
       "      <td>0.5</td>\n",
       "    </tr>\n",
       "    <tr>\n",
       "      <th>1947-12</th>\n",
       "      <td>0.5</td>\n",
       "      <td>0.5</td>\n",
       "    </tr>\n",
       "    <tr>\n",
       "      <th>1948-03</th>\n",
       "      <td>0.5</td>\n",
       "      <td>0.5</td>\n",
       "    </tr>\n",
       "    <tr>\n",
       "      <th>1948-06</th>\n",
       "      <td>0.5</td>\n",
       "      <td>0.5</td>\n",
       "    </tr>\n",
       "    <tr>\n",
       "      <th>...</th>\n",
       "      <td>...</td>\n",
       "      <td>...</td>\n",
       "    </tr>\n",
       "    <tr>\n",
       "      <th>2020-12</th>\n",
       "      <td>0.5</td>\n",
       "      <td>0.5</td>\n",
       "    </tr>\n",
       "    <tr>\n",
       "      <th>2021-03</th>\n",
       "      <td>0.5</td>\n",
       "      <td>0.5</td>\n",
       "    </tr>\n",
       "    <tr>\n",
       "      <th>2021-06</th>\n",
       "      <td>0.5</td>\n",
       "      <td>0.5</td>\n",
       "    </tr>\n",
       "    <tr>\n",
       "      <th>2021-09</th>\n",
       "      <td>0.5</td>\n",
       "      <td>0.5</td>\n",
       "    </tr>\n",
       "    <tr>\n",
       "      <th>2021-12</th>\n",
       "      <td>0.5</td>\n",
       "      <td>0.5</td>\n",
       "    </tr>\n",
       "  </tbody>\n",
       "</table>\n",
       "<p>299 rows × 2 columns</p>\n",
       "</div>"
      ],
      "text/plain": [
       "         Stock  Bond\n",
       "1947-06    0.5   0.5\n",
       "1947-09    0.5   0.5\n",
       "1947-12    0.5   0.5\n",
       "1948-03    0.5   0.5\n",
       "1948-06    0.5   0.5\n",
       "...        ...   ...\n",
       "2020-12    0.5   0.5\n",
       "2021-03    0.5   0.5\n",
       "2021-06    0.5   0.5\n",
       "2021-09    0.5   0.5\n",
       "2021-12    0.5   0.5\n",
       "\n",
       "[299 rows x 2 columns]"
      ]
     },
     "execution_count": 3,
     "metadata": {},
     "output_type": "execute_result"
    }
   ],
   "source": [
    "# portfolio weights\n",
    "W_equal = pd.DataFrame(np.ones_like(equities_returns_df)/2, index=equities_returns_df.index, columns=equities_returns_df.columns)\n",
    "W_equal"
   ]
  },
  {
   "attachments": {},
   "cell_type": "markdown",
   "metadata": {},
   "source": [
    "Hyperparameters"
   ]
  },
  {
   "cell_type": "code",
   "execution_count": 7,
   "metadata": {},
   "outputs": [],
   "source": [
    "W_efficient = W_equal.copy()\n",
    "risk_free_rate = equities_returns_df['Bond'].copy()\n",
    "SAMPLE_SIZE = len(equities_returns_df)\n",
    "N = stock_num = len(W_efficient.columns)\n",
    "l = lagrange_multiplier = risk_free_rate\n",
    "gamma = risk_averse = 2.4\n",
    "equity_name_list = W_efficient.columns"
   ]
  },
  {
   "cell_type": "code",
   "execution_count": 8,
   "metadata": {},
   "outputs": [],
   "source": [
    "DATA_FREQUENCY = 4\n",
    "INIT_WINDOW_SIZE = 17\n",
    "SAMPLE_SIZE = equities_returns_df.shape[0]\n",
    "tscv = TimeSeriesSplit(n_splits = SAMPLE_SIZE - DATA_FREQUENCY * INIT_WINDOW_SIZE,\n",
    "                       test_size=1)"
   ]
  },
  {
   "cell_type": "code",
   "execution_count": 9,
   "metadata": {},
   "outputs": [],
   "source": [
    "sigma_t = [get_shrunk_covariance_matrix(equities_returns_df.iloc[train_index]) for i, (train_index, test_index) in enumerate(tscv.split(equities_returns_df))]"
   ]
  },
  {
   "cell_type": "markdown",
   "metadata": {},
   "source": [
    "Model for implied expected return\n",
    "\\begin{equation}\n",
    "\\mu=l 1+\\gamma \\sum w\n",
    "\\end{equation}\n",
    "In terms of two asset, we have\n",
    "$$\n",
    "\\left[\\begin{array}{l}\\mu_1 \\\\ \\mu_2\\end{array}\\right]=L\\left[\\begin{array}{l}1 \\\\ 1\\end{array}\\right]+\\gamma\\left[\\begin{array}{ll}\\Sigma_{11} & \\Sigma_{12} \\\\ \\Sigma_{21} & \\Sigma_{22}\\end{array}\\right]\\left[\\begin{array}{l}w_1 \\\\ w_2\\end{array}\\right]\n",
    "$$"
   ]
  },
  {
   "cell_type": "code",
   "execution_count": 11,
   "metadata": {},
   "outputs": [],
   "source": [
    "pred_size = len(sigma_t)\n",
    "W_efficient = W_efficient.iloc[-pred_size:]\n",
    "l = l.iloc[-pred_size:]"
   ]
  },
  {
   "cell_type": "code",
   "execution_count": 12,
   "metadata": {},
   "outputs": [],
   "source": [
    "mu_implied = \\\n",
    "    l.values.reshape(-1, 1, 1) + \\\n",
    "    gamma * np.array(sigma_t).reshape((-1, N, N)) @ W_efficient.values.reshape(-1, N, 1)"
   ]
  },
  {
   "cell_type": "code",
   "execution_count": 13,
   "metadata": {},
   "outputs": [
    {
     "data": {
      "text/html": [
       "<div>\n",
       "<style scoped>\n",
       "    .dataframe tbody tr th:only-of-type {\n",
       "        vertical-align: middle;\n",
       "    }\n",
       "\n",
       "    .dataframe tbody tr th {\n",
       "        vertical-align: top;\n",
       "    }\n",
       "\n",
       "    .dataframe thead th {\n",
       "        text-align: right;\n",
       "    }\n",
       "</style>\n",
       "<table border=\"1\" class=\"dataframe\">\n",
       "  <thead>\n",
       "    <tr style=\"text-align: right;\">\n",
       "      <th></th>\n",
       "      <th>Stock</th>\n",
       "      <th>Bond</th>\n",
       "    </tr>\n",
       "  </thead>\n",
       "  <tbody>\n",
       "    <tr>\n",
       "      <th>1964-09</th>\n",
       "      <td>0.013403</td>\n",
       "      <td>0.009055</td>\n",
       "    </tr>\n",
       "    <tr>\n",
       "      <th>1964-12</th>\n",
       "      <td>0.013187</td>\n",
       "      <td>0.008904</td>\n",
       "    </tr>\n",
       "    <tr>\n",
       "      <th>1965-03</th>\n",
       "      <td>0.013247</td>\n",
       "      <td>0.009028</td>\n",
       "    </tr>\n",
       "    <tr>\n",
       "      <th>1965-06</th>\n",
       "      <td>0.013966</td>\n",
       "      <td>0.009798</td>\n",
       "    </tr>\n",
       "    <tr>\n",
       "      <th>1965-09</th>\n",
       "      <td>0.014131</td>\n",
       "      <td>0.010021</td>\n",
       "    </tr>\n",
       "    <tr>\n",
       "      <th>...</th>\n",
       "      <td>...</td>\n",
       "      <td>...</td>\n",
       "    </tr>\n",
       "    <tr>\n",
       "      <th>2004-03</th>\n",
       "      <td>0.009172</td>\n",
       "      <td>0.002480</td>\n",
       "    </tr>\n",
       "    <tr>\n",
       "      <th>2004-06</th>\n",
       "      <td>0.009085</td>\n",
       "      <td>0.002375</td>\n",
       "    </tr>\n",
       "    <tr>\n",
       "      <th>2004-09</th>\n",
       "      <td>0.009156</td>\n",
       "      <td>0.002475</td>\n",
       "    </tr>\n",
       "    <tr>\n",
       "      <th>2004-12</th>\n",
       "      <td>0.009952</td>\n",
       "      <td>0.003301</td>\n",
       "    </tr>\n",
       "    <tr>\n",
       "      <th>2005-03</th>\n",
       "      <td>0.010885</td>\n",
       "      <td>0.004252</td>\n",
       "    </tr>\n",
       "  </tbody>\n",
       "</table>\n",
       "<p>163 rows × 2 columns</p>\n",
       "</div>"
      ],
      "text/plain": [
       "            Stock      Bond\n",
       "1964-09  0.013403  0.009055\n",
       "1964-12  0.013187  0.008904\n",
       "1965-03  0.013247  0.009028\n",
       "1965-06  0.013966  0.009798\n",
       "1965-09  0.014131  0.010021\n",
       "...           ...       ...\n",
       "2004-03  0.009172  0.002480\n",
       "2004-06  0.009085  0.002375\n",
       "2004-09  0.009156  0.002475\n",
       "2004-12  0.009952  0.003301\n",
       "2005-03  0.010885  0.004252\n",
       "\n",
       "[163 rows x 2 columns]"
      ]
     },
     "execution_count": 13,
     "metadata": {},
     "output_type": "execute_result"
    }
   ],
   "source": [
    "mu_implied = pd.DataFrame(mu_implied.reshape(-1, N), columns=equity_name_list)\n",
    "mu_implied = mu_implied[:-1] # remove the last forecast\n",
    "mu_implied.index = l.index[1:]\n",
    "mu_implied"
   ]
  },
  {
   "cell_type": "code",
   "execution_count": 96,
   "metadata": {},
   "outputs": [
    {
     "data": {
      "text/html": [
       "<div>\n",
       "<style scoped>\n",
       "    .dataframe tbody tr th:only-of-type {\n",
       "        vertical-align: middle;\n",
       "    }\n",
       "\n",
       "    .dataframe tbody tr th {\n",
       "        vertical-align: top;\n",
       "    }\n",
       "\n",
       "    .dataframe thead th {\n",
       "        text-align: right;\n",
       "    }\n",
       "</style>\n",
       "<table border=\"1\" class=\"dataframe\">\n",
       "  <thead>\n",
       "    <tr style=\"text-align: right;\">\n",
       "      <th></th>\n",
       "      <th>IVV</th>\n",
       "      <th>IEF</th>\n",
       "    </tr>\n",
       "  </thead>\n",
       "  <tbody>\n",
       "    <tr>\n",
       "      <th>2003-09-30</th>\n",
       "      <td>0.000817</td>\n",
       "      <td>0.000694</td>\n",
       "    </tr>\n",
       "    <tr>\n",
       "      <th>2003-10-31</th>\n",
       "      <td>0.000916</td>\n",
       "      <td>0.000798</td>\n",
       "    </tr>\n",
       "    <tr>\n",
       "      <th>2003-11-30</th>\n",
       "      <td>0.000816</td>\n",
       "      <td>0.000700</td>\n",
       "    </tr>\n",
       "    <tr>\n",
       "      <th>2003-12-31</th>\n",
       "      <td>0.000817</td>\n",
       "      <td>0.000699</td>\n",
       "    </tr>\n",
       "    <tr>\n",
       "      <th>2004-01-31</th>\n",
       "      <td>0.000918</td>\n",
       "      <td>0.000796</td>\n",
       "    </tr>\n",
       "    <tr>\n",
       "      <th>...</th>\n",
       "      <td>...</td>\n",
       "      <td>...</td>\n",
       "    </tr>\n",
       "    <tr>\n",
       "      <th>2019-07-31</th>\n",
       "      <td>0.001953</td>\n",
       "      <td>0.001780</td>\n",
       "    </tr>\n",
       "    <tr>\n",
       "      <th>2019-08-31</th>\n",
       "      <td>0.002053</td>\n",
       "      <td>0.001880</td>\n",
       "    </tr>\n",
       "    <tr>\n",
       "      <th>2019-09-30</th>\n",
       "      <td>0.001753</td>\n",
       "      <td>0.001580</td>\n",
       "    </tr>\n",
       "    <tr>\n",
       "      <th>2019-10-31</th>\n",
       "      <td>0.001959</td>\n",
       "      <td>0.001779</td>\n",
       "    </tr>\n",
       "    <tr>\n",
       "      <th>2019-11-30</th>\n",
       "      <td>0.001658</td>\n",
       "      <td>0.001479</td>\n",
       "    </tr>\n",
       "  </tbody>\n",
       "</table>\n",
       "<p>195 rows × 2 columns</p>\n",
       "</div>"
      ],
      "text/plain": [
       "                 IVV       IEF\n",
       "2003-09-30  0.000817  0.000694\n",
       "2003-10-31  0.000916  0.000798\n",
       "2003-11-30  0.000816  0.000700\n",
       "2003-12-31  0.000817  0.000699\n",
       "2004-01-31  0.000918  0.000796\n",
       "...              ...       ...\n",
       "2019-07-31  0.001953  0.001780\n",
       "2019-08-31  0.002053  0.001880\n",
       "2019-09-30  0.001753  0.001580\n",
       "2019-10-31  0.001959  0.001779\n",
       "2019-11-30  0.001658  0.001479\n",
       "\n",
       "[195 rows x 2 columns]"
      ]
     },
     "execution_count": 96,
     "metadata": {},
     "output_type": "execute_result"
    }
   ],
   "source": [
    "mu_implied = \\\n",
    "    rf.values.reshape(-1, 1, 1) + \\\n",
    "    gamma * np.array(sigma_t).reshape(-1,2,2) @ W_MKTCAP_t.values.reshape(-1, 2, 1)\n",
    "    \n",
    "mu_implied = pd.DataFrame(mu_implied.reshape(-1, 2), columns=['IVV', 'IEF'], index=forecast_time_index)\n",
    "mu_implied = mu_implied[:-1] # remove the last forecast\n",
    "mu_implied"
   ]
  },
  {
   "cell_type": "markdown",
   "metadata": {},
   "source": [
    "Wrap up into a function"
   ]
  },
  {
   "cell_type": "code",
   "execution_count": 14,
   "metadata": {},
   "outputs": [],
   "source": [
    "def get_implied_expected_return(risk_free_rate:pd.DataFrame, \n",
    "                                equities_returns_df:pd.DataFrame,\n",
    "                                W_efficient:pd.DataFrame,\n",
    "                                DATA_FREQUENCY:int = 4,\n",
    "                                INIT_WINDOW_SIZE:int = 17) -> pd.DataFrame:\n",
    "    '''\n",
    "    Returns the expected implied return for a given risk free rate and equity return matrix.\n",
    "\n",
    "    Parameters\n",
    "    ----------\n",
    "    risk_free_rate : pd.DataFrame\n",
    "        Risk free rate.\n",
    "    equities_returns_df : pd.DataFrame\n",
    "        Equity returns.\n",
    "    W_efficient : pd.DataFrame\n",
    "        MV-efficient portfolio weights.\n",
    "    DATA_FREQUENCY : int, optional\n",
    "        DESCRIPTION. The default is 12.\n",
    "    INIT_WINDOW_SIZE : int, optional\n",
    "        DESCRIPTION. The default is 17.\n",
    "\n",
    "    Returns\n",
    "    -------\n",
    "    expected_return : pd.DataFrame\n",
    "\n",
    "    '''\n",
    "    # TO DO\n",
    "    # check return df columns match weights df columns\n",
    "\n",
    "    # hyper-parameter\n",
    "    SAMPLE_SIZE = len(equities_returns_df)\n",
    "    N = stock_num = len(W_efficient.columns)\n",
    "    l = lagrange_multiplier = risk_free_rate\n",
    "    gamma = risk_averse = 2.4\n",
    "    equity_name_list = W_efficient.columns\n",
    "\n",
    "    SAMPLE_SIZE = equities_returns_df.shape[0]\n",
    "    tscv = TimeSeriesSplit(n_splits = SAMPLE_SIZE - DATA_FREQUENCY * INIT_WINDOW_SIZE,\n",
    "                           test_size=1)\n",
    "    sigma_t = [get_shrunk_covariance_matrix(equities_returns_df.iloc[train_index]) for i, (train_index, test_index) in enumerate(tscv.split(equities_returns_df))]\n",
    "\n",
    "    pred_size = len(sigma_t)\n",
    "    W_efficient = W_efficient.iloc[-pred_size:]\n",
    "    l = l.iloc[-pred_size:]\n",
    "\n",
    "    mu_implied = \\\n",
    "        l.values.reshape(-1, 1, 1) + \\\n",
    "        gamma * np.array(sigma_t).reshape((-1, N, N)) @ W_efficient.values.reshape(-1, N, 1)\n",
    "    \n",
    "    mu_implied = pd.DataFrame(mu_implied.reshape(-1, N), columns=equity_name_list)\n",
    "    mu_implied = mu_implied[:-1] # remove the last forecast\n",
    "    mu_implied.index = l.index[1:]\n",
    "    \n",
    "    return(mu_implied)\n",
    "    "
   ]
  },
  {
   "cell_type": "code",
   "execution_count": 15,
   "metadata": {},
   "outputs": [
    {
     "data": {
      "text/html": [
       "<div>\n",
       "<style scoped>\n",
       "    .dataframe tbody tr th:only-of-type {\n",
       "        vertical-align: middle;\n",
       "    }\n",
       "\n",
       "    .dataframe tbody tr th {\n",
       "        vertical-align: top;\n",
       "    }\n",
       "\n",
       "    .dataframe thead th {\n",
       "        text-align: right;\n",
       "    }\n",
       "</style>\n",
       "<table border=\"1\" class=\"dataframe\">\n",
       "  <thead>\n",
       "    <tr style=\"text-align: right;\">\n",
       "      <th></th>\n",
       "      <th>Stock</th>\n",
       "      <th>Bond</th>\n",
       "    </tr>\n",
       "  </thead>\n",
       "  <tbody>\n",
       "    <tr>\n",
       "      <th>1964-09</th>\n",
       "      <td>0.013403</td>\n",
       "      <td>0.009055</td>\n",
       "    </tr>\n",
       "    <tr>\n",
       "      <th>1964-12</th>\n",
       "      <td>0.013187</td>\n",
       "      <td>0.008904</td>\n",
       "    </tr>\n",
       "    <tr>\n",
       "      <th>1965-03</th>\n",
       "      <td>0.013247</td>\n",
       "      <td>0.009028</td>\n",
       "    </tr>\n",
       "    <tr>\n",
       "      <th>1965-06</th>\n",
       "      <td>0.013966</td>\n",
       "      <td>0.009798</td>\n",
       "    </tr>\n",
       "    <tr>\n",
       "      <th>1965-09</th>\n",
       "      <td>0.014131</td>\n",
       "      <td>0.010021</td>\n",
       "    </tr>\n",
       "  </tbody>\n",
       "</table>\n",
       "</div>"
      ],
      "text/plain": [
       "            Stock      Bond\n",
       "1964-09  0.013403  0.009055\n",
       "1964-12  0.013187  0.008904\n",
       "1965-03  0.013247  0.009028\n",
       "1965-06  0.013966  0.009798\n",
       "1965-09  0.014131  0.010021"
      ]
     },
     "execution_count": 15,
     "metadata": {},
     "output_type": "execute_result"
    }
   ],
   "source": [
    "mu_implied_equal = get_implied_expected_return(risk_free_rate=equities_returns_df.Bond, equities_returns_df=equities_returns_df, W_efficient=W_equal)\n",
    "mu_implied_equal.head()"
   ]
  },
  {
   "cell_type": "code",
   "execution_count": 100,
   "metadata": {},
   "outputs": [],
   "source": [
    "# save the expected return forecast\n",
    "mu_implied_mktcap.to_csv('../../data/implied_expected_return_MKTCAP.csv')\n",
    "mu_implied_equal.to_csv('../../data/implied_expected_return_equal.csv')\n",
    "mu_implied_svm.to_csv('../../data/implied_expected_return_svm.csv')\n",
    "mu_implied_knn.to_csv('../../data/implied_expected_return_knn.csv')"
   ]
  },
  {
   "attachments": {},
   "cell_type": "markdown",
   "metadata": {},
   "source": [
    "# Implied Expected Return for Rapach Prediction Period"
   ]
  },
  {
   "cell_type": "code",
   "execution_count": 4,
   "metadata": {},
   "outputs": [
    {
     "data": {
      "text/html": [
       "<div>\n",
       "<style scoped>\n",
       "    .dataframe tbody tr th:only-of-type {\n",
       "        vertical-align: middle;\n",
       "    }\n",
       "\n",
       "    .dataframe tbody tr th {\n",
       "        vertical-align: top;\n",
       "    }\n",
       "\n",
       "    .dataframe thead th {\n",
       "        text-align: right;\n",
       "    }\n",
       "</style>\n",
       "<table border=\"1\" class=\"dataframe\">\n",
       "  <thead>\n",
       "    <tr style=\"text-align: right;\">\n",
       "      <th></th>\n",
       "      <th>Stock</th>\n",
       "      <th>Bond</th>\n",
       "    </tr>\n",
       "  </thead>\n",
       "  <tbody>\n",
       "    <tr>\n",
       "      <th>1947-06</th>\n",
       "      <td>0.002637</td>\n",
       "      <td>0.000950</td>\n",
       "    </tr>\n",
       "    <tr>\n",
       "      <th>1947-09</th>\n",
       "      <td>-0.006575</td>\n",
       "      <td>0.000950</td>\n",
       "    </tr>\n",
       "    <tr>\n",
       "      <th>1947-12</th>\n",
       "      <td>0.012574</td>\n",
       "      <td>0.002000</td>\n",
       "    </tr>\n",
       "    <tr>\n",
       "      <th>1948-03</th>\n",
       "      <td>-0.014379</td>\n",
       "      <td>0.002375</td>\n",
       "    </tr>\n",
       "    <tr>\n",
       "      <th>1948-06</th>\n",
       "      <td>0.110080</td>\n",
       "      <td>0.002500</td>\n",
       "    </tr>\n",
       "    <tr>\n",
       "      <th>...</th>\n",
       "      <td>...</td>\n",
       "      <td>...</td>\n",
       "    </tr>\n",
       "    <tr>\n",
       "      <th>2020-12</th>\n",
       "      <td>0.116881</td>\n",
       "      <td>0.000275</td>\n",
       "    </tr>\n",
       "    <tr>\n",
       "      <th>2021-03</th>\n",
       "      <td>0.057725</td>\n",
       "      <td>0.000225</td>\n",
       "    </tr>\n",
       "    <tr>\n",
       "      <th>2021-06</th>\n",
       "      <td>0.081706</td>\n",
       "      <td>0.000075</td>\n",
       "    </tr>\n",
       "    <tr>\n",
       "      <th>2021-09</th>\n",
       "      <td>0.002336</td>\n",
       "      <td>0.000100</td>\n",
       "    </tr>\n",
       "    <tr>\n",
       "      <th>2021-12</th>\n",
       "      <td>0.106474</td>\n",
       "      <td>0.000100</td>\n",
       "    </tr>\n",
       "  </tbody>\n",
       "</table>\n",
       "<p>299 rows × 2 columns</p>\n",
       "</div>"
      ],
      "text/plain": [
       "            Stock      Bond\n",
       "1947-06  0.002637  0.000950\n",
       "1947-09 -0.006575  0.000950\n",
       "1947-12  0.012574  0.002000\n",
       "1948-03 -0.014379  0.002375\n",
       "1948-06  0.110080  0.002500\n",
       "...           ...       ...\n",
       "2020-12  0.116881  0.000275\n",
       "2021-03  0.057725  0.000225\n",
       "2021-06  0.081706  0.000075\n",
       "2021-09  0.002336  0.000100\n",
       "2021-12  0.106474  0.000100\n",
       "\n",
       "[299 rows x 2 columns]"
      ]
     },
     "execution_count": 4,
     "metadata": {},
     "output_type": "execute_result"
    }
   ],
   "source": [
    "# load data \n",
    "START_DATE = '1947-01'\n",
    "END_DATE = '2021-12'\n",
    "data_freq = 'quarterly'\n",
    "\n",
    "date_freq_to_data_func_map = {'monthly': ('../../data/econ_predictors_monthly_2021_Amit_Goyal.csv',\n",
    "                                        get_monthly_date_format), \n",
    "                            'quarterly': ('../../data/econ_predictors_quarterly_2021_Amit_Goyal.csv',\n",
    "                                        get_quarterly_date_format)}\n",
    "data_path, date_format_func = date_freq_to_data_func_map[data_freq]\n",
    "\n",
    "data = pd.read_csv(data_path, index_col=0)\n",
    "data.index = [date_format_func(str(x), {'format':'%Y%m'}) for x in data.index]\n",
    "econ_data = data[START_DATE:END_DATE]\n",
    "\n",
    "equity_price = econ_data['Index'].apply(lambda x: re.sub(r'[^\\w\\s|.]', '', x))\n",
    "equity_price = equity_price.astype(float)\n",
    "equity_return = equity_price.pct_change().dropna()\n",
    "rf = econ_data['Rfree']\n",
    "\n",
    "equities_returns_df = pd.DataFrame([equity_return, rf]).T.dropna()\n",
    "equities_returns_df.columns = ['Stock', 'Bond']\n",
    "equities_returns_df"
   ]
  },
  {
   "attachments": {},
   "cell_type": "markdown",
   "metadata": {},
   "source": [
    "MV efficient portfolio"
   ]
  },
  {
   "cell_type": "code",
   "execution_count": 5,
   "metadata": {},
   "outputs": [
    {
     "data": {
      "text/html": [
       "<div>\n",
       "<style scoped>\n",
       "    .dataframe tbody tr th:only-of-type {\n",
       "        vertical-align: middle;\n",
       "    }\n",
       "\n",
       "    .dataframe tbody tr th {\n",
       "        vertical-align: top;\n",
       "    }\n",
       "\n",
       "    .dataframe thead th {\n",
       "        text-align: right;\n",
       "    }\n",
       "</style>\n",
       "<table border=\"1\" class=\"dataframe\">\n",
       "  <thead>\n",
       "    <tr style=\"text-align: right;\">\n",
       "      <th></th>\n",
       "      <th>Stock</th>\n",
       "      <th>Bond</th>\n",
       "    </tr>\n",
       "  </thead>\n",
       "  <tbody>\n",
       "    <tr>\n",
       "      <th>1947-06</th>\n",
       "      <td>0.5</td>\n",
       "      <td>0.5</td>\n",
       "    </tr>\n",
       "    <tr>\n",
       "      <th>1947-09</th>\n",
       "      <td>0.5</td>\n",
       "      <td>0.5</td>\n",
       "    </tr>\n",
       "    <tr>\n",
       "      <th>1947-12</th>\n",
       "      <td>0.5</td>\n",
       "      <td>0.5</td>\n",
       "    </tr>\n",
       "    <tr>\n",
       "      <th>1948-03</th>\n",
       "      <td>0.5</td>\n",
       "      <td>0.5</td>\n",
       "    </tr>\n",
       "    <tr>\n",
       "      <th>1948-06</th>\n",
       "      <td>0.5</td>\n",
       "      <td>0.5</td>\n",
       "    </tr>\n",
       "    <tr>\n",
       "      <th>...</th>\n",
       "      <td>...</td>\n",
       "      <td>...</td>\n",
       "    </tr>\n",
       "    <tr>\n",
       "      <th>2020-12</th>\n",
       "      <td>0.5</td>\n",
       "      <td>0.5</td>\n",
       "    </tr>\n",
       "    <tr>\n",
       "      <th>2021-03</th>\n",
       "      <td>0.5</td>\n",
       "      <td>0.5</td>\n",
       "    </tr>\n",
       "    <tr>\n",
       "      <th>2021-06</th>\n",
       "      <td>0.5</td>\n",
       "      <td>0.5</td>\n",
       "    </tr>\n",
       "    <tr>\n",
       "      <th>2021-09</th>\n",
       "      <td>0.5</td>\n",
       "      <td>0.5</td>\n",
       "    </tr>\n",
       "    <tr>\n",
       "      <th>2021-12</th>\n",
       "      <td>0.5</td>\n",
       "      <td>0.5</td>\n",
       "    </tr>\n",
       "  </tbody>\n",
       "</table>\n",
       "<p>299 rows × 2 columns</p>\n",
       "</div>"
      ],
      "text/plain": [
       "         Stock  Bond\n",
       "1947-06    0.5   0.5\n",
       "1947-09    0.5   0.5\n",
       "1947-12    0.5   0.5\n",
       "1948-03    0.5   0.5\n",
       "1948-06    0.5   0.5\n",
       "...        ...   ...\n",
       "2020-12    0.5   0.5\n",
       "2021-03    0.5   0.5\n",
       "2021-06    0.5   0.5\n",
       "2021-09    0.5   0.5\n",
       "2021-12    0.5   0.5\n",
       "\n",
       "[299 rows x 2 columns]"
      ]
     },
     "execution_count": 5,
     "metadata": {},
     "output_type": "execute_result"
    }
   ],
   "source": [
    "W_equal = pd.DataFrame(np.ones_like(equities_returns_df)/2, index=equities_returns_df.index, columns=equities_returns_df.columns)\n",
    "W_equal"
   ]
  },
  {
   "attachments": {},
   "cell_type": "markdown",
   "metadata": {},
   "source": [
    "Calculate implied expected return for each equity within the portoflio."
   ]
  },
  {
   "cell_type": "code",
   "execution_count": 6,
   "metadata": {},
   "outputs": [
    {
     "data": {
      "text/html": [
       "<div>\n",
       "<style scoped>\n",
       "    .dataframe tbody tr th:only-of-type {\n",
       "        vertical-align: middle;\n",
       "    }\n",
       "\n",
       "    .dataframe tbody tr th {\n",
       "        vertical-align: top;\n",
       "    }\n",
       "\n",
       "    .dataframe thead th {\n",
       "        text-align: right;\n",
       "    }\n",
       "</style>\n",
       "<table border=\"1\" class=\"dataframe\">\n",
       "  <thead>\n",
       "    <tr style=\"text-align: right;\">\n",
       "      <th></th>\n",
       "      <th>Stock</th>\n",
       "      <th>Bond</th>\n",
       "    </tr>\n",
       "  </thead>\n",
       "  <tbody>\n",
       "    <tr>\n",
       "      <th>1964-09</th>\n",
       "      <td>0.013403</td>\n",
       "      <td>0.009055</td>\n",
       "    </tr>\n",
       "    <tr>\n",
       "      <th>1964-12</th>\n",
       "      <td>0.013187</td>\n",
       "      <td>0.008904</td>\n",
       "    </tr>\n",
       "    <tr>\n",
       "      <th>1965-03</th>\n",
       "      <td>0.013247</td>\n",
       "      <td>0.009028</td>\n",
       "    </tr>\n",
       "    <tr>\n",
       "      <th>1965-06</th>\n",
       "      <td>0.013966</td>\n",
       "      <td>0.009798</td>\n",
       "    </tr>\n",
       "    <tr>\n",
       "      <th>1965-09</th>\n",
       "      <td>0.014131</td>\n",
       "      <td>0.010021</td>\n",
       "    </tr>\n",
       "  </tbody>\n",
       "</table>\n",
       "</div>"
      ],
      "text/plain": [
       "            Stock      Bond\n",
       "1964-09  0.013403  0.009055\n",
       "1964-12  0.013187  0.008904\n",
       "1965-03  0.013247  0.009028\n",
       "1965-06  0.013966  0.009798\n",
       "1965-09  0.014131  0.010021"
      ]
     },
     "execution_count": 6,
     "metadata": {},
     "output_type": "execute_result"
    }
   ],
   "source": [
    "mu_implied_equal = get_implied_expected_return(risk_free_rate=equities_returns_df.Bond, equities_returns_df=equities_returns_df, W_efficient=W_equal)\n",
    "mu_implied_equal.head()"
   ]
  },
  {
   "attachments": {},
   "cell_type": "markdown",
   "metadata": {},
   "source": [
    "Calculate the equity premium from the implied expected return."
   ]
  },
  {
   "cell_type": "code",
   "execution_count": 7,
   "metadata": {},
   "outputs": [
    {
     "data": {
      "text/plain": [
       "1964-09    0.004348\n",
       "1964-12    0.004283\n",
       "1965-03    0.004219\n",
       "1965-06    0.004168\n",
       "1965-09    0.004110\n",
       "Freq: M, dtype: float64"
      ]
     },
     "execution_count": 7,
     "metadata": {},
     "output_type": "execute_result"
    }
   ],
   "source": [
    "equity_premium_implied = mu_implied_equal['Stock'] - mu_implied_equal['Bond']\n",
    "equity_premium_implied.head()"
   ]
  },
  {
   "cell_type": "code",
   "execution_count": null,
   "metadata": {},
   "outputs": [],
   "source": [
    "equity_premium_implied.to_csv('../../data/prediction_implied_quarterly_1947_1964_2021.csv')"
   ]
  },
  {
   "cell_type": "markdown",
   "metadata": {},
   "source": [
    "## Performance analyse"
   ]
  },
  {
   "cell_type": "markdown",
   "metadata": {},
   "source": [
    "### Hit ratio (HR)\n",
    "\n",
    "$$\n",
    "HR = \\frac{N_c}{N}\n",
    "$$\n",
    "\n",
    "Where $N_c$ is the number of predictions' sign is aligned with the true returns' sign, and $N$ is the number of predictions."
   ]
  },
  {
   "cell_type": "code",
   "execution_count": 23,
   "metadata": {},
   "outputs": [],
   "source": [
    "N_c = (np.sign(IVV_IEF_monthly_ret_oos) == np.sign(mu_implied)).sum().sum()\n",
    "N = IVV_IEF_monthly_ret_oos.count().sum()\n",
    "HR = N_c / N\n",
    "HR_percentage = HR * 100"
   ]
  },
  {
   "cell_type": "markdown",
   "metadata": {},
   "source": [
    "### Root-Mean-Squared Forecast Error (RMSFE)\n",
    "\n",
    "$$\n",
    "RMSFE = \\sqrt{\\frac{\\sum_{t=1}^n\\left(Y_t-\\hat{Y}_t\\right)^2}{n}}\n",
    "$$"
   ]
  },
  {
   "cell_type": "code",
   "execution_count": 24,
   "metadata": {},
   "outputs": [],
   "source": [
    "RMSFE = np.sqrt(np.square(mu_implied - IVV_IEF_monthly_ret_oos).sum().mean())\n",
    "RMSFE_percentage = RMSFE * 100"
   ]
  },
  {
   "cell_type": "markdown",
   "metadata": {},
   "source": [
    "### Cross-Sectional Standard Deviation\n",
    "\n",
    "$$\n",
    "\\sigma_i = \\frac{\\sum_{t=1}^T \\sigma_{i,t}}{T}\n",
    "$$\n",
    "Where $\\sigma_{i,t}$ is cross-sectional standard deviation at time $t$."
   ]
  },
  {
   "cell_type": "code",
   "execution_count": 25,
   "metadata": {},
   "outputs": [],
   "source": [
    "sigma_i = mu_implied.std(axis=1).mean()\n",
    "sigma_i_percentage = sigma_i * 100"
   ]
  },
  {
   "cell_type": "markdown",
   "metadata": {},
   "source": [
    "### Time Series Volatility\n",
    "$$\n",
    "\\sigma_t = \\frac{\\sum_{i=1}^N \\sigma_{t,i}}{N}\n",
    "$$\n",
    "Where $\\sigma_{t,i}$ is the time series volatility of equity $i$."
   ]
  },
  {
   "cell_type": "code",
   "execution_count": 26,
   "metadata": {},
   "outputs": [],
   "source": [
    "sigma_t = mu_implied.std(axis=0).mean()\n",
    "sigma_t_percentage = sigma_t * 100"
   ]
  },
  {
   "cell_type": "markdown",
   "metadata": {},
   "source": [
    "### The First-order Autocorrelation\n",
    "\n",
    "$$\n",
    "\\rho_1=\\frac{\\sum_{t=2}^T\\left(r_t-\\bar{r}\\right)\\left(r_{t-1}-\\bar{r}\\right)}{\\sum_{t=1}^T\\left(r_t-\\bar{r}\\right)^2}\n",
    "$$"
   ]
  },
  {
   "cell_type": "code",
   "execution_count": 27,
   "metadata": {},
   "outputs": [],
   "source": [
    "#calculate autocorrelations\n",
    "rho_1_vector = mu_implied.apply(lambda x: sm.tsa.acf(x, nlags=1)[1], axis=0)\n",
    "rho_1 = rho_1_vector.mean()\n",
    "rho_1_percentage = rho_1 * 100"
   ]
  },
  {
   "attachments": {},
   "cell_type": "markdown",
   "metadata": {},
   "source": [
    "### $R^2$\n",
    "\n",
    "$$\n",
    "\\begin{equation}\n",
    "R^2 = 1-\\frac{\\sum_i\\left(y_i-f_i\\right)^2}{\\sum_i\\left(y_i-\\bar{y}\\right)^2}\n",
    "\\end{equation}\n",
    "$$"
   ]
  },
  {
   "cell_type": "code",
   "execution_count": 35,
   "metadata": {},
   "outputs": [
    {
     "data": {
      "text/plain": [
       "-1.2315275624154625"
      ]
     },
     "execution_count": 35,
     "metadata": {},
     "output_type": "execute_result"
    }
   ],
   "source": [
    "ss_res = ((IVV_IEF_monthly_ret_oos - mu_implied_svm) ** 2).values.sum()\n",
    "ss_tot = ((IVV_IEF_monthly_ret_oos - IVV_IEF_monthly_ret_oos.mean()) ** 2).values.sum()\n",
    "R_2 = 1 - ss_res / ss_tot\n",
    "R_2"
   ]
  },
  {
   "cell_type": "markdown",
   "metadata": {},
   "source": [
    "### Performance function"
   ]
  },
  {
   "cell_type": "code",
   "execution_count": 36,
   "metadata": {},
   "outputs": [],
   "source": [
    "def get_return_forecast_performance(y_hat:pd.DataFrame, y:pd.DataFrame, forecast_name:str='forecast performance') -> tuple:\n",
    "    '''Evaluate the return forecast in terms of following measurement:\n",
    "    1. Hit ratio (HR)\n",
    "    2. Root-Mean-Squared Forecast Error (RMSFE)\n",
    "    3. Cross-Sectional Standard Deviation\n",
    "    4. Time Series Volatility\n",
    "    5. The First-order Autocorrelation\n",
    "\n",
    "    ----------\n",
    "    Args:\n",
    "    y_hat: return forecast\n",
    "    y: the true value\n",
    "\n",
    "    ----------\n",
    "    Returns:\n",
    "    a dataframe of five measurement\n",
    "    '''\n",
    "\n",
    "    N_c = (np.sign(y) == np.sign(y_hat)).sum().sum()\n",
    "    N = y.count().sum()\n",
    "    HR = N_c / N\n",
    "    HR_percentage = HR * 100\n",
    "\n",
    "    RMSFE = np.sqrt(np.square(y_hat - y).sum().mean())\n",
    "    RMSFE_percentage = RMSFE * 100\n",
    "\n",
    "    sigma_i = y_hat.std(axis=1).mean()\n",
    "    sigma_i_percentage = sigma_i * 100\n",
    "\n",
    "    sigma_t = y_hat.std(axis=0).mean()\n",
    "    sigma_t_percentage = sigma_t * 100\n",
    "\n",
    "    rho_1_vector = y_hat.apply(lambda x: sm.tsa.acf(x, nlags=1)[1], axis=0)\n",
    "    rho_1 = rho_1_vector.mean()\n",
    "    rho_1_percentage = rho_1 * 100\n",
    "\n",
    "    ss_res = ((y - y_hat) ** 2).values.sum()\n",
    "    ss_tot = ((y - y.mean()) ** 2).values.sum()\n",
    "    R_2 = 1 - ss_res / ss_tot\n",
    "\n",
    "    performance_df = pd.DataFrame([HR_percentage, RMSFE_percentage, sigma_i_percentage, sigma_t_percentage, rho_1_percentage, R_2], \n",
    "                                  index=['HR', ' RMSFE', 'sigma_i', 'sigma_t', 'rho_1', 'R^2'],\n",
    "                                  columns=[forecast_name])\n",
    "\n",
    "    return(performance_df)"
   ]
  },
  {
   "cell_type": "code",
   "execution_count": 101,
   "metadata": {},
   "outputs": [
    {
     "data": {
      "text/html": [
       "<div>\n",
       "<style scoped>\n",
       "    .dataframe tbody tr th:only-of-type {\n",
       "        vertical-align: middle;\n",
       "    }\n",
       "\n",
       "    .dataframe tbody tr th {\n",
       "        vertical-align: top;\n",
       "    }\n",
       "\n",
       "    .dataframe thead th {\n",
       "        text-align: right;\n",
       "    }\n",
       "</style>\n",
       "<table border=\"1\" class=\"dataframe\">\n",
       "  <thead>\n",
       "    <tr style=\"text-align: right;\">\n",
       "      <th></th>\n",
       "      <th>HR</th>\n",
       "      <th>RMSFE</th>\n",
       "      <th>sigma_i</th>\n",
       "      <th>sigma_t</th>\n",
       "      <th>rho_1</th>\n",
       "      <th>R^2</th>\n",
       "    </tr>\n",
       "  </thead>\n",
       "  <tbody>\n",
       "    <tr>\n",
       "      <th>MKTCAP</th>\n",
       "      <td>63.076923</td>\n",
       "      <td>2.942319</td>\n",
       "      <td>0.020376</td>\n",
       "      <td>0.128204</td>\n",
       "      <td>98.674953</td>\n",
       "      <td>-1.225107</td>\n",
       "    </tr>\n",
       "    <tr>\n",
       "      <th>Equal Weight</th>\n",
       "      <td>63.076923</td>\n",
       "      <td>2.931166</td>\n",
       "      <td>0.008763</td>\n",
       "      <td>0.129899</td>\n",
       "      <td>98.719797</td>\n",
       "      <td>-1.208270</td>\n",
       "    </tr>\n",
       "    <tr>\n",
       "      <th>SVM</th>\n",
       "      <td>63.076923</td>\n",
       "      <td>2.928542</td>\n",
       "      <td>0.011093</td>\n",
       "      <td>0.129917</td>\n",
       "      <td>98.632392</td>\n",
       "      <td>-1.204318</td>\n",
       "    </tr>\n",
       "    <tr>\n",
       "      <th>KNN</th>\n",
       "      <td>62.820513</td>\n",
       "      <td>2.937362</td>\n",
       "      <td>0.012887</td>\n",
       "      <td>0.129490</td>\n",
       "      <td>98.590325</td>\n",
       "      <td>-1.217616</td>\n",
       "    </tr>\n",
       "  </tbody>\n",
       "</table>\n",
       "</div>"
      ],
      "text/plain": [
       "                     HR     RMSFE   sigma_i   sigma_t      rho_1       R^2\n",
       "MKTCAP        63.076923  2.942319  0.020376  0.128204  98.674953 -1.225107\n",
       "Equal Weight  63.076923  2.931166  0.008763  0.129899  98.719797 -1.208270\n",
       "SVM           63.076923  2.928542  0.011093  0.129917  98.632392 -1.204318\n",
       "KNN           62.820513  2.937362  0.012887  0.129490  98.590325 -1.217616"
      ]
     },
     "execution_count": 101,
     "metadata": {},
     "output_type": "execute_result"
    }
   ],
   "source": [
    "performance_df_svm = get_return_forecast_performance(y_hat= mu_implied_svm, y = IVV_IEF_monthly_ret_oos, forecast_name='SVM')\n",
    "performance_df_knn = get_return_forecast_performance(y_hat= mu_implied_knn, y = IVV_IEF_monthly_ret_oos, forecast_name='KNN')\n",
    "performance_df_equal = get_return_forecast_performance(y_hat= mu_implied_equal, y = IVV_IEF_monthly_ret_oos, forecast_name='Equal Weight')\n",
    "performance_df_mktcap = get_return_forecast_performance(y_hat= mu_implied_mktcap, y = IVV_IEF_monthly_ret_oos, forecast_name='MKTCAP')\n",
    "performance_df = pd.concat([performance_df_mktcap, performance_df_equal, performance_df_svm, performance_df_knn], axis=1).T\n",
    "performance_df"
   ]
  },
  {
   "cell_type": "code",
   "execution_count": 102,
   "metadata": {},
   "outputs": [
    {
     "name": "stdout",
     "output_type": "stream",
     "text": [
      "Save table to:../../table/\n"
     ]
    },
    {
     "name": "stderr",
     "output_type": "stream",
     "text": [
      "/Users/cheng/Google Drive/PhD/Research/Non-Myopic Equity Risk Premium/code/experiment/../module/IO_handler.py:25: FutureWarning: In future versions `DataFrame.to_latex` is expected to utilise the base implementation of `Styler.to_latex` for formatting and rendering. The arguments signature may therefore change. It is recommended instead to use `DataFrame.style.to_latex` which also contains additional functionality.\n",
      "  df.to_latex(target_folder_path + table_name + '.tex', float_format = float_format, **kwargs)\n"
     ]
    }
   ],
   "source": [
    "post_dataframe_to_latex_table(performance_df, 'implied_expected_return_forecast_performance', kwargs={'header': False})"
   ]
  },
  {
   "cell_type": "code",
   "execution_count": 40,
   "metadata": {},
   "outputs": [
    {
     "name": "stderr",
     "output_type": "stream",
     "text": [
      "/var/folders/cb/658kw2yn5c55qk9bt259xgvr0000gn/T/ipykernel_77037/2493249302.py:1: FutureWarning: In future versions `DataFrame.to_latex` is expected to utilise the base implementation of `Styler.to_latex` for formatting and rendering. The arguments signature may therefore change. It is recommended instead to use `DataFrame.style.to_latex` which also contains additional functionality.\n",
      "  performance_df.to_latex('/Users/cheng/Google Drive/PhD/Research/Tactical asset allocation/table/monthly_return_forecasts_performance_12_12.tex', float_format='%.3f')\n"
     ]
    }
   ],
   "source": [
    "performance_df.to_latex('/Users/cheng/Google Drive/PhD/Research/Tactical asset allocation/table/monthly_return_forecasts_performance_12_12.tex', float_format='%.3f')"
   ]
  }
 ],
 "metadata": {
  "kernelspec": {
   "display_name": "ml_fin",
   "language": "python",
   "name": "python3"
  },
  "language_info": {
   "codemirror_mode": {
    "name": "ipython",
    "version": 3
   },
   "file_extension": ".py",
   "mimetype": "text/x-python",
   "name": "python",
   "nbconvert_exporter": "python",
   "pygments_lexer": "ipython3",
   "version": "3.7.13"
  },
  "orig_nbformat": 4,
  "vscode": {
   "interpreter": {
    "hash": "df1bd20b0aa4676359c3a4e1acc00212aee2b856ad4a02dcab7b28000647db5d"
   }
  }
 },
 "nbformat": 4,
 "nbformat_minor": 2
}
