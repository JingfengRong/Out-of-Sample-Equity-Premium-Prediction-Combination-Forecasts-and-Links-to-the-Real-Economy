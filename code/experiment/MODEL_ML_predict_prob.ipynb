{
 "cells": [
  {
   "cell_type": "markdown",
   "metadata": {},
   "source": [
    "# Machine Learning Benchmark"
   ]
  },
  {
   "cell_type": "code",
   "execution_count": 2,
   "metadata": {},
   "outputs": [],
   "source": [
    "import pandas as pd\n",
    "import numpy as np\n",
    "from sklearn.preprocessing import StandardScaler\n",
    "import yfinance as yf\n",
    "from sklearn import svm\n",
    "from sklearn.neighbors import KNeighborsClassifier\n",
    "from matplotlib.pyplot import figure\n",
    "import matplotlib.pyplot as plt\n",
    "import sys\n",
    "sys.path.append('/Users/cheng/Google Drive/PhD/Research/Non-Myopic Equity Risk Premium/code/module/')\n",
    "from analysis import get_return_forecast_performance\n"
   ]
  },
  {
   "cell_type": "markdown",
   "metadata": {},
   "source": [
    "## Data Processing"
   ]
  },
  {
   "cell_type": "code",
   "execution_count": 4,
   "metadata": {},
   "outputs": [],
   "source": [
    "# load data\n",
    "feature_df = pd.read_csv('../../data/econ_predictors.csv', index_col = 0, parse_dates=True)\n",
    "IVV_IEF_daily_ret = pd.read_csv('../../data/IVV_IEF_daily_ret.csv', index_col=0, parse_dates=True)"
   ]
  },
  {
   "cell_type": "code",
   "execution_count": 5,
   "metadata": {},
   "outputs": [],
   "source": [
    "# truncate data to target period\n",
    "DATE_START = '2002-08-01'\n",
    "DATE_END = '2019-12-31'\n",
    "feature_df = feature_df[DATE_START: DATE_END]\n",
    "\n",
    "# get monthly data \n",
    "IVV_IEF_monthly_ret = IVV_IEF_daily_ret.groupby(pd.Grouper(freq='M')).mean()\n",
    "IVV_IEF_monthly_ret = IVV_IEF_monthly_ret[DATE_START: DATE_END]"
   ]
  },
  {
   "cell_type": "code",
   "execution_count": 6,
   "metadata": {},
   "outputs": [],
   "source": [
    "# standardize feature set\n",
    "scaler = StandardScaler()\n",
    "scaler.fit(feature_df)\n",
    "X = scaler.transform(feature_df)"
   ]
  },
  {
   "cell_type": "code",
   "execution_count": 7,
   "metadata": {},
   "outputs": [],
   "source": [
    "# create label which equal 1 when IVV return larger than 0 \n",
    "thredshould = 0.0001\n",
    "label = IVV_IEF_monthly_ret['IVV'] > thredshould\n",
    "label = (label * 1).values.reshape((-1, 1)) # convert boolen vector to numeric vector"
   ]
  },
  {
   "cell_type": "code",
   "execution_count": 8,
   "metadata": {},
   "outputs": [],
   "source": [
    "# combine X and y\n",
    "data = np.concatenate((X[:len(X) - 1], label[1:]), axis=1)"
   ]
  },
  {
   "cell_type": "code",
   "execution_count": 9,
   "metadata": {},
   "outputs": [],
   "source": [
    "# rolling window subset\n",
    "window_size = 1 * 12\n",
    "year_start = 0\n",
    "year_end = len(data)\n",
    "year_range = np.arange(year_start, year_end)\n",
    "training_idx_list = np.array([np.arange(year, year + window_size, 1) for year in year_range[:-window_size]])\n",
    "testing_idx_list = np.array([training_idx_list[:,window_size-1] + 1]).T"
   ]
  },
  {
   "attachments": {},
   "cell_type": "markdown",
   "metadata": {},
   "source": [
    "## Model"
   ]
  },
  {
   "cell_type": "code",
   "execution_count": 10,
   "metadata": {},
   "outputs": [],
   "source": [
    "def get_ml_predict_prob(X_train, y_train, X_test, seed, model):\n",
    "    np.random.seed(seed)\n",
    "    model.fit(X_train, y_train)\n",
    "    prob = model.predict_proba(X_test)[0][1]\n",
    "\n",
    "    return prob"
   ]
  },
  {
   "cell_type": "code",
   "execution_count": 11,
   "metadata": {},
   "outputs": [],
   "source": [
    "def get_ml_predict_prob_avg(X_train, y_train, X_test, model):\n",
    "    seed_range = np.arange(0, 30)\n",
    "    \n",
    "    # loop for different seed and get average prob\n",
    "    ml_prob_list = [get_ml_predict_prob(X_train, y_train, X_test, seed, model) for seed in seed_range]\n",
    "    ml_prob_avg = np.mean(ml_prob_list)\n",
    "    \n",
    "    return ml_prob_avg"
   ]
  },
  {
   "cell_type": "code",
   "execution_count": 12,
   "metadata": {},
   "outputs": [],
   "source": [
    "clf = svm.SVC(probability = True)\n",
    "neigh = KNeighborsClassifier(n_neighbors=4)"
   ]
  },
  {
   "cell_type": "markdown",
   "metadata": {},
   "source": [
    "## Training and prediction"
   ]
  },
  {
   "cell_type": "code",
   "execution_count": 13,
   "metadata": {},
   "outputs": [],
   "source": [
    "X_train, y_train = data[training_idx_list, 0:12], data[training_idx_list, 12]\n",
    "X_test, y_test = data[testing_idx_list, 0:12], data[testing_idx_list, 12]"
   ]
  },
  {
   "cell_type": "code",
   "execution_count": 14,
   "metadata": {},
   "outputs": [],
   "source": [
    "svm_prob_list = [get_ml_predict_prob_avg(X_train, y_train, X_test, model = clf) for X_train, y_train, X_test in zip(X_train, y_train, X_test)]\n",
    "knn_prob_list = [get_ml_predict_prob_avg(X_train, y_train, X_test, model = neigh) for X_train, y_train, X_test in zip(X_train, y_train, X_test)]"
   ]
  },
  {
   "cell_type": "code",
   "execution_count": 23,
   "metadata": {},
   "outputs": [],
   "source": [
    "date_index = feature_df.index.values[testing_idx_list]"
   ]
  },
  {
   "cell_type": "code",
   "execution_count": 154,
   "metadata": {},
   "outputs": [],
   "source": [
    "w_svm = pd.DataFrame(np.array([np.array(svm_prob_list),1 - np.array(svm_prob_list)]).T, columns = ['IVV', 'IEF'], index = date_index.reshape((-1)))\n",
    "w_knn = pd.DataFrame(np.array([np.array(knn_prob_list),1 - np.array(knn_prob_list)]).T, columns = ['IVV', 'IEF'], index = date_index.reshape((-1)))"
   ]
  },
  {
   "attachments": {},
   "cell_type": "markdown",
   "metadata": {},
   "source": [
    "## Data Output"
   ]
  },
  {
   "cell_type": "code",
   "execution_count": 155,
   "metadata": {},
   "outputs": [],
   "source": [
    "w_svm.to_csv('../../data/weights_svm.csv')\n",
    "w_knn.to_csv('../../data/weights_knn.csv')"
   ]
  }
 ],
 "metadata": {
  "kernelspec": {
   "display_name": "Python 3.9.13 ('tactical_asset_allocation')",
   "language": "python",
   "name": "python3"
  },
  "language_info": {
   "codemirror_mode": {
    "name": "ipython",
    "version": 3
   },
   "file_extension": ".py",
   "mimetype": "text/x-python",
   "name": "python",
   "nbconvert_exporter": "python",
   "pygments_lexer": "ipython3",
   "version": "3.9.13 (main, Aug 25 2022, 18:29:29) \n[Clang 12.0.0 ]"
  },
  "orig_nbformat": 4,
  "vscode": {
   "interpreter": {
    "hash": "7570e427e973fb3b6bfd659c66bf78cc4cabecf651bb8f199a8f71cadb6634f8"
   }
  }
 },
 "nbformat": 4,
 "nbformat_minor": 2
}
