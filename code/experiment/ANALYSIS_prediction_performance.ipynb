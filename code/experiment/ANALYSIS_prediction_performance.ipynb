{
 "cells": [
  {
   "attachments": {},
   "cell_type": "markdown",
   "metadata": {},
   "source": [
    "# Equity Premium Prediction Analysis\n",
    "\n",
    "This notebook follows the (Rapach 2010) [^1] to implement the prediction performance analysis.\n",
    "\n",
    "[^1]: Rapach, D. E., Strauss, J. K., & Zhou, G. (2010). Out-of-Sample Equity Premium Prediction: Combination Forecasts and Links to the Real Economy. The Review of Financial Studies, 23(2), 821–862. https://doi.org/10.1093/rfs/hhp063\n"
   ]
  },
  {
   "cell_type": "code",
   "execution_count": 16,
   "metadata": {},
   "outputs": [],
   "source": [
    "import pandas as pd\n",
    "import numpy as np\n",
    "import statsmodels.api as sm\n",
    "from datetime import datetime\n",
    "import matplotlib.pyplot as plt\n",
    "import sys\n",
    "sys.path.append('../module')\n",
    "\n",
    "from analysis import get_period_return\n",
    "from analysis import get_oos_r_square,\\\n",
    "                     get_p_value_of_MSPE_adjusted_test,\\\n",
    "                     get_significance_of_MSPE_adjusted_test,\\\n",
    "                     get_utility_gain_from_prediction,\\\n",
    "                     get_significance_of_p_value\n",
    "from data_handler import get_monthly_date_format\n",
    "from data_handler import get_quarterly_date_format\n",
    "from data_handler import get_econ_predictors\n",
    "from IO_handler import post_dataframe_to_latex_table\n",
    "\n",
    "%matplotlib inline"
   ]
  },
  {
   "attachments": {},
   "cell_type": "markdown",
   "metadata": {},
   "source": [
    "In (Rapach 2010), they adopt three measurements to evaluate the performance of the prediction of equity premium.\n",
    "\n",
    "1. [$R^2_{OS}$: out of sample $R^2$](##out-of-sample-$r^2$)\n",
    "2. [MSPE - adjusted statistic: The significance of the $R^2_{OS}$](##mspe-adjusted-test-(mean-squared-prediction-error))\n",
    "3. [$\\Delta$: The utility gain](##the-utility-gain)"
   ]
  },
  {
   "attachments": {},
   "cell_type": "markdown",
   "metadata": {},
   "source": [
    "load prediction results"
   ]
  },
  {
   "cell_type": "code",
   "execution_count": 2,
   "metadata": {},
   "outputs": [],
   "source": [
    "START_DATE = '1965-01'\n",
    "END_DATE = '2005-04'\n",
    "prediction_df = pd.read_csv('../../data/ml_prediction_1947_2005.csv', index_col=0, parse_dates=True, date_parser=get_monthly_date_format)\n",
    "prediction_df = prediction_df.loc[START_DATE:END_DATE]\n",
    "equity_premium = prediction_df.pop('Equity Premium')\n",
    "historical_average = prediction_df.pop('Historical Average')"
   ]
  },
  {
   "attachments": {},
   "cell_type": "markdown",
   "metadata": {},
   "source": [
    "## out of sample $R^2$\n",
    "\n",
    "$$\n",
    "\\begin{equation}\n",
    "R_{O S}^2=1-\\frac{\\sum_{k=q_0+1}^q\\left(r_{m+k}-\\hat{r}_{m+k}\\right)^2}{\\sum_{k=q_0+1}^q\\left(r_{m+k}-\\bar{r}_{m+k}\\right)^2}\n",
    "\\end{equation}\n",
    "$$\n",
    "\n",
    "Where $m$ is the size of in sample data and $q_0$ is the origin of the hold out period."
   ]
  },
  {
   "cell_type": "code",
   "execution_count": 3,
   "metadata": {},
   "outputs": [],
   "source": [
    "def get_oos_r_square(y_hat: np.ndarray, y: np.ndarray, y_bar: np.ndarray) -> float:\n",
    "    \"\"\"\n",
    "    This function calculates the out-of-sample R square for a prediction.\n",
    "\n",
    "    Parameters\n",
    "    ----------\n",
    "    y_hat : np.ndarray\n",
    "        Prediction values.\n",
    "    y : np.ndarray\n",
    "        True values.\n",
    "    y_bar : np.ndarray\n",
    "        Historical average.\n",
    "\n",
    "    Returns\n",
    "    -------\n",
    "    float\n",
    "        Out-of-sample R square.\n",
    "    \"\"\"\n",
    "    ss_res = np.sum((y - y_hat) ** 2)\n",
    "    ss_tot = np.sum((y - y_bar) ** 2)\n",
    "    R_2 = 1 - ss_res / ss_tot\n",
    "    R_2_percentage = R_2 * 100\n",
    "\n",
    "    return R_2_percentage"
   ]
  },
  {
   "cell_type": "code",
   "execution_count": 24,
   "metadata": {},
   "outputs": [
    {
     "data": {
      "text/plain": [
       "Elastic Net       0.078502\n",
       "Random Forest   -10.215775\n",
       "dtype: float64"
      ]
     },
     "execution_count": 24,
     "metadata": {},
     "output_type": "execute_result"
    }
   ],
   "source": [
    "R_2_OOS = prediction_df.apply(lambda x: get_oos_r_square(y=equity_premium, y_hat=x, y_bar=historical_average))\n",
    "R_2_OOS"
   ]
  },
  {
   "attachments": {},
   "cell_type": "markdown",
   "metadata": {},
   "source": [
    "## MSPE adjusted test (Mean Squared Prediction Error)\n",
    "\n",
    "We test whether a prediction method is significantly different from the historical average. We follow the statistical test by Clark and West (2007). Rapach (2010) also uses this statistical test method.\n",
    "\n",
    "The null hypothesis is H0: $R_{OS}^2 < 0$\n",
    "\n",
    "The test statistics is:\n",
    "\\begin{equation}\n",
    "f_{t+1}=\\left(r_{t+1}-\\bar{r}_{t+1}\\right)^2-\\left[\\left(r_{t+1}-\\hat{r}_{t+1}\\right)^2-\\left(\\bar{r}_{t+1}-\\hat{r}_{t+1}\\right)^2\\right]\n",
    "\\end{equation}\n",
    "\n",
    "We regress this statistics against a constant and get the one-side p-value."
   ]
  },
  {
   "cell_type": "code",
   "execution_count": 17,
   "metadata": {},
   "outputs": [],
   "source": [
    "def get_p_value_of_MSPE_adjusted_test(y:np.ndarray, y_bar:np.ndarray, y_hat:np.ndarray) -> float:\n",
    "    \"\"\"\n",
    "    \n",
    "    Parameters\n",
    "    ----------\n",
    "    y : np.ndarray (n_samples, 1)\n",
    "    y_bar : np.ndarray (n_samples, 1)\n",
    "    y_hat : np.ndarray (n_samples, 1)\n",
    "\n",
    "    Returns\n",
    "    -------\n",
    "    p_value_of_MSPE_adjusted : float\n",
    "    \"\"\"\n",
    "    F = (y - y_bar) ** 2 - ((y - y_hat) ** 2 - (y_bar - y_hat) ** 2)\n",
    "    dummy = np.ones_like(F)\n",
    "    lm_result = sm.OLS(F, dummy).fit()\n",
    "    p_value = lm_result.pvalues.values[0]\n",
    "\n",
    "    return p_value\n"
   ]
  },
  {
   "cell_type": "code",
   "execution_count": 25,
   "metadata": {},
   "outputs": [
    {
     "data": {
      "text/plain": [
       "Elastic Net      0.103108\n",
       "Random Forest    0.740081\n",
       "dtype: float64"
      ]
     },
     "execution_count": 25,
     "metadata": {},
     "output_type": "execute_result"
    }
   ],
   "source": [
    "p_value = prediction_df.apply(lambda x: get_p_value_of_MSPE_adjusted_test(y=equity_premium, y_hat=x, y_bar=historical_average))\n",
    "p_value"
   ]
  },
  {
   "cell_type": "code",
   "execution_count": 16,
   "metadata": {},
   "outputs": [],
   "source": [
    "def get_significance_of_MSPE_adjusted_test(y:np.ndarray, y_bar:np.ndarray, y_hat:np.ndarray) -> str:\n",
    "    \"\"\"\n",
    "    \n",
    "    Parameters\n",
    "    ----------\n",
    "    y : np.ndarray (n_samples, 1)\n",
    "    y_bar : np.ndarray (n_samples, 1)\n",
    "    y_hat : np.ndarray (n_samples, 1)\n",
    "\n",
    "    Returns\n",
    "    -------\n",
    "    significance_of_MSPE_adjusted : str\n",
    "    \"\"\"\n",
    "\n",
    "    p_value = get_p_value_of_MSPE_adjusted_test(y=y, y_hat=y_hat, y_bar=y_bar)\n",
    "    p_value = round(p_value, ndigits=3)\n",
    "    if p_value >= 0.1:\n",
    "        significance = str(p_value) + ' '\n",
    "    elif p_value > 0.05:\n",
    "        significance = str(p_value) +' *'\n",
    "    elif p_value > 0.01:\n",
    "        significance = str(p_value) +' **'\n",
    "    elif p_value <= 0.01:\n",
    "        significance = str(p_value) +' ***'\n",
    "\n",
    "    return significance"
   ]
  },
  {
   "cell_type": "code",
   "execution_count": 26,
   "metadata": {},
   "outputs": [
    {
     "data": {
      "text/plain": [
       "Elastic Net      0.103 \n",
       "Random Forest     0.74 \n",
       "dtype: object"
      ]
     },
     "execution_count": 26,
     "metadata": {},
     "output_type": "execute_result"
    }
   ],
   "source": [
    "significance = prediction_df.apply(lambda x: get_significance_of_MSPE_adjusted_test(y=equity_premium, y_hat=x, y_bar=historical_average))\n",
    "significance"
   ]
  },
  {
   "attachments": {},
   "cell_type": "markdown",
   "metadata": {},
   "source": [
    "## The Utility Gain\n",
    "\n",
    "We assume a mean-variance investor. He balance his portfolio between stock and risk-free bill monthly. The portfolio weights are decided by the prediction of the equity premium. The portfolio weights are given as\n",
    "\n",
    "\\begin{equation}\n",
    "w_{j, t}=\\left(\\frac{1}{\\gamma}\\right)\\left(\\frac{\\hat{r}_{t+1}}{\\hat{\\sigma}_{t+1}^2}\\right)\n",
    "\\end{equation}\n",
    "\n",
    "This weight is based on the prediction of the stock return and the variance of stock. We use ten years of rolling window for the estimation. This is in line with (Rapach 2010) and Campbell and Thompson (2008). The investor will gain an average utility over out-of-sample period as\n",
    "\n",
    "\\begin{equation}\n",
    "\\hat{v}_0=\\hat{\\mu}_0-\\left(\\frac{1}{2}\\right) \\gamma \\hat{\\sigma}_0^2\n",
    "\\end{equation}\n",
    "\n",
    "To get the monthly portfolio weight we set $\\gamma = 3$"
   ]
  },
  {
   "cell_type": "code",
   "execution_count": 7,
   "metadata": {},
   "outputs": [],
   "source": [
    "def get_utility_gain_from_prediction(START_DATE: str,\n",
    "                                     END_DATE: str,\n",
    "                                     prediction: pd.DataFrame,\n",
    "                                     historical_average: pd.DataFrame,\n",
    "                                     equity_return: pd.DataFrame = None,\n",
    "                                     rolling_window_size: int = 5, # number in year\n",
    "                                     data_frequency: int = 12, # number of observations per year\n",
    "                                     gamma: int = 3) -> float:\n",
    "    \"\"\"\n",
    "    Get utility gain from prediction.\n",
    "    TODO:\n",
    "    -----\n",
    "    1. the calculation of utility gain requires the true return of interested.\n",
    "    2. we need to replace spy equity premium with the true equity return of interested.\n",
    "\n",
    "    Parameters\n",
    "    ----------\n",
    "    START_DATE : str\n",
    "        Start date of the utility gain curve.\n",
    "        Format: YYYY-MM\n",
    "    END_DATE : str\n",
    "        End date of the utility gain curve.\n",
    "        Format: YYYY-MM\n",
    "    rolling_window_size : int, optional\n",
    "        Rolling window size.\n",
    "        Default: 10\n",
    "    data_frequency : int, optional\n",
    "        Data frequency.\n",
    "        Default: 12\n",
    "    gamma : int, optional\n",
    "        Gamma.\n",
    "        Default: 3\n",
    "\n",
    "    Returns\n",
    "    -------\n",
    "    utility_gain : float\n",
    "        Utility gain.\n",
    "    \"\"\"\n",
    "\n",
    "    START_DATE = datetime.strptime(START_DATE, '%Y-%m')\n",
    "    START_DATE = str(START_DATE.year - rolling_window_size) + '-' + str(START_DATE.month)\n",
    "    data_frequency_dict = {12: 'monthly', 4: 'quarterly', 1: 'yearly'}\n",
    "    econ_predictors = get_econ_predictors(START_DATE=START_DATE, END_DATE=END_DATE, data_freq=data_frequency_dict[data_frequency])\n",
    "    risk_free_bond = econ_predictors['Treasury Bill'] / 100\n",
    "    if equity_return is None:\n",
    "        stock_return = econ_predictors['Equity Premium']\n",
    "    else:\n",
    "        stock_return = equity_return[START_DATE:END_DATE]\n",
    "    portfolio_df = pd.concat([stock_return, risk_free_bond], axis=1).dropna()\n",
    "\n",
    "    sample_varince = portfolio_df.iloc[:, 0].rolling(rolling_window_size * data_frequency - 1).var().dropna()\n",
    "    varince_estimation = sample_varince.shift(1).dropna()\n",
    "\n",
    "    stock_weight_0 = (1 / gamma) * (historical_average / varince_estimation)\n",
    "    stock_weight_0 = stock_weight_0.clip(0, 1.5)\n",
    "    portfolio_weight_0 = pd.concat([stock_weight_0, 1 - stock_weight_0], axis = 1)\n",
    "    w_0 = portfolio_weight_0.values.reshape(-1, 1, 2)\n",
    "\n",
    "    stock_weight_1 = (1 / gamma) * (prediction / varince_estimation)\n",
    "    stock_weight_1 = stock_weight_1.clip(0, 1.5)\n",
    "    portfolio_weight_1 = pd.concat([stock_weight_1, 1 - stock_weight_1], axis = 1)\n",
    "    w_1 = portfolio_weight_1.values.reshape(-1, 1, 2)\n",
    "\n",
    "    return_df = portfolio_df.loc[portfolio_weight_0.index] # need to change\n",
    "    returns = return_df.values.reshape(-1, 2, 1)\n",
    "\n",
    "    portfolio_return_0 = (w_0 @ returns).flatten()\n",
    "    portfolio_return_1 = (w_1 @ returns).flatten()\n",
    "\n",
    "    # annualize the return according to Rapach (2010)\n",
    "    mu_0 = np.mean(portfolio_return_0) * data_frequency\n",
    "    sigma_0 = np.var(portfolio_return_0) * data_frequency\n",
    "    uitility_0 = mu_0 - 0.5 * gamma * sigma_0\n",
    "\n",
    "    mu_1 = np.mean(portfolio_return_1) * data_frequency\n",
    "    sigma_1 = np.var(portfolio_return_1) * data_frequency\n",
    "    uitility_1 = mu_1 - 0.5 * gamma * sigma_1\n",
    "\n",
    "    utility_gain = uitility_1 - uitility_0\n",
    "    utility_gain_percentage = utility_gain * 100\n",
    "\n",
    "    return utility_gain_percentage"
   ]
  },
  {
   "cell_type": "code",
   "execution_count": 27,
   "metadata": {},
   "outputs": [
    {
     "data": {
      "text/plain": [
       "Elastic Net      0.212202\n",
       "Random Forest    0.047908\n",
       "dtype: float64"
      ]
     },
     "execution_count": 27,
     "metadata": {},
     "output_type": "execute_result"
    }
   ],
   "source": [
    "utility_gain = prediction_df.apply(lambda x: get_utility_gain_from_prediction(START_DATE=prediction_df.index[0].strftime('%Y-%m'), \n",
    "                                                                                END_DATE=prediction_df.index[-1].strftime('%Y-%m'),\n",
    "                                                                                historical_average=historical_average, \n",
    "                                                                                prediction=x))\n",
    "utility_gain"
   ]
  },
  {
   "cell_type": "code",
   "execution_count": 28,
   "metadata": {},
   "outputs": [
    {
     "data": {
      "text/html": [
       "<div>\n",
       "<style scoped>\n",
       "    .dataframe tbody tr th:only-of-type {\n",
       "        vertical-align: middle;\n",
       "    }\n",
       "\n",
       "    .dataframe tbody tr th {\n",
       "        vertical-align: top;\n",
       "    }\n",
       "\n",
       "    .dataframe thead th {\n",
       "        text-align: right;\n",
       "    }\n",
       "</style>\n",
       "<table border=\"1\" class=\"dataframe\">\n",
       "  <thead>\n",
       "    <tr style=\"text-align: right;\">\n",
       "      <th></th>\n",
       "      <th>R2</th>\n",
       "      <th>significance</th>\n",
       "      <th>Utility Gain</th>\n",
       "    </tr>\n",
       "  </thead>\n",
       "  <tbody>\n",
       "    <tr>\n",
       "      <th>Elastic Net</th>\n",
       "      <td>0.078502</td>\n",
       "      <td>0.103</td>\n",
       "      <td>0.212202</td>\n",
       "    </tr>\n",
       "    <tr>\n",
       "      <th>Random Forest</th>\n",
       "      <td>-10.215775</td>\n",
       "      <td>0.74</td>\n",
       "      <td>0.047908</td>\n",
       "    </tr>\n",
       "  </tbody>\n",
       "</table>\n",
       "</div>"
      ],
      "text/plain": [
       "                      R2 significance  Utility Gain\n",
       "Elastic Net     0.078502       0.103       0.212202\n",
       "Random Forest -10.215775        0.74       0.047908"
      ]
     },
     "execution_count": 28,
     "metadata": {},
     "output_type": "execute_result"
    }
   ],
   "source": [
    "evaluation_matric_df = pd.concat([R_2_OOS, significance, utility_gain], axis=1)\n",
    "evaluation_matric_df.columns = ['R2', 'significance', 'Utility Gain']\n",
    "evaluation_matric_df"
   ]
  },
  {
   "cell_type": "code",
   "execution_count": 29,
   "metadata": {},
   "outputs": [
    {
     "name": "stdout",
     "output_type": "stream",
     "text": [
      "Save table to:../../table/\n"
     ]
    }
   ],
   "source": [
    "post_dataframe_to_latex_table(evaluation_matric_df, table_name='equity premium out-of-sample ml forecasting performance')"
   ]
  },
  {
   "attachments": {},
   "cell_type": "markdown",
   "metadata": {},
   "source": [
    "# Analysis of linear prediction"
   ]
  },
  {
   "attachments": {},
   "cell_type": "markdown",
   "metadata": {},
   "source": [
    "load prediction results from linear regression (combination)"
   ]
  },
  {
   "cell_type": "code",
   "execution_count": 2,
   "metadata": {},
   "outputs": [],
   "source": [
    "START_DATE = '1965-01'\n",
    "END_DATE = '2005-04'\n",
    "prediction_df = pd.read_csv('../../data/prediction_linear_quarterly_1947_1965_2005.csv', index_col=0, parse_dates=True, date_parser=get_monthly_date_format)\n",
    "prediction_df = prediction_df.loc[START_DATE:END_DATE]\n",
    "equity_premium = prediction_df.pop('Equity Premium')\n",
    "historical_average = prediction_df.pop('Historical Average')"
   ]
  },
  {
   "attachments": {},
   "cell_type": "markdown",
   "metadata": {},
   "source": [
    "1. R2"
   ]
  },
  {
   "cell_type": "code",
   "execution_count": 3,
   "metadata": {},
   "outputs": [
    {
     "data": {
      "text/plain": [
       "Dividend Price Ratio     -0.380599\n",
       "Dividend Yield           -0.443628\n",
       "Earnings Price Ratio     -0.367326\n",
       "Earnings Payout Ratio    -1.472913\n",
       "Stock Variance          -10.576979\n",
       "Book To Market           -2.552643\n",
       "Net Equity Expansion     -0.900847\n",
       "Treasury Bill            -1.610106\n",
       "Long Term Yield          -2.415471\n",
       "Long Term Return          0.602016\n",
       "Term Spread              -2.401840\n",
       "Default Yield Spread     -2.735281\n",
       "Default Return Spread    -1.041505\n",
       "Inflation                 0.745198\n",
       "Invest Capital Ratio      1.307079\n",
       "Mean                      3.158280\n",
       "Median                    2.994622\n",
       "Trimmed mean              3.065345\n",
       "DMSPE theta 1             3.351971\n",
       "DMSPE theta 0.9           4.421183\n",
       "dtype: float64"
      ]
     },
     "execution_count": 3,
     "metadata": {},
     "output_type": "execute_result"
    }
   ],
   "source": [
    "R_2_OOS = prediction_df.apply(lambda x: get_oos_r_square(y=equity_premium, y_hat=x, y_bar=historical_average))\n",
    "R_2_OOS"
   ]
  },
  {
   "attachments": {},
   "cell_type": "markdown",
   "metadata": {},
   "source": [
    "2. significance of R2"
   ]
  },
  {
   "cell_type": "code",
   "execution_count": 4,
   "metadata": {},
   "outputs": [
    {
     "data": {
      "text/plain": [
       "Dividend Price Ratio         0.32 \n",
       "Dividend Yield              0.279 \n",
       "Earnings Price Ratio        0.672 \n",
       "Earnings Payout Ratio       0.653 \n",
       "Stock Variance            0.042 **\n",
       "Book To Market              0.759 \n",
       "Net Equity Expansion         0.61 \n",
       "Treasury Bill              0.076 *\n",
       "Long Term Yield             0.279 \n",
       "Long Term Return            0.217 \n",
       "Term Spread                0.067 *\n",
       "Default Yield Spread        0.835 \n",
       "Default Return Spread       0.519 \n",
       "Inflation                   0.301 \n",
       "Invest Capital Ratio      0.047 **\n",
       "Mean                     0.006 ***\n",
       "Median                   0.001 ***\n",
       "Trimmed mean             0.005 ***\n",
       "DMSPE theta 1            0.006 ***\n",
       "DMSPE theta 0.9          0.001 ***\n",
       "dtype: object"
      ]
     },
     "execution_count": 4,
     "metadata": {},
     "output_type": "execute_result"
    }
   ],
   "source": [
    "significance = prediction_df.apply(lambda x: get_significance_of_MSPE_adjusted_test(y=equity_premium, y_hat=x, y_bar=historical_average))\n",
    "significance"
   ]
  },
  {
   "attachments": {},
   "cell_type": "markdown",
   "metadata": {},
   "source": [
    "The utility gain"
   ]
  },
  {
   "cell_type": "code",
   "execution_count": 6,
   "metadata": {},
   "outputs": [
    {
     "data": {
      "text/plain": [
       "Dividend Price Ratio     0.171461\n",
       "Dividend Yield           0.915673\n",
       "Earnings Price Ratio    -0.616940\n",
       "Earnings Payout Ratio   -0.246982\n",
       "Stock Variance          -0.218425\n",
       "Book To Market          -2.414724\n",
       "Net Equity Expansion     0.028875\n",
       "Treasury Bill            3.132849\n",
       "Long Term Yield          3.048614\n",
       "Long Term Return         1.338872\n",
       "Term Spread              3.056866\n",
       "Default Yield Spread    -0.672800\n",
       "Default Return Spread    0.534705\n",
       "Inflation                2.531710\n",
       "Invest Capital Ratio     2.709679\n",
       "Mean                     3.368691\n",
       "Median                   2.677641\n",
       "Trimmed mean             3.236897\n",
       "DMSPE theta 1            3.473381\n",
       "DMSPE theta 0.9          4.252317\n",
       "dtype: float64"
      ]
     },
     "execution_count": 6,
     "metadata": {},
     "output_type": "execute_result"
    }
   ],
   "source": [
    "utility_gain = prediction_df.apply(lambda x: get_utility_gain_from_prediction(START_DATE=prediction_df.index[0].strftime('%Y-%m'), \n",
    "                                                                                END_DATE=prediction_df.index[-1].strftime('%Y-%m'),\n",
    "                                                                                historical_average=historical_average, \n",
    "                                                                                prediction=x,\n",
    "                                                                                data_frequency=4))\n",
    "utility_gain"
   ]
  },
  {
   "cell_type": "code",
   "execution_count": 7,
   "metadata": {},
   "outputs": [
    {
     "data": {
      "text/html": [
       "<div>\n",
       "<style scoped>\n",
       "    .dataframe tbody tr th:only-of-type {\n",
       "        vertical-align: middle;\n",
       "    }\n",
       "\n",
       "    .dataframe tbody tr th {\n",
       "        vertical-align: top;\n",
       "    }\n",
       "\n",
       "    .dataframe thead th {\n",
       "        text-align: right;\n",
       "    }\n",
       "</style>\n",
       "<table border=\"1\" class=\"dataframe\">\n",
       "  <thead>\n",
       "    <tr style=\"text-align: right;\">\n",
       "      <th></th>\n",
       "      <th>R2</th>\n",
       "      <th>significance</th>\n",
       "      <th>Utility Gain</th>\n",
       "    </tr>\n",
       "  </thead>\n",
       "  <tbody>\n",
       "    <tr>\n",
       "      <th>Dividend Price Ratio</th>\n",
       "      <td>-0.380599</td>\n",
       "      <td>0.32</td>\n",
       "      <td>0.171461</td>\n",
       "    </tr>\n",
       "    <tr>\n",
       "      <th>Dividend Yield</th>\n",
       "      <td>-0.443628</td>\n",
       "      <td>0.279</td>\n",
       "      <td>0.915673</td>\n",
       "    </tr>\n",
       "    <tr>\n",
       "      <th>Earnings Price Ratio</th>\n",
       "      <td>-0.367326</td>\n",
       "      <td>0.672</td>\n",
       "      <td>-0.616940</td>\n",
       "    </tr>\n",
       "    <tr>\n",
       "      <th>Earnings Payout Ratio</th>\n",
       "      <td>-1.472913</td>\n",
       "      <td>0.653</td>\n",
       "      <td>-0.246982</td>\n",
       "    </tr>\n",
       "    <tr>\n",
       "      <th>Stock Variance</th>\n",
       "      <td>-10.576979</td>\n",
       "      <td>0.042 **</td>\n",
       "      <td>-0.218425</td>\n",
       "    </tr>\n",
       "    <tr>\n",
       "      <th>Book To Market</th>\n",
       "      <td>-2.552643</td>\n",
       "      <td>0.759</td>\n",
       "      <td>-2.414724</td>\n",
       "    </tr>\n",
       "    <tr>\n",
       "      <th>Net Equity Expansion</th>\n",
       "      <td>-0.900847</td>\n",
       "      <td>0.61</td>\n",
       "      <td>0.028875</td>\n",
       "    </tr>\n",
       "    <tr>\n",
       "      <th>Treasury Bill</th>\n",
       "      <td>-1.610106</td>\n",
       "      <td>0.076 *</td>\n",
       "      <td>3.132849</td>\n",
       "    </tr>\n",
       "    <tr>\n",
       "      <th>Long Term Yield</th>\n",
       "      <td>-2.415471</td>\n",
       "      <td>0.279</td>\n",
       "      <td>3.048614</td>\n",
       "    </tr>\n",
       "    <tr>\n",
       "      <th>Long Term Return</th>\n",
       "      <td>0.602016</td>\n",
       "      <td>0.217</td>\n",
       "      <td>1.338872</td>\n",
       "    </tr>\n",
       "    <tr>\n",
       "      <th>Term Spread</th>\n",
       "      <td>-2.401840</td>\n",
       "      <td>0.067 *</td>\n",
       "      <td>3.056866</td>\n",
       "    </tr>\n",
       "    <tr>\n",
       "      <th>Default Yield Spread</th>\n",
       "      <td>-2.735281</td>\n",
       "      <td>0.835</td>\n",
       "      <td>-0.672800</td>\n",
       "    </tr>\n",
       "    <tr>\n",
       "      <th>Default Return Spread</th>\n",
       "      <td>-1.041505</td>\n",
       "      <td>0.519</td>\n",
       "      <td>0.534705</td>\n",
       "    </tr>\n",
       "    <tr>\n",
       "      <th>Inflation</th>\n",
       "      <td>0.745198</td>\n",
       "      <td>0.301</td>\n",
       "      <td>2.531710</td>\n",
       "    </tr>\n",
       "    <tr>\n",
       "      <th>Invest Capital Ratio</th>\n",
       "      <td>1.307079</td>\n",
       "      <td>0.047 **</td>\n",
       "      <td>2.709679</td>\n",
       "    </tr>\n",
       "    <tr>\n",
       "      <th>Mean</th>\n",
       "      <td>3.158280</td>\n",
       "      <td>0.006 ***</td>\n",
       "      <td>3.368691</td>\n",
       "    </tr>\n",
       "    <tr>\n",
       "      <th>Median</th>\n",
       "      <td>2.994622</td>\n",
       "      <td>0.001 ***</td>\n",
       "      <td>2.677641</td>\n",
       "    </tr>\n",
       "    <tr>\n",
       "      <th>Trimmed mean</th>\n",
       "      <td>3.065345</td>\n",
       "      <td>0.005 ***</td>\n",
       "      <td>3.236897</td>\n",
       "    </tr>\n",
       "    <tr>\n",
       "      <th>DMSPE theta 1</th>\n",
       "      <td>3.351971</td>\n",
       "      <td>0.006 ***</td>\n",
       "      <td>3.473381</td>\n",
       "    </tr>\n",
       "    <tr>\n",
       "      <th>DMSPE theta 0.9</th>\n",
       "      <td>4.421183</td>\n",
       "      <td>0.001 ***</td>\n",
       "      <td>4.252317</td>\n",
       "    </tr>\n",
       "  </tbody>\n",
       "</table>\n",
       "</div>"
      ],
      "text/plain": [
       "                              R2 significance  Utility Gain\n",
       "Dividend Price Ratio   -0.380599        0.32       0.171461\n",
       "Dividend Yield         -0.443628       0.279       0.915673\n",
       "Earnings Price Ratio   -0.367326       0.672      -0.616940\n",
       "Earnings Payout Ratio  -1.472913       0.653      -0.246982\n",
       "Stock Variance        -10.576979     0.042 **     -0.218425\n",
       "Book To Market         -2.552643       0.759      -2.414724\n",
       "Net Equity Expansion   -0.900847        0.61       0.028875\n",
       "Treasury Bill          -1.610106      0.076 *      3.132849\n",
       "Long Term Yield        -2.415471       0.279       3.048614\n",
       "Long Term Return        0.602016       0.217       1.338872\n",
       "Term Spread            -2.401840      0.067 *      3.056866\n",
       "Default Yield Spread   -2.735281       0.835      -0.672800\n",
       "Default Return Spread  -1.041505       0.519       0.534705\n",
       "Inflation               0.745198       0.301       2.531710\n",
       "Invest Capital Ratio    1.307079     0.047 **      2.709679\n",
       "Mean                    3.158280    0.006 ***      3.368691\n",
       "Median                  2.994622    0.001 ***      2.677641\n",
       "Trimmed mean            3.065345    0.005 ***      3.236897\n",
       "DMSPE theta 1           3.351971    0.006 ***      3.473381\n",
       "DMSPE theta 0.9         4.421183    0.001 ***      4.252317"
      ]
     },
     "execution_count": 7,
     "metadata": {},
     "output_type": "execute_result"
    }
   ],
   "source": [
    "evaluation_matric_df = pd.concat([R_2_OOS, significance, utility_gain], axis=1)\n",
    "evaluation_matric_df.columns = ['R2', 'significance', 'Utility Gain']\n",
    "evaluation_matric_df"
   ]
  },
  {
   "cell_type": "code",
   "execution_count": 8,
   "metadata": {},
   "outputs": [
    {
     "name": "stdout",
     "output_type": "stream",
     "text": [
      "Save table to:../../table/\n"
     ]
    }
   ],
   "source": [
    "post_dataframe_to_latex_table(evaluation_matric_df, table_name='performance of linear prediction using quarterly data 1965 - 2005')"
   ]
  },
  {
   "attachments": {},
   "cell_type": "markdown",
   "metadata": {},
   "source": [
    "# Analysis of ML prediction"
   ]
  },
  {
   "attachments": {},
   "cell_type": "markdown",
   "metadata": {},
   "source": [
    "load ml prediction results"
   ]
  },
  {
   "cell_type": "code",
   "execution_count": 10,
   "metadata": {},
   "outputs": [],
   "source": [
    "START_DATE = '1965-01'\n",
    "END_DATE = '2005-04'\n",
    "prediction_df = pd.read_csv('../../data/prediction_ml_quarterly_1947_1964_2005.csv', index_col=0, parse_dates=True, date_parser=get_monthly_date_format)\n",
    "prediction_df = prediction_df.loc[START_DATE:END_DATE]\n",
    "equity_premium = prediction_df.pop('Equity Premium')\n",
    "historical_average = prediction_df.pop('Historical Average')"
   ]
  },
  {
   "attachments": {},
   "cell_type": "markdown",
   "metadata": {},
   "source": [
    "R2"
   ]
  },
  {
   "cell_type": "code",
   "execution_count": 12,
   "metadata": {},
   "outputs": [
    {
     "data": {
      "text/plain": [
       "Elastic Net     -4.019374\n",
       "Random Forest   -2.944873\n",
       "dtype: float64"
      ]
     },
     "execution_count": 12,
     "metadata": {},
     "output_type": "execute_result"
    }
   ],
   "source": [
    "R_2_OOS = prediction_df.apply(lambda x: get_oos_r_square(y=equity_premium, y_hat=x, y_bar=historical_average))\n",
    "R_2_OOS"
   ]
  },
  {
   "attachments": {},
   "cell_type": "markdown",
   "metadata": {},
   "source": [
    "significance of R2"
   ]
  },
  {
   "cell_type": "code",
   "execution_count": 13,
   "metadata": {},
   "outputs": [
    {
     "data": {
      "text/plain": [
       "Elastic Net      0.008 ***\n",
       "Random Forest      0.051 *\n",
       "dtype: object"
      ]
     },
     "execution_count": 13,
     "metadata": {},
     "output_type": "execute_result"
    }
   ],
   "source": [
    "significance = prediction_df.apply(lambda x: get_significance_of_MSPE_adjusted_test(y=equity_premium, y_hat=x, y_bar=historical_average))\n",
    "significance"
   ]
  },
  {
   "attachments": {},
   "cell_type": "markdown",
   "metadata": {},
   "source": [
    "The utility gain"
   ]
  },
  {
   "cell_type": "code",
   "execution_count": 14,
   "metadata": {},
   "outputs": [
    {
     "data": {
      "text/plain": [
       "Elastic Net      3.186726\n",
       "Random Forest    1.836083\n",
       "dtype: float64"
      ]
     },
     "execution_count": 14,
     "metadata": {},
     "output_type": "execute_result"
    }
   ],
   "source": [
    "utility_gain = prediction_df.apply(lambda x: get_utility_gain_from_prediction(START_DATE=prediction_df.index[0].strftime('%Y-%m'), \n",
    "                                                                                END_DATE=prediction_df.index[-1].strftime('%Y-%m'),\n",
    "                                                                                historical_average=historical_average, \n",
    "                                                                                prediction=x,\n",
    "                                                                                data_frequency=4))\n",
    "utility_gain"
   ]
  },
  {
   "cell_type": "code",
   "execution_count": 17,
   "metadata": {},
   "outputs": [
    {
     "data": {
      "text/html": [
       "<div>\n",
       "<style scoped>\n",
       "    .dataframe tbody tr th:only-of-type {\n",
       "        vertical-align: middle;\n",
       "    }\n",
       "\n",
       "    .dataframe tbody tr th {\n",
       "        vertical-align: top;\n",
       "    }\n",
       "\n",
       "    .dataframe thead th {\n",
       "        text-align: right;\n",
       "    }\n",
       "</style>\n",
       "<table border=\"1\" class=\"dataframe\">\n",
       "  <thead>\n",
       "    <tr style=\"text-align: right;\">\n",
       "      <th></th>\n",
       "      <th>R2</th>\n",
       "      <th>significance</th>\n",
       "      <th>Utility Gain</th>\n",
       "    </tr>\n",
       "  </thead>\n",
       "  <tbody>\n",
       "    <tr>\n",
       "      <th>Elastic Net</th>\n",
       "      <td>-4.019374</td>\n",
       "      <td>0.008 ***</td>\n",
       "      <td>3.186726</td>\n",
       "    </tr>\n",
       "    <tr>\n",
       "      <th>Random Forest</th>\n",
       "      <td>-2.944873</td>\n",
       "      <td>0.051 *</td>\n",
       "      <td>1.836083</td>\n",
       "    </tr>\n",
       "  </tbody>\n",
       "</table>\n",
       "</div>"
      ],
      "text/plain": [
       "                     R2 significance  Utility Gain\n",
       "Elastic Net   -4.019374    0.008 ***      3.186726\n",
       "Random Forest -2.944873      0.051 *      1.836083"
      ]
     },
     "execution_count": 17,
     "metadata": {},
     "output_type": "execute_result"
    }
   ],
   "source": [
    "evaluation_matric_df = pd.concat([R_2_OOS, significance, utility_gain], axis=1)\n",
    "evaluation_matric_df.columns = ['R2', 'significance', 'Utility Gain']\n",
    "evaluation_matric_df"
   ]
  },
  {
   "cell_type": "code",
   "execution_count": 18,
   "metadata": {},
   "outputs": [
    {
     "name": "stdout",
     "output_type": "stream",
     "text": [
      "Save table to:../../table/\n"
     ]
    }
   ],
   "source": [
    "post_dataframe_to_latex_table(evaluation_matric_df, table_name='performance of ml prediction using quarterly data 1964 - 2005')"
   ]
  },
  {
   "attachments": {},
   "cell_type": "markdown",
   "metadata": {},
   "source": [
    "# Analysis of implied expected return"
   ]
  },
  {
   "attachments": {},
   "cell_type": "markdown",
   "metadata": {},
   "source": [
    "load implied expected return"
   ]
  },
  {
   "cell_type": "code",
   "execution_count": 25,
   "metadata": {},
   "outputs": [],
   "source": [
    "prediction_df = pd.read_csv('../../data/implied_equity_premium_1947_2005.csv', index_col=0, parse_dates=True)\n",
    "prediction_df.index = [get_monthly_date_format(x) for x in prediction_df.index]\n",
    "prediction_df.columns = ['Equal']\n",
    "\n",
    "START_DATE = '1965-01'\n",
    "END_DATE = '2005-04'\n",
    "prediction_df = prediction_df[START_DATE:END_DATE]"
   ]
  },
  {
   "attachments": {},
   "cell_type": "markdown",
   "metadata": {},
   "source": [
    "R2"
   ]
  },
  {
   "cell_type": "code",
   "execution_count": 26,
   "metadata": {},
   "outputs": [
    {
     "data": {
      "text/plain": [
       "Equal    0.664116\n",
       "dtype: float64"
      ]
     },
     "execution_count": 26,
     "metadata": {},
     "output_type": "execute_result"
    }
   ],
   "source": [
    "R_2_OOS = prediction_df.apply(lambda x: get_oos_r_square(y=equity_premium, y_hat=x, y_bar=historical_average))\n",
    "R_2_OOS"
   ]
  },
  {
   "attachments": {},
   "cell_type": "markdown",
   "metadata": {},
   "source": [
    "Significance of R2"
   ]
  },
  {
   "cell_type": "code",
   "execution_count": 28,
   "metadata": {},
   "outputs": [
    {
     "data": {
      "text/plain": [
       "Equal    0.025 **\n",
       "dtype: object"
      ]
     },
     "execution_count": 28,
     "metadata": {},
     "output_type": "execute_result"
    }
   ],
   "source": [
    "significance = prediction_df.apply(lambda x: get_significance_of_MSPE_adjusted_test(y=equity_premium, y_hat=x, y_bar=historical_average))\n",
    "significance"
   ]
  },
  {
   "attachments": {},
   "cell_type": "markdown",
   "metadata": {},
   "source": [
    "The utility gain"
   ]
  },
  {
   "cell_type": "code",
   "execution_count": 30,
   "metadata": {},
   "outputs": [
    {
     "data": {
      "text/plain": [
       "Equal    1.654718\n",
       "dtype: float64"
      ]
     },
     "execution_count": 30,
     "metadata": {},
     "output_type": "execute_result"
    }
   ],
   "source": [
    "utility_gain = prediction_df.apply(lambda x: get_utility_gain_from_prediction(START_DATE=prediction_df.index[0].strftime('%Y-%m'), \n",
    "                                                                                END_DATE=prediction_df.index[-1].strftime('%Y-%m'),\n",
    "                                                                                historical_average=historical_average, \n",
    "                                                                                prediction=x))\n",
    "utility_gain"
   ]
  },
  {
   "attachments": {},
   "cell_type": "markdown",
   "metadata": {},
   "source": [
    "Output results"
   ]
  },
  {
   "cell_type": "code",
   "execution_count": 31,
   "metadata": {},
   "outputs": [
    {
     "data": {
      "text/html": [
       "<div>\n",
       "<style scoped>\n",
       "    .dataframe tbody tr th:only-of-type {\n",
       "        vertical-align: middle;\n",
       "    }\n",
       "\n",
       "    .dataframe tbody tr th {\n",
       "        vertical-align: top;\n",
       "    }\n",
       "\n",
       "    .dataframe thead th {\n",
       "        text-align: right;\n",
       "    }\n",
       "</style>\n",
       "<table border=\"1\" class=\"dataframe\">\n",
       "  <thead>\n",
       "    <tr style=\"text-align: right;\">\n",
       "      <th></th>\n",
       "      <th>R2</th>\n",
       "      <th>significance</th>\n",
       "      <th>Utility Gain</th>\n",
       "    </tr>\n",
       "  </thead>\n",
       "  <tbody>\n",
       "    <tr>\n",
       "      <th>Equal</th>\n",
       "      <td>0.664116</td>\n",
       "      <td>0.025 **</td>\n",
       "      <td>1.654718</td>\n",
       "    </tr>\n",
       "  </tbody>\n",
       "</table>\n",
       "</div>"
      ],
      "text/plain": [
       "             R2 significance  Utility Gain\n",
       "Equal  0.664116     0.025 **      1.654718"
      ]
     },
     "execution_count": 31,
     "metadata": {},
     "output_type": "execute_result"
    }
   ],
   "source": [
    "evaluation_matric_df = pd.concat([R_2_OOS, significance, utility_gain], axis=1)\n",
    "evaluation_matric_df.columns = ['R2', 'significance', 'Utility Gain']\n",
    "evaluation_matric_df"
   ]
  },
  {
   "cell_type": "code",
   "execution_count": 32,
   "metadata": {},
   "outputs": [
    {
     "name": "stdout",
     "output_type": "stream",
     "text": [
      "Save table to:../../table/\n"
     ]
    }
   ],
   "source": [
    "post_dataframe_to_latex_table(evaluation_matric_df, table_name='prediction performance of implied expected return')"
   ]
  },
  {
   "attachments": {},
   "cell_type": "markdown",
   "metadata": {},
   "source": [
    "# Replication of Rapach (2010) Analysis"
   ]
  },
  {
   "cell_type": "code",
   "execution_count": 49,
   "metadata": {},
   "outputs": [],
   "source": [
    "R2_CL = pd.read_csv('../../data/linear_prediction_quarterly_R2_CL.csv', index_col=0, names=['CL'], header=0)\n",
    "R2_CL_restricted = pd.read_csv('../../data/linear_prediction_quarterly_R2_CL_restricted.csv', index_col=0, names=['CL'], header=0)\n",
    "R2_CL_restricted.columns = ['CL_restricted']\n",
    "R2_MS = pd.read_csv('../../data/linear_prediction_quarterly_R2_MS.csv', index_col=0, names=['Rapach', 'MS'], header=0)\n",
    "R2_MS.index = R2_CL.index.to_list()[:14] + ['I_K']"
   ]
  },
  {
   "cell_type": "code",
   "execution_count": 50,
   "metadata": {},
   "outputs": [
    {
     "data": {
      "text/html": [
       "<div>\n",
       "<style scoped>\n",
       "    .dataframe tbody tr th:only-of-type {\n",
       "        vertical-align: middle;\n",
       "    }\n",
       "\n",
       "    .dataframe tbody tr th {\n",
       "        vertical-align: top;\n",
       "    }\n",
       "\n",
       "    .dataframe thead th {\n",
       "        text-align: right;\n",
       "    }\n",
       "</style>\n",
       "<table border=\"1\" class=\"dataframe\">\n",
       "  <thead>\n",
       "    <tr style=\"text-align: right;\">\n",
       "      <th></th>\n",
       "      <th>CL</th>\n",
       "      <th>Rapach</th>\n",
       "      <th>MS</th>\n",
       "      <th>CL_restricted</th>\n",
       "    </tr>\n",
       "  </thead>\n",
       "  <tbody>\n",
       "    <tr>\n",
       "      <th>Dividend Price Ratio</th>\n",
       "      <td>-0.380599</td>\n",
       "      <td>0.34</td>\n",
       "      <td>-0.722360</td>\n",
       "      <td>-0.380599</td>\n",
       "    </tr>\n",
       "    <tr>\n",
       "      <th>Dividend Yield</th>\n",
       "      <td>-0.443628</td>\n",
       "      <td>0.25</td>\n",
       "      <td>0.152974</td>\n",
       "      <td>-0.443628</td>\n",
       "    </tr>\n",
       "    <tr>\n",
       "      <th>Earnings Price Ratio</th>\n",
       "      <td>-0.367326</td>\n",
       "      <td>0.36</td>\n",
       "      <td>-2.332559</td>\n",
       "      <td>-0.367326</td>\n",
       "    </tr>\n",
       "    <tr>\n",
       "      <th>Earnings Payout Ratio</th>\n",
       "      <td>-1.472913</td>\n",
       "      <td>-1.42</td>\n",
       "      <td>-2.887096</td>\n",
       "      <td>-1.472913</td>\n",
       "    </tr>\n",
       "    <tr>\n",
       "      <th>Stock Variance</th>\n",
       "      <td>-10.576979</td>\n",
       "      <td>-12.97</td>\n",
       "      <td>-14.382389</td>\n",
       "      <td>-10.576979</td>\n",
       "    </tr>\n",
       "    <tr>\n",
       "      <th>Book To Market</th>\n",
       "      <td>-2.552643</td>\n",
       "      <td>-2.60</td>\n",
       "      <td>-5.113345</td>\n",
       "      <td>-2.552643</td>\n",
       "    </tr>\n",
       "    <tr>\n",
       "      <th>Net Equity Expansion</th>\n",
       "      <td>-0.900847</td>\n",
       "      <td>-0.91</td>\n",
       "      <td>-3.540437</td>\n",
       "      <td>-0.900847</td>\n",
       "    </tr>\n",
       "    <tr>\n",
       "      <th>Treasury Bill</th>\n",
       "      <td>-1.610106</td>\n",
       "      <td>-2.78</td>\n",
       "      <td>-0.695470</td>\n",
       "      <td>-1.610106</td>\n",
       "    </tr>\n",
       "    <tr>\n",
       "      <th>Long Term Yield</th>\n",
       "      <td>-2.415471</td>\n",
       "      <td>3.09</td>\n",
       "      <td>-0.289307</td>\n",
       "      <td>-2.415471</td>\n",
       "    </tr>\n",
       "    <tr>\n",
       "      <th>Long Term Return</th>\n",
       "      <td>0.602016</td>\n",
       "      <td>0.33</td>\n",
       "      <td>-1.113886</td>\n",
       "      <td>0.602016</td>\n",
       "    </tr>\n",
       "    <tr>\n",
       "      <th>Term Spread</th>\n",
       "      <td>-2.401840</td>\n",
       "      <td>-2.96</td>\n",
       "      <td>-0.274887</td>\n",
       "      <td>-2.401840</td>\n",
       "    </tr>\n",
       "    <tr>\n",
       "      <th>Default Yield Spread</th>\n",
       "      <td>-2.735281</td>\n",
       "      <td>-2.72</td>\n",
       "      <td>-5.124563</td>\n",
       "      <td>-2.735281</td>\n",
       "    </tr>\n",
       "    <tr>\n",
       "      <th>Default Return Spread</th>\n",
       "      <td>-1.041505</td>\n",
       "      <td>-1.10</td>\n",
       "      <td>-4.196794</td>\n",
       "      <td>-1.041505</td>\n",
       "    </tr>\n",
       "    <tr>\n",
       "      <th>Inflation</th>\n",
       "      <td>0.745198</td>\n",
       "      <td>-0.84</td>\n",
       "      <td>-2.230217</td>\n",
       "      <td>0.745198</td>\n",
       "    </tr>\n",
       "    <tr>\n",
       "      <th>Mean</th>\n",
       "      <td>3.020009</td>\n",
       "      <td>3.58</td>\n",
       "      <td>NaN</td>\n",
       "      <td>3.020009</td>\n",
       "    </tr>\n",
       "    <tr>\n",
       "      <th>Median</th>\n",
       "      <td>2.802575</td>\n",
       "      <td>3.04</td>\n",
       "      <td>NaN</td>\n",
       "      <td>2.802575</td>\n",
       "    </tr>\n",
       "    <tr>\n",
       "      <th>Trimmed mean</th>\n",
       "      <td>2.939501</td>\n",
       "      <td>3.51</td>\n",
       "      <td>NaN</td>\n",
       "      <td>2.939501</td>\n",
       "    </tr>\n",
       "    <tr>\n",
       "      <th>DMSPE theta 1</th>\n",
       "      <td>3.219785</td>\n",
       "      <td>3.54</td>\n",
       "      <td>NaN</td>\n",
       "      <td>3.219785</td>\n",
       "    </tr>\n",
       "    <tr>\n",
       "      <th>DMSPE theta 0.9</th>\n",
       "      <td>4.295913</td>\n",
       "      <td>3.49</td>\n",
       "      <td>NaN</td>\n",
       "      <td>4.295913</td>\n",
       "    </tr>\n",
       "    <tr>\n",
       "      <th>I_K</th>\n",
       "      <td>NaN</td>\n",
       "      <td>1.44</td>\n",
       "      <td>0.434459</td>\n",
       "      <td>NaN</td>\n",
       "    </tr>\n",
       "  </tbody>\n",
       "</table>\n",
       "</div>"
      ],
      "text/plain": [
       "                              CL  Rapach         MS  CL_restricted\n",
       "Dividend Price Ratio   -0.380599    0.34  -0.722360      -0.380599\n",
       "Dividend Yield         -0.443628    0.25   0.152974      -0.443628\n",
       "Earnings Price Ratio   -0.367326    0.36  -2.332559      -0.367326\n",
       "Earnings Payout Ratio  -1.472913   -1.42  -2.887096      -1.472913\n",
       "Stock Variance        -10.576979  -12.97 -14.382389     -10.576979\n",
       "Book To Market         -2.552643   -2.60  -5.113345      -2.552643\n",
       "Net Equity Expansion   -0.900847   -0.91  -3.540437      -0.900847\n",
       "Treasury Bill          -1.610106   -2.78  -0.695470      -1.610106\n",
       "Long Term Yield        -2.415471    3.09  -0.289307      -2.415471\n",
       "Long Term Return        0.602016    0.33  -1.113886       0.602016\n",
       "Term Spread            -2.401840   -2.96  -0.274887      -2.401840\n",
       "Default Yield Spread   -2.735281   -2.72  -5.124563      -2.735281\n",
       "Default Return Spread  -1.041505   -1.10  -4.196794      -1.041505\n",
       "Inflation               0.745198   -0.84  -2.230217       0.745198\n",
       "Mean                    3.020009    3.58        NaN       3.020009\n",
       "Median                  2.802575    3.04        NaN       2.802575\n",
       "Trimmed mean            2.939501    3.51        NaN       2.939501\n",
       "DMSPE theta 1           3.219785    3.54        NaN       3.219785\n",
       "DMSPE theta 0.9         4.295913    3.49        NaN       4.295913\n",
       "I_K                          NaN    1.44   0.434459            NaN"
      ]
     },
     "execution_count": 50,
     "metadata": {},
     "output_type": "execute_result"
    }
   ],
   "source": [
    "R2_total = pd.concat([R2_CL, R2_MS, R2_CL_restricted], axis=1)\n",
    "R2_total.loc[['Mean', 'Median', 'Trimmed mean', 'DMSPE theta 1', 'DMSPE theta 0.9'], 'Rapach'] = [3.58, 3.04, 3.51, 3.54, 3.49]\n",
    "R2_total"
   ]
  },
  {
   "cell_type": "code",
   "execution_count": 43,
   "metadata": {},
   "outputs": [],
   "source": [
    "R2_total.to_csv('../../data/linear_prediction_quarterly_R2_total.csv')"
   ]
  }
 ],
 "metadata": {
  "kernelspec": {
   "display_name": "ml_fin",
   "language": "python",
   "name": "python3"
  },
  "language_info": {
   "codemirror_mode": {
    "name": "ipython",
    "version": 3
   },
   "file_extension": ".py",
   "mimetype": "text/x-python",
   "name": "python",
   "nbconvert_exporter": "python",
   "pygments_lexer": "ipython3",
   "version": "3.7.13"
  },
  "orig_nbformat": 4,
  "vscode": {
   "interpreter": {
    "hash": "df1bd20b0aa4676359c3a4e1acc00212aee2b856ad4a02dcab7b28000647db5d"
   }
  }
 },
 "nbformat": 4,
 "nbformat_minor": 2
}
