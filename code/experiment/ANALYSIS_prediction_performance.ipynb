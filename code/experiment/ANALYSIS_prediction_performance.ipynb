{
 "cells": [
  {
   "attachments": {},
   "cell_type": "markdown",
   "metadata": {},
   "source": [
    "# Equity Premium Prediction Analysis\n",
    "\n",
    "This notebook follows the (Rapach 2010) [^1] to implement the prediction performance analysis.\n",
    "\n",
    "[^1]: Rapach, D. E., Strauss, J. K., & Zhou, G. (2010). Out-of-Sample Equity Premium Prediction: Combination Forecasts and Links to the Real Economy. The Review of Financial Studies, 23(2), 821–862. https://doi.org/10.1093/rfs/hhp063\n"
   ]
  },
  {
   "cell_type": "code",
   "execution_count": 29,
   "metadata": {},
   "outputs": [],
   "source": [
    "import pandas as pd\n",
    "import numpy as np\n",
    "import statsmodels.api as sm\n",
    "from datetime import datetime\n",
    "import matplotlib.pyplot as plt\n",
    "import sys\n",
    "sys.path.append('../module')\n",
    "\n",
    "from analysis import get_period_return\n",
    "from analysis import get_oos_r_square,\\\n",
    "                     get_p_value_of_MSPE_adjusted_test,\\\n",
    "                     get_significance_of_MSPE_adjusted_test,\\\n",
    "                     get_utility_gain_from_prediction,\\\n",
    "                     get_significance_of_p_value\n",
    "from data_handler import get_monthly_date_format\n",
    "from data_handler import get_quarterly_date_format\n",
    "from data_handler import get_econ_predictors\n",
    "from IO_handler import post_dataframe_to_latex_table\n",
    "\n",
    "%matplotlib inline"
   ]
  },
  {
   "attachments": {},
   "cell_type": "markdown",
   "metadata": {},
   "source": [
    "In (Rapach 2010), they adopt three measurements to evaluate the performance of the prediction of equity premium.\n",
    "\n",
    "1. [$R^2_{OS}$: out of sample $R^2$](##out-of-sample-$r^2$)\n",
    "2. [MSPE - adjusted statistic: The significance of the $R^2_{OS}$](##mspe-adjusted-test-(mean-squared-prediction-error))\n",
    "3. [$\\Delta$: The utility gain](##the-utility-gain)"
   ]
  },
  {
   "attachments": {},
   "cell_type": "markdown",
   "metadata": {},
   "source": [
    "load prediction results from linear regression (combination)"
   ]
  },
  {
   "cell_type": "code",
   "execution_count": 2,
   "metadata": {},
   "outputs": [],
   "source": [
    "prediction_df = pd.read_csv('../../data/linear_prediction_quarterly.csv', index_col=0, parse_dates=True, date_parser=get_monthly_date_format)\n",
    "equity_premium = prediction_df.pop('Equity Premium')\n",
    "historical_average = prediction_df.pop('Historical Average')"
   ]
  },
  {
   "attachments": {},
   "cell_type": "markdown",
   "metadata": {},
   "source": [
    "## out of sample $R^2$\n",
    "\n",
    "$$\n",
    "\\begin{equation}\n",
    "R_{O S}^2=1-\\frac{\\sum_{k=q_0+1}^q\\left(r_{m+k}-\\hat{r}_{m+k}\\right)^2}{\\sum_{k=q_0+1}^q\\left(r_{m+k}-\\bar{r}_{m+k}\\right)^2}\n",
    "\\end{equation}\n",
    "$$\n",
    "\n",
    "Where $m$ is the size of in sample data and $q_0$ is the origin of the hold out period."
   ]
  },
  {
   "cell_type": "code",
   "execution_count": 3,
   "metadata": {},
   "outputs": [],
   "source": [
    "def get_oos_r_square(y_hat: np.ndarray, y: np.ndarray, y_bar: np.ndarray) -> float:\n",
    "    \"\"\"\n",
    "    This function calculates the out-of-sample R square for a prediction.\n",
    "\n",
    "    Parameters\n",
    "    ----------\n",
    "    y_hat : np.ndarray\n",
    "        Prediction values.\n",
    "    y : np.ndarray\n",
    "        True values.\n",
    "    y_bar : np.ndarray\n",
    "        Historical average.\n",
    "\n",
    "    Returns\n",
    "    -------\n",
    "    float\n",
    "        Out-of-sample R square.\n",
    "    \"\"\"\n",
    "    ss_res = np.sum((y - y_hat) ** 2)\n",
    "    ss_tot = np.sum((y - y_bar) ** 2)\n",
    "    R_2 = 1 - ss_res / ss_tot\n",
    "    R_2_percentage = R_2 * 100\n",
    "\n",
    "    return R_2_percentage"
   ]
  },
  {
   "cell_type": "code",
   "execution_count": 5,
   "metadata": {},
   "outputs": [
    {
     "data": {
      "text/plain": [
       "ivv_elastic    -7.786188\n",
       "ivv_rf        -22.787563\n",
       "dtype: float64"
      ]
     },
     "execution_count": 5,
     "metadata": {},
     "output_type": "execute_result"
    }
   ],
   "source": [
    "R_2_OOS = prediction_ivv.apply(lambda x: get_oos_r_square(y=equity_return_ivv, y_hat=x, y_bar=historical_average_ivv))\n",
    "R_2_OOS"
   ]
  },
  {
   "attachments": {},
   "cell_type": "markdown",
   "metadata": {},
   "source": [
    "## MSPE adjusted test (Mean Squared Prediction Error)\n",
    "\n",
    "We test whether a prediction method is significantly different from the historical average. We follow the statistical test by Clark and West (2007). Rapach (2010) also uses this statistical test method.\n",
    "\n",
    "The null hypothesis is H0: $R_{OS}^2 < 0$\n",
    "\n",
    "The test statistics is:\n",
    "\\begin{equation}\n",
    "f_{t+1}=\\left(r_{t+1}-\\bar{r}_{t+1}\\right)^2-\\left[\\left(r_{t+1}-\\hat{r}_{t+1}\\right)^2-\\left(\\bar{r}_{t+1}-\\hat{r}_{t+1}\\right)^2\\right]\n",
    "\\end{equation}\n",
    "\n",
    "We regress this statistics against a constant and get the one-side p-value."
   ]
  },
  {
   "cell_type": "code",
   "execution_count": 6,
   "metadata": {},
   "outputs": [],
   "source": [
    "def get_p_value_of_MSPE_adjusted_test(y:np.ndarray, y_bar:np.ndarray, y_hat:np.ndarray) -> float:\n",
    "    \"\"\"\n",
    "    \n",
    "    Parameters\n",
    "    ----------\n",
    "    y : np.ndarray (n_samples, 1)\n",
    "    y_bar : np.ndarray (n_samples, 1)\n",
    "    y_hat : np.ndarray (n_samples, 1)\n",
    "\n",
    "    Returns\n",
    "    -------\n",
    "    p_value_of_MSPE_adjusted : float\n",
    "    \"\"\"\n",
    "    F = (y - y_bar) ** 2 - ((y - y_hat) ** 2 - (y_bar - y_hat) ** 2)\n",
    "    dummy = np.ones_like(F)\n",
    "    lm_result = sm.OLS(F, dummy).fit()\n",
    "    p_value = lm_result.pvalues.values[0]\n",
    "\n",
    "    return p_value\n"
   ]
  },
  {
   "cell_type": "code",
   "execution_count": 8,
   "metadata": {},
   "outputs": [
    {
     "data": {
      "text/plain": [
       "ivv_elastic    0.870105\n",
       "ivv_rf         0.607642\n",
       "dtype: float64"
      ]
     },
     "execution_count": 8,
     "metadata": {},
     "output_type": "execute_result"
    }
   ],
   "source": [
    "p_value_ivv = prediction_ivv.apply(lambda x: get_p_value_of_MSPE_adjusted_test(y=equity_return_ivv, y_hat=x, y_bar=historical_average_ivv))\n",
    "p_value_ivv"
   ]
  },
  {
   "cell_type": "code",
   "execution_count": 9,
   "metadata": {},
   "outputs": [
    {
     "data": {
      "text/plain": [
       "ivv_elastic    0.231509\n",
       "ivv_rf         0.938068\n",
       "dtype: float64"
      ]
     },
     "execution_count": 9,
     "metadata": {},
     "output_type": "execute_result"
    }
   ],
   "source": [
    "p_value_ief = prediction_ivv.apply(lambda x: get_p_value_of_MSPE_adjusted_test(y=equity_return_ief, y_hat=x, y_bar=historical_average_ief))\n",
    "p_value_ief"
   ]
  },
  {
   "cell_type": "code",
   "execution_count": 10,
   "metadata": {},
   "outputs": [],
   "source": [
    "def get_significance_of_MSPE_adjusted_test(y:np.ndarray, y_bar:np.ndarray, y_hat:np.ndarray) -> str:\n",
    "    \"\"\"\n",
    "    \n",
    "    Parameters\n",
    "    ----------\n",
    "    y : np.ndarray (n_samples, 1)\n",
    "    y_bar : np.ndarray (n_samples, 1)\n",
    "    y_hat : np.ndarray (n_samples, 1)\n",
    "\n",
    "    Returns\n",
    "    -------\n",
    "    significance_of_MSPE_adjusted : str\n",
    "    \"\"\"\n",
    "\n",
    "    p_value = get_p_value_of_MSPE_adjusted_test(y=y, y_hat=y_hat, y_bar=y_bar)\n",
    "    p_value = round(p_value, ndigits=3)\n",
    "    if p_value >= 0.1:\n",
    "        significance = str(p_value) + ' '\n",
    "    elif p_value > 0.05:\n",
    "        significance = str(p_value) +' *'\n",
    "    elif p_value > 0.01:\n",
    "        significance = str(p_value) +' **'\n",
    "    elif p_value <= 0.01:\n",
    "        significance = str(p_value) +' ***'\n",
    "\n",
    "    return significance"
   ]
  },
  {
   "cell_type": "code",
   "execution_count": 9,
   "metadata": {},
   "outputs": [
    {
     "data": {
      "text/plain": [
       "Dividend Price Ratio     0.756 \n",
       "Dividend Yield           0.701 \n",
       "Earnings Price Ratio     0.845 \n",
       "Earnings Payout Ratio    0.189 \n",
       "Stock Variance            0.35 \n",
       "Book To Market           0.238 \n",
       "Net Equity Expansion     0.417 \n",
       "Treasury Bill            0.555 \n",
       "Long Term Yield          0.365 \n",
       "Long Term Return         0.128 \n",
       "Term Spread              0.834 \n",
       "Default Yield Spread     0.856 \n",
       "Default Return Spread    0.229 \n",
       "Inflation                0.383 \n",
       "Mean                     0.958 \n",
       "Median                   0.968 \n",
       "Trimmed mean             0.969 \n",
       "DMSPE theta 1            0.978 \n",
       "DMSPE theta 0.9          0.394 \n",
       "dtype: object"
      ]
     },
     "execution_count": 9,
     "metadata": {},
     "output_type": "execute_result"
    }
   ],
   "source": [
    "significance = prediction_df.apply(lambda x: get_significance_of_MSPE_adjusted_test(y=equity_premium, y_hat=x, y_bar=historical_average))\n",
    "significance"
   ]
  },
  {
   "attachments": {},
   "cell_type": "markdown",
   "metadata": {},
   "source": [
    "## The Utility Gain\n",
    "\n",
    "We assume a mean-variance investor. He balance his portfolio between stock and risk-free bill monthly. The portfolio weights are decided by the prediction of the equity premium. The portfolio weights are given as\n",
    "\n",
    "\\begin{equation}\n",
    "w_{j, t}=\\left(\\frac{1}{\\gamma}\\right)\\left(\\frac{\\hat{r}_{t+1}}{\\hat{\\sigma}_{t+1}^2}\\right)\n",
    "\\end{equation}\n",
    "\n",
    "This weight is based on the prediction of the stock return and the variance of stock. We use ten years of rolling window for the estimation. This is in line with (Rapach 2010) and Campbell and Thompson (2008). The investor will gain an average utility over out-of-sample period as\n",
    "\n",
    "\\begin{equation}\n",
    "\\hat{v}_0=\\hat{\\mu}_0-\\left(\\frac{1}{2}\\right) \\gamma \\hat{\\sigma}_0^2\n",
    "\\end{equation}\n",
    "\n",
    "To get the monthly portfolio weight we set $\\gamma = 3$"
   ]
  },
  {
   "cell_type": "code",
   "execution_count": 109,
   "metadata": {},
   "outputs": [],
   "source": [
    "def get_utility_gain_from_prediction(START_DATE: str,\n",
    "                                     END_DATE: str,\n",
    "                                     prediction: pd.DataFrame,\n",
    "                                     historical_average: pd.DataFrame,\n",
    "                                     equity_return: pd.DataFrame = None,\n",
    "                                     rolling_window_size: int = 5, # number in year\n",
    "                                     data_frequency: int = 12, # number of observations per year\n",
    "                                     gamma: int = 3) -> float:\n",
    "    \"\"\"\n",
    "    Get utility gain from prediction.\n",
    "    TODO:\n",
    "    -----\n",
    "    1. the calculation of utility gain requires the true return of interested.\n",
    "    2. we need to replace spy equity premium with the true equity return of interested.\n",
    "\n",
    "    Parameters\n",
    "    ----------\n",
    "    START_DATE : str\n",
    "        Start date of the utility gain curve.\n",
    "        Format: YYYY-MM\n",
    "    END_DATE : str\n",
    "        End date of the utility gain curve.\n",
    "        Format: YYYY-MM\n",
    "    rolling_window_size : int, optional\n",
    "        Rolling window size.\n",
    "        Default: 10\n",
    "    data_frequency : int, optional\n",
    "        Data frequency.\n",
    "        Default: 12\n",
    "    gamma : int, optional\n",
    "        Gamma.\n",
    "        Default: 3\n",
    "\n",
    "    Returns\n",
    "    -------\n",
    "    utility_gain : float\n",
    "        Utility gain.\n",
    "    \"\"\"\n",
    "\n",
    "    START_DATE = datetime.strptime(START_DATE, '%Y-%m')\n",
    "    START_DATE = str(START_DATE.year - rolling_window_size) + '-' + str(START_DATE.month)\n",
    "    econ_predictors = get_econ_predictors(START_DATE=START_DATE, END_DATE=END_DATE)\n",
    "    risk_free_bond = econ_predictors['Treasury Bill'] / 100\n",
    "    if equity_return is None:\n",
    "        stock_return = econ_predictors['Equity Premium']\n",
    "    else:\n",
    "        stock_return = equity_return[START_DATE:END_DATE]\n",
    "    portfolio_df = pd.concat([stock_return, risk_free_bond], axis=1).dropna()\n",
    "\n",
    "    sample_varince = portfolio_df.iloc[:, 0].rolling(rolling_window_size * data_frequency - 1).var().dropna()\n",
    "    varince_estimation = sample_varince.shift(1).dropna()\n",
    "\n",
    "    stock_weight_0 = (1 / gamma) * (historical_average / varince_estimation)\n",
    "    stock_weight_0 = stock_weight_0.clip(0, 1.5)\n",
    "    portfolio_weight_0 = pd.concat([stock_weight_0, 1 - stock_weight_0], axis = 1)\n",
    "    w_0 = portfolio_weight_0.values.reshape(-1, 1, 2)\n",
    "\n",
    "    stock_weight_1 = (1 / gamma) * (prediction / varince_estimation)\n",
    "    stock_weight_1 = stock_weight_1.clip(0, 1.5)\n",
    "    portfolio_weight_1 = pd.concat([stock_weight_1, 1 - stock_weight_1], axis = 1)\n",
    "    w_1 = portfolio_weight_1.values.reshape(-1, 1, 2)\n",
    "\n",
    "    return_df = portfolio_df.loc[portfolio_weight_0.index] # need to change\n",
    "    returns = return_df.values.reshape(-1, 2, 1)\n",
    "\n",
    "    portfolio_return_0 = (w_0 @ returns).flatten()\n",
    "    portfolio_return_1 = (w_1 @ returns).flatten()\n",
    "\n",
    "    mu_0 = np.mean(portfolio_return_0)\n",
    "    sigma_0 = np.var(portfolio_return_0)\n",
    "    uitility_0 = mu_0 - 0.5 * gamma * sigma_0\n",
    "\n",
    "    mu_1 = np.mean(portfolio_return_1)\n",
    "    sigma_1 = np.var(portfolio_return_1)\n",
    "    uitility_1 = mu_1 - 0.5 * gamma * sigma_1\n",
    "\n",
    "    utility_gain = uitility_1 - uitility_0\n",
    "    utility_gain_percentage = utility_gain * 100\n",
    "\n",
    "    return utility_gain_percentage"
   ]
  },
  {
   "cell_type": "code",
   "execution_count": 99,
   "metadata": {},
   "outputs": [
    {
     "data": {
      "text/plain": [
       "ief_elastic   -0.103964\n",
       "ief_rf        -0.200901\n",
       "dtype: float64"
      ]
     },
     "execution_count": 99,
     "metadata": {},
     "output_type": "execute_result"
    }
   ],
   "source": [
    "utility_gain_ief = prediction_ief.apply(lambda x: get_utility_gain_from_prediction(START_DATE=prediction_ief.index[0].strftime('%Y-%m'), \n",
    "                                                                                    END_DATE=prediction_ief.index[-1].strftime('%Y-%m'),\n",
    "                                                                                    historical_average=historical_average_ief, \n",
    "                                                                                    prediction=x,\n",
    "                                                                                    equity_return=equity_return_ief))\n",
    "utility_gain_ief"
   ]
  },
  {
   "cell_type": "code",
   "execution_count": 12,
   "metadata": {},
   "outputs": [
    {
     "data": {
      "text/html": [
       "<div>\n",
       "<style scoped>\n",
       "    .dataframe tbody tr th:only-of-type {\n",
       "        vertical-align: middle;\n",
       "    }\n",
       "\n",
       "    .dataframe tbody tr th {\n",
       "        vertical-align: top;\n",
       "    }\n",
       "\n",
       "    .dataframe thead th {\n",
       "        text-align: right;\n",
       "    }\n",
       "</style>\n",
       "<table border=\"1\" class=\"dataframe\">\n",
       "  <thead>\n",
       "    <tr style=\"text-align: right;\">\n",
       "      <th></th>\n",
       "      <th>R2</th>\n",
       "      <th>significance</th>\n",
       "      <th>Utility Gain</th>\n",
       "    </tr>\n",
       "  </thead>\n",
       "  <tbody>\n",
       "    <tr>\n",
       "      <th>Dividend Price Ratio</th>\n",
       "      <td>-5.320067</td>\n",
       "      <td>0.756</td>\n",
       "      <td>-0.210819</td>\n",
       "    </tr>\n",
       "    <tr>\n",
       "      <th>Dividend Yield</th>\n",
       "      <td>-7.202495</td>\n",
       "      <td>0.701</td>\n",
       "      <td>-0.181242</td>\n",
       "    </tr>\n",
       "    <tr>\n",
       "      <th>Earnings Price Ratio</th>\n",
       "      <td>-0.521225</td>\n",
       "      <td>0.845</td>\n",
       "      <td>-0.040984</td>\n",
       "    </tr>\n",
       "    <tr>\n",
       "      <th>Earnings Payout Ratio</th>\n",
       "      <td>-5.026098</td>\n",
       "      <td>0.189</td>\n",
       "      <td>-0.485624</td>\n",
       "    </tr>\n",
       "    <tr>\n",
       "      <th>Stock Variance</th>\n",
       "      <td>-27.288147</td>\n",
       "      <td>0.35</td>\n",
       "      <td>-0.274800</td>\n",
       "    </tr>\n",
       "    <tr>\n",
       "      <th>Book To Market</th>\n",
       "      <td>-2.305251</td>\n",
       "      <td>0.238</td>\n",
       "      <td>-0.369258</td>\n",
       "    </tr>\n",
       "    <tr>\n",
       "      <th>Net Equity Expansion</th>\n",
       "      <td>-0.309303</td>\n",
       "      <td>0.417</td>\n",
       "      <td>-0.116939</td>\n",
       "    </tr>\n",
       "    <tr>\n",
       "      <th>Treasury Bill</th>\n",
       "      <td>-2.549524</td>\n",
       "      <td>0.555</td>\n",
       "      <td>-0.205161</td>\n",
       "    </tr>\n",
       "    <tr>\n",
       "      <th>Long Term Yield</th>\n",
       "      <td>-2.001667</td>\n",
       "      <td>0.365</td>\n",
       "      <td>-0.168449</td>\n",
       "    </tr>\n",
       "    <tr>\n",
       "      <th>Long Term Return</th>\n",
       "      <td>2.858106</td>\n",
       "      <td>0.128</td>\n",
       "      <td>0.454339</td>\n",
       "    </tr>\n",
       "    <tr>\n",
       "      <th>Term Spread</th>\n",
       "      <td>-4.462099</td>\n",
       "      <td>0.834</td>\n",
       "      <td>-0.145696</td>\n",
       "    </tr>\n",
       "    <tr>\n",
       "      <th>Default Yield Spread</th>\n",
       "      <td>-0.272720</td>\n",
       "      <td>0.856</td>\n",
       "      <td>-0.094044</td>\n",
       "    </tr>\n",
       "    <tr>\n",
       "      <th>Default Return Spread</th>\n",
       "      <td>-6.763645</td>\n",
       "      <td>0.229</td>\n",
       "      <td>-0.312424</td>\n",
       "    </tr>\n",
       "    <tr>\n",
       "      <th>Inflation</th>\n",
       "      <td>0.630206</td>\n",
       "      <td>0.383</td>\n",
       "      <td>0.225175</td>\n",
       "    </tr>\n",
       "    <tr>\n",
       "      <th>Mean</th>\n",
       "      <td>-0.242719</td>\n",
       "      <td>0.958</td>\n",
       "      <td>-0.016087</td>\n",
       "    </tr>\n",
       "    <tr>\n",
       "      <th>Median</th>\n",
       "      <td>-0.084508</td>\n",
       "      <td>0.968</td>\n",
       "      <td>-0.005256</td>\n",
       "    </tr>\n",
       "    <tr>\n",
       "      <th>Trimmed mean</th>\n",
       "      <td>-0.156485</td>\n",
       "      <td>0.969</td>\n",
       "      <td>-0.015990</td>\n",
       "    </tr>\n",
       "    <tr>\n",
       "      <th>DMSPE theta 1</th>\n",
       "      <td>-0.232196</td>\n",
       "      <td>0.978</td>\n",
       "      <td>-0.014203</td>\n",
       "    </tr>\n",
       "    <tr>\n",
       "      <th>DMSPE theta 0.9</th>\n",
       "      <td>0.443240</td>\n",
       "      <td>0.394</td>\n",
       "      <td>0.091322</td>\n",
       "    </tr>\n",
       "  </tbody>\n",
       "</table>\n",
       "</div>"
      ],
      "text/plain": [
       "                              R2 significance  Utility Gain\n",
       "Dividend Price Ratio   -5.320067       0.756      -0.210819\n",
       "Dividend Yield         -7.202495       0.701      -0.181242\n",
       "Earnings Price Ratio   -0.521225       0.845      -0.040984\n",
       "Earnings Payout Ratio  -5.026098       0.189      -0.485624\n",
       "Stock Variance        -27.288147        0.35      -0.274800\n",
       "Book To Market         -2.305251       0.238      -0.369258\n",
       "Net Equity Expansion   -0.309303       0.417      -0.116939\n",
       "Treasury Bill          -2.549524       0.555      -0.205161\n",
       "Long Term Yield        -2.001667       0.365      -0.168449\n",
       "Long Term Return        2.858106       0.128       0.454339\n",
       "Term Spread            -4.462099       0.834      -0.145696\n",
       "Default Yield Spread   -0.272720       0.856      -0.094044\n",
       "Default Return Spread  -6.763645       0.229      -0.312424\n",
       "Inflation               0.630206       0.383       0.225175\n",
       "Mean                   -0.242719       0.958      -0.016087\n",
       "Median                 -0.084508       0.968      -0.005256\n",
       "Trimmed mean           -0.156485       0.969      -0.015990\n",
       "DMSPE theta 1          -0.232196       0.978      -0.014203\n",
       "DMSPE theta 0.9         0.443240       0.394       0.091322"
      ]
     },
     "execution_count": 12,
     "metadata": {},
     "output_type": "execute_result"
    }
   ],
   "source": [
    "evaluation_matric_df = pd.concat([R_2_OOS, significance, utility_gain], axis=1)\n",
    "evaluation_matric_df.columns = ['R2', 'significance', 'Utility Gain']\n",
    "evaluation_matric_df"
   ]
  },
  {
   "cell_type": "code",
   "execution_count": 176,
   "metadata": {},
   "outputs": [
    {
     "name": "stdout",
     "output_type": "stream",
     "text": [
      "Save table to:../../table/\n"
     ]
    }
   ],
   "source": [
    "post_dataframe_to_latex_table(evaluation_matric_df, table_name='equity premium out-of-sample forecasting')"
   ]
  },
  {
   "attachments": {},
   "cell_type": "markdown",
   "metadata": {},
   "source": [
    "# Analysis of linear prediction"
   ]
  },
  {
   "attachments": {},
   "cell_type": "markdown",
   "metadata": {},
   "source": [
    "load prediction results from linear regression (combination)"
   ]
  },
  {
   "cell_type": "code",
   "execution_count": 2,
   "metadata": {},
   "outputs": [],
   "source": [
    "prediction_df_ivv = pd.read_csv('../../data/linear_prediction_ivv_2012_2019.csv', index_col=0, parse_dates=True, date_parser=get_monthly_date_format)\n",
    "prediction_df_ief = pd.read_csv('../../data/linear_prediction_ief_2012_2019.csv', index_col=0, parse_dates=True, date_parser=get_monthly_date_format)\n",
    "equity_return_ivv = prediction_df_ivv.pop('Equity Premium')\n",
    "equity_return_ief = prediction_df_ief.pop('Equity Premium')\n",
    "historical_average_ivv = prediction_df_ivv.pop('Historical Average')\n",
    "historical_average_ief = prediction_df_ief.pop('Historical Average')"
   ]
  },
  {
   "attachments": {},
   "cell_type": "markdown",
   "metadata": {},
   "source": [
    "1. R2"
   ]
  },
  {
   "cell_type": "code",
   "execution_count": 3,
   "metadata": {},
   "outputs": [
    {
     "data": {
      "text/plain": [
       "Dividend Price Ratio     0.321484\n",
       "Dividend Yield           1.019365\n",
       "Earnings Price Ratio    -0.725371\n",
       "Earnings Payout Ratio   -0.260041\n",
       "Stock Variance           1.911039\n",
       "Book To Market          -0.877066\n",
       "Net Equity Expansion    -1.739989\n",
       "Treasury Bill            0.328626\n",
       "Long Term Yield          2.761571\n",
       "Long Term Return         0.937281\n",
       "Term Spread             -0.028410\n",
       "Default Yield Spread     0.446151\n",
       "Default Return Spread   -0.172786\n",
       "Inflation               -2.820003\n",
       "Mean                     0.855329\n",
       "Median                   0.322169\n",
       "Trimmed mean             0.655975\n",
       "DMSPE theta 1            0.834393\n",
       "DMSPE theta 0.9          1.072366\n",
       "Name: Linear R2, dtype: float64"
      ]
     },
     "execution_count": 3,
     "metadata": {},
     "output_type": "execute_result"
    }
   ],
   "source": [
    "R_2_OOS_ivv = prediction_df_ivv.apply(lambda x: get_oos_r_square(y=equity_return_ivv, y_hat=x, y_bar=historical_average_ivv))\n",
    "R_2_OOS_ief = prediction_df_ief.apply(lambda x: get_oos_r_square(y=equity_return_ief, y_hat=x, y_bar=historical_average_ief))\n",
    "R_2_OOS = pd.concat([R_2_OOS_ivv, R_2_OOS_ief], axis=1)\n",
    "R_2_OOS = R_2_OOS.mean(axis=1)\n",
    "R_2_OOS.name = 'Linear R2'\n",
    "R_2_OOS"
   ]
  },
  {
   "attachments": {},
   "cell_type": "markdown",
   "metadata": {},
   "source": [
    "2. significance of R2"
   ]
  },
  {
   "cell_type": "code",
   "execution_count": 10,
   "metadata": {},
   "outputs": [
    {
     "data": {
      "text/html": [
       "<div>\n",
       "<style scoped>\n",
       "    .dataframe tbody tr th:only-of-type {\n",
       "        vertical-align: middle;\n",
       "    }\n",
       "\n",
       "    .dataframe tbody tr th {\n",
       "        vertical-align: top;\n",
       "    }\n",
       "\n",
       "    .dataframe thead th {\n",
       "        text-align: right;\n",
       "    }\n",
       "</style>\n",
       "<table border=\"1\" class=\"dataframe\">\n",
       "  <thead>\n",
       "    <tr style=\"text-align: right;\">\n",
       "      <th></th>\n",
       "      <th>Linear Significance</th>\n",
       "    </tr>\n",
       "  </thead>\n",
       "  <tbody>\n",
       "    <tr>\n",
       "      <th>Dividend Price Ratio</th>\n",
       "      <td>0.021 **</td>\n",
       "    </tr>\n",
       "    <tr>\n",
       "      <th>Dividend Yield</th>\n",
       "      <td>0.097 *</td>\n",
       "    </tr>\n",
       "    <tr>\n",
       "      <th>Earnings Price Ratio</th>\n",
       "      <td>0.143</td>\n",
       "    </tr>\n",
       "    <tr>\n",
       "      <th>Earnings Payout Ratio</th>\n",
       "      <td>0.346</td>\n",
       "    </tr>\n",
       "    <tr>\n",
       "      <th>Stock Variance</th>\n",
       "      <td>0.313</td>\n",
       "    </tr>\n",
       "    <tr>\n",
       "      <th>Book To Market</th>\n",
       "      <td>0.586</td>\n",
       "    </tr>\n",
       "    <tr>\n",
       "      <th>Net Equity Expansion</th>\n",
       "      <td>0.654</td>\n",
       "    </tr>\n",
       "    <tr>\n",
       "      <th>Treasury Bill</th>\n",
       "      <td>0.524</td>\n",
       "    </tr>\n",
       "    <tr>\n",
       "      <th>Long Term Yield</th>\n",
       "      <td>0.091 *</td>\n",
       "    </tr>\n",
       "    <tr>\n",
       "      <th>Long Term Return</th>\n",
       "      <td>0.515</td>\n",
       "    </tr>\n",
       "    <tr>\n",
       "      <th>Term Spread</th>\n",
       "      <td>0.825</td>\n",
       "    </tr>\n",
       "    <tr>\n",
       "      <th>Default Yield Spread</th>\n",
       "      <td>0.438</td>\n",
       "    </tr>\n",
       "    <tr>\n",
       "      <th>Default Return Spread</th>\n",
       "      <td>0.28</td>\n",
       "    </tr>\n",
       "    <tr>\n",
       "      <th>Inflation</th>\n",
       "      <td>0.561</td>\n",
       "    </tr>\n",
       "    <tr>\n",
       "      <th>Mean</th>\n",
       "      <td>0.118</td>\n",
       "    </tr>\n",
       "    <tr>\n",
       "      <th>Median</th>\n",
       "      <td>0.266</td>\n",
       "    </tr>\n",
       "    <tr>\n",
       "      <th>Trimmed mean</th>\n",
       "      <td>0.15</td>\n",
       "    </tr>\n",
       "    <tr>\n",
       "      <th>DMSPE theta 1</th>\n",
       "      <td>0.123</td>\n",
       "    </tr>\n",
       "    <tr>\n",
       "      <th>DMSPE theta 0.9</th>\n",
       "      <td>0.056 *</td>\n",
       "    </tr>\n",
       "  </tbody>\n",
       "</table>\n",
       "</div>"
      ],
      "text/plain": [
       "                      Linear Significance\n",
       "Dividend Price Ratio             0.021 **\n",
       "Dividend Yield                    0.097 *\n",
       "Earnings Price Ratio               0.143 \n",
       "Earnings Payout Ratio              0.346 \n",
       "Stock Variance                     0.313 \n",
       "Book To Market                     0.586 \n",
       "Net Equity Expansion               0.654 \n",
       "Treasury Bill                      0.524 \n",
       "Long Term Yield                   0.091 *\n",
       "Long Term Return                   0.515 \n",
       "Term Spread                        0.825 \n",
       "Default Yield Spread               0.438 \n",
       "Default Return Spread               0.28 \n",
       "Inflation                          0.561 \n",
       "Mean                               0.118 \n",
       "Median                             0.266 \n",
       "Trimmed mean                        0.15 \n",
       "DMSPE theta 1                      0.123 \n",
       "DMSPE theta 0.9                   0.056 *"
      ]
     },
     "execution_count": 10,
     "metadata": {},
     "output_type": "execute_result"
    }
   ],
   "source": [
    "p_value_ivv = prediction_df_ivv.apply(lambda x: get_p_value_of_MSPE_adjusted_test(y=equity_return_ivv, y_hat=x, y_bar=historical_average_ivv))\n",
    "p_value_ief = prediction_df_ief.apply(lambda x: get_p_value_of_MSPE_adjusted_test(y=equity_return_ief, y_hat=x, y_bar=historical_average_ief))\n",
    "p_value = pd.concat([p_value_ivv, p_value_ief], axis=1)\n",
    "p_value = p_value.mean(axis=1)\n",
    "significance = {key:get_significance_of_p_value(value) for key, value in p_value.to_dict().items()}\n",
    "significance = pd.DataFrame(significance, index=['Linear Significance']).T\n",
    "significance"
   ]
  },
  {
   "attachments": {},
   "cell_type": "markdown",
   "metadata": {},
   "source": [
    "The utility gain"
   ]
  },
  {
   "cell_type": "code",
   "execution_count": 25,
   "metadata": {},
   "outputs": [],
   "source": [
    "IVV_IEF_daily_ret = pd.read_csv('../../data/IVV_IEF_daily_ret.csv', index_col=0, parse_dates=True)\n",
    "IVV_IEF_monthly_ret = IVV_IEF_daily_ret.groupby(pd.Grouper(freq='M')).apply(get_period_return)\n",
    "IVV_IEF_monthly_ret.index = [get_monthly_date_format(x) for x in IVV_IEF_monthly_ret.index]\n",
    "equity_return_ivv = IVV_IEF_monthly_ret['IVV']\n",
    "equity_return_ief = IVV_IEF_monthly_ret['IEF']"
   ]
  },
  {
   "cell_type": "code",
   "execution_count": 31,
   "metadata": {},
   "outputs": [
    {
     "data": {
      "text/plain": [
       "Dividend Price Ratio     0.006817\n",
       "Dividend Yield           0.025233\n",
       "Earnings Price Ratio    -0.023961\n",
       "Earnings Payout Ratio   -0.012437\n",
       "Stock Variance           0.037661\n",
       "Book To Market           0.020104\n",
       "Net Equity Expansion    -0.144362\n",
       "Treasury Bill            0.031324\n",
       "Long Term Yield          0.088271\n",
       "Long Term Return        -0.010193\n",
       "Term Spread             -0.010767\n",
       "Default Yield Spread     0.022526\n",
       "Default Return Spread    0.009855\n",
       "Inflation               -0.033999\n",
       "Mean                     0.017366\n",
       "Median                   0.013264\n",
       "Trimmed mean             0.013425\n",
       "DMSPE theta 1            0.017247\n",
       "DMSPE theta 0.9          0.018717\n",
       "Name: Linear Utility Gain, dtype: float64"
      ]
     },
     "execution_count": 31,
     "metadata": {},
     "output_type": "execute_result"
    }
   ],
   "source": [
    "utility_gain_ivv = prediction_df_ivv.apply(lambda x: get_utility_gain_from_prediction(START_DATE=prediction_df_ivv.index[0].strftime('%Y-%m'), \n",
    "                                                                                      END_DATE=prediction_df_ivv.index[-1].strftime('%Y-%m'),\n",
    "                                                                                      historical_average=historical_average_ivv, \n",
    "                                                                                      prediction=x,\n",
    "                                                                                      equity_return=equity_return_ivv))\n",
    "utility_gain_ief = prediction_df_ief.apply(lambda x: get_utility_gain_from_prediction(START_DATE=prediction_df_ief.index[0].strftime('%Y-%m'), \n",
    "                                                                                      END_DATE=prediction_df_ief.index[-1].strftime('%Y-%m'),\n",
    "                                                                                      historical_average=historical_average_ief, \n",
    "                                                                                      prediction=x,\n",
    "                                                                                      equity_return=equity_return_ief))\n",
    "utility_gain = pd.concat([utility_gain_ivv, utility_gain_ief], axis=1)\n",
    "utility_gain = utility_gain.mean(axis=1)\n",
    "utility_gain.name = 'Linear Utility Gain'\n",
    "utility_gain"
   ]
  },
  {
   "cell_type": "code",
   "execution_count": 32,
   "metadata": {},
   "outputs": [
    {
     "data": {
      "text/html": [
       "<div>\n",
       "<style scoped>\n",
       "    .dataframe tbody tr th:only-of-type {\n",
       "        vertical-align: middle;\n",
       "    }\n",
       "\n",
       "    .dataframe tbody tr th {\n",
       "        vertical-align: top;\n",
       "    }\n",
       "\n",
       "    .dataframe thead th {\n",
       "        text-align: right;\n",
       "    }\n",
       "</style>\n",
       "<table border=\"1\" class=\"dataframe\">\n",
       "  <thead>\n",
       "    <tr style=\"text-align: right;\">\n",
       "      <th></th>\n",
       "      <th>Linear R2</th>\n",
       "      <th>Linear Significance</th>\n",
       "      <th>Linear Utility Gain</th>\n",
       "    </tr>\n",
       "  </thead>\n",
       "  <tbody>\n",
       "    <tr>\n",
       "      <th>Dividend Price Ratio</th>\n",
       "      <td>0.321484</td>\n",
       "      <td>0.021 **</td>\n",
       "      <td>0.006817</td>\n",
       "    </tr>\n",
       "    <tr>\n",
       "      <th>Dividend Yield</th>\n",
       "      <td>1.019365</td>\n",
       "      <td>0.097 *</td>\n",
       "      <td>0.025233</td>\n",
       "    </tr>\n",
       "    <tr>\n",
       "      <th>Earnings Price Ratio</th>\n",
       "      <td>-0.725371</td>\n",
       "      <td>0.143</td>\n",
       "      <td>-0.023961</td>\n",
       "    </tr>\n",
       "    <tr>\n",
       "      <th>Earnings Payout Ratio</th>\n",
       "      <td>-0.260041</td>\n",
       "      <td>0.346</td>\n",
       "      <td>-0.012437</td>\n",
       "    </tr>\n",
       "    <tr>\n",
       "      <th>Stock Variance</th>\n",
       "      <td>1.911039</td>\n",
       "      <td>0.313</td>\n",
       "      <td>0.037661</td>\n",
       "    </tr>\n",
       "    <tr>\n",
       "      <th>Book To Market</th>\n",
       "      <td>-0.877066</td>\n",
       "      <td>0.586</td>\n",
       "      <td>0.020104</td>\n",
       "    </tr>\n",
       "    <tr>\n",
       "      <th>Net Equity Expansion</th>\n",
       "      <td>-1.739989</td>\n",
       "      <td>0.654</td>\n",
       "      <td>-0.144362</td>\n",
       "    </tr>\n",
       "    <tr>\n",
       "      <th>Treasury Bill</th>\n",
       "      <td>0.328626</td>\n",
       "      <td>0.524</td>\n",
       "      <td>0.031324</td>\n",
       "    </tr>\n",
       "    <tr>\n",
       "      <th>Long Term Yield</th>\n",
       "      <td>2.761571</td>\n",
       "      <td>0.091 *</td>\n",
       "      <td>0.088271</td>\n",
       "    </tr>\n",
       "    <tr>\n",
       "      <th>Long Term Return</th>\n",
       "      <td>0.937281</td>\n",
       "      <td>0.515</td>\n",
       "      <td>-0.010193</td>\n",
       "    </tr>\n",
       "    <tr>\n",
       "      <th>Term Spread</th>\n",
       "      <td>-0.028410</td>\n",
       "      <td>0.825</td>\n",
       "      <td>-0.010767</td>\n",
       "    </tr>\n",
       "    <tr>\n",
       "      <th>Default Yield Spread</th>\n",
       "      <td>0.446151</td>\n",
       "      <td>0.438</td>\n",
       "      <td>0.022526</td>\n",
       "    </tr>\n",
       "    <tr>\n",
       "      <th>Default Return Spread</th>\n",
       "      <td>-0.172786</td>\n",
       "      <td>0.28</td>\n",
       "      <td>0.009855</td>\n",
       "    </tr>\n",
       "    <tr>\n",
       "      <th>Inflation</th>\n",
       "      <td>-2.820003</td>\n",
       "      <td>0.561</td>\n",
       "      <td>-0.033999</td>\n",
       "    </tr>\n",
       "    <tr>\n",
       "      <th>Mean</th>\n",
       "      <td>0.855329</td>\n",
       "      <td>0.118</td>\n",
       "      <td>0.017366</td>\n",
       "    </tr>\n",
       "    <tr>\n",
       "      <th>Median</th>\n",
       "      <td>0.322169</td>\n",
       "      <td>0.266</td>\n",
       "      <td>0.013264</td>\n",
       "    </tr>\n",
       "    <tr>\n",
       "      <th>Trimmed mean</th>\n",
       "      <td>0.655975</td>\n",
       "      <td>0.15</td>\n",
       "      <td>0.013425</td>\n",
       "    </tr>\n",
       "    <tr>\n",
       "      <th>DMSPE theta 1</th>\n",
       "      <td>0.834393</td>\n",
       "      <td>0.123</td>\n",
       "      <td>0.017247</td>\n",
       "    </tr>\n",
       "    <tr>\n",
       "      <th>DMSPE theta 0.9</th>\n",
       "      <td>1.072366</td>\n",
       "      <td>0.056 *</td>\n",
       "      <td>0.018717</td>\n",
       "    </tr>\n",
       "  </tbody>\n",
       "</table>\n",
       "</div>"
      ],
      "text/plain": [
       "                       Linear R2 Linear Significance  Linear Utility Gain\n",
       "Dividend Price Ratio    0.321484            0.021 **             0.006817\n",
       "Dividend Yield          1.019365             0.097 *             0.025233\n",
       "Earnings Price Ratio   -0.725371              0.143             -0.023961\n",
       "Earnings Payout Ratio  -0.260041              0.346             -0.012437\n",
       "Stock Variance          1.911039              0.313              0.037661\n",
       "Book To Market         -0.877066              0.586              0.020104\n",
       "Net Equity Expansion   -1.739989              0.654             -0.144362\n",
       "Treasury Bill           0.328626              0.524              0.031324\n",
       "Long Term Yield         2.761571             0.091 *             0.088271\n",
       "Long Term Return        0.937281              0.515             -0.010193\n",
       "Term Spread            -0.028410              0.825             -0.010767\n",
       "Default Yield Spread    0.446151              0.438              0.022526\n",
       "Default Return Spread  -0.172786               0.28              0.009855\n",
       "Inflation              -2.820003              0.561             -0.033999\n",
       "Mean                    0.855329              0.118              0.017366\n",
       "Median                  0.322169              0.266              0.013264\n",
       "Trimmed mean            0.655975               0.15              0.013425\n",
       "DMSPE theta 1           0.834393              0.123              0.017247\n",
       "DMSPE theta 0.9         1.072366             0.056 *             0.018717"
      ]
     },
     "execution_count": 32,
     "metadata": {},
     "output_type": "execute_result"
    }
   ],
   "source": [
    "evaluation_matric_df = pd.concat([R_2_OOS, significance, utility_gain], axis=1)\n",
    "# evaluation_matric_df.columns = ['R2', 'significance', 'Utility Gain']\n",
    "evaluation_matric_df"
   ]
  },
  {
   "cell_type": "code",
   "execution_count": 33,
   "metadata": {},
   "outputs": [
    {
     "name": "stdout",
     "output_type": "stream",
     "text": [
      "Save table to:../../table/\n"
     ]
    }
   ],
   "source": [
    "post_dataframe_to_latex_table(evaluation_matric_df, table_name='prediction performance of linearly predicting ivv and ief return')"
   ]
  },
  {
   "attachments": {},
   "cell_type": "markdown",
   "metadata": {},
   "source": [
    "# Analysis of ML prediction"
   ]
  },
  {
   "attachments": {},
   "cell_type": "markdown",
   "metadata": {},
   "source": [
    "load ml prediction results"
   ]
  },
  {
   "cell_type": "code",
   "execution_count": 63,
   "metadata": {},
   "outputs": [],
   "source": [
    "prediction_df = pd.read_csv('../../data/prediction_of_equity_return_ivv_ief_ml.csv', \n",
    "                            index_col=0,\n",
    "                            parse_dates=True,\n",
    "                            date_parser=get_monthly_date_format)\n",
    "IVV_IEF_daily_ret = pd.read_csv('../../data/IVV_IEF_daily_ret.csv', index_col=0, parse_dates=True)\n",
    "IVV_IEF_monthly_ret = IVV_IEF_daily_ret.groupby(pd.Grouper(freq='M')).apply(get_period_return)\n",
    "IVV_IEF_monthly_ret.index = [get_monthly_date_format(x) for x in IVV_IEF_monthly_ret.index]\n",
    "equity_return_total_ivv = IVV_IEF_monthly_ret['IVV']\n",
    "equity_return_total_ief = IVV_IEF_monthly_ret['IEF']\n",
    "prediction_ivv = prediction_df[['ivv_elastic', 'ivv_rf']]\n",
    "prediction_ief = prediction_df[['ief_elastic', 'ief_rf']]\n",
    "historical_average_ivv = prediction_df['ivv_average']\n",
    "historical_average_ief = prediction_df['ief_average']\n",
    "equity_return_ivv = prediction_df['ivv_return']\n",
    "equity_return_ief = prediction_df['ief_return']"
   ]
  },
  {
   "attachments": {},
   "cell_type": "markdown",
   "metadata": {},
   "source": [
    "R2"
   ]
  },
  {
   "cell_type": "code",
   "execution_count": 56,
   "metadata": {},
   "outputs": [
    {
     "data": {
      "text/plain": [
       "Elastic Net      -5.538171\n",
       "Random Forest   -19.026376\n",
       "Name: ML R2, dtype: float64"
      ]
     },
     "execution_count": 56,
     "metadata": {},
     "output_type": "execute_result"
    }
   ],
   "source": [
    "R_2_OOS_ief = prediction_ief.apply(lambda x: get_oos_r_square(y=prediction_df['ief_return'], y_hat=x, y_bar=historical_average_ief))\n",
    "R_2_OOS_ivv = prediction_ivv.apply(lambda x: get_oos_r_square(y=prediction_df['ivv_return'], y_hat=x, y_bar=historical_average_ivv))\n",
    "R_2_OOS_ivv.index = ['Elastic Net', 'Random Forest']\n",
    "R_2_OOS_ief.index = ['Elastic Net', 'Random Forest']\n",
    "R_2_OOS = pd.concat([R_2_OOS_ivv, R_2_OOS_ief], axis=1)\n",
    "R_2_OOS = R_2_OOS.mean(axis=1)\n",
    "R_2_OOS.name = 'ML R2'\n",
    "R_2_OOS"
   ]
  },
  {
   "attachments": {},
   "cell_type": "markdown",
   "metadata": {},
   "source": [
    "significance of R2"
   ]
  },
  {
   "cell_type": "code",
   "execution_count": 69,
   "metadata": {},
   "outputs": [
    {
     "data": {
      "text/html": [
       "<div>\n",
       "<style scoped>\n",
       "    .dataframe tbody tr th:only-of-type {\n",
       "        vertical-align: middle;\n",
       "    }\n",
       "\n",
       "    .dataframe tbody tr th {\n",
       "        vertical-align: top;\n",
       "    }\n",
       "\n",
       "    .dataframe thead th {\n",
       "        text-align: right;\n",
       "    }\n",
       "</style>\n",
       "<table border=\"1\" class=\"dataframe\">\n",
       "  <thead>\n",
       "    <tr style=\"text-align: right;\">\n",
       "      <th></th>\n",
       "      <th>ML Significance</th>\n",
       "    </tr>\n",
       "  </thead>\n",
       "  <tbody>\n",
       "    <tr>\n",
       "      <th>Elastic Net</th>\n",
       "      <td>0.847</td>\n",
       "    </tr>\n",
       "    <tr>\n",
       "      <th>Random Forest</th>\n",
       "      <td>0.622</td>\n",
       "    </tr>\n",
       "  </tbody>\n",
       "</table>\n",
       "</div>"
      ],
      "text/plain": [
       "              ML Significance\n",
       "Elastic Net            0.847 \n",
       "Random Forest          0.622 "
      ]
     },
     "execution_count": 69,
     "metadata": {},
     "output_type": "execute_result"
    }
   ],
   "source": [
    "p_value_ivv = prediction_ivv.apply(lambda x: get_p_value_of_MSPE_adjusted_test(y=equity_return_ivv, y_hat=x, y_bar=historical_average_ivv))\n",
    "p_value_ief = prediction_ief.apply(lambda x: get_p_value_of_MSPE_adjusted_test(y=equity_return_ief, y_hat=x, y_bar=historical_average_ief))\n",
    "p_value_ivv.index = ['Elastic Net', 'Random Forest']\n",
    "p_value_ief.index = ['Elastic Net', 'Random Forest']\n",
    "p_value = pd.concat([p_value_ivv, p_value_ief], axis=1)\n",
    "p_value = p_value.mean(axis=1)\n",
    "significance = {key:get_significance_of_p_value(value) for key, value in p_value.to_dict().items()}\n",
    "significance = pd.DataFrame(significance, index=['ML Significance']).T\n",
    "significance"
   ]
  },
  {
   "attachments": {},
   "cell_type": "markdown",
   "metadata": {},
   "source": [
    "The utility gain"
   ]
  },
  {
   "cell_type": "code",
   "execution_count": 72,
   "metadata": {},
   "outputs": [
    {
     "data": {
      "text/plain": [
       "Elastic Net      0.013332\n",
       "Random Forest   -0.102459\n",
       "Name: ML Utility Gain, dtype: float64"
      ]
     },
     "execution_count": 72,
     "metadata": {},
     "output_type": "execute_result"
    }
   ],
   "source": [
    "utility_gain_ief = prediction_ief.apply(lambda x: get_utility_gain_from_prediction(START_DATE=prediction_ief.index[0].strftime('%Y-%m'), \n",
    "                                                                                    END_DATE=prediction_ief.index[-1].strftime('%Y-%m'),\n",
    "                                                                                    historical_average=historical_average_ief, \n",
    "                                                                                    prediction=x,\n",
    "                                                                                    equity_return=equity_return_total_ief))\n",
    "utility_gain_ivv = prediction_ivv.apply(lambda x: get_utility_gain_from_prediction(START_DATE=prediction_ivv.index[0].strftime('%Y-%m'), \n",
    "                                                                                    END_DATE=prediction_ivv.index[-1].strftime('%Y-%m'),\n",
    "                                                                                    historical_average=historical_average_ivv, \n",
    "                                                                                    prediction=x,\n",
    "                                                                                    equity_return=equity_return_total_ivv))\n",
    "utility_gain_ivv.index = ['Elastic Net', 'Random Forest']\n",
    "utility_gain_ief.index = ['Elastic Net', 'Random Forest']\n",
    "utility_gain = pd.concat([utility_gain_ivv, utility_gain_ief], axis=1)\n",
    "utility_gain = utility_gain.mean(axis=1)\n",
    "utility_gain.name = 'ML Utility Gain'\n",
    "utility_gain"
   ]
  },
  {
   "cell_type": "code",
   "execution_count": 73,
   "metadata": {},
   "outputs": [
    {
     "data": {
      "text/html": [
       "<div>\n",
       "<style scoped>\n",
       "    .dataframe tbody tr th:only-of-type {\n",
       "        vertical-align: middle;\n",
       "    }\n",
       "\n",
       "    .dataframe tbody tr th {\n",
       "        vertical-align: top;\n",
       "    }\n",
       "\n",
       "    .dataframe thead th {\n",
       "        text-align: right;\n",
       "    }\n",
       "</style>\n",
       "<table border=\"1\" class=\"dataframe\">\n",
       "  <thead>\n",
       "    <tr style=\"text-align: right;\">\n",
       "      <th></th>\n",
       "      <th>R2</th>\n",
       "      <th>significance</th>\n",
       "      <th>Utility Gain</th>\n",
       "    </tr>\n",
       "  </thead>\n",
       "  <tbody>\n",
       "    <tr>\n",
       "      <th>Elastic Net</th>\n",
       "      <td>-5.538171</td>\n",
       "      <td>0.847</td>\n",
       "      <td>0.013332</td>\n",
       "    </tr>\n",
       "    <tr>\n",
       "      <th>Random Forest</th>\n",
       "      <td>-19.026376</td>\n",
       "      <td>0.622</td>\n",
       "      <td>-0.102459</td>\n",
       "    </tr>\n",
       "  </tbody>\n",
       "</table>\n",
       "</div>"
      ],
      "text/plain": [
       "                      R2 significance  Utility Gain\n",
       "Elastic Net    -5.538171       0.847       0.013332\n",
       "Random Forest -19.026376       0.622      -0.102459"
      ]
     },
     "execution_count": 73,
     "metadata": {},
     "output_type": "execute_result"
    }
   ],
   "source": [
    "evaluation_matric_df = pd.concat([R_2_OOS, significance, utility_gain], axis=1)\n",
    "evaluation_matric_df.columns = ['R2', 'significance', 'Utility Gain']\n",
    "evaluation_matric_df"
   ]
  },
  {
   "cell_type": "code",
   "execution_count": 74,
   "metadata": {},
   "outputs": [
    {
     "name": "stdout",
     "output_type": "stream",
     "text": [
      "Save table to:../../table/\n"
     ]
    }
   ],
   "source": [
    "post_dataframe_to_latex_table(evaluation_matric_df, table_name='prediction performance of ML predicting ivv and ief return')"
   ]
  },
  {
   "attachments": {},
   "cell_type": "markdown",
   "metadata": {},
   "source": [
    "# Analysis of implied expected return"
   ]
  },
  {
   "attachments": {},
   "cell_type": "markdown",
   "metadata": {},
   "source": [
    "load implied expected return"
   ]
  },
  {
   "cell_type": "code",
   "execution_count": 99,
   "metadata": {},
   "outputs": [],
   "source": [
    "implied_return_mktcap = pd.read_csv('../../data/implied_expected_return_MKTCAP.csv', index_col=0, parse_dates=True)\n",
    "implied_return_equal = pd.read_csv('../../data/implied_expected_return_equal.csv', index_col=0, parse_dates=True)\n",
    "\n",
    "implied_return_equal.index = [get_monthly_date_format(x) for x in implied_return_equal.index]\n",
    "implied_return_mktcap.index = [get_monthly_date_format(x) for x in implied_return_mktcap.index]\n",
    "\n",
    "implied_return_total_ivv = pd.concat([implied_return_mktcap['IVV'], implied_return_equal['IVV']], axis=1)\n",
    "implied_return_total_ivv.columns = ['MKTCAP', 'Equal Weight']\n",
    "implied_return_total_ief = pd.concat([implied_return_mktcap['IEF'], implied_return_equal['IEF']], axis=1)\n",
    "implied_return_total_ief.columns = ['MKTCAP', 'Equal Weight']\n",
    "\n",
    "START_DATE = '2007-09'\n",
    "END_DATE = '2019-11'\n",
    "implied_return_ief = implied_return_total_ief[START_DATE:END_DATE]\n",
    "implied_return_ivv = implied_return_total_ivv[START_DATE:END_DATE]"
   ]
  },
  {
   "attachments": {},
   "cell_type": "markdown",
   "metadata": {},
   "source": [
    "R2"
   ]
  },
  {
   "cell_type": "code",
   "execution_count": 114,
   "metadata": {},
   "outputs": [
    {
     "data": {
      "text/plain": [
       "MKTCAP         -2.173875\n",
       "Equal Weight   -2.195446\n",
       "Name: Implied R2, dtype: float64"
      ]
     },
     "execution_count": 114,
     "metadata": {},
     "output_type": "execute_result"
    }
   ],
   "source": [
    "R_2_OOS_ief = implied_return_ief.apply(lambda x: get_oos_r_square(y=equity_return_total_ief[START_DATE:END_DATE], y_hat=x, y_bar=historical_average_ief[START_DATE:END_DATE]))\n",
    "R_2_OOS_ivv = implied_return_ivv.apply(lambda x: get_oos_r_square(y=equity_return_total_ivv[START_DATE:END_DATE], y_hat=x, y_bar=historical_average_ivv[START_DATE:END_DATE]))\n",
    "R_2_OOS_ivv.index = ['MKTCAP', 'Equal Weight']\n",
    "R_2_OOS_ief.index = ['MKTCAP', 'Equal Weight']\n",
    "R_2_OOS = pd.concat([R_2_OOS_ivv, R_2_OOS_ief], axis=1)\n",
    "R_2_OOS = R_2_OOS.mean(axis=1)\n",
    "R_2_OOS.name = 'Implied R2'\n",
    "R_2_OOS"
   ]
  },
  {
   "attachments": {},
   "cell_type": "markdown",
   "metadata": {},
   "source": [
    "Significance of R2"
   ]
  },
  {
   "cell_type": "code",
   "execution_count": 119,
   "metadata": {},
   "outputs": [
    {
     "data": {
      "text/html": [
       "<div>\n",
       "<style scoped>\n",
       "    .dataframe tbody tr th:only-of-type {\n",
       "        vertical-align: middle;\n",
       "    }\n",
       "\n",
       "    .dataframe tbody tr th {\n",
       "        vertical-align: top;\n",
       "    }\n",
       "\n",
       "    .dataframe thead th {\n",
       "        text-align: right;\n",
       "    }\n",
       "</style>\n",
       "<table border=\"1\" class=\"dataframe\">\n",
       "  <thead>\n",
       "    <tr style=\"text-align: right;\">\n",
       "      <th></th>\n",
       "      <th>Implied Significance</th>\n",
       "    </tr>\n",
       "  </thead>\n",
       "  <tbody>\n",
       "    <tr>\n",
       "      <th>MKTCAP</th>\n",
       "      <td>0.701</td>\n",
       "    </tr>\n",
       "    <tr>\n",
       "      <th>Equal Weight</th>\n",
       "      <td>0.693</td>\n",
       "    </tr>\n",
       "  </tbody>\n",
       "</table>\n",
       "</div>"
      ],
      "text/plain": [
       "             Implied Significance\n",
       "MKTCAP                     0.701 \n",
       "Equal Weight               0.693 "
      ]
     },
     "execution_count": 119,
     "metadata": {},
     "output_type": "execute_result"
    }
   ],
   "source": [
    "p_value_ivv = implied_return_ivv.apply(lambda x: get_p_value_of_MSPE_adjusted_test(y=equity_return_total_ivv[START_DATE:END_DATE], y_hat=x, y_bar=historical_average_ivv[START_DATE:END_DATE]))\n",
    "p_value_ief = implied_return_ief.apply(lambda x: get_p_value_of_MSPE_adjusted_test(y=equity_return_total_ief[START_DATE:END_DATE], y_hat=x, y_bar=historical_average_ief[START_DATE:END_DATE]))\n",
    "p_value_ivv.index = ['MKTCAP', 'Equal Weight']\n",
    "p_value_ief.index = ['MKTCAP', 'Equal Weight']\n",
    "p_value = pd.concat([p_value_ivv, p_value_ief], axis=1)\n",
    "p_value = p_value.mean(axis=1)\n",
    "significance = {key:get_significance_of_p_value(value) for key, value in p_value.to_dict().items()}\n",
    "significance = pd.DataFrame(significance, index=['Implied Significance']).T\n",
    "significance"
   ]
  },
  {
   "attachments": {},
   "cell_type": "markdown",
   "metadata": {},
   "source": [
    "The utility gain"
   ]
  },
  {
   "cell_type": "code",
   "execution_count": 120,
   "metadata": {},
   "outputs": [
    {
     "data": {
      "text/plain": [
       "MKTCAP         -0.278634\n",
       "Equal Weight   -0.271653\n",
       "Name: Implied Utility Gain, dtype: float64"
      ]
     },
     "execution_count": 120,
     "metadata": {},
     "output_type": "execute_result"
    }
   ],
   "source": [
    "utility_gain_ief = implied_return_ief.apply(lambda x: get_utility_gain_from_prediction(START_DATE=START_DATE, \n",
    "                                                                                    END_DATE=END_DATE,\n",
    "                                                                                    historical_average=historical_average_ief[START_DATE:END_DATE], \n",
    "                                                                                    prediction=x,\n",
    "                                                                                    equity_return=equity_return_total_ief))\n",
    "utility_gain_ivv = implied_return_ivv.apply(lambda x: get_utility_gain_from_prediction(START_DATE=START_DATE, \n",
    "                                                                                    END_DATE=END_DATE,\n",
    "                                                                                    historical_average=historical_average_ivv[START_DATE:END_DATE], \n",
    "                                                                                    prediction=x,\n",
    "                                                                                    equity_return=equity_return_total_ivv[START_DATE:END_DATE]))\n",
    "utility_gain_ivv.index = ['MKTCAP', 'Equal Weight']\n",
    "utility_gain_ief.index = ['MKTCAP', 'Equal Weight']\n",
    "utility_gain = pd.concat([utility_gain_ivv, utility_gain_ief], axis=1)\n",
    "utility_gain = utility_gain.mean(axis=1)\n",
    "utility_gain.name = 'Implied Utility Gain'\n",
    "utility_gain"
   ]
  },
  {
   "attachments": {},
   "cell_type": "markdown",
   "metadata": {},
   "source": [
    "Output results"
   ]
  },
  {
   "cell_type": "code",
   "execution_count": 121,
   "metadata": {},
   "outputs": [
    {
     "data": {
      "text/html": [
       "<div>\n",
       "<style scoped>\n",
       "    .dataframe tbody tr th:only-of-type {\n",
       "        vertical-align: middle;\n",
       "    }\n",
       "\n",
       "    .dataframe tbody tr th {\n",
       "        vertical-align: top;\n",
       "    }\n",
       "\n",
       "    .dataframe thead th {\n",
       "        text-align: right;\n",
       "    }\n",
       "</style>\n",
       "<table border=\"1\" class=\"dataframe\">\n",
       "  <thead>\n",
       "    <tr style=\"text-align: right;\">\n",
       "      <th></th>\n",
       "      <th>R2</th>\n",
       "      <th>significance</th>\n",
       "      <th>Utility Gain</th>\n",
       "    </tr>\n",
       "  </thead>\n",
       "  <tbody>\n",
       "    <tr>\n",
       "      <th>MKTCAP</th>\n",
       "      <td>-2.173875</td>\n",
       "      <td>0.701</td>\n",
       "      <td>-0.278634</td>\n",
       "    </tr>\n",
       "    <tr>\n",
       "      <th>Equal Weight</th>\n",
       "      <td>-2.195446</td>\n",
       "      <td>0.693</td>\n",
       "      <td>-0.271653</td>\n",
       "    </tr>\n",
       "  </tbody>\n",
       "</table>\n",
       "</div>"
      ],
      "text/plain": [
       "                    R2 significance  Utility Gain\n",
       "MKTCAP       -2.173875       0.701      -0.278634\n",
       "Equal Weight -2.195446       0.693      -0.271653"
      ]
     },
     "execution_count": 121,
     "metadata": {},
     "output_type": "execute_result"
    }
   ],
   "source": [
    "evaluation_matric_df = pd.concat([R_2_OOS, significance, utility_gain], axis=1)\n",
    "evaluation_matric_df.columns = ['R2', 'significance', 'Utility Gain']\n",
    "evaluation_matric_df"
   ]
  },
  {
   "cell_type": "code",
   "execution_count": 122,
   "metadata": {},
   "outputs": [
    {
     "name": "stdout",
     "output_type": "stream",
     "text": [
      "Save table to:../../table/\n"
     ]
    }
   ],
   "source": [
    "post_dataframe_to_latex_table(evaluation_matric_df, table_name='prediction performance of implied return of ivv and ief')"
   ]
  }
 ],
 "metadata": {
  "kernelspec": {
   "display_name": "ml_fin",
   "language": "python",
   "name": "python3"
  },
  "language_info": {
   "codemirror_mode": {
    "name": "ipython",
    "version": 3
   },
   "file_extension": ".py",
   "mimetype": "text/x-python",
   "name": "python",
   "nbconvert_exporter": "python",
   "pygments_lexer": "ipython3",
   "version": "3.7.13"
  },
  "orig_nbformat": 4,
  "vscode": {
   "interpreter": {
    "hash": "df1bd20b0aa4676359c3a4e1acc00212aee2b856ad4a02dcab7b28000647db5d"
   }
  }
 },
 "nbformat": 4,
 "nbformat_minor": 2
}
