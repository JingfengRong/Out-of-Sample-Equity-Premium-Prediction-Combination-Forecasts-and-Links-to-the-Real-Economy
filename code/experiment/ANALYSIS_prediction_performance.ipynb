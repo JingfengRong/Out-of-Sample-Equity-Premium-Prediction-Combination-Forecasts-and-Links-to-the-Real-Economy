{
 "cells": [
  {
   "attachments": {},
   "cell_type": "markdown",
   "metadata": {},
   "source": [
    "# Equity Premium Prediction Analysis\n",
    "\n",
    "This notebook follows the (Rapach 2010) [^1] to implement the prediction performance analysis.\n",
    "\n",
    "[^1]: Rapach, D. E., Strauss, J. K., & Zhou, G. (2010). Out-of-Sample Equity Premium Prediction: Combination Forecasts and Links to the Real Economy. The Review of Financial Studies, 23(2), 821–862. https://doi.org/10.1093/rfs/hhp063\n"
   ]
  },
  {
   "cell_type": "code",
   "execution_count": 2,
   "metadata": {},
   "outputs": [],
   "source": [
    "import pandas as pd\n",
    "import numpy as np\n",
    "import statsmodels.api as sm\n",
    "from datetime import datetime\n",
    "import matplotlib.pyplot as plt\n",
    "import sys\n",
    "sys.path.append('../module')\n",
    "\n",
    "from analysis import get_period_return\n",
    "from analysis import get_oos_r_square,\\\n",
    "                     get_p_value_of_MSPE_adjusted_test,\\\n",
    "                     get_significance_of_MSPE_adjusted_test,\\\n",
    "                     get_utility_gain_from_prediction,\\\n",
    "                     get_significance_of_p_value\n",
    "from data_handler import get_monthly_date_format\n",
    "from data_handler import get_quarterly_date_format\n",
    "from data_handler import get_econ_predictors\n",
    "from IO_handler import post_dataframe_to_latex_table\n",
    "\n",
    "%matplotlib inline"
   ]
  },
  {
   "attachments": {},
   "cell_type": "markdown",
   "metadata": {},
   "source": [
    "In (Rapach 2010), they adopt three measurements to evaluate the performance of the prediction of equity premium.\n",
    "\n",
    "1. [$R^2_{OS}$: out of sample $R^2$](##out-of-sample-$r^2$)\n",
    "2. [MSPE - adjusted statistic: The significance of the $R^2_{OS}$](##mspe-adjusted-test-(mean-squared-prediction-error))\n",
    "3. [$\\Delta$: The utility gain](##the-utility-gain)"
   ]
  },
  {
   "attachments": {},
   "cell_type": "markdown",
   "metadata": {},
   "source": [
    "load prediction results"
   ]
  },
  {
   "cell_type": "code",
   "execution_count": 3,
   "metadata": {},
   "outputs": [],
   "source": [
    "START_DATE = '1965-01'\n",
    "END_DATE = '2005-04'\n",
    "prediction_df = pd.read_csv('../../data/ml_prediction_1947_2005.csv', index_col=0, parse_dates=True, date_parser=get_monthly_date_format)\n",
    "prediction_df = prediction_df.loc[START_DATE:END_DATE]\n",
    "equity_premium = prediction_df.pop('Equity Premium')\n",
    "historical_average = prediction_df.pop('Historical Average')"
   ]
  },
  {
   "attachments": {},
   "cell_type": "markdown",
   "metadata": {},
   "source": [
    "## out of sample $R^2$\n",
    "\n",
    "$$\n",
    "\\begin{equation}\n",
    "R_{O S}^2=1-\\frac{\\sum_{k=q_0+1}^q\\left(r_{m+k}-\\hat{r}_{m+k}\\right)^2}{\\sum_{k=q_0+1}^q\\left(r_{m+k}-\\bar{r}_{m+k}\\right)^2}\n",
    "\\end{equation}\n",
    "$$\n",
    "\n",
    "Where $m$ is the size of in sample data and $q_0$ is the origin of the hold out period."
   ]
  },
  {
   "cell_type": "code",
   "execution_count": 3,
   "metadata": {},
   "outputs": [],
   "source": [
    "def get_oos_r_square(y_hat: np.ndarray, y: np.ndarray, y_bar: np.ndarray) -> float:\n",
    "    \"\"\"\n",
    "    This function calculates the out-of-sample R square for a prediction.\n",
    "\n",
    "    Parameters\n",
    "    ----------\n",
    "    y_hat : np.ndarray\n",
    "        Prediction values.\n",
    "    y : np.ndarray\n",
    "        True values.\n",
    "    y_bar : np.ndarray\n",
    "        Historical average.\n",
    "\n",
    "    Returns\n",
    "    -------\n",
    "    float\n",
    "        Out-of-sample R square.\n",
    "    \"\"\"\n",
    "    ss_res = np.sum((y - y_hat) ** 2)\n",
    "    ss_tot = np.sum((y - y_bar) ** 2)\n",
    "    R_2 = 1 - ss_res / ss_tot\n",
    "    R_2_percentage = R_2 * 100\n",
    "\n",
    "    return R_2_percentage"
   ]
  },
  {
   "cell_type": "code",
   "execution_count": 24,
   "metadata": {},
   "outputs": [
    {
     "data": {
      "text/plain": [
       "Elastic Net       0.078502\n",
       "Random Forest   -10.215775\n",
       "dtype: float64"
      ]
     },
     "execution_count": 24,
     "metadata": {},
     "output_type": "execute_result"
    }
   ],
   "source": [
    "R_2_OOS = prediction_df.apply(lambda x: get_oos_r_square(y=equity_premium, y_hat=x, y_bar=historical_average))\n",
    "R_2_OOS"
   ]
  },
  {
   "attachments": {},
   "cell_type": "markdown",
   "metadata": {},
   "source": [
    "## MSPE adjusted test (Mean Squared Prediction Error)\n",
    "\n",
    "We test whether a prediction method is significantly different from the historical average. We follow the statistical test by Clark and West (2007). Rapach (2010) also uses this statistical test method.\n",
    "\n",
    "The null hypothesis is H0: $R_{OS}^2 < 0$\n",
    "\n",
    "The test statistics is:\n",
    "\\begin{equation}\n",
    "f_{t+1}=\\left(r_{t+1}-\\bar{r}_{t+1}\\right)^2-\\left[\\left(r_{t+1}-\\hat{r}_{t+1}\\right)^2-\\left(\\bar{r}_{t+1}-\\hat{r}_{t+1}\\right)^2\\right]\n",
    "\\end{equation}\n",
    "\n",
    "We regress this statistics against a constant and get the one-side p-value."
   ]
  },
  {
   "cell_type": "code",
   "execution_count": 17,
   "metadata": {},
   "outputs": [],
   "source": [
    "def get_p_value_of_MSPE_adjusted_test(y:np.ndarray, y_bar:np.ndarray, y_hat:np.ndarray) -> float:\n",
    "    \"\"\"\n",
    "    \n",
    "    Parameters\n",
    "    ----------\n",
    "    y : np.ndarray (n_samples, 1)\n",
    "    y_bar : np.ndarray (n_samples, 1)\n",
    "    y_hat : np.ndarray (n_samples, 1)\n",
    "\n",
    "    Returns\n",
    "    -------\n",
    "    p_value_of_MSPE_adjusted : float\n",
    "    \"\"\"\n",
    "    F = (y - y_bar) ** 2 - ((y - y_hat) ** 2 - (y_bar - y_hat) ** 2)\n",
    "    dummy = np.ones_like(F)\n",
    "    lm_result = sm.OLS(F, dummy).fit()\n",
    "    p_value = lm_result.pvalues.values[0]\n",
    "\n",
    "    return p_value\n"
   ]
  },
  {
   "cell_type": "code",
   "execution_count": 25,
   "metadata": {},
   "outputs": [
    {
     "data": {
      "text/plain": [
       "Elastic Net      0.103108\n",
       "Random Forest    0.740081\n",
       "dtype: float64"
      ]
     },
     "execution_count": 25,
     "metadata": {},
     "output_type": "execute_result"
    }
   ],
   "source": [
    "p_value = prediction_df.apply(lambda x: get_p_value_of_MSPE_adjusted_test(y=equity_premium, y_hat=x, y_bar=historical_average))\n",
    "p_value"
   ]
  },
  {
   "cell_type": "code",
   "execution_count": 16,
   "metadata": {},
   "outputs": [],
   "source": [
    "def get_significance_of_MSPE_adjusted_test(y:np.ndarray, y_bar:np.ndarray, y_hat:np.ndarray) -> str:\n",
    "    \"\"\"\n",
    "    \n",
    "    Parameters\n",
    "    ----------\n",
    "    y : np.ndarray (n_samples, 1)\n",
    "    y_bar : np.ndarray (n_samples, 1)\n",
    "    y_hat : np.ndarray (n_samples, 1)\n",
    "\n",
    "    Returns\n",
    "    -------\n",
    "    significance_of_MSPE_adjusted : str\n",
    "    \"\"\"\n",
    "\n",
    "    p_value = get_p_value_of_MSPE_adjusted_test(y=y, y_hat=y_hat, y_bar=y_bar)\n",
    "    p_value = round(p_value, ndigits=3)\n",
    "    if p_value >= 0.1:\n",
    "        significance = str(p_value) + ' '\n",
    "    elif p_value > 0.05:\n",
    "        significance = str(p_value) +' *'\n",
    "    elif p_value > 0.01:\n",
    "        significance = str(p_value) +' **'\n",
    "    elif p_value <= 0.01:\n",
    "        significance = str(p_value) +' ***'\n",
    "\n",
    "    return significance"
   ]
  },
  {
   "cell_type": "code",
   "execution_count": 26,
   "metadata": {},
   "outputs": [
    {
     "data": {
      "text/plain": [
       "Elastic Net      0.103 \n",
       "Random Forest     0.74 \n",
       "dtype: object"
      ]
     },
     "execution_count": 26,
     "metadata": {},
     "output_type": "execute_result"
    }
   ],
   "source": [
    "significance = prediction_df.apply(lambda x: get_significance_of_MSPE_adjusted_test(y=equity_premium, y_hat=x, y_bar=historical_average))\n",
    "significance"
   ]
  },
  {
   "attachments": {},
   "cell_type": "markdown",
   "metadata": {},
   "source": [
    "## The Utility Gain\n",
    "\n",
    "We assume a mean-variance investor. He balance his portfolio between stock and risk-free bill monthly. The portfolio weights are decided by the prediction of the equity premium. The portfolio weights are given as\n",
    "\n",
    "\\begin{equation}\n",
    "w_{j, t}=\\left(\\frac{1}{\\gamma}\\right)\\left(\\frac{\\hat{r}_{t+1}}{\\hat{\\sigma}_{t+1}^2}\\right)\n",
    "\\end{equation}\n",
    "\n",
    "This weight is based on the prediction of the stock return and the variance of stock. We use ten years of rolling window for the estimation. This is in line with (Rapach 2010) and Campbell and Thompson (2008). The investor will gain an average utility over out-of-sample period as\n",
    "\n",
    "\\begin{equation}\n",
    "\\hat{v}_0=\\hat{\\mu}_0-\\left(\\frac{1}{2}\\right) \\gamma \\hat{\\sigma}_0^2\n",
    "\\end{equation}\n",
    "\n",
    "To get the monthly portfolio weight we set $\\gamma = 3$"
   ]
  },
  {
   "cell_type": "code",
   "execution_count": 7,
   "metadata": {},
   "outputs": [],
   "source": [
    "def get_utility_gain_from_prediction(START_DATE: str,\n",
    "                                     END_DATE: str,\n",
    "                                     prediction: pd.DataFrame,\n",
    "                                     historical_average: pd.DataFrame,\n",
    "                                     equity_return: pd.DataFrame = None,\n",
    "                                     rolling_window_size: int = 5, # number in year\n",
    "                                     data_frequency: int = 12, # number of observations per year\n",
    "                                     gamma: int = 3) -> float:\n",
    "    \"\"\"\n",
    "    Get utility gain from prediction.\n",
    "    TODO:\n",
    "    -----\n",
    "    1. the calculation of utility gain requires the true return of interested.\n",
    "    2. we need to replace spy equity premium with the true equity return of interested.\n",
    "\n",
    "    Parameters\n",
    "    ----------\n",
    "    START_DATE : str\n",
    "        Start date of the utility gain curve.\n",
    "        Format: YYYY-MM\n",
    "    END_DATE : str\n",
    "        End date of the utility gain curve.\n",
    "        Format: YYYY-MM\n",
    "    rolling_window_size : int, optional\n",
    "        Rolling window size.\n",
    "        Default: 10\n",
    "    data_frequency : int, optional\n",
    "        Data frequency.\n",
    "        Default: 12\n",
    "    gamma : int, optional\n",
    "        Gamma.\n",
    "        Default: 3\n",
    "\n",
    "    Returns\n",
    "    -------\n",
    "    utility_gain : float\n",
    "        Utility gain.\n",
    "    \"\"\"\n",
    "\n",
    "    START_DATE = datetime.strptime(START_DATE, '%Y-%m')\n",
    "    START_DATE = str(START_DATE.year - rolling_window_size) + '-' + str(START_DATE.month)\n",
    "    data_frequency_dict = {12: 'monthly', 4: 'quarterly', 1: 'yearly'}\n",
    "    econ_predictors = get_econ_predictors(START_DATE=START_DATE, END_DATE=END_DATE, data_freq=data_frequency_dict[data_frequency])\n",
    "    risk_free_bond = econ_predictors['Treasury Bill'] / 100\n",
    "    if equity_return is None:\n",
    "        stock_return = econ_predictors['Equity Premium']\n",
    "    else:\n",
    "        stock_return = equity_return[START_DATE:END_DATE]\n",
    "    portfolio_df = pd.concat([stock_return, risk_free_bond], axis=1).dropna()\n",
    "\n",
    "    sample_varince = portfolio_df.iloc[:, 0].rolling(rolling_window_size * data_frequency - 1).var().dropna()\n",
    "    varince_estimation = sample_varince.shift(1).dropna()\n",
    "\n",
    "    stock_weight_0 = (1 / gamma) * (historical_average / varince_estimation)\n",
    "    stock_weight_0 = stock_weight_0.clip(0, 1.5)\n",
    "    portfolio_weight_0 = pd.concat([stock_weight_0, 1 - stock_weight_0], axis = 1)\n",
    "    w_0 = portfolio_weight_0.values.reshape(-1, 1, 2)\n",
    "\n",
    "    stock_weight_1 = (1 / gamma) * (prediction / varince_estimation)\n",
    "    stock_weight_1 = stock_weight_1.clip(0, 1.5)\n",
    "    portfolio_weight_1 = pd.concat([stock_weight_1, 1 - stock_weight_1], axis = 1)\n",
    "    w_1 = portfolio_weight_1.values.reshape(-1, 1, 2)\n",
    "\n",
    "    return_df = portfolio_df.loc[portfolio_weight_0.index] # need to change\n",
    "    returns = return_df.values.reshape(-1, 2, 1)\n",
    "\n",
    "    portfolio_return_0 = (w_0 @ returns).flatten()\n",
    "    portfolio_return_1 = (w_1 @ returns).flatten()\n",
    "\n",
    "    # annualize the return according to Rapach (2010)\n",
    "    mu_0 = np.mean(portfolio_return_0) * data_frequency\n",
    "    sigma_0 = np.var(portfolio_return_0) * data_frequency\n",
    "    uitility_0 = mu_0 - 0.5 * gamma * sigma_0\n",
    "\n",
    "    mu_1 = np.mean(portfolio_return_1) * data_frequency\n",
    "    sigma_1 = np.var(portfolio_return_1) * data_frequency\n",
    "    uitility_1 = mu_1 - 0.5 * gamma * sigma_1\n",
    "\n",
    "    utility_gain = uitility_1 - uitility_0\n",
    "    utility_gain_percentage = utility_gain * 100\n",
    "\n",
    "    return utility_gain_percentage"
   ]
  },
  {
   "cell_type": "code",
   "execution_count": 27,
   "metadata": {},
   "outputs": [
    {
     "data": {
      "text/plain": [
       "Elastic Net      0.212202\n",
       "Random Forest    0.047908\n",
       "dtype: float64"
      ]
     },
     "execution_count": 27,
     "metadata": {},
     "output_type": "execute_result"
    }
   ],
   "source": [
    "utility_gain = prediction_df.apply(lambda x: get_utility_gain_from_prediction(START_DATE=prediction_df.index[0].strftime('%Y-%m'), \n",
    "                                                                                END_DATE=prediction_df.index[-1].strftime('%Y-%m'),\n",
    "                                                                                historical_average=historical_average, \n",
    "                                                                                prediction=x))\n",
    "utility_gain"
   ]
  },
  {
   "cell_type": "code",
   "execution_count": 28,
   "metadata": {},
   "outputs": [
    {
     "data": {
      "text/html": [
       "<div>\n",
       "<style scoped>\n",
       "    .dataframe tbody tr th:only-of-type {\n",
       "        vertical-align: middle;\n",
       "    }\n",
       "\n",
       "    .dataframe tbody tr th {\n",
       "        vertical-align: top;\n",
       "    }\n",
       "\n",
       "    .dataframe thead th {\n",
       "        text-align: right;\n",
       "    }\n",
       "</style>\n",
       "<table border=\"1\" class=\"dataframe\">\n",
       "  <thead>\n",
       "    <tr style=\"text-align: right;\">\n",
       "      <th></th>\n",
       "      <th>R2</th>\n",
       "      <th>significance</th>\n",
       "      <th>Utility Gain</th>\n",
       "    </tr>\n",
       "  </thead>\n",
       "  <tbody>\n",
       "    <tr>\n",
       "      <th>Elastic Net</th>\n",
       "      <td>0.078502</td>\n",
       "      <td>0.103</td>\n",
       "      <td>0.212202</td>\n",
       "    </tr>\n",
       "    <tr>\n",
       "      <th>Random Forest</th>\n",
       "      <td>-10.215775</td>\n",
       "      <td>0.74</td>\n",
       "      <td>0.047908</td>\n",
       "    </tr>\n",
       "  </tbody>\n",
       "</table>\n",
       "</div>"
      ],
      "text/plain": [
       "                      R2 significance  Utility Gain\n",
       "Elastic Net     0.078502       0.103       0.212202\n",
       "Random Forest -10.215775        0.74       0.047908"
      ]
     },
     "execution_count": 28,
     "metadata": {},
     "output_type": "execute_result"
    }
   ],
   "source": [
    "evaluation_matric_df = pd.concat([R_2_OOS, significance, utility_gain], axis=1)\n",
    "evaluation_matric_df.columns = ['R2', 'significance', 'Utility Gain']\n",
    "evaluation_matric_df"
   ]
  },
  {
   "cell_type": "code",
   "execution_count": 29,
   "metadata": {},
   "outputs": [
    {
     "name": "stdout",
     "output_type": "stream",
     "text": [
      "Save table to:../../table/\n"
     ]
    }
   ],
   "source": [
    "post_dataframe_to_latex_table(evaluation_matric_df, table_name='equity premium out-of-sample ml forecasting performance')"
   ]
  },
  {
   "attachments": {},
   "cell_type": "markdown",
   "metadata": {},
   "source": [
    "# Analysis of linear prediction"
   ]
  },
  {
   "attachments": {},
   "cell_type": "markdown",
   "metadata": {},
   "source": [
    "load prediction results from linear regression (combination)"
   ]
  },
  {
   "cell_type": "code",
   "execution_count": 3,
   "metadata": {},
   "outputs": [],
   "source": [
    "START_DATE = '1965-01'\n",
    "END_DATE = '2005-04'\n",
    "prediction_df = pd.read_csv('../../data/linear_prediction_AG_equity_1947_2005_quarterly.csv', index_col=0, parse_dates=True, date_parser=get_monthly_date_format)\n",
    "prediction_df = prediction_df.loc[START_DATE:END_DATE]\n",
    "equity_premium = prediction_df.pop('Equity Premium')\n",
    "historical_average = prediction_df.pop('Historical Average')"
   ]
  },
  {
   "attachments": {},
   "cell_type": "markdown",
   "metadata": {},
   "source": [
    "1. R2"
   ]
  },
  {
   "cell_type": "code",
   "execution_count": 4,
   "metadata": {},
   "outputs": [
    {
     "data": {
      "text/plain": [
       "Dividend Price Ratio     -0.380599\n",
       "Dividend Yield           -0.443628\n",
       "Earnings Price Ratio     -0.367326\n",
       "Earnings Payout Ratio    -1.472913\n",
       "Stock Variance          -10.576979\n",
       "Book To Market           -2.552643\n",
       "Net Equity Expansion     -0.900847\n",
       "Treasury Bill            -1.610106\n",
       "Long Term Yield          -2.415471\n",
       "Long Term Return          0.602016\n",
       "Term Spread              -2.401840\n",
       "Default Yield Spread     -2.735281\n",
       "Default Return Spread    -1.041505\n",
       "Inflation                 0.745198\n",
       "Mean                      3.020009\n",
       "Median                    2.802575\n",
       "Trimmed mean              2.939501\n",
       "DMSPE theta 1             3.219785\n",
       "DMSPE theta 0.9           4.295913\n",
       "dtype: float64"
      ]
     },
     "execution_count": 4,
     "metadata": {},
     "output_type": "execute_result"
    }
   ],
   "source": [
    "R_2_OOS = prediction_df.apply(lambda x: get_oos_r_square(y=equity_premium, y_hat=x, y_bar=historical_average))\n",
    "R_2_OOS"
   ]
  },
  {
   "cell_type": "code",
   "execution_count": null,
   "metadata": {},
   "outputs": [],
   "source": [
    "R_2_OOS.to_csv('../../data/linear_prediction_quarterly_R2_CL.csv')"
   ]
  },
  {
   "attachments": {},
   "cell_type": "markdown",
   "metadata": {},
   "source": [
    "2. significance of R2"
   ]
  },
  {
   "cell_type": "code",
   "execution_count": 5,
   "metadata": {},
   "outputs": [
    {
     "data": {
      "text/plain": [
       "Dividend Price Ratio         0.32 \n",
       "Dividend Yield              0.279 \n",
       "Earnings Price Ratio        0.672 \n",
       "Earnings Payout Ratio       0.653 \n",
       "Stock Variance            0.042 **\n",
       "Book To Market              0.759 \n",
       "Net Equity Expansion         0.61 \n",
       "Treasury Bill              0.076 *\n",
       "Long Term Yield             0.279 \n",
       "Long Term Return            0.217 \n",
       "Term Spread                0.067 *\n",
       "Default Yield Spread        0.835 \n",
       "Default Return Spread       0.519 \n",
       "Inflation                   0.301 \n",
       "Mean                     0.005 ***\n",
       "Median                     0.0 ***\n",
       "Trimmed mean             0.004 ***\n",
       "DMSPE theta 1            0.005 ***\n",
       "DMSPE theta 0.9          0.001 ***\n",
       "dtype: object"
      ]
     },
     "execution_count": 5,
     "metadata": {},
     "output_type": "execute_result"
    }
   ],
   "source": [
    "significance = prediction_df.apply(lambda x: get_significance_of_MSPE_adjusted_test(y=equity_premium, y_hat=x, y_bar=historical_average))\n",
    "significance"
   ]
  },
  {
   "attachments": {},
   "cell_type": "markdown",
   "metadata": {},
   "source": [
    "The utility gain"
   ]
  },
  {
   "cell_type": "code",
   "execution_count": 8,
   "metadata": {},
   "outputs": [
    {
     "data": {
      "text/plain": [
       "Dividend Price Ratio     0.171461\n",
       "Dividend Yield           0.915673\n",
       "Earnings Price Ratio    -0.616940\n",
       "Earnings Payout Ratio   -0.246982\n",
       "Stock Variance          -0.218425\n",
       "Book To Market          -2.414724\n",
       "Net Equity Expansion     0.028875\n",
       "Treasury Bill            3.132849\n",
       "Long Term Yield          3.048614\n",
       "Long Term Return         1.338872\n",
       "Term Spread              3.056866\n",
       "Default Yield Spread    -0.672800\n",
       "Default Return Spread    0.534705\n",
       "Inflation                2.531710\n",
       "Mean                     3.311734\n",
       "Median                   2.542841\n",
       "Trimmed mean             3.121503\n",
       "DMSPE theta 1            3.417020\n",
       "DMSPE theta 0.9          4.126452\n",
       "dtype: float64"
      ]
     },
     "execution_count": 8,
     "metadata": {},
     "output_type": "execute_result"
    }
   ],
   "source": [
    "utility_gain = prediction_df.apply(lambda x: get_utility_gain_from_prediction(START_DATE=prediction_df.index[0].strftime('%Y-%m'), \n",
    "                                                                                END_DATE=prediction_df.index[-1].strftime('%Y-%m'),\n",
    "                                                                                historical_average=historical_average, \n",
    "                                                                                prediction=x,\n",
    "                                                                                data_frequency=4))\n",
    "utility_gain"
   ]
  },
  {
   "cell_type": "code",
   "execution_count": 9,
   "metadata": {},
   "outputs": [
    {
     "data": {
      "text/html": [
       "<div>\n",
       "<style scoped>\n",
       "    .dataframe tbody tr th:only-of-type {\n",
       "        vertical-align: middle;\n",
       "    }\n",
       "\n",
       "    .dataframe tbody tr th {\n",
       "        vertical-align: top;\n",
       "    }\n",
       "\n",
       "    .dataframe thead th {\n",
       "        text-align: right;\n",
       "    }\n",
       "</style>\n",
       "<table border=\"1\" class=\"dataframe\">\n",
       "  <thead>\n",
       "    <tr style=\"text-align: right;\">\n",
       "      <th></th>\n",
       "      <th>R2</th>\n",
       "      <th>significance</th>\n",
       "      <th>Utility Gain</th>\n",
       "    </tr>\n",
       "  </thead>\n",
       "  <tbody>\n",
       "    <tr>\n",
       "      <th>Dividend Price Ratio</th>\n",
       "      <td>-0.380599</td>\n",
       "      <td>0.32</td>\n",
       "      <td>0.171461</td>\n",
       "    </tr>\n",
       "    <tr>\n",
       "      <th>Dividend Yield</th>\n",
       "      <td>-0.443628</td>\n",
       "      <td>0.279</td>\n",
       "      <td>0.915673</td>\n",
       "    </tr>\n",
       "    <tr>\n",
       "      <th>Earnings Price Ratio</th>\n",
       "      <td>-0.367326</td>\n",
       "      <td>0.672</td>\n",
       "      <td>-0.616940</td>\n",
       "    </tr>\n",
       "    <tr>\n",
       "      <th>Earnings Payout Ratio</th>\n",
       "      <td>-1.472913</td>\n",
       "      <td>0.653</td>\n",
       "      <td>-0.246982</td>\n",
       "    </tr>\n",
       "    <tr>\n",
       "      <th>Stock Variance</th>\n",
       "      <td>-10.576979</td>\n",
       "      <td>0.042 **</td>\n",
       "      <td>-0.218425</td>\n",
       "    </tr>\n",
       "    <tr>\n",
       "      <th>Book To Market</th>\n",
       "      <td>-2.552643</td>\n",
       "      <td>0.759</td>\n",
       "      <td>-2.414724</td>\n",
       "    </tr>\n",
       "    <tr>\n",
       "      <th>Net Equity Expansion</th>\n",
       "      <td>-0.900847</td>\n",
       "      <td>0.61</td>\n",
       "      <td>0.028875</td>\n",
       "    </tr>\n",
       "    <tr>\n",
       "      <th>Treasury Bill</th>\n",
       "      <td>-1.610106</td>\n",
       "      <td>0.076 *</td>\n",
       "      <td>3.132849</td>\n",
       "    </tr>\n",
       "    <tr>\n",
       "      <th>Long Term Yield</th>\n",
       "      <td>-2.415471</td>\n",
       "      <td>0.279</td>\n",
       "      <td>3.048614</td>\n",
       "    </tr>\n",
       "    <tr>\n",
       "      <th>Long Term Return</th>\n",
       "      <td>0.602016</td>\n",
       "      <td>0.217</td>\n",
       "      <td>1.338872</td>\n",
       "    </tr>\n",
       "    <tr>\n",
       "      <th>Term Spread</th>\n",
       "      <td>-2.401840</td>\n",
       "      <td>0.067 *</td>\n",
       "      <td>3.056866</td>\n",
       "    </tr>\n",
       "    <tr>\n",
       "      <th>Default Yield Spread</th>\n",
       "      <td>-2.735281</td>\n",
       "      <td>0.835</td>\n",
       "      <td>-0.672800</td>\n",
       "    </tr>\n",
       "    <tr>\n",
       "      <th>Default Return Spread</th>\n",
       "      <td>-1.041505</td>\n",
       "      <td>0.519</td>\n",
       "      <td>0.534705</td>\n",
       "    </tr>\n",
       "    <tr>\n",
       "      <th>Inflation</th>\n",
       "      <td>0.745198</td>\n",
       "      <td>0.301</td>\n",
       "      <td>2.531710</td>\n",
       "    </tr>\n",
       "    <tr>\n",
       "      <th>Mean</th>\n",
       "      <td>3.020009</td>\n",
       "      <td>0.005 ***</td>\n",
       "      <td>3.311734</td>\n",
       "    </tr>\n",
       "    <tr>\n",
       "      <th>Median</th>\n",
       "      <td>2.802575</td>\n",
       "      <td>0.0 ***</td>\n",
       "      <td>2.542841</td>\n",
       "    </tr>\n",
       "    <tr>\n",
       "      <th>Trimmed mean</th>\n",
       "      <td>2.939501</td>\n",
       "      <td>0.004 ***</td>\n",
       "      <td>3.121503</td>\n",
       "    </tr>\n",
       "    <tr>\n",
       "      <th>DMSPE theta 1</th>\n",
       "      <td>3.219785</td>\n",
       "      <td>0.005 ***</td>\n",
       "      <td>3.417020</td>\n",
       "    </tr>\n",
       "    <tr>\n",
       "      <th>DMSPE theta 0.9</th>\n",
       "      <td>4.295913</td>\n",
       "      <td>0.001 ***</td>\n",
       "      <td>4.126452</td>\n",
       "    </tr>\n",
       "  </tbody>\n",
       "</table>\n",
       "</div>"
      ],
      "text/plain": [
       "                              R2 significance  Utility Gain\n",
       "Dividend Price Ratio   -0.380599        0.32       0.171461\n",
       "Dividend Yield         -0.443628       0.279       0.915673\n",
       "Earnings Price Ratio   -0.367326       0.672      -0.616940\n",
       "Earnings Payout Ratio  -1.472913       0.653      -0.246982\n",
       "Stock Variance        -10.576979     0.042 **     -0.218425\n",
       "Book To Market         -2.552643       0.759      -2.414724\n",
       "Net Equity Expansion   -0.900847        0.61       0.028875\n",
       "Treasury Bill          -1.610106      0.076 *      3.132849\n",
       "Long Term Yield        -2.415471       0.279       3.048614\n",
       "Long Term Return        0.602016       0.217       1.338872\n",
       "Term Spread            -2.401840      0.067 *      3.056866\n",
       "Default Yield Spread   -2.735281       0.835      -0.672800\n",
       "Default Return Spread  -1.041505       0.519       0.534705\n",
       "Inflation               0.745198       0.301       2.531710\n",
       "Mean                    3.020009    0.005 ***      3.311734\n",
       "Median                  2.802575      0.0 ***      2.542841\n",
       "Trimmed mean            2.939501    0.004 ***      3.121503\n",
       "DMSPE theta 1           3.219785    0.005 ***      3.417020\n",
       "DMSPE theta 0.9         4.295913    0.001 ***      4.126452"
      ]
     },
     "execution_count": 9,
     "metadata": {},
     "output_type": "execute_result"
    }
   ],
   "source": [
    "evaluation_matric_df = pd.concat([R_2_OOS, significance, utility_gain], axis=1)\n",
    "evaluation_matric_df.columns = ['R2', 'significance', 'Utility Gain']\n",
    "evaluation_matric_df"
   ]
  },
  {
   "cell_type": "code",
   "execution_count": 37,
   "metadata": {},
   "outputs": [
    {
     "name": "stdout",
     "output_type": "stream",
     "text": [
      "Save table to:../../table/\n"
     ]
    }
   ],
   "source": [
    "post_dataframe_to_latex_table(evaluation_matric_df, table_name='equity premium out-of-sample linear forecasting performance')"
   ]
  },
  {
   "attachments": {},
   "cell_type": "markdown",
   "metadata": {},
   "source": [
    "# Analysis of ML prediction"
   ]
  },
  {
   "attachments": {},
   "cell_type": "markdown",
   "metadata": {},
   "source": [
    "load ml prediction results"
   ]
  },
  {
   "cell_type": "code",
   "execution_count": 63,
   "metadata": {},
   "outputs": [],
   "source": [
    "prediction_df = pd.read_csv('../../data/prediction_of_equity_return_ivv_ief_ml.csv', \n",
    "                            index_col=0,\n",
    "                            parse_dates=True,\n",
    "                            date_parser=get_monthly_date_format)\n",
    "IVV_IEF_daily_ret = pd.read_csv('../../data/IVV_IEF_daily_ret.csv', index_col=0, parse_dates=True)\n",
    "IVV_IEF_monthly_ret = IVV_IEF_daily_ret.groupby(pd.Grouper(freq='M')).apply(get_period_return)\n",
    "IVV_IEF_monthly_ret.index = [get_monthly_date_format(x) for x in IVV_IEF_monthly_ret.index]\n",
    "equity_return_total_ivv = IVV_IEF_monthly_ret['IVV']\n",
    "equity_return_total_ief = IVV_IEF_monthly_ret['IEF']\n",
    "prediction_ivv = prediction_df[['ivv_elastic', 'ivv_rf']]\n",
    "prediction_ief = prediction_df[['ief_elastic', 'ief_rf']]\n",
    "historical_average_ivv = prediction_df['ivv_average']\n",
    "historical_average_ief = prediction_df['ief_average']\n",
    "equity_return_ivv = prediction_df['ivv_return']\n",
    "equity_return_ief = prediction_df['ief_return']"
   ]
  },
  {
   "attachments": {},
   "cell_type": "markdown",
   "metadata": {},
   "source": [
    "R2"
   ]
  },
  {
   "cell_type": "code",
   "execution_count": 56,
   "metadata": {},
   "outputs": [
    {
     "data": {
      "text/plain": [
       "Elastic Net      -5.538171\n",
       "Random Forest   -19.026376\n",
       "Name: ML R2, dtype: float64"
      ]
     },
     "execution_count": 56,
     "metadata": {},
     "output_type": "execute_result"
    }
   ],
   "source": [
    "R_2_OOS_ief = prediction_ief.apply(lambda x: get_oos_r_square(y=prediction_df['ief_return'], y_hat=x, y_bar=historical_average_ief))\n",
    "R_2_OOS_ivv = prediction_ivv.apply(lambda x: get_oos_r_square(y=prediction_df['ivv_return'], y_hat=x, y_bar=historical_average_ivv))\n",
    "R_2_OOS_ivv.index = ['Elastic Net', 'Random Forest']\n",
    "R_2_OOS_ief.index = ['Elastic Net', 'Random Forest']\n",
    "R_2_OOS = pd.concat([R_2_OOS_ivv, R_2_OOS_ief], axis=1)\n",
    "R_2_OOS = R_2_OOS.mean(axis=1)\n",
    "R_2_OOS.name = 'ML R2'\n",
    "R_2_OOS"
   ]
  },
  {
   "attachments": {},
   "cell_type": "markdown",
   "metadata": {},
   "source": [
    "significance of R2"
   ]
  },
  {
   "cell_type": "code",
   "execution_count": 69,
   "metadata": {},
   "outputs": [
    {
     "data": {
      "text/html": [
       "<div>\n",
       "<style scoped>\n",
       "    .dataframe tbody tr th:only-of-type {\n",
       "        vertical-align: middle;\n",
       "    }\n",
       "\n",
       "    .dataframe tbody tr th {\n",
       "        vertical-align: top;\n",
       "    }\n",
       "\n",
       "    .dataframe thead th {\n",
       "        text-align: right;\n",
       "    }\n",
       "</style>\n",
       "<table border=\"1\" class=\"dataframe\">\n",
       "  <thead>\n",
       "    <tr style=\"text-align: right;\">\n",
       "      <th></th>\n",
       "      <th>ML Significance</th>\n",
       "    </tr>\n",
       "  </thead>\n",
       "  <tbody>\n",
       "    <tr>\n",
       "      <th>Elastic Net</th>\n",
       "      <td>0.847</td>\n",
       "    </tr>\n",
       "    <tr>\n",
       "      <th>Random Forest</th>\n",
       "      <td>0.622</td>\n",
       "    </tr>\n",
       "  </tbody>\n",
       "</table>\n",
       "</div>"
      ],
      "text/plain": [
       "              ML Significance\n",
       "Elastic Net            0.847 \n",
       "Random Forest          0.622 "
      ]
     },
     "execution_count": 69,
     "metadata": {},
     "output_type": "execute_result"
    }
   ],
   "source": [
    "p_value_ivv = prediction_ivv.apply(lambda x: get_p_value_of_MSPE_adjusted_test(y=equity_return_ivv, y_hat=x, y_bar=historical_average_ivv))\n",
    "p_value_ief = prediction_ief.apply(lambda x: get_p_value_of_MSPE_adjusted_test(y=equity_return_ief, y_hat=x, y_bar=historical_average_ief))\n",
    "p_value_ivv.index = ['Elastic Net', 'Random Forest']\n",
    "p_value_ief.index = ['Elastic Net', 'Random Forest']\n",
    "p_value = pd.concat([p_value_ivv, p_value_ief], axis=1)\n",
    "p_value = p_value.mean(axis=1)\n",
    "significance = {key:get_significance_of_p_value(value) for key, value in p_value.to_dict().items()}\n",
    "significance = pd.DataFrame(significance, index=['ML Significance']).T\n",
    "significance"
   ]
  },
  {
   "attachments": {},
   "cell_type": "markdown",
   "metadata": {},
   "source": [
    "The utility gain"
   ]
  },
  {
   "cell_type": "code",
   "execution_count": 72,
   "metadata": {},
   "outputs": [
    {
     "data": {
      "text/plain": [
       "Elastic Net      0.013332\n",
       "Random Forest   -0.102459\n",
       "Name: ML Utility Gain, dtype: float64"
      ]
     },
     "execution_count": 72,
     "metadata": {},
     "output_type": "execute_result"
    }
   ],
   "source": [
    "utility_gain_ief = prediction_ief.apply(lambda x: get_utility_gain_from_prediction(START_DATE=prediction_ief.index[0].strftime('%Y-%m'), \n",
    "                                                                                    END_DATE=prediction_ief.index[-1].strftime('%Y-%m'),\n",
    "                                                                                    historical_average=historical_average_ief, \n",
    "                                                                                    prediction=x,\n",
    "                                                                                    equity_return=equity_return_total_ief))\n",
    "utility_gain_ivv = prediction_ivv.apply(lambda x: get_utility_gain_from_prediction(START_DATE=prediction_ivv.index[0].strftime('%Y-%m'), \n",
    "                                                                                    END_DATE=prediction_ivv.index[-1].strftime('%Y-%m'),\n",
    "                                                                                    historical_average=historical_average_ivv, \n",
    "                                                                                    prediction=x,\n",
    "                                                                                    equity_return=equity_return_total_ivv))\n",
    "utility_gain_ivv.index = ['Elastic Net', 'Random Forest']\n",
    "utility_gain_ief.index = ['Elastic Net', 'Random Forest']\n",
    "utility_gain = pd.concat([utility_gain_ivv, utility_gain_ief], axis=1)\n",
    "utility_gain = utility_gain.mean(axis=1)\n",
    "utility_gain.name = 'ML Utility Gain'\n",
    "utility_gain"
   ]
  },
  {
   "cell_type": "code",
   "execution_count": 73,
   "metadata": {},
   "outputs": [
    {
     "data": {
      "text/html": [
       "<div>\n",
       "<style scoped>\n",
       "    .dataframe tbody tr th:only-of-type {\n",
       "        vertical-align: middle;\n",
       "    }\n",
       "\n",
       "    .dataframe tbody tr th {\n",
       "        vertical-align: top;\n",
       "    }\n",
       "\n",
       "    .dataframe thead th {\n",
       "        text-align: right;\n",
       "    }\n",
       "</style>\n",
       "<table border=\"1\" class=\"dataframe\">\n",
       "  <thead>\n",
       "    <tr style=\"text-align: right;\">\n",
       "      <th></th>\n",
       "      <th>R2</th>\n",
       "      <th>significance</th>\n",
       "      <th>Utility Gain</th>\n",
       "    </tr>\n",
       "  </thead>\n",
       "  <tbody>\n",
       "    <tr>\n",
       "      <th>Elastic Net</th>\n",
       "      <td>-5.538171</td>\n",
       "      <td>0.847</td>\n",
       "      <td>0.013332</td>\n",
       "    </tr>\n",
       "    <tr>\n",
       "      <th>Random Forest</th>\n",
       "      <td>-19.026376</td>\n",
       "      <td>0.622</td>\n",
       "      <td>-0.102459</td>\n",
       "    </tr>\n",
       "  </tbody>\n",
       "</table>\n",
       "</div>"
      ],
      "text/plain": [
       "                      R2 significance  Utility Gain\n",
       "Elastic Net    -5.538171       0.847       0.013332\n",
       "Random Forest -19.026376       0.622      -0.102459"
      ]
     },
     "execution_count": 73,
     "metadata": {},
     "output_type": "execute_result"
    }
   ],
   "source": [
    "evaluation_matric_df = pd.concat([R_2_OOS, significance, utility_gain], axis=1)\n",
    "evaluation_matric_df.columns = ['R2', 'significance', 'Utility Gain']\n",
    "evaluation_matric_df"
   ]
  },
  {
   "cell_type": "code",
   "execution_count": 74,
   "metadata": {},
   "outputs": [
    {
     "name": "stdout",
     "output_type": "stream",
     "text": [
      "Save table to:../../table/\n"
     ]
    }
   ],
   "source": [
    "post_dataframe_to_latex_table(evaluation_matric_df, table_name='prediction performance of ML predicting ivv and ief return')"
   ]
  },
  {
   "attachments": {},
   "cell_type": "markdown",
   "metadata": {},
   "source": [
    "# Analysis of implied expected return"
   ]
  },
  {
   "attachments": {},
   "cell_type": "markdown",
   "metadata": {},
   "source": [
    "load implied expected return"
   ]
  },
  {
   "cell_type": "code",
   "execution_count": 25,
   "metadata": {},
   "outputs": [],
   "source": [
    "prediction_df = pd.read_csv('../../data/implied_equity_premium_1947_2005.csv', index_col=0, parse_dates=True)\n",
    "prediction_df.index = [get_monthly_date_format(x) for x in prediction_df.index]\n",
    "prediction_df.columns = ['Equal']\n",
    "\n",
    "START_DATE = '1965-01'\n",
    "END_DATE = '2005-04'\n",
    "prediction_df = prediction_df[START_DATE:END_DATE]"
   ]
  },
  {
   "attachments": {},
   "cell_type": "markdown",
   "metadata": {},
   "source": [
    "R2"
   ]
  },
  {
   "cell_type": "code",
   "execution_count": 26,
   "metadata": {},
   "outputs": [
    {
     "data": {
      "text/plain": [
       "Equal    0.664116\n",
       "dtype: float64"
      ]
     },
     "execution_count": 26,
     "metadata": {},
     "output_type": "execute_result"
    }
   ],
   "source": [
    "R_2_OOS = prediction_df.apply(lambda x: get_oos_r_square(y=equity_premium, y_hat=x, y_bar=historical_average))\n",
    "R_2_OOS"
   ]
  },
  {
   "attachments": {},
   "cell_type": "markdown",
   "metadata": {},
   "source": [
    "Significance of R2"
   ]
  },
  {
   "cell_type": "code",
   "execution_count": 28,
   "metadata": {},
   "outputs": [
    {
     "data": {
      "text/plain": [
       "Equal    0.025 **\n",
       "dtype: object"
      ]
     },
     "execution_count": 28,
     "metadata": {},
     "output_type": "execute_result"
    }
   ],
   "source": [
    "significance = prediction_df.apply(lambda x: get_significance_of_MSPE_adjusted_test(y=equity_premium, y_hat=x, y_bar=historical_average))\n",
    "significance"
   ]
  },
  {
   "attachments": {},
   "cell_type": "markdown",
   "metadata": {},
   "source": [
    "The utility gain"
   ]
  },
  {
   "cell_type": "code",
   "execution_count": 30,
   "metadata": {},
   "outputs": [
    {
     "data": {
      "text/plain": [
       "Equal    1.654718\n",
       "dtype: float64"
      ]
     },
     "execution_count": 30,
     "metadata": {},
     "output_type": "execute_result"
    }
   ],
   "source": [
    "utility_gain = prediction_df.apply(lambda x: get_utility_gain_from_prediction(START_DATE=prediction_df.index[0].strftime('%Y-%m'), \n",
    "                                                                                END_DATE=prediction_df.index[-1].strftime('%Y-%m'),\n",
    "                                                                                historical_average=historical_average, \n",
    "                                                                                prediction=x))\n",
    "utility_gain"
   ]
  },
  {
   "attachments": {},
   "cell_type": "markdown",
   "metadata": {},
   "source": [
    "Output results"
   ]
  },
  {
   "cell_type": "code",
   "execution_count": 31,
   "metadata": {},
   "outputs": [
    {
     "data": {
      "text/html": [
       "<div>\n",
       "<style scoped>\n",
       "    .dataframe tbody tr th:only-of-type {\n",
       "        vertical-align: middle;\n",
       "    }\n",
       "\n",
       "    .dataframe tbody tr th {\n",
       "        vertical-align: top;\n",
       "    }\n",
       "\n",
       "    .dataframe thead th {\n",
       "        text-align: right;\n",
       "    }\n",
       "</style>\n",
       "<table border=\"1\" class=\"dataframe\">\n",
       "  <thead>\n",
       "    <tr style=\"text-align: right;\">\n",
       "      <th></th>\n",
       "      <th>R2</th>\n",
       "      <th>significance</th>\n",
       "      <th>Utility Gain</th>\n",
       "    </tr>\n",
       "  </thead>\n",
       "  <tbody>\n",
       "    <tr>\n",
       "      <th>Equal</th>\n",
       "      <td>0.664116</td>\n",
       "      <td>0.025 **</td>\n",
       "      <td>1.654718</td>\n",
       "    </tr>\n",
       "  </tbody>\n",
       "</table>\n",
       "</div>"
      ],
      "text/plain": [
       "             R2 significance  Utility Gain\n",
       "Equal  0.664116     0.025 **      1.654718"
      ]
     },
     "execution_count": 31,
     "metadata": {},
     "output_type": "execute_result"
    }
   ],
   "source": [
    "evaluation_matric_df = pd.concat([R_2_OOS, significance, utility_gain], axis=1)\n",
    "evaluation_matric_df.columns = ['R2', 'significance', 'Utility Gain']\n",
    "evaluation_matric_df"
   ]
  },
  {
   "cell_type": "code",
   "execution_count": 32,
   "metadata": {},
   "outputs": [
    {
     "name": "stdout",
     "output_type": "stream",
     "text": [
      "Save table to:../../table/\n"
     ]
    }
   ],
   "source": [
    "post_dataframe_to_latex_table(evaluation_matric_df, table_name='prediction performance of implied expected return')"
   ]
  }
 ],
 "metadata": {
  "kernelspec": {
   "display_name": "ml_fin",
   "language": "python",
   "name": "python3"
  },
  "language_info": {
   "codemirror_mode": {
    "name": "ipython",
    "version": 3
   },
   "file_extension": ".py",
   "mimetype": "text/x-python",
   "name": "python",
   "nbconvert_exporter": "python",
   "pygments_lexer": "ipython3",
   "version": "3.7.13"
  },
  "orig_nbformat": 4,
  "vscode": {
   "interpreter": {
    "hash": "df1bd20b0aa4676359c3a4e1acc00212aee2b856ad4a02dcab7b28000647db5d"
   }
  }
 },
 "nbformat": 4,
 "nbformat_minor": 2
}
