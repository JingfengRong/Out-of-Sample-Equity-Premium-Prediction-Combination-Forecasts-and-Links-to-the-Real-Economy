{
 "cells": [
  {
   "attachments": {},
   "cell_type": "markdown",
   "metadata": {},
   "source": [
    "# Equity Premium Prediction Analysis\n",
    "\n",
    "This notebook follows the (Rapach 2010) [^1] to implement the prediction performance analysis.\n",
    "\n",
    "[^1]: Rapach, D. E., Strauss, J. K., & Zhou, G. (2010). Out-of-Sample Equity Premium Prediction: Combination Forecasts and Links to the Real Economy. The Review of Financial Studies, 23(2), 821–862. https://doi.org/10.1093/rfs/hhp063\n"
   ]
  },
  {
   "cell_type": "code",
   "execution_count": 1,
   "metadata": {},
   "outputs": [],
   "source": [
    "import pandas as pd\n",
    "import numpy as np\n",
    "import statsmodels.api as sm\n",
    "from datetime import datetime\n",
    "import matplotlib.pyplot as plt\n",
    "import sys\n",
    "sys.path.append('../module')\n",
    "\n",
    "from analysis import get_period_return\n",
    "from analysis import get_oos_r_square,\\\n",
    "                     get_p_value_of_MSPE_adjusted_test,\\\n",
    "                     get_significance_of_MSPE_adjusted_test,\\\n",
    "                     get_utility_gain_from_prediction,\\\n",
    "                     get_significance_of_p_value\n",
    "from data_handler import get_monthly_date_format\n",
    "from data_handler import get_quarterly_date_format\n",
    "from data_handler import get_econ_predictors\n",
    "from IO_handler import post_dataframe_to_latex_table\n",
    "\n",
    "%matplotlib inline"
   ]
  },
  {
   "attachments": {},
   "cell_type": "markdown",
   "metadata": {},
   "source": [
    "In (Rapach 2010), they adopt three measurements to evaluate the performance of the prediction of equity premium.\n",
    "\n",
    "1. [$R^2_{OS}$: out of sample $R^2$](##out-of-sample-$r^2$)\n",
    "2. [MSPE - adjusted statistic: The significance of the $R^2_{OS}$](##mspe-adjusted-test-(mean-squared-prediction-error))\n",
    "3. [$\\Delta$: The utility gain](##the-utility-gain)"
   ]
  },
  {
   "attachments": {},
   "cell_type": "markdown",
   "metadata": {},
   "source": [
    "load prediction results"
   ]
  },
  {
   "cell_type": "code",
   "execution_count": 2,
   "metadata": {},
   "outputs": [],
   "source": [
    "START_DATE = '1965-01'\n",
    "END_DATE = '2021-12'\n",
    "prediction_df = pd.read_csv('../../data/ml_prediction_1947_2005.csv', index_col=0, parse_dates=True, date_parser=get_monthly_date_format)\n",
    "prediction_df = prediction_df.loc[START_DATE:END_DATE]\n",
    "equity_premium = prediction_df.pop('Equity Premium')\n",
    "historical_average = prediction_df.pop('Historical Average')"
   ]
  },
  {
   "attachments": {},
   "cell_type": "markdown",
   "metadata": {},
   "source": [
    "## out of sample $R^2$\n",
    "\n",
    "$$\n",
    "\\begin{equation}\n",
    "R_{O S}^2=1-\\frac{\\sum_{k=q_0+1}^q\\left(r_{m+k}-\\hat{r}_{m+k}\\right)^2}{\\sum_{k=q_0+1}^q\\left(r_{m+k}-\\bar{r}_{m+k}\\right)^2}\n",
    "\\end{equation}\n",
    "$$\n",
    "\n",
    "Where $m$ is the size of in sample data and $q_0$ is the origin of the hold out period."
   ]
  },
  {
   "cell_type": "code",
   "execution_count": 3,
   "metadata": {},
   "outputs": [],
   "source": [
    "def get_oos_r_square(y_hat: np.ndarray, y: np.ndarray, y_bar: np.ndarray) -> float:\n",
    "    \"\"\"\n",
    "    This function calculates the out-of-sample R square for a prediction.\n",
    "\n",
    "    Parameters\n",
    "    ----------\n",
    "    y_hat : np.ndarray\n",
    "        Prediction values.\n",
    "    y : np.ndarray\n",
    "        True values.\n",
    "    y_bar : np.ndarray\n",
    "        Historical average.\n",
    "\n",
    "    Returns\n",
    "    -------\n",
    "    float\n",
    "        Out-of-sample R square.\n",
    "    \"\"\"\n",
    "    ss_res = np.sum((y - y_hat) ** 2)\n",
    "    ss_tot = np.sum((y - y_bar) ** 2)\n",
    "    R_2 = 1 - ss_res / ss_tot\n",
    "    R_2_percentage = R_2 * 100\n",
    "\n",
    "    return R_2_percentage"
   ]
  },
  {
   "cell_type": "code",
   "execution_count": 8,
   "metadata": {},
   "outputs": [
    {
     "data": {
      "text/plain": [
       "Elastic Net       0.078502\n",
       "Random Forest   -10.215775\n",
       "dtype: float64"
      ]
     },
     "execution_count": 8,
     "metadata": {},
     "output_type": "execute_result"
    }
   ],
   "source": [
    "R_2_OOS = prediction_df.apply(lambda x: get_oos_r_square(y=equity_premium, y_hat=x, y_bar=historical_average))\n",
    "R_2_OOS"
   ]
  },
  {
   "attachments": {},
   "cell_type": "markdown",
   "metadata": {},
   "source": [
    "## MSPE adjusted test (Mean Squared Prediction Error)\n",
    "\n",
    "We test whether a prediction method is significantly different from the historical average. We follow the statistical test by Clark and West (2007). Rapach (2010) also uses this statistical test method.\n",
    "\n",
    "The null hypothesis is H0: $R_{OS}^2 < 0$\n",
    "\n",
    "The test statistics is:\n",
    "\\begin{equation}\n",
    "f_{t+1}=\\left(r_{t+1}-\\bar{r}_{t+1}\\right)^2-\\left[\\left(r_{t+1}-\\hat{r}_{t+1}\\right)^2-\\left(\\bar{r}_{t+1}-\\hat{r}_{t+1}\\right)^2\\right]\n",
    "\\end{equation}\n",
    "\n",
    "We regress this statistics against a constant and get the one-side p-value."
   ]
  },
  {
   "cell_type": "code",
   "execution_count": 22,
   "metadata": {},
   "outputs": [],
   "source": [
    "def get_p_value_of_MSPE_adjusted_test(y:np.ndarray, y_bar:np.ndarray, y_hat:np.ndarray) -> float:\n",
    "    \"\"\"\n",
    "    \n",
    "    Parameters\n",
    "    ----------\n",
    "    y : np.ndarray (n_samples, 1)\n",
    "    y_bar : np.ndarray (n_samples, 1)\n",
    "    y_hat : np.ndarray (n_samples, 1)\n",
    "\n",
    "    Returns\n",
    "    -------\n",
    "    p_value_of_MSPE_adjusted : float\n",
    "    \"\"\"\n",
    "    F = (y - y_bar) ** 2 - ((y - y_hat) ** 2 - (y_bar - y_hat) ** 2)\n",
    "    dummy = np.ones_like(F)\n",
    "    lm_result = sm.OLS(F, dummy).fit()\n",
    "\n",
    "    # one-sided test\n",
    "    beta = lm_result.params[0]\n",
    "    if beta > 0:\n",
    "        p_value = lm_result.pvalues.values[0] / 2\n",
    "    else:\n",
    "        p_value = 1 - lm_result.pvalues.values[0] / 2\n",
    "\n",
    "    return p_value\n"
   ]
  },
  {
   "cell_type": "code",
   "execution_count": 13,
   "metadata": {},
   "outputs": [],
   "source": [
    "y = equity_premium\n",
    "y_bar = historical_average\n",
    "y_hat = prediction_df.iloc[:, 1]"
   ]
  },
  {
   "cell_type": "code",
   "execution_count": 14,
   "metadata": {},
   "outputs": [],
   "source": [
    "F = (y - y_bar) ** 2 - ((y - y_hat) ** 2 - (y_bar - y_hat) ** 2)\n",
    "dummy = np.ones_like(F)\n",
    "lm_result = sm.OLS(F, dummy).fit()\n",
    "p_value = lm_result.pvalues"
   ]
  },
  {
   "cell_type": "code",
   "execution_count": 17,
   "metadata": {},
   "outputs": [
    {
     "data": {
      "text/html": [
       "<table class=\"simpletable\">\n",
       "<caption>OLS Regression Results</caption>\n",
       "<tr>\n",
       "  <th>Dep. Variable:</th>            <td>y</td>        <th>  R-squared:         </th> <td>  -0.000</td>\n",
       "</tr>\n",
       "<tr>\n",
       "  <th>Model:</th>                   <td>OLS</td>       <th>  Adj. R-squared:    </th> <td>  -0.000</td>\n",
       "</tr>\n",
       "<tr>\n",
       "  <th>Method:</th>             <td>Least Squares</td>  <th>  F-statistic:       </th> <td>     nan</td>\n",
       "</tr>\n",
       "<tr>\n",
       "  <th>Date:</th>             <td>Wed, 08 Feb 2023</td> <th>  Prob (F-statistic):</th>  <td>   nan</td> \n",
       "</tr>\n",
       "<tr>\n",
       "  <th>Time:</th>                 <td>17:17:21</td>     <th>  Log-Likelihood:    </th> <td>  2402.3</td>\n",
       "</tr>\n",
       "<tr>\n",
       "  <th>No. Observations:</th>      <td>   484</td>      <th>  AIC:               </th> <td>  -4803.</td>\n",
       "</tr>\n",
       "<tr>\n",
       "  <th>Df Residuals:</th>          <td>   483</td>      <th>  BIC:               </th> <td>  -4798.</td>\n",
       "</tr>\n",
       "<tr>\n",
       "  <th>Df Model:</th>              <td>     0</td>      <th>                     </th>     <td> </td>   \n",
       "</tr>\n",
       "<tr>\n",
       "  <th>Covariance Type:</th>      <td>nonrobust</td>    <th>                     </th>     <td> </td>   \n",
       "</tr>\n",
       "</table>\n",
       "<table class=\"simpletable\">\n",
       "<tr>\n",
       "    <td></td>       <th>coef</th>     <th>std err</th>      <th>t</th>      <th>P>|t|</th>  <th>[0.025</th>    <th>0.975]</th>  \n",
       "</tr>\n",
       "<tr>\n",
       "  <th>const</th> <td> 2.554e-05</td> <td>  7.7e-05</td> <td>    0.332</td> <td> 0.740</td> <td>   -0.000</td> <td>    0.000</td>\n",
       "</tr>\n",
       "</table>\n",
       "<table class=\"simpletable\">\n",
       "<tr>\n",
       "  <th>Omnibus:</th>       <td>315.304</td> <th>  Durbin-Watson:     </th> <td>   1.920</td> \n",
       "</tr>\n",
       "<tr>\n",
       "  <th>Prob(Omnibus):</th> <td> 0.000</td>  <th>  Jarque-Bera (JB):  </th> <td>33155.037</td>\n",
       "</tr>\n",
       "<tr>\n",
       "  <th>Skew:</th>          <td>-1.901</td>  <th>  Prob(JB):          </th> <td>    0.00</td> \n",
       "</tr>\n",
       "<tr>\n",
       "  <th>Kurtosis:</th>      <td>43.368</td>  <th>  Cond. No.          </th> <td>    1.00</td> \n",
       "</tr>\n",
       "</table><br/><br/>Notes:<br/>[1] Standard Errors assume that the covariance matrix of the errors is correctly specified."
      ],
      "text/plain": [
       "<class 'statsmodels.iolib.summary.Summary'>\n",
       "\"\"\"\n",
       "                            OLS Regression Results                            \n",
       "==============================================================================\n",
       "Dep. Variable:                      y   R-squared:                      -0.000\n",
       "Model:                            OLS   Adj. R-squared:                 -0.000\n",
       "Method:                 Least Squares   F-statistic:                       nan\n",
       "Date:                Wed, 08 Feb 2023   Prob (F-statistic):                nan\n",
       "Time:                        17:17:21   Log-Likelihood:                 2402.3\n",
       "No. Observations:                 484   AIC:                            -4803.\n",
       "Df Residuals:                     483   BIC:                            -4798.\n",
       "Df Model:                           0                                         \n",
       "Covariance Type:            nonrobust                                         \n",
       "==============================================================================\n",
       "                 coef    std err          t      P>|t|      [0.025      0.975]\n",
       "------------------------------------------------------------------------------\n",
       "const       2.554e-05    7.7e-05      0.332      0.740      -0.000       0.000\n",
       "==============================================================================\n",
       "Omnibus:                      315.304   Durbin-Watson:                   1.920\n",
       "Prob(Omnibus):                  0.000   Jarque-Bera (JB):            33155.037\n",
       "Skew:                          -1.901   Prob(JB):                         0.00\n",
       "Kurtosis:                      43.368   Cond. No.                         1.00\n",
       "==============================================================================\n",
       "\n",
       "Notes:\n",
       "[1] Standard Errors assume that the covariance matrix of the errors is correctly specified.\n",
       "\"\"\""
      ]
     },
     "execution_count": 17,
     "metadata": {},
     "output_type": "execute_result"
    }
   ],
   "source": [
    "lm_result.summary()"
   ]
  },
  {
   "cell_type": "code",
   "execution_count": 21,
   "metadata": {},
   "outputs": [
    {
     "data": {
      "text/plain": [
       "2.554257314032056e-05"
      ]
     },
     "execution_count": 21,
     "metadata": {},
     "output_type": "execute_result"
    }
   ],
   "source": [
    "lm_result.params"
   ]
  },
  {
   "cell_type": "code",
   "execution_count": 25,
   "metadata": {},
   "outputs": [
    {
     "data": {
      "text/plain": [
       "Elastic Net      0.103108\n",
       "Random Forest    0.740081\n",
       "dtype: float64"
      ]
     },
     "execution_count": 25,
     "metadata": {},
     "output_type": "execute_result"
    }
   ],
   "source": [
    "p_value = prediction_df.apply(lambda x: get_p_value_of_MSPE_adjusted_test(y=equity_premium, y_hat=x, y_bar=historical_average))\n",
    "p_value"
   ]
  },
  {
   "cell_type": "code",
   "execution_count": 26,
   "metadata": {},
   "outputs": [],
   "source": [
    "def get_significance_of_MSPE_adjusted_test(y:np.ndarray, y_bar:np.ndarray, y_hat:np.ndarray) -> str:\n",
    "    \"\"\"\n",
    "    \n",
    "    Parameters\n",
    "    ----------\n",
    "    y : np.ndarray (n_samples, 1)\n",
    "    y_bar : np.ndarray (n_samples, 1)\n",
    "    y_hat : np.ndarray (n_samples, 1)\n",
    "\n",
    "    Returns\n",
    "    -------\n",
    "    significance_of_MSPE_adjusted : str\n",
    "    \"\"\"\n",
    "\n",
    "    p_value = get_p_value_of_MSPE_adjusted_test(y=y, y_hat=y_hat, y_bar=y_bar)\n",
    "    p_value = round(p_value, ndigits=3)\n",
    "    if p_value >= 0.1:\n",
    "        significance = str(p_value) + ' '\n",
    "    elif p_value > 0.05:\n",
    "        significance = str(p_value) +' *'\n",
    "    elif p_value > 0.01:\n",
    "        significance = str(p_value) +' **'\n",
    "    elif p_value <= 0.01:\n",
    "        significance = str(p_value) +' ***'\n",
    "\n",
    "    return significance"
   ]
  },
  {
   "cell_type": "code",
   "execution_count": 26,
   "metadata": {},
   "outputs": [
    {
     "data": {
      "text/plain": [
       "Elastic Net      0.103 \n",
       "Random Forest     0.74 \n",
       "dtype: object"
      ]
     },
     "execution_count": 26,
     "metadata": {},
     "output_type": "execute_result"
    }
   ],
   "source": [
    "significance = prediction_df.apply(lambda x: get_significance_of_MSPE_adjusted_test(y=equity_premium, y_hat=x, y_bar=historical_average))\n",
    "significance"
   ]
  },
  {
   "attachments": {},
   "cell_type": "markdown",
   "metadata": {},
   "source": [
    "## The Utility Gain\n",
    "\n",
    "We assume a mean-variance investor. He balance his portfolio between stock and risk-free bill monthly. The portfolio weights are decided by the prediction of the equity premium. The portfolio weights are given as\n",
    "\n",
    "\\begin{equation}\n",
    "w_{j, t}=\\left(\\frac{1}{\\gamma}\\right)\\left(\\frac{\\hat{r}_{t+1}}{\\hat{\\sigma}_{t+1}^2}\\right)\n",
    "\\end{equation}\n",
    "\n",
    "This weight is based on the prediction of the stock return and the variance of stock. We use ten years of rolling window for the estimation. This is in line with (Rapach 2010) and Campbell and Thompson (2008). The investor will gain an average utility over out-of-sample period as\n",
    "\n",
    "\\begin{equation}\n",
    "\\hat{v}_0=\\hat{\\mu}_0-\\left(\\frac{1}{2}\\right) \\gamma \\hat{\\sigma}_0^2\n",
    "\\end{equation}\n",
    "\n",
    "To get the monthly portfolio weight we set $\\gamma = 3$"
   ]
  },
  {
   "cell_type": "code",
   "execution_count": 7,
   "metadata": {},
   "outputs": [],
   "source": [
    "def get_utility_gain_from_prediction(START_DATE: str,\n",
    "                                     END_DATE: str,\n",
    "                                     prediction: pd.DataFrame,\n",
    "                                     historical_average: pd.DataFrame,\n",
    "                                     equity_return: pd.DataFrame = None,\n",
    "                                     rolling_window_size: int = 5, # number in year\n",
    "                                     data_frequency: int = 12, # number of observations per year\n",
    "                                     gamma: int = 3) -> float:\n",
    "    \"\"\"\n",
    "    Get utility gain from prediction.\n",
    "    TODO:\n",
    "    -----\n",
    "    1. the calculation of utility gain requires the true return of interested.\n",
    "    2. we need to replace spy equity premium with the true equity return of interested.\n",
    "\n",
    "    Parameters\n",
    "    ----------\n",
    "    START_DATE : str\n",
    "        Start date of the utility gain curve.\n",
    "        Format: YYYY-MM\n",
    "    END_DATE : str\n",
    "        End date of the utility gain curve.\n",
    "        Format: YYYY-MM\n",
    "    rolling_window_size : int, optional\n",
    "        Rolling window size.\n",
    "        Default: 10\n",
    "    data_frequency : int, optional\n",
    "        Data frequency.\n",
    "        Default: 12\n",
    "    gamma : int, optional\n",
    "        Gamma.\n",
    "        Default: 3\n",
    "\n",
    "    Returns\n",
    "    -------\n",
    "    utility_gain : float\n",
    "        Utility gain.\n",
    "    \"\"\"\n",
    "\n",
    "    START_DATE = datetime.strptime(START_DATE, '%Y-%m')\n",
    "    START_DATE = str(START_DATE.year - rolling_window_size) + '-' + str(START_DATE.month)\n",
    "    data_frequency_dict = {12: 'monthly', 4: 'quarterly', 1: 'yearly'}\n",
    "    econ_predictors = get_econ_predictors(START_DATE=START_DATE, END_DATE=END_DATE, data_freq=data_frequency_dict[data_frequency])\n",
    "    risk_free_bond = econ_predictors['Treasury Bill'] / 100\n",
    "    if equity_return is None:\n",
    "        stock_return = econ_predictors['Equity Premium']\n",
    "    else:\n",
    "        stock_return = equity_return[START_DATE:END_DATE]\n",
    "    portfolio_df = pd.concat([stock_return, risk_free_bond], axis=1).dropna()\n",
    "\n",
    "    sample_varince = portfolio_df.iloc[:, 0].rolling(rolling_window_size * data_frequency - 1).var().dropna()\n",
    "    varince_estimation = sample_varince.shift(1).dropna()\n",
    "\n",
    "    stock_weight_0 = (1 / gamma) * (historical_average / varince_estimation)\n",
    "    stock_weight_0 = stock_weight_0.clip(0, 1.5)\n",
    "    portfolio_weight_0 = pd.concat([stock_weight_0, 1 - stock_weight_0], axis = 1)\n",
    "    w_0 = portfolio_weight_0.values.reshape(-1, 1, 2)\n",
    "\n",
    "    stock_weight_1 = (1 / gamma) * (prediction / varince_estimation)\n",
    "    stock_weight_1 = stock_weight_1.clip(0, 1.5)\n",
    "    portfolio_weight_1 = pd.concat([stock_weight_1, 1 - stock_weight_1], axis = 1)\n",
    "    w_1 = portfolio_weight_1.values.reshape(-1, 1, 2)\n",
    "\n",
    "    return_df = portfolio_df.loc[portfolio_weight_0.index] # need to change\n",
    "    returns = return_df.values.reshape(-1, 2, 1)\n",
    "\n",
    "    portfolio_return_0 = (w_0 @ returns).flatten()\n",
    "    portfolio_return_1 = (w_1 @ returns).flatten()\n",
    "\n",
    "    # annualize the return according to Rapach (2010)\n",
    "    mu_0 = np.mean(portfolio_return_0) * data_frequency\n",
    "    sigma_0 = np.var(portfolio_return_0) * data_frequency\n",
    "    uitility_0 = mu_0 - 0.5 * gamma * sigma_0\n",
    "\n",
    "    mu_1 = np.mean(portfolio_return_1) * data_frequency\n",
    "    sigma_1 = np.var(portfolio_return_1) * data_frequency\n",
    "    uitility_1 = mu_1 - 0.5 * gamma * sigma_1\n",
    "\n",
    "    utility_gain = uitility_1 - uitility_0\n",
    "    utility_gain_percentage = utility_gain * 100\n",
    "\n",
    "    return utility_gain_percentage"
   ]
  },
  {
   "cell_type": "code",
   "execution_count": 27,
   "metadata": {},
   "outputs": [
    {
     "data": {
      "text/plain": [
       "Elastic Net      0.212202\n",
       "Random Forest    0.047908\n",
       "dtype: float64"
      ]
     },
     "execution_count": 27,
     "metadata": {},
     "output_type": "execute_result"
    }
   ],
   "source": [
    "utility_gain = prediction_df.apply(lambda x: get_utility_gain_from_prediction(START_DATE=prediction_df.index[0].strftime('%Y-%m'), \n",
    "                                                                                END_DATE=prediction_df.index[-1].strftime('%Y-%m'),\n",
    "                                                                                historical_average=historical_average, \n",
    "                                                                                prediction=x))\n",
    "utility_gain"
   ]
  },
  {
   "cell_type": "code",
   "execution_count": 28,
   "metadata": {},
   "outputs": [
    {
     "data": {
      "text/html": [
       "<div>\n",
       "<style scoped>\n",
       "    .dataframe tbody tr th:only-of-type {\n",
       "        vertical-align: middle;\n",
       "    }\n",
       "\n",
       "    .dataframe tbody tr th {\n",
       "        vertical-align: top;\n",
       "    }\n",
       "\n",
       "    .dataframe thead th {\n",
       "        text-align: right;\n",
       "    }\n",
       "</style>\n",
       "<table border=\"1\" class=\"dataframe\">\n",
       "  <thead>\n",
       "    <tr style=\"text-align: right;\">\n",
       "      <th></th>\n",
       "      <th>R2</th>\n",
       "      <th>significance</th>\n",
       "      <th>Utility Gain</th>\n",
       "    </tr>\n",
       "  </thead>\n",
       "  <tbody>\n",
       "    <tr>\n",
       "      <th>Elastic Net</th>\n",
       "      <td>0.078502</td>\n",
       "      <td>0.103</td>\n",
       "      <td>0.212202</td>\n",
       "    </tr>\n",
       "    <tr>\n",
       "      <th>Random Forest</th>\n",
       "      <td>-10.215775</td>\n",
       "      <td>0.74</td>\n",
       "      <td>0.047908</td>\n",
       "    </tr>\n",
       "  </tbody>\n",
       "</table>\n",
       "</div>"
      ],
      "text/plain": [
       "                      R2 significance  Utility Gain\n",
       "Elastic Net     0.078502       0.103       0.212202\n",
       "Random Forest -10.215775        0.74       0.047908"
      ]
     },
     "execution_count": 28,
     "metadata": {},
     "output_type": "execute_result"
    }
   ],
   "source": [
    "evaluation_matric_df = pd.concat([R_2_OOS, significance, utility_gain], axis=1)\n",
    "evaluation_matric_df.columns = ['R2', 'significance', 'Utility Gain']\n",
    "evaluation_matric_df"
   ]
  },
  {
   "cell_type": "code",
   "execution_count": 29,
   "metadata": {},
   "outputs": [
    {
     "name": "stdout",
     "output_type": "stream",
     "text": [
      "Save table to:../../table/\n"
     ]
    }
   ],
   "source": [
    "post_dataframe_to_latex_table(evaluation_matric_df, table_name='equity premium out-of-sample ml forecasting performance')"
   ]
  },
  {
   "attachments": {},
   "cell_type": "markdown",
   "metadata": {},
   "source": [
    "# Analysis of linear prediction"
   ]
  },
  {
   "attachments": {},
   "cell_type": "markdown",
   "metadata": {},
   "source": [
    "load prediction results from linear regression (combination)"
   ]
  },
  {
   "cell_type": "code",
   "execution_count": 4,
   "metadata": {},
   "outputs": [],
   "source": [
    "prediction_df = pd.read_csv('../../data/prediction_linear_quarterly_1947_1965_2021.csv', index_col=0, parse_dates=True, date_parser=get_monthly_date_format)\n",
    "START_DATE = '1965-01'\n",
    "END_DATE = '2021-12'\n",
    "prediction_df = prediction_df.loc[START_DATE:END_DATE]\n",
    "equity_premium = prediction_df.pop('Equity Premium')\n",
    "historical_average = prediction_df.pop('Historical Average')"
   ]
  },
  {
   "attachments": {},
   "cell_type": "markdown",
   "metadata": {},
   "source": [
    "1. R2"
   ]
  },
  {
   "cell_type": "code",
   "execution_count": 23,
   "metadata": {},
   "outputs": [
    {
     "data": {
      "text/plain": [
       "Dividend Price Ratio    -0.244020\n",
       "Dividend Yield          -0.365329\n",
       "Earnings Price Ratio    -1.815205\n",
       "Earnings Payout Ratio   -1.513486\n",
       "Stock Variance          -6.280336\n",
       "Book To Market          -0.777498\n",
       "Net Equity Expansion    -3.776034\n",
       "Treasury Bill            1.758113\n",
       "Long Term Yield          2.555522\n",
       "Long Term Return        -1.264156\n",
       "Term Spread             -3.033965\n",
       "Default Yield Spread    -0.971612\n",
       "Default Return Spread   -4.607112\n",
       "Inflation               -2.363594\n",
       "Invest Capital Ratio     8.288966\n",
       "Mean                     0.421112\n",
       "Median                  -0.218530\n",
       "Trimmed mean             0.356231\n",
       "DMSPE theta 1            0.502269\n",
       "DMSPE theta 0.9          1.112291\n",
       "dtype: float64"
      ]
     },
     "execution_count": 23,
     "metadata": {},
     "output_type": "execute_result"
    }
   ],
   "source": [
    "R_2_OOS = prediction_df.apply(lambda x: get_oos_r_square(y=equity_premium, y_hat=x, y_bar=historical_average))\n",
    "R_2_OOS"
   ]
  },
  {
   "attachments": {},
   "cell_type": "markdown",
   "metadata": {},
   "source": [
    "2. significance of R2"
   ]
  },
  {
   "cell_type": "code",
   "execution_count": 24,
   "metadata": {},
   "outputs": [
    {
     "data": {
      "text/plain": [
       "Dividend Price Ratio        0.631 \n",
       "Dividend Yield              0.611 \n",
       "Earnings Price Ratio        0.875 \n",
       "Earnings Payout Ratio       0.811 \n",
       "Stock Variance              0.136 \n",
       "Book To Market              0.359 \n",
       "Net Equity Expansion       0.059 *\n",
       "Treasury Bill               0.209 \n",
       "Long Term Yield            0.057 *\n",
       "Long Term Return            0.903 \n",
       "Term Spread                 0.768 \n",
       "Default Yield Spread        0.217 \n",
       "Default Return Spread       0.975 \n",
       "Inflation                   0.649 \n",
       "Invest Capital Ratio     0.003 ***\n",
       "Mean                        0.509 \n",
       "Median                      0.808 \n",
       "Trimmed mean                0.545 \n",
       "DMSPE theta 1               0.445 \n",
       "DMSPE theta 0.9             0.137 \n",
       "dtype: object"
      ]
     },
     "execution_count": 24,
     "metadata": {},
     "output_type": "execute_result"
    }
   ],
   "source": [
    "significance = prediction_df.apply(lambda x: get_significance_of_MSPE_adjusted_test(y=equity_premium, y_hat=x, y_bar=historical_average))\n",
    "significance"
   ]
  },
  {
   "attachments": {},
   "cell_type": "markdown",
   "metadata": {},
   "source": [
    "The utility gain"
   ]
  },
  {
   "cell_type": "code",
   "execution_count": 25,
   "metadata": {},
   "outputs": [
    {
     "data": {
      "text/plain": [
       "Dividend Price Ratio     2.216890\n",
       "Dividend Yield           2.551894\n",
       "Earnings Price Ratio     3.501774\n",
       "Earnings Payout Ratio   -0.783380\n",
       "Stock Variance          -2.155294\n",
       "Book To Market           0.879638\n",
       "Net Equity Expansion    -1.377711\n",
       "Treasury Bill            1.386913\n",
       "Long Term Yield          0.929047\n",
       "Long Term Return         0.983267\n",
       "Term Spread             -1.151260\n",
       "Default Yield Spread    -0.786811\n",
       "Default Return Spread    0.941280\n",
       "Inflation               -0.286651\n",
       "Invest Capital Ratio     4.764974\n",
       "Mean                    -0.080955\n",
       "Median                  -0.390945\n",
       "Trimmed mean            -0.251698\n",
       "DMSPE theta 1            0.046286\n",
       "DMSPE theta 0.9          0.953536\n",
       "dtype: float64"
      ]
     },
     "execution_count": 25,
     "metadata": {},
     "output_type": "execute_result"
    }
   ],
   "source": [
    "utility_gain = prediction_df.apply(lambda x: get_utility_gain_from_prediction(START_DATE=prediction_df.index[0].strftime('%Y-%m'), \n",
    "                                                                                END_DATE=prediction_df.index[-1].strftime('%Y-%m'),\n",
    "                                                                                historical_average=historical_average, \n",
    "                                                                                prediction=x,\n",
    "                                                                                data_frequency=4))\n",
    "utility_gain"
   ]
  },
  {
   "cell_type": "code",
   "execution_count": 26,
   "metadata": {},
   "outputs": [
    {
     "data": {
      "text/html": [
       "<div>\n",
       "<style scoped>\n",
       "    .dataframe tbody tr th:only-of-type {\n",
       "        vertical-align: middle;\n",
       "    }\n",
       "\n",
       "    .dataframe tbody tr th {\n",
       "        vertical-align: top;\n",
       "    }\n",
       "\n",
       "    .dataframe thead th {\n",
       "        text-align: right;\n",
       "    }\n",
       "</style>\n",
       "<table border=\"1\" class=\"dataframe\">\n",
       "  <thead>\n",
       "    <tr style=\"text-align: right;\">\n",
       "      <th></th>\n",
       "      <th>R2</th>\n",
       "      <th>significance</th>\n",
       "      <th>Utility Gain</th>\n",
       "    </tr>\n",
       "  </thead>\n",
       "  <tbody>\n",
       "    <tr>\n",
       "      <th>Dividend Price Ratio</th>\n",
       "      <td>-0.244020</td>\n",
       "      <td>0.631</td>\n",
       "      <td>2.216890</td>\n",
       "    </tr>\n",
       "    <tr>\n",
       "      <th>Dividend Yield</th>\n",
       "      <td>-0.365329</td>\n",
       "      <td>0.611</td>\n",
       "      <td>2.551894</td>\n",
       "    </tr>\n",
       "    <tr>\n",
       "      <th>Earnings Price Ratio</th>\n",
       "      <td>-1.815205</td>\n",
       "      <td>0.875</td>\n",
       "      <td>3.501774</td>\n",
       "    </tr>\n",
       "    <tr>\n",
       "      <th>Earnings Payout Ratio</th>\n",
       "      <td>-1.513486</td>\n",
       "      <td>0.811</td>\n",
       "      <td>-0.783380</td>\n",
       "    </tr>\n",
       "    <tr>\n",
       "      <th>Stock Variance</th>\n",
       "      <td>-6.280336</td>\n",
       "      <td>0.136</td>\n",
       "      <td>-2.155294</td>\n",
       "    </tr>\n",
       "    <tr>\n",
       "      <th>Book To Market</th>\n",
       "      <td>-0.777498</td>\n",
       "      <td>0.359</td>\n",
       "      <td>0.879638</td>\n",
       "    </tr>\n",
       "    <tr>\n",
       "      <th>Net Equity Expansion</th>\n",
       "      <td>-3.776034</td>\n",
       "      <td>0.059 *</td>\n",
       "      <td>-1.377711</td>\n",
       "    </tr>\n",
       "    <tr>\n",
       "      <th>Treasury Bill</th>\n",
       "      <td>1.758113</td>\n",
       "      <td>0.209</td>\n",
       "      <td>1.386913</td>\n",
       "    </tr>\n",
       "    <tr>\n",
       "      <th>Long Term Yield</th>\n",
       "      <td>2.555522</td>\n",
       "      <td>0.057 *</td>\n",
       "      <td>0.929047</td>\n",
       "    </tr>\n",
       "    <tr>\n",
       "      <th>Long Term Return</th>\n",
       "      <td>-1.264156</td>\n",
       "      <td>0.903</td>\n",
       "      <td>0.983267</td>\n",
       "    </tr>\n",
       "    <tr>\n",
       "      <th>Term Spread</th>\n",
       "      <td>-3.033965</td>\n",
       "      <td>0.768</td>\n",
       "      <td>-1.151260</td>\n",
       "    </tr>\n",
       "    <tr>\n",
       "      <th>Default Yield Spread</th>\n",
       "      <td>-0.971612</td>\n",
       "      <td>0.217</td>\n",
       "      <td>-0.786811</td>\n",
       "    </tr>\n",
       "    <tr>\n",
       "      <th>Default Return Spread</th>\n",
       "      <td>-4.607112</td>\n",
       "      <td>0.975</td>\n",
       "      <td>0.941280</td>\n",
       "    </tr>\n",
       "    <tr>\n",
       "      <th>Inflation</th>\n",
       "      <td>-2.363594</td>\n",
       "      <td>0.649</td>\n",
       "      <td>-0.286651</td>\n",
       "    </tr>\n",
       "    <tr>\n",
       "      <th>Invest Capital Ratio</th>\n",
       "      <td>8.288966</td>\n",
       "      <td>0.003 ***</td>\n",
       "      <td>4.764974</td>\n",
       "    </tr>\n",
       "    <tr>\n",
       "      <th>Mean</th>\n",
       "      <td>0.421112</td>\n",
       "      <td>0.509</td>\n",
       "      <td>-0.080955</td>\n",
       "    </tr>\n",
       "    <tr>\n",
       "      <th>Median</th>\n",
       "      <td>-0.218530</td>\n",
       "      <td>0.808</td>\n",
       "      <td>-0.390945</td>\n",
       "    </tr>\n",
       "    <tr>\n",
       "      <th>Trimmed mean</th>\n",
       "      <td>0.356231</td>\n",
       "      <td>0.545</td>\n",
       "      <td>-0.251698</td>\n",
       "    </tr>\n",
       "    <tr>\n",
       "      <th>DMSPE theta 1</th>\n",
       "      <td>0.502269</td>\n",
       "      <td>0.445</td>\n",
       "      <td>0.046286</td>\n",
       "    </tr>\n",
       "    <tr>\n",
       "      <th>DMSPE theta 0.9</th>\n",
       "      <td>1.112291</td>\n",
       "      <td>0.137</td>\n",
       "      <td>0.953536</td>\n",
       "    </tr>\n",
       "  </tbody>\n",
       "</table>\n",
       "</div>"
      ],
      "text/plain": [
       "                             R2 significance  Utility Gain\n",
       "Dividend Price Ratio  -0.244020       0.631       2.216890\n",
       "Dividend Yield        -0.365329       0.611       2.551894\n",
       "Earnings Price Ratio  -1.815205       0.875       3.501774\n",
       "Earnings Payout Ratio -1.513486       0.811      -0.783380\n",
       "Stock Variance        -6.280336       0.136      -2.155294\n",
       "Book To Market        -0.777498       0.359       0.879638\n",
       "Net Equity Expansion  -3.776034      0.059 *     -1.377711\n",
       "Treasury Bill          1.758113       0.209       1.386913\n",
       "Long Term Yield        2.555522      0.057 *      0.929047\n",
       "Long Term Return      -1.264156       0.903       0.983267\n",
       "Term Spread           -3.033965       0.768      -1.151260\n",
       "Default Yield Spread  -0.971612       0.217      -0.786811\n",
       "Default Return Spread -4.607112       0.975       0.941280\n",
       "Inflation             -2.363594       0.649      -0.286651\n",
       "Invest Capital Ratio   8.288966    0.003 ***      4.764974\n",
       "Mean                   0.421112       0.509      -0.080955\n",
       "Median                -0.218530       0.808      -0.390945\n",
       "Trimmed mean           0.356231       0.545      -0.251698\n",
       "DMSPE theta 1          0.502269       0.445       0.046286\n",
       "DMSPE theta 0.9        1.112291       0.137       0.953536"
      ]
     },
     "execution_count": 26,
     "metadata": {},
     "output_type": "execute_result"
    }
   ],
   "source": [
    "evaluation_matric_df = pd.concat([R_2_OOS, significance, utility_gain], axis=1)\n",
    "evaluation_matric_df.columns = ['R2', 'significance', 'Utility Gain']\n",
    "evaluation_matric_df"
   ]
  },
  {
   "cell_type": "code",
   "execution_count": 27,
   "metadata": {},
   "outputs": [
    {
     "name": "stdout",
     "output_type": "stream",
     "text": [
      "Save table to:../../table/\n"
     ]
    }
   ],
   "source": [
    "post_dataframe_to_latex_table(evaluation_matric_df, table_name='performance of linear prediction using quarterly data 2000 - 2021')"
   ]
  },
  {
   "attachments": {},
   "cell_type": "markdown",
   "metadata": {},
   "source": [
    "# Analysis of ML prediction"
   ]
  },
  {
   "attachments": {},
   "cell_type": "markdown",
   "metadata": {},
   "source": [
    "load ml prediction results"
   ]
  },
  {
   "cell_type": "code",
   "execution_count": 2,
   "metadata": {},
   "outputs": [],
   "source": [
    "prediction_df = pd.read_csv('../../data/prediction_ml_quarterly_1947_1964_2021.csv', index_col=0, parse_dates=True, date_parser=get_monthly_date_format)\n",
    "START_DATE = '1965-01'\n",
    "END_DATE = '2021-12'\n",
    "prediction_df = prediction_df.loc[START_DATE:END_DATE]\n",
    "equity_premium = prediction_df.pop('Equity Premium')\n",
    "historical_average = prediction_df.pop('Historical Average')"
   ]
  },
  {
   "attachments": {},
   "cell_type": "markdown",
   "metadata": {},
   "source": [
    "R2"
   ]
  },
  {
   "cell_type": "code",
   "execution_count": 28,
   "metadata": {},
   "outputs": [
    {
     "data": {
      "text/plain": [
       "Elastic Net      0.723741\n",
       "Random Forest   -3.972828\n",
       "dtype: float64"
      ]
     },
     "execution_count": 28,
     "metadata": {},
     "output_type": "execute_result"
    }
   ],
   "source": [
    "R_2_OOS = prediction_df.apply(lambda x: get_oos_r_square(y=equity_premium, y_hat=x, y_bar=historical_average))\n",
    "R_2_OOS"
   ]
  },
  {
   "attachments": {},
   "cell_type": "markdown",
   "metadata": {},
   "source": [
    "significance of R2"
   ]
  },
  {
   "cell_type": "code",
   "execution_count": 29,
   "metadata": {},
   "outputs": [
    {
     "data": {
      "text/plain": [
       "Elastic Net      0.003 ***\n",
       "Random Forest     0.046 **\n",
       "dtype: object"
      ]
     },
     "execution_count": 29,
     "metadata": {},
     "output_type": "execute_result"
    }
   ],
   "source": [
    "significance = prediction_df.apply(lambda x: get_significance_of_MSPE_adjusted_test(y=equity_premium, y_hat=x, y_bar=historical_average))\n",
    "significance"
   ]
  },
  {
   "attachments": {},
   "cell_type": "markdown",
   "metadata": {},
   "source": [
    "The utility gain"
   ]
  },
  {
   "cell_type": "code",
   "execution_count": 47,
   "metadata": {},
   "outputs": [
    {
     "data": {
      "text/plain": [
       "Elastic Net      0.407559\n",
       "Random Forest    3.711325\n",
       "dtype: float64"
      ]
     },
     "execution_count": 47,
     "metadata": {},
     "output_type": "execute_result"
    }
   ],
   "source": [
    "utility_gain = prediction_df.apply(lambda x: get_utility_gain_from_prediction(START_DATE=prediction_df.index[0].strftime('%Y-%m'), \n",
    "                                                                                END_DATE=prediction_df.index[-1].strftime('%Y-%m'),\n",
    "                                                                                historical_average=historical_average, \n",
    "                                                                                prediction=x,\n",
    "                                                                                data_frequency=4))\n",
    "utility_gain"
   ]
  },
  {
   "cell_type": "code",
   "execution_count": 48,
   "metadata": {},
   "outputs": [
    {
     "data": {
      "text/html": [
       "<div>\n",
       "<style scoped>\n",
       "    .dataframe tbody tr th:only-of-type {\n",
       "        vertical-align: middle;\n",
       "    }\n",
       "\n",
       "    .dataframe tbody tr th {\n",
       "        vertical-align: top;\n",
       "    }\n",
       "\n",
       "    .dataframe thead th {\n",
       "        text-align: right;\n",
       "    }\n",
       "</style>\n",
       "<table border=\"1\" class=\"dataframe\">\n",
       "  <thead>\n",
       "    <tr style=\"text-align: right;\">\n",
       "      <th></th>\n",
       "      <th>R2</th>\n",
       "      <th>significance</th>\n",
       "      <th>Utility Gain</th>\n",
       "    </tr>\n",
       "  </thead>\n",
       "  <tbody>\n",
       "    <tr>\n",
       "      <th>Elastic Net</th>\n",
       "      <td>0.723741</td>\n",
       "      <td>0.297</td>\n",
       "      <td>0.407559</td>\n",
       "    </tr>\n",
       "    <tr>\n",
       "      <th>Random Forest</th>\n",
       "      <td>-3.972828</td>\n",
       "      <td>0.795</td>\n",
       "      <td>3.711325</td>\n",
       "    </tr>\n",
       "  </tbody>\n",
       "</table>\n",
       "</div>"
      ],
      "text/plain": [
       "                     R2 significance  Utility Gain\n",
       "Elastic Net    0.723741       0.297       0.407559\n",
       "Random Forest -3.972828       0.795       3.711325"
      ]
     },
     "execution_count": 48,
     "metadata": {},
     "output_type": "execute_result"
    }
   ],
   "source": [
    "evaluation_matric_df = pd.concat([R_2_OOS, significance, utility_gain], axis=1)\n",
    "evaluation_matric_df.columns = ['R2', 'significance', 'Utility Gain']\n",
    "evaluation_matric_df"
   ]
  },
  {
   "cell_type": "code",
   "execution_count": 49,
   "metadata": {},
   "outputs": [
    {
     "name": "stdout",
     "output_type": "stream",
     "text": [
      "Save table to:../../table/\n"
     ]
    }
   ],
   "source": [
    "post_dataframe_to_latex_table(evaluation_matric_df, table_name='performance of ml prediction using quarterly data 2000 - 2021')"
   ]
  },
  {
   "attachments": {},
   "cell_type": "markdown",
   "metadata": {},
   "source": [
    "# Analysis of implied expected return"
   ]
  },
  {
   "attachments": {},
   "cell_type": "markdown",
   "metadata": {},
   "source": [
    "load implied expected return"
   ]
  },
  {
   "cell_type": "code",
   "execution_count": 3,
   "metadata": {},
   "outputs": [],
   "source": [
    "prediction_df = pd.read_csv('../../data/prediction_implied_quarterly_rl_1947_1964_2021.csv', index_col=0, parse_dates=True)\n",
    "prediction_df.index = [get_monthly_date_format(x) for x in prediction_df.index]\n",
    "prediction_df.columns = ['RL']\n",
    "\n",
    "START_DATE = '1965-09'\n",
    "END_DATE = '2021-12'\n",
    "prediction_df = prediction_df[START_DATE:END_DATE]\n",
    "equity_premium = equity_premium[START_DATE:END_DATE]\n",
    "historical_average = historical_average[START_DATE:END_DATE]"
   ]
  },
  {
   "attachments": {},
   "cell_type": "markdown",
   "metadata": {},
   "source": [
    "R2"
   ]
  },
  {
   "cell_type": "code",
   "execution_count": 4,
   "metadata": {},
   "outputs": [
    {
     "data": {
      "text/plain": [
       "RL    2.079368\n",
       "dtype: float64"
      ]
     },
     "execution_count": 4,
     "metadata": {},
     "output_type": "execute_result"
    }
   ],
   "source": [
    "R_2_OOS = prediction_df.apply(lambda x: get_oos_r_square(y=equity_premium, y_hat=x, y_bar=historical_average))\n",
    "R_2_OOS"
   ]
  },
  {
   "attachments": {},
   "cell_type": "markdown",
   "metadata": {},
   "source": [
    "Significance of R2"
   ]
  },
  {
   "cell_type": "code",
   "execution_count": 5,
   "metadata": {},
   "outputs": [
    {
     "data": {
      "text/plain": [
       "0.02170097292246557"
      ]
     },
     "execution_count": 5,
     "metadata": {},
     "output_type": "execute_result"
    }
   ],
   "source": [
    "get_p_value_of_MSPE_adjusted_test(y=equity_premium.values.flatten(), y_hat=prediction_df.values.flatten(), y_bar=historical_average.values.flatten())"
   ]
  },
  {
   "cell_type": "code",
   "execution_count": 6,
   "metadata": {},
   "outputs": [
    {
     "data": {
      "text/plain": [
       "RL    0.022 **\n",
       "dtype: object"
      ]
     },
     "execution_count": 6,
     "metadata": {},
     "output_type": "execute_result"
    }
   ],
   "source": [
    "significance = prediction_df.apply(lambda x: get_significance_of_MSPE_adjusted_test(y=equity_premium, y_hat=x, y_bar=historical_average))\n",
    "significance"
   ]
  },
  {
   "attachments": {},
   "cell_type": "markdown",
   "metadata": {},
   "source": [
    "The utility gain"
   ]
  },
  {
   "cell_type": "code",
   "execution_count": 7,
   "metadata": {},
   "outputs": [
    {
     "data": {
      "text/plain": [
       "RL    2.346019\n",
       "dtype: float64"
      ]
     },
     "execution_count": 7,
     "metadata": {},
     "output_type": "execute_result"
    }
   ],
   "source": [
    "utility_gain = prediction_df.apply(lambda x: get_utility_gain_from_prediction(START_DATE=prediction_df.index[0].strftime('%Y-%m'), \n",
    "                                                                                END_DATE=prediction_df.index[-1].strftime('%Y-%m'),\n",
    "                                                                                historical_average=historical_average, \n",
    "                                                                                prediction=x,\n",
    "                                                                                data_frequency=4))\n",
    "utility_gain"
   ]
  },
  {
   "attachments": {},
   "cell_type": "markdown",
   "metadata": {},
   "source": [
    "Output results"
   ]
  },
  {
   "cell_type": "code",
   "execution_count": 8,
   "metadata": {},
   "outputs": [
    {
     "data": {
      "text/html": [
       "<div>\n",
       "<style scoped>\n",
       "    .dataframe tbody tr th:only-of-type {\n",
       "        vertical-align: middle;\n",
       "    }\n",
       "\n",
       "    .dataframe tbody tr th {\n",
       "        vertical-align: top;\n",
       "    }\n",
       "\n",
       "    .dataframe thead th {\n",
       "        text-align: right;\n",
       "    }\n",
       "</style>\n",
       "<table border=\"1\" class=\"dataframe\">\n",
       "  <thead>\n",
       "    <tr style=\"text-align: right;\">\n",
       "      <th></th>\n",
       "      <th>R2</th>\n",
       "      <th>significance</th>\n",
       "      <th>Utility Gain</th>\n",
       "    </tr>\n",
       "  </thead>\n",
       "  <tbody>\n",
       "    <tr>\n",
       "      <th>RL</th>\n",
       "      <td>2.079368</td>\n",
       "      <td>0.022 **</td>\n",
       "      <td>2.346019</td>\n",
       "    </tr>\n",
       "  </tbody>\n",
       "</table>\n",
       "</div>"
      ],
      "text/plain": [
       "          R2 significance  Utility Gain\n",
       "RL  2.079368     0.022 **      2.346019"
      ]
     },
     "execution_count": 8,
     "metadata": {},
     "output_type": "execute_result"
    }
   ],
   "source": [
    "evaluation_matric_df = pd.concat([R_2_OOS, significance, utility_gain], axis=1)\n",
    "evaluation_matric_df.columns = ['R2', 'significance', 'Utility Gain']\n",
    "evaluation_matric_df"
   ]
  },
  {
   "cell_type": "code",
   "execution_count": 9,
   "metadata": {},
   "outputs": [
    {
     "name": "stdout",
     "output_type": "stream",
     "text": [
      "Save table to:../../table/\n"
     ]
    }
   ],
   "source": [
    "post_dataframe_to_latex_table(evaluation_matric_df, table_name='performance of implied prediction of RL using quarterly data 1965 - 2021')"
   ]
  },
  {
   "attachments": {},
   "cell_type": "markdown",
   "metadata": {},
   "source": [
    "# Replication of Rapach (2010) Analysis"
   ]
  },
  {
   "cell_type": "code",
   "execution_count": 49,
   "metadata": {},
   "outputs": [],
   "source": [
    "R2_CL = pd.read_csv('../../data/linear_prediction_quarterly_R2_CL.csv', index_col=0, names=['CL'], header=0)\n",
    "R2_CL_restricted = pd.read_csv('../../data/linear_prediction_quarterly_R2_CL_restricted.csv', index_col=0, names=['CL'], header=0)\n",
    "R2_CL_restricted.columns = ['CL_restricted']\n",
    "R2_MS = pd.read_csv('../../data/linear_prediction_quarterly_R2_MS.csv', index_col=0, names=['Rapach', 'MS'], header=0)\n",
    "R2_MS.index = R2_CL.index.to_list()[:14] + ['I_K']"
   ]
  },
  {
   "cell_type": "code",
   "execution_count": 50,
   "metadata": {},
   "outputs": [
    {
     "data": {
      "text/html": [
       "<div>\n",
       "<style scoped>\n",
       "    .dataframe tbody tr th:only-of-type {\n",
       "        vertical-align: middle;\n",
       "    }\n",
       "\n",
       "    .dataframe tbody tr th {\n",
       "        vertical-align: top;\n",
       "    }\n",
       "\n",
       "    .dataframe thead th {\n",
       "        text-align: right;\n",
       "    }\n",
       "</style>\n",
       "<table border=\"1\" class=\"dataframe\">\n",
       "  <thead>\n",
       "    <tr style=\"text-align: right;\">\n",
       "      <th></th>\n",
       "      <th>CL</th>\n",
       "      <th>Rapach</th>\n",
       "      <th>MS</th>\n",
       "      <th>CL_restricted</th>\n",
       "    </tr>\n",
       "  </thead>\n",
       "  <tbody>\n",
       "    <tr>\n",
       "      <th>Dividend Price Ratio</th>\n",
       "      <td>-0.380599</td>\n",
       "      <td>0.34</td>\n",
       "      <td>-0.722360</td>\n",
       "      <td>-0.380599</td>\n",
       "    </tr>\n",
       "    <tr>\n",
       "      <th>Dividend Yield</th>\n",
       "      <td>-0.443628</td>\n",
       "      <td>0.25</td>\n",
       "      <td>0.152974</td>\n",
       "      <td>-0.443628</td>\n",
       "    </tr>\n",
       "    <tr>\n",
       "      <th>Earnings Price Ratio</th>\n",
       "      <td>-0.367326</td>\n",
       "      <td>0.36</td>\n",
       "      <td>-2.332559</td>\n",
       "      <td>-0.367326</td>\n",
       "    </tr>\n",
       "    <tr>\n",
       "      <th>Earnings Payout Ratio</th>\n",
       "      <td>-1.472913</td>\n",
       "      <td>-1.42</td>\n",
       "      <td>-2.887096</td>\n",
       "      <td>-1.472913</td>\n",
       "    </tr>\n",
       "    <tr>\n",
       "      <th>Stock Variance</th>\n",
       "      <td>-10.576979</td>\n",
       "      <td>-12.97</td>\n",
       "      <td>-14.382389</td>\n",
       "      <td>-10.576979</td>\n",
       "    </tr>\n",
       "    <tr>\n",
       "      <th>Book To Market</th>\n",
       "      <td>-2.552643</td>\n",
       "      <td>-2.60</td>\n",
       "      <td>-5.113345</td>\n",
       "      <td>-2.552643</td>\n",
       "    </tr>\n",
       "    <tr>\n",
       "      <th>Net Equity Expansion</th>\n",
       "      <td>-0.900847</td>\n",
       "      <td>-0.91</td>\n",
       "      <td>-3.540437</td>\n",
       "      <td>-0.900847</td>\n",
       "    </tr>\n",
       "    <tr>\n",
       "      <th>Treasury Bill</th>\n",
       "      <td>-1.610106</td>\n",
       "      <td>-2.78</td>\n",
       "      <td>-0.695470</td>\n",
       "      <td>-1.610106</td>\n",
       "    </tr>\n",
       "    <tr>\n",
       "      <th>Long Term Yield</th>\n",
       "      <td>-2.415471</td>\n",
       "      <td>3.09</td>\n",
       "      <td>-0.289307</td>\n",
       "      <td>-2.415471</td>\n",
       "    </tr>\n",
       "    <tr>\n",
       "      <th>Long Term Return</th>\n",
       "      <td>0.602016</td>\n",
       "      <td>0.33</td>\n",
       "      <td>-1.113886</td>\n",
       "      <td>0.602016</td>\n",
       "    </tr>\n",
       "    <tr>\n",
       "      <th>Term Spread</th>\n",
       "      <td>-2.401840</td>\n",
       "      <td>-2.96</td>\n",
       "      <td>-0.274887</td>\n",
       "      <td>-2.401840</td>\n",
       "    </tr>\n",
       "    <tr>\n",
       "      <th>Default Yield Spread</th>\n",
       "      <td>-2.735281</td>\n",
       "      <td>-2.72</td>\n",
       "      <td>-5.124563</td>\n",
       "      <td>-2.735281</td>\n",
       "    </tr>\n",
       "    <tr>\n",
       "      <th>Default Return Spread</th>\n",
       "      <td>-1.041505</td>\n",
       "      <td>-1.10</td>\n",
       "      <td>-4.196794</td>\n",
       "      <td>-1.041505</td>\n",
       "    </tr>\n",
       "    <tr>\n",
       "      <th>Inflation</th>\n",
       "      <td>0.745198</td>\n",
       "      <td>-0.84</td>\n",
       "      <td>-2.230217</td>\n",
       "      <td>0.745198</td>\n",
       "    </tr>\n",
       "    <tr>\n",
       "      <th>Mean</th>\n",
       "      <td>3.020009</td>\n",
       "      <td>3.58</td>\n",
       "      <td>NaN</td>\n",
       "      <td>3.020009</td>\n",
       "    </tr>\n",
       "    <tr>\n",
       "      <th>Median</th>\n",
       "      <td>2.802575</td>\n",
       "      <td>3.04</td>\n",
       "      <td>NaN</td>\n",
       "      <td>2.802575</td>\n",
       "    </tr>\n",
       "    <tr>\n",
       "      <th>Trimmed mean</th>\n",
       "      <td>2.939501</td>\n",
       "      <td>3.51</td>\n",
       "      <td>NaN</td>\n",
       "      <td>2.939501</td>\n",
       "    </tr>\n",
       "    <tr>\n",
       "      <th>DMSPE theta 1</th>\n",
       "      <td>3.219785</td>\n",
       "      <td>3.54</td>\n",
       "      <td>NaN</td>\n",
       "      <td>3.219785</td>\n",
       "    </tr>\n",
       "    <tr>\n",
       "      <th>DMSPE theta 0.9</th>\n",
       "      <td>4.295913</td>\n",
       "      <td>3.49</td>\n",
       "      <td>NaN</td>\n",
       "      <td>4.295913</td>\n",
       "    </tr>\n",
       "    <tr>\n",
       "      <th>I_K</th>\n",
       "      <td>NaN</td>\n",
       "      <td>1.44</td>\n",
       "      <td>0.434459</td>\n",
       "      <td>NaN</td>\n",
       "    </tr>\n",
       "  </tbody>\n",
       "</table>\n",
       "</div>"
      ],
      "text/plain": [
       "                              CL  Rapach         MS  CL_restricted\n",
       "Dividend Price Ratio   -0.380599    0.34  -0.722360      -0.380599\n",
       "Dividend Yield         -0.443628    0.25   0.152974      -0.443628\n",
       "Earnings Price Ratio   -0.367326    0.36  -2.332559      -0.367326\n",
       "Earnings Payout Ratio  -1.472913   -1.42  -2.887096      -1.472913\n",
       "Stock Variance        -10.576979  -12.97 -14.382389     -10.576979\n",
       "Book To Market         -2.552643   -2.60  -5.113345      -2.552643\n",
       "Net Equity Expansion   -0.900847   -0.91  -3.540437      -0.900847\n",
       "Treasury Bill          -1.610106   -2.78  -0.695470      -1.610106\n",
       "Long Term Yield        -2.415471    3.09  -0.289307      -2.415471\n",
       "Long Term Return        0.602016    0.33  -1.113886       0.602016\n",
       "Term Spread            -2.401840   -2.96  -0.274887      -2.401840\n",
       "Default Yield Spread   -2.735281   -2.72  -5.124563      -2.735281\n",
       "Default Return Spread  -1.041505   -1.10  -4.196794      -1.041505\n",
       "Inflation               0.745198   -0.84  -2.230217       0.745198\n",
       "Mean                    3.020009    3.58        NaN       3.020009\n",
       "Median                  2.802575    3.04        NaN       2.802575\n",
       "Trimmed mean            2.939501    3.51        NaN       2.939501\n",
       "DMSPE theta 1           3.219785    3.54        NaN       3.219785\n",
       "DMSPE theta 0.9         4.295913    3.49        NaN       4.295913\n",
       "I_K                          NaN    1.44   0.434459            NaN"
      ]
     },
     "execution_count": 50,
     "metadata": {},
     "output_type": "execute_result"
    }
   ],
   "source": [
    "R2_total = pd.concat([R2_CL, R2_MS, R2_CL_restricted], axis=1)\n",
    "R2_total.loc[['Mean', 'Median', 'Trimmed mean', 'DMSPE theta 1', 'DMSPE theta 0.9'], 'Rapach'] = [3.58, 3.04, 3.51, 3.54, 3.49]\n",
    "R2_total"
   ]
  },
  {
   "cell_type": "code",
   "execution_count": 43,
   "metadata": {},
   "outputs": [],
   "source": [
    "R2_total.to_csv('../../data/linear_prediction_quarterly_R2_total.csv')"
   ]
  }
 ],
 "metadata": {
  "kernelspec": {
   "display_name": "ml_fin",
   "language": "python",
   "name": "python3"
  },
  "language_info": {
   "codemirror_mode": {
    "name": "ipython",
    "version": 3
   },
   "file_extension": ".py",
   "mimetype": "text/x-python",
   "name": "python",
   "nbconvert_exporter": "python",
   "pygments_lexer": "ipython3",
   "version": "3.7.13"
  },
  "orig_nbformat": 4,
  "vscode": {
   "interpreter": {
    "hash": "df1bd20b0aa4676359c3a4e1acc00212aee2b856ad4a02dcab7b28000647db5d"
   }
  }
 },
 "nbformat": 4,
 "nbformat_minor": 2
}
