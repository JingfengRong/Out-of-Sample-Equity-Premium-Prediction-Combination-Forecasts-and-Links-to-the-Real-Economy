{
 "cells": [
  {
   "attachments": {},
   "cell_type": "markdown",
   "metadata": {},
   "source": [
    "# Equity Premium Prediction Analysis\n",
    "\n",
    "This notebook follows the (Rapach 2010) [^1] to implement the prediction performance analysis.\n",
    "\n",
    "[^1]: Rapach, D. E., Strauss, J. K., & Zhou, G. (2010). Out-of-Sample Equity Premium Prediction: Combination Forecasts and Links to the Real Economy. The Review of Financial Studies, 23(2), 821–862. https://doi.org/10.1093/rfs/hhp063\n"
   ]
  },
  {
   "cell_type": "code",
   "execution_count": 175,
   "metadata": {},
   "outputs": [],
   "source": [
    "import pandas as pd\n",
    "import numpy as np\n",
    "import statsmodels.api as sm\n",
    "from datetime import datetime\n",
    "import matplotlib.pyplot as plt\n",
    "import sys\n",
    "sys.path.append('../module')\n",
    "\n",
    "from data_handler import get_monthly_date_format\n",
    "from data_handler import get_econ_predictors\n",
    "from IO_handler import post_dataframe_to_latex_table"
   ]
  },
  {
   "attachments": {},
   "cell_type": "markdown",
   "metadata": {},
   "source": [
    "In (Rapach 2010), they adopt three measurements to evaluate the performance of the prediction of equity premium.\n",
    "\n",
    "1. [$R^2_{OS}$: out of sample $R^2$](##out-of-sample-$r^2$)\n",
    "2. [MSPE - adjusted statistic: The significance of the $R^2_{OS}$](##mspe-adjusted-test-(mean-squared-prediction-error))\n",
    "3. [$\\Delta$: The utility gain](##the-utility-gain)"
   ]
  },
  {
   "cell_type": "code",
   "execution_count": 3,
   "metadata": {},
   "outputs": [],
   "source": [
    "prediction_df = pd.read_csv('../../data/linear_prediction.csv', index_col=0, parse_dates=True, date_parser=get_monthly_date_format)\n",
    "equity_premium = prediction_df.pop('Equity Premium')\n",
    "historical_average = prediction_df.pop('Historical Average')"
   ]
  },
  {
   "attachments": {},
   "cell_type": "markdown",
   "metadata": {},
   "source": [
    "## out of sample $R^2$\n",
    "\n",
    "$$\n",
    "\\begin{equation}\n",
    "R_{O S}^2=1-\\frac{\\sum_{k=q_0+1}^q\\left(r_{m+k}-\\hat{r}_{m+k}\\right)^2}{\\sum_{k=q_0+1}^q\\left(r_{m+k}-\\bar{r}_{m+k}\\right)^2}\n",
    "\\end{equation}\n",
    "$$\n",
    "\n",
    "Where $m$ is the size of in sample data and $q_0$ is the origin of the hold out period."
   ]
  },
  {
   "cell_type": "code",
   "execution_count": 167,
   "metadata": {},
   "outputs": [],
   "source": [
    "def get_oos_r_square(y_hat: np.ndarray, y: np.ndarray, y_bar: np.ndarray) -> float:\n",
    "    \"\"\"\n",
    "    This function calculates the out-of-sample R square for a prediction.\n",
    "\n",
    "    Parameters\n",
    "    ----------\n",
    "    y_hat : np.ndarray\n",
    "        Prediction values.\n",
    "    y : np.ndarray\n",
    "        True values.\n",
    "    y_bar : np.ndarray\n",
    "        Historical average.\n",
    "\n",
    "    Returns\n",
    "    -------\n",
    "    float\n",
    "        Out-of-sample R square.\n",
    "    \"\"\"\n",
    "    ss_res = np.sum((y - y_hat) ** 2)\n",
    "    ss_tot = np.sum((y - y_bar) ** 2)\n",
    "    R_2 = 1 - ss_res / ss_tot\n",
    "    R_2_percentage = R_2 * 100\n",
    "\n",
    "    return R_2_percentage"
   ]
  },
  {
   "cell_type": "code",
   "execution_count": 168,
   "metadata": {},
   "outputs": [
    {
     "data": {
      "text/plain": [
       "Dividend Price Ratio    -0.182131\n",
       "Dividend Yield          -0.171221\n",
       "Earnings Price Ratio    -0.174394\n",
       "Earnings Payout Ratio   -0.467257\n",
       "Stock Variance          -1.493501\n",
       "Book To Market          -1.084464\n",
       "Net Equity Expansion    -0.359853\n",
       "Treasury Bill           -0.219023\n",
       "Long Term Yield         -0.613617\n",
       "Long Term Return         0.186147\n",
       "Term Spread             -0.522086\n",
       "Default Yield Spread    -0.539182\n",
       "Default Return Spread   -0.543614\n",
       "Inflation                1.343229\n",
       "Mean                     1.148581\n",
       "Median                   0.804252\n",
       "Trimmed mean             1.080225\n",
       "DMSPE theta 1            1.186768\n",
       "DMSPE theta 0.9          1.718607\n",
       "dtype: float64"
      ]
     },
     "execution_count": 168,
     "metadata": {},
     "output_type": "execute_result"
    }
   ],
   "source": [
    "R_2_OOS = prediction_df.apply(lambda x: get_oos_r_square(y=equity_premium, y_hat=x, y_bar=historical_average))\n",
    "R_2_OOS"
   ]
  },
  {
   "attachments": {},
   "cell_type": "markdown",
   "metadata": {},
   "source": [
    "## MSPE adjusted test (Mean Squared Prediction Error)\n",
    "\n",
    "We test whether a prediction method is significantly different from the historical average. We follow the statistical test by Clark and West (2007). Rapach (2010) also uses this statistical test method.\n",
    "\n",
    "The null hypothesis is H0: $R_{OS}^2 < 0$\n",
    "\n",
    "The test statistics is:\n",
    "\\begin{equation}\n",
    "f_{t+1}=\\left(r_{t+1}-\\bar{r}_{t+1}\\right)^2-\\left[\\left(r_{t+1}-\\hat{r}_{t+1}\\right)^2-\\left(\\bar{r}_{t+1}-\\hat{r}_{t+1}\\right)^2\\right]\n",
    "\\end{equation}\n",
    "\n",
    "We regress this statistics against a constant and get the one-side p-value."
   ]
  },
  {
   "cell_type": "code",
   "execution_count": 34,
   "metadata": {},
   "outputs": [],
   "source": [
    "def get_p_value_of_MSPE_adjusted_test(y:np.ndarray, y_bar:np.ndarray, y_hat:np.ndarray) -> float:\n",
    "    \"\"\"\n",
    "    \n",
    "    Parameters\n",
    "    ----------\n",
    "    y : np.ndarray (n_samples, 1)\n",
    "    y_bar : np.ndarray (n_samples, 1)\n",
    "    y_hat : np.ndarray (n_samples, 1)\n",
    "\n",
    "    Returns\n",
    "    -------\n",
    "    p_value_of_MSPE_adjusted : float\n",
    "    \"\"\"\n",
    "    F = (y - y_bar) ** 2 - ((y - y_hat) ** 2 - (y_bar - y_hat) ** 2)\n",
    "    dummy = np.ones_like(F)\n",
    "    lm_result = sm.OLS(F, dummy).fit()\n",
    "    p_value = lm_result.pvalues.values[0]\n",
    "\n",
    "    return p_value\n"
   ]
  },
  {
   "cell_type": "code",
   "execution_count": 35,
   "metadata": {},
   "outputs": [
    {
     "data": {
      "text/plain": [
       "0.36931093740509213"
      ]
     },
     "execution_count": 35,
     "metadata": {},
     "output_type": "execute_result"
    }
   ],
   "source": [
    "get_p_value_of_MSPE_adjusted_test(y = equity_premium,\n",
    "y_bar = historical_average,\n",
    "y_hat = prediction_df['Dividend Price Ratio'])"
   ]
  },
  {
   "cell_type": "code",
   "execution_count": 36,
   "metadata": {},
   "outputs": [
    {
     "data": {
      "text/plain": [
       "Dividend Price Ratio     0.369311\n",
       "Dividend Yield           0.355614\n",
       "Earnings Price Ratio     0.758137\n",
       "Earnings Payout Ratio    0.603071\n",
       "Stock Variance           0.093280\n",
       "Book To Market           0.392455\n",
       "Net Equity Expansion     0.412408\n",
       "Treasury Bill            0.043529\n",
       "Long Term Yield          0.164870\n",
       "Long Term Return         0.041693\n",
       "Term Spread              0.026674\n",
       "Default Yield Spread     0.887431\n",
       "Default Return Spread    0.995998\n",
       "Inflation                0.031556\n",
       "Mean                     0.003736\n",
       "Median                   0.002932\n",
       "Trimmed mean             0.003053\n",
       "DMSPE theta 1            0.003389\n",
       "DMSPE theta 0.9          0.000184\n",
       "dtype: float64"
      ]
     },
     "execution_count": 36,
     "metadata": {},
     "output_type": "execute_result"
    }
   ],
   "source": [
    "p_value = prediction_df.apply(lambda x: get_p_value_of_MSPE_adjusted_test(y=equity_premium, y_hat=x, y_bar=historical_average))\n",
    "p_value"
   ]
  },
  {
   "cell_type": "code",
   "execution_count": 162,
   "metadata": {},
   "outputs": [],
   "source": [
    "def get_significance_of_MSPE_adjusted_test(y:np.ndarray, y_bar:np.ndarray, y_hat:np.ndarray) -> str:\n",
    "    \"\"\"\n",
    "    \n",
    "    Parameters\n",
    "    ----------\n",
    "    y : np.ndarray (n_samples, 1)\n",
    "    y_bar : np.ndarray (n_samples, 1)\n",
    "    y_hat : np.ndarray (n_samples, 1)\n",
    "\n",
    "    Returns\n",
    "    -------\n",
    "    significance_of_MSPE_adjusted : str\n",
    "    \"\"\"\n",
    "\n",
    "    p_value = get_p_value_of_MSPE_adjusted_test(y=y, y_hat=y_hat, y_bar=y_bar)\n",
    "    p_value = round(p_value, ndigits=3)\n",
    "    if p_value >= 0.1:\n",
    "        significance = str(p_value) + ' '\n",
    "    elif p_value > 0.05:\n",
    "        significance = str(p_value) +' *'\n",
    "    elif p_value > 0.01:\n",
    "        significance = str(p_value) +' **'\n",
    "    elif p_value <= 0.01:\n",
    "        significance = str(p_value) +' ***'\n",
    "\n",
    "    return significance"
   ]
  },
  {
   "cell_type": "code",
   "execution_count": 164,
   "metadata": {},
   "outputs": [
    {
     "data": {
      "text/plain": [
       "Dividend Price Ratio        0.369 \n",
       "Dividend Yield              0.356 \n",
       "Earnings Price Ratio        0.758 \n",
       "Earnings Payout Ratio       0.603 \n",
       "Stock Variance             0.093 *\n",
       "Book To Market              0.392 \n",
       "Net Equity Expansion        0.412 \n",
       "Treasury Bill             0.044 **\n",
       "Long Term Yield             0.165 \n",
       "Long Term Return          0.042 **\n",
       "Term Spread               0.027 **\n",
       "Default Yield Spread        0.887 \n",
       "Default Return Spread       0.996 \n",
       "Inflation                 0.032 **\n",
       "Mean                     0.004 ***\n",
       "Median                   0.003 ***\n",
       "Trimmed mean             0.003 ***\n",
       "DMSPE theta 1            0.003 ***\n",
       "DMSPE theta 0.9            0.0 ***\n",
       "dtype: object"
      ]
     },
     "execution_count": 164,
     "metadata": {},
     "output_type": "execute_result"
    }
   ],
   "source": [
    "significance = prediction_df.apply(lambda x: get_significance_of_MSPE_adjusted_test(y=equity_premium, y_hat=x, y_bar=historical_average))\n",
    "significance"
   ]
  },
  {
   "attachments": {},
   "cell_type": "markdown",
   "metadata": {},
   "source": [
    "## The Utility Gain\n",
    "\n",
    "We assume a mean-variance investor. He balance his portfolio between stock and risk-free bill monthly. The portfolio weights are decided by the prediction of the equity premium. The portfolio weights are given as\n",
    "\n",
    "\\begin{equation}\n",
    "w_{j, t}=\\left(\\frac{1}{\\gamma}\\right)\\left(\\frac{\\hat{r}_{t+1}}{\\hat{\\sigma}_{t+1}^2}\\right)\n",
    "\\end{equation}\n",
    "\n",
    "This weight is based on the prediction of the stock return and the variance of stock. We use ten years of rolling window for the estimation. This is in line with (Rapach 2010) and Campbell and Thompson (2008). The investor will gain an average utility over out-of-sample period as\n",
    "\n",
    "\\begin{equation}\n",
    "\\hat{v}_0=\\hat{\\mu}_0-\\left(\\frac{1}{2}\\right) \\gamma \\hat{\\sigma}_0^2\n",
    "\\end{equation}\n",
    "\n",
    "To get the monthly portfolio weight we set $\\gamma = 3$"
   ]
  },
  {
   "cell_type": "code",
   "execution_count": 147,
   "metadata": {},
   "outputs": [],
   "source": [
    "def get_utility_gain_from_prediction(START_DATE: str,\n",
    "                                     END_DATE: str,\n",
    "                                     prediction: pd.DataFrame,\n",
    "                                     historical_average: pd.DataFrame,\n",
    "                                     rolling_window_size: int = 10, # number in year\n",
    "                                    data_frequency: int = 12, # number of observations per year\n",
    "                                    gamma: int = 3) -> float:\n",
    "    \"\"\"\n",
    "    Get utility gain from prediction.\n",
    "\n",
    "    Parameters\n",
    "    ----------\n",
    "    START_DATE : str\n",
    "        Start date of the utility gain curve.\n",
    "        Format: YYYY-MM\n",
    "    END_DATE : str\n",
    "        End date of the utility gain curve.\n",
    "        Format: YYYY-MM\n",
    "    rolling_window_size : int, optional\n",
    "        Rolling window size.\n",
    "        Default: 10\n",
    "    data_frequency : int, optional\n",
    "        Data frequency.\n",
    "        Default: 12\n",
    "    gamma : int, optional\n",
    "        Gamma.\n",
    "        Default: 3\n",
    "\n",
    "    Returns\n",
    "    -------\n",
    "    utility_gain : float\n",
    "        Utility gain.\n",
    "    \"\"\"\n",
    "\n",
    "    START_DATE = datetime.strptime(START_DATE, '%Y-%m')\n",
    "    START_DATE = str(START_DATE.year - rolling_window_size) + '-' + str(START_DATE.month)\n",
    "    econ_predictors = get_econ_predictors(START_DATE=START_DATE, END_DATE=END_DATE)\n",
    "    risk_free_bond = econ_predictors['Treasury Bill'] / 100\n",
    "    stock_return = econ_predictors['Equity Premium']\n",
    "    portfolio_df = pd.concat([stock_return, risk_free_bond], axis=1)\n",
    "\n",
    "    sample_varince = portfolio_df.iloc[:, 0].rolling(rolling_window_size * data_frequency - 1).var().dropna()\n",
    "    varince_estimation = sample_varince.shift(1).dropna()\n",
    "\n",
    "    stock_weight_0 = (1 / gamma) * (historical_average / varince_estimation)\n",
    "    stock_weight_0 = stock_weight_0.clip(0, 1.5)\n",
    "    portfolio_weight_0 = pd.concat([stock_weight_0, 1 - stock_weight_0], axis = 1)\n",
    "    w_0 = portfolio_weight_0.values.reshape(-1, 1, 2)\n",
    "\n",
    "    stock_weight_1 = (1 / gamma) * (prediction / varince_estimation)\n",
    "    stock_weight_1 = stock_weight_1.clip(0, 1.5)\n",
    "    portfolio_weight_1 = pd.concat([stock_weight_1, 1 - stock_weight_1], axis = 1)\n",
    "    w_1 = portfolio_weight_1.values.reshape(-1, 1, 2)\n",
    "\n",
    "    return_df = portfolio_df.loc[portfolio_weight_0.index] # need to change\n",
    "    returns = return_df.values.reshape(-1, 2, 1)\n",
    "\n",
    "    portfolio_return_0 = (w_0 @ returns).flatten()\n",
    "    portfolio_return_1 = (w_1 @ returns).flatten()\n",
    "\n",
    "    mu_0 = np.mean(portfolio_return_0)\n",
    "    sigma_0 = np.var(portfolio_return_0)\n",
    "    uitility_0 = mu_0 - 0.5 * gamma * sigma_0\n",
    "\n",
    "    mu_1 = np.mean(portfolio_return_1)\n",
    "    sigma_1 = np.var(portfolio_return_1)\n",
    "    uitility_1 = mu_1 - 0.5 * gamma * sigma_1\n",
    "\n",
    "    utility_gain = uitility_1 - uitility_0\n",
    "    utility_gain_percentage = utility_gain * 100\n",
    "\n",
    "    return utility_gain_percentage"
   ]
  },
  {
   "cell_type": "code",
   "execution_count": 148,
   "metadata": {},
   "outputs": [
    {
     "data": {
      "text/plain": [
       "Dividend Price Ratio     0.089991\n",
       "Dividend Yield           0.130309\n",
       "Earnings Price Ratio    -0.037092\n",
       "Earnings Payout Ratio    0.076006\n",
       "Stock Variance          -0.043466\n",
       "Book To Market          -0.151456\n",
       "Net Equity Expansion     0.047219\n",
       "Treasury Bill            0.243582\n",
       "Long Term Yield          0.236009\n",
       "Long Term Return         0.160331\n",
       "Term Spread              0.291191\n",
       "Default Yield Spread    -0.070497\n",
       "Default Return Spread   -0.018239\n",
       "Inflation                0.280685\n",
       "Mean                     0.281942\n",
       "Median                   0.194431\n",
       "Trimmed mean             0.269735\n",
       "DMSPE theta 1            0.288201\n",
       "DMSPE theta 0.9          0.361056\n",
       "dtype: float64"
      ]
     },
     "execution_count": 148,
     "metadata": {},
     "output_type": "execute_result"
    }
   ],
   "source": [
    "utility_gain = prediction_df.apply(lambda x: get_utility_gain_from_prediction(START_DATE='1965-01', \n",
    "                                                                            END_DATE='2005-04',\n",
    "                                                                            historical_average=historical_average, \n",
    "                                                                            prediction=x))\n",
    "utility_gain"
   ]
  },
  {
   "cell_type": "code",
   "execution_count": 174,
   "metadata": {},
   "outputs": [
    {
     "data": {
      "text/html": [
       "<div>\n",
       "<style scoped>\n",
       "    .dataframe tbody tr th:only-of-type {\n",
       "        vertical-align: middle;\n",
       "    }\n",
       "\n",
       "    .dataframe tbody tr th {\n",
       "        vertical-align: top;\n",
       "    }\n",
       "\n",
       "    .dataframe thead th {\n",
       "        text-align: right;\n",
       "    }\n",
       "</style>\n",
       "<table border=\"1\" class=\"dataframe\">\n",
       "  <thead>\n",
       "    <tr style=\"text-align: right;\">\n",
       "      <th></th>\n",
       "      <th>R2</th>\n",
       "      <th>significance</th>\n",
       "      <th>Utility Gain</th>\n",
       "    </tr>\n",
       "  </thead>\n",
       "  <tbody>\n",
       "    <tr>\n",
       "      <th>Dividend Price Ratio</th>\n",
       "      <td>-0.182131</td>\n",
       "      <td>0.369</td>\n",
       "      <td>0.089991</td>\n",
       "    </tr>\n",
       "    <tr>\n",
       "      <th>Dividend Yield</th>\n",
       "      <td>-0.171221</td>\n",
       "      <td>0.356</td>\n",
       "      <td>0.130309</td>\n",
       "    </tr>\n",
       "    <tr>\n",
       "      <th>Earnings Price Ratio</th>\n",
       "      <td>-0.174394</td>\n",
       "      <td>0.758</td>\n",
       "      <td>-0.037092</td>\n",
       "    </tr>\n",
       "    <tr>\n",
       "      <th>Earnings Payout Ratio</th>\n",
       "      <td>-0.467257</td>\n",
       "      <td>0.603</td>\n",
       "      <td>0.076006</td>\n",
       "    </tr>\n",
       "    <tr>\n",
       "      <th>Stock Variance</th>\n",
       "      <td>-1.493501</td>\n",
       "      <td>0.093 *</td>\n",
       "      <td>-0.043466</td>\n",
       "    </tr>\n",
       "    <tr>\n",
       "      <th>Book To Market</th>\n",
       "      <td>-1.084464</td>\n",
       "      <td>0.392</td>\n",
       "      <td>-0.151456</td>\n",
       "    </tr>\n",
       "    <tr>\n",
       "      <th>Net Equity Expansion</th>\n",
       "      <td>-0.359853</td>\n",
       "      <td>0.412</td>\n",
       "      <td>0.047219</td>\n",
       "    </tr>\n",
       "    <tr>\n",
       "      <th>Treasury Bill</th>\n",
       "      <td>-0.219023</td>\n",
       "      <td>0.044 **</td>\n",
       "      <td>0.243582</td>\n",
       "    </tr>\n",
       "    <tr>\n",
       "      <th>Long Term Yield</th>\n",
       "      <td>-0.613617</td>\n",
       "      <td>0.165</td>\n",
       "      <td>0.236009</td>\n",
       "    </tr>\n",
       "    <tr>\n",
       "      <th>Long Term Return</th>\n",
       "      <td>0.186147</td>\n",
       "      <td>0.042 **</td>\n",
       "      <td>0.160331</td>\n",
       "    </tr>\n",
       "    <tr>\n",
       "      <th>Term Spread</th>\n",
       "      <td>-0.522086</td>\n",
       "      <td>0.027 **</td>\n",
       "      <td>0.291191</td>\n",
       "    </tr>\n",
       "    <tr>\n",
       "      <th>Default Yield Spread</th>\n",
       "      <td>-0.539182</td>\n",
       "      <td>0.887</td>\n",
       "      <td>-0.070497</td>\n",
       "    </tr>\n",
       "    <tr>\n",
       "      <th>Default Return Spread</th>\n",
       "      <td>-0.543614</td>\n",
       "      <td>0.996</td>\n",
       "      <td>-0.018239</td>\n",
       "    </tr>\n",
       "    <tr>\n",
       "      <th>Inflation</th>\n",
       "      <td>1.343229</td>\n",
       "      <td>0.032 **</td>\n",
       "      <td>0.280685</td>\n",
       "    </tr>\n",
       "    <tr>\n",
       "      <th>Mean</th>\n",
       "      <td>1.148581</td>\n",
       "      <td>0.004 ***</td>\n",
       "      <td>0.281942</td>\n",
       "    </tr>\n",
       "    <tr>\n",
       "      <th>Median</th>\n",
       "      <td>0.804252</td>\n",
       "      <td>0.003 ***</td>\n",
       "      <td>0.194431</td>\n",
       "    </tr>\n",
       "    <tr>\n",
       "      <th>Trimmed mean</th>\n",
       "      <td>1.080225</td>\n",
       "      <td>0.003 ***</td>\n",
       "      <td>0.269735</td>\n",
       "    </tr>\n",
       "    <tr>\n",
       "      <th>DMSPE theta 1</th>\n",
       "      <td>1.186768</td>\n",
       "      <td>0.003 ***</td>\n",
       "      <td>0.288201</td>\n",
       "    </tr>\n",
       "    <tr>\n",
       "      <th>DMSPE theta 0.9</th>\n",
       "      <td>1.718607</td>\n",
       "      <td>0.0 ***</td>\n",
       "      <td>0.361056</td>\n",
       "    </tr>\n",
       "  </tbody>\n",
       "</table>\n",
       "</div>"
      ],
      "text/plain": [
       "                             R2 significance  Utility Gain\n",
       "Dividend Price Ratio  -0.182131       0.369       0.089991\n",
       "Dividend Yield        -0.171221       0.356       0.130309\n",
       "Earnings Price Ratio  -0.174394       0.758      -0.037092\n",
       "Earnings Payout Ratio -0.467257       0.603       0.076006\n",
       "Stock Variance        -1.493501      0.093 *     -0.043466\n",
       "Book To Market        -1.084464       0.392      -0.151456\n",
       "Net Equity Expansion  -0.359853       0.412       0.047219\n",
       "Treasury Bill         -0.219023     0.044 **      0.243582\n",
       "Long Term Yield       -0.613617       0.165       0.236009\n",
       "Long Term Return       0.186147     0.042 **      0.160331\n",
       "Term Spread           -0.522086     0.027 **      0.291191\n",
       "Default Yield Spread  -0.539182       0.887      -0.070497\n",
       "Default Return Spread -0.543614       0.996      -0.018239\n",
       "Inflation              1.343229     0.032 **      0.280685\n",
       "Mean                   1.148581    0.004 ***      0.281942\n",
       "Median                 0.804252    0.003 ***      0.194431\n",
       "Trimmed mean           1.080225    0.003 ***      0.269735\n",
       "DMSPE theta 1          1.186768    0.003 ***      0.288201\n",
       "DMSPE theta 0.9        1.718607      0.0 ***      0.361056"
      ]
     },
     "execution_count": 174,
     "metadata": {},
     "output_type": "execute_result"
    }
   ],
   "source": [
    "evaluation_matric_df = pd.concat([R_2_OOS, significance, utility_gain], axis=1)\n",
    "evaluation_matric_df.columns = ['R2', 'significance', 'Utility Gain']\n",
    "evaluation_matric_df"
   ]
  },
  {
   "cell_type": "code",
   "execution_count": 176,
   "metadata": {},
   "outputs": [
    {
     "name": "stdout",
     "output_type": "stream",
     "text": [
      "Save table to:../../table/\n"
     ]
    }
   ],
   "source": [
    "post_dataframe_to_latex_table(evaluation_matric_df, table_name='equity premium out-of-sample forecasting')"
   ]
  }
 ],
 "metadata": {
  "kernelspec": {
   "display_name": "tactical_asset_allocation",
   "language": "python",
   "name": "python3"
  },
  "language_info": {
   "codemirror_mode": {
    "name": "ipython",
    "version": 3
   },
   "file_extension": ".py",
   "mimetype": "text/x-python",
   "name": "python",
   "nbconvert_exporter": "python",
   "pygments_lexer": "ipython3",
   "version": "3.9.13"
  },
  "orig_nbformat": 4,
  "vscode": {
   "interpreter": {
    "hash": "7570e427e973fb3b6bfd659c66bf78cc4cabecf651bb8f199a8f71cadb6634f8"
   }
  }
 },
 "nbformat": 4,
 "nbformat_minor": 2
}
