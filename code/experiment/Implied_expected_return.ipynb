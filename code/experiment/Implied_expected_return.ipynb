{
 "cells": [
  {
   "cell_type": "markdown",
   "metadata": {},
   "source": [
    "# Implied Expected Return"
   ]
  },
  {
   "cell_type": "code",
   "execution_count": 1,
   "metadata": {},
   "outputs": [],
   "source": [
    "import pandas as pd\n",
    "import numpy as np\n",
    "from dateutil.relativedelta import relativedelta\n",
    "from datetime import datetime\n",
    "import matplotlib.pyplot as plt\n",
    "import statsmodels.api as sm"
   ]
  },
  {
   "cell_type": "markdown",
   "metadata": {},
   "source": [
    "Load equity return daily data and market portfolio weight daily time series data"
   ]
  },
  {
   "cell_type": "code",
   "execution_count": 2,
   "metadata": {},
   "outputs": [],
   "source": [
    "IVV_IEF_daily_ret = pd.read_csv('/Users/cheng/Google Drive/PhD/Research/Tactical asset allocation/data/IVV_IEF_daily_ret.csv', index_col=0, parse_dates=True)\n",
    "W_MKTCAP_t = pd.read_csv('/Users/cheng/Google Drive/PhD/Research/Tactical asset allocation/data/mktcap_w_ief_ivv.csv', index_col=0, parse_dates=True)\n",
    "rf = pd.read_csv('/Users/cheng/Google Drive/PhD/Research/Tactical asset allocation/data/F-F_Research_Data_Factors_Monthly.csv', usecols=[0,4],index_col=0, parse_dates=True, date_parser = lambda x: datetime.strptime(x, \"%Y%m\"))\n",
    "w_svm = pd.read_csv('/Users/cheng/Google Drive/PhD/Research/Tactical asset allocation/data/weights_svm.csv', index_col=0, parse_dates=True)\n",
    "w_knn = pd.read_csv('/Users/cheng/Google Drive/PhD/Research/Tactical asset allocation/data/weights_knn.csv', index_col=0, parse_dates=True)"
   ]
  },
  {
   "cell_type": "code",
   "execution_count": 3,
   "metadata": {},
   "outputs": [],
   "source": [
    "# select time period for predicting\n",
    "DATE_START = '2003-08-01'\n",
    "DATE_END = '2019-11-30'\n",
    "IVV_IEF_daily_ret = IVV_IEF_daily_ret.loc[DATE_START:DATE_END]\n",
    "W_MKTCAP_t = W_MKTCAP_t[DATE_START:DATE_END]\n",
    "rf = rf[DATE_START:DATE_END] / 100 # FF report rf in percentage"
   ]
  },
  {
   "cell_type": "code",
   "execution_count": 4,
   "metadata": {},
   "outputs": [],
   "source": [
    "# get test data\n",
    "FORECAST_DATE_START = '2003-09-30'\n",
    "FORECAST_DATE_END = '2020-01-01'\n",
    "forecast_time_index = pd.date_range(start=FORECAST_DATE_START, end=FORECAST_DATE_END, freq='M')\n",
    "IVV_IEF_monthly_ret = IVV_IEF_daily_ret.groupby(pd.Grouper(freq='M')).mean()\n",
    "IVV_IEF_monthly_ret_oos = IVV_IEF_monthly_ret.loc[forecast_time_index[:-1]] # drop the last date"
   ]
  },
  {
   "cell_type": "code",
   "execution_count": 5,
   "metadata": {},
   "outputs": [],
   "source": [
    "sigma_t = IVV_IEF_daily_ret.groupby(pd.Grouper(freq='M')).cov()\n",
    "W_MKTCAP_t = W_MKTCAP_t.groupby(pd.Grouper(freq='M')).mean()\n",
    "W_equal = pd.DataFrame(np.ones_like(W_MKTCAP_t)/2, index=W_MKTCAP_t.index, columns=W_MKTCAP_t.columns)"
   ]
  },
  {
   "cell_type": "markdown",
   "metadata": {},
   "source": [
    "Model for implied expected return\n",
    "\\begin{equation}\n",
    "\\mu=l 1+\\gamma \\sum w\n",
    "\\end{equation}\n",
    "In terms of two asset, we have\n",
    "$$\n",
    "\\left[\\begin{array}{l}\\mu_1 \\\\ \\mu_2\\end{array}\\right]=L\\left[\\begin{array}{l}1 \\\\ 1\\end{array}\\right]+\\gamma\\left[\\begin{array}{ll}\\Sigma_{11} & \\Sigma_{12} \\\\ \\Sigma_{21} & \\Sigma_{22}\\end{array}\\right]\\left[\\begin{array}{l}w_1 \\\\ w_2\\end{array}\\right]\n",
    "$$"
   ]
  },
  {
   "cell_type": "code",
   "execution_count": 11,
   "metadata": {},
   "outputs": [],
   "source": [
    "# hyper-parameter\n",
    "N = stock_num = 2\n",
    "l = lagrange_multiplier = 0.001\n",
    "gamma = risk_averse = 2.4"
   ]
  },
  {
   "cell_type": "code",
   "execution_count": 12,
   "metadata": {},
   "outputs": [
    {
     "data": {
      "text/html": [
       "<div>\n",
       "<style scoped>\n",
       "    .dataframe tbody tr th:only-of-type {\n",
       "        vertical-align: middle;\n",
       "    }\n",
       "\n",
       "    .dataframe tbody tr th {\n",
       "        vertical-align: top;\n",
       "    }\n",
       "\n",
       "    .dataframe thead th {\n",
       "        text-align: right;\n",
       "    }\n",
       "</style>\n",
       "<table border=\"1\" class=\"dataframe\">\n",
       "  <thead>\n",
       "    <tr style=\"text-align: right;\">\n",
       "      <th></th>\n",
       "      <th>IVV</th>\n",
       "      <th>IEF</th>\n",
       "    </tr>\n",
       "  </thead>\n",
       "  <tbody>\n",
       "    <tr>\n",
       "      <th>2003-09-30</th>\n",
       "      <td>0.000823</td>\n",
       "      <td>0.000745</td>\n",
       "    </tr>\n",
       "    <tr>\n",
       "      <th>2003-10-31</th>\n",
       "      <td>0.000979</td>\n",
       "      <td>0.000743</td>\n",
       "    </tr>\n",
       "    <tr>\n",
       "      <th>2003-11-30</th>\n",
       "      <td>0.000814</td>\n",
       "      <td>0.000676</td>\n",
       "    </tr>\n",
       "    <tr>\n",
       "      <th>2003-12-31</th>\n",
       "      <td>0.000805</td>\n",
       "      <td>0.000665</td>\n",
       "    </tr>\n",
       "    <tr>\n",
       "      <th>2004-01-31</th>\n",
       "      <td>0.000876</td>\n",
       "      <td>0.000789</td>\n",
       "    </tr>\n",
       "    <tr>\n",
       "      <th>...</th>\n",
       "      <td>...</td>\n",
       "      <td>...</td>\n",
       "    </tr>\n",
       "    <tr>\n",
       "      <th>2019-07-31</th>\n",
       "      <td>0.001899</td>\n",
       "      <td>0.001794</td>\n",
       "    </tr>\n",
       "    <tr>\n",
       "      <th>2019-08-31</th>\n",
       "      <td>0.001962</td>\n",
       "      <td>0.001901</td>\n",
       "    </tr>\n",
       "    <tr>\n",
       "      <th>2019-09-30</th>\n",
       "      <td>0.002046</td>\n",
       "      <td>0.001500</td>\n",
       "    </tr>\n",
       "    <tr>\n",
       "      <th>2019-10-31</th>\n",
       "      <td>0.001865</td>\n",
       "      <td>0.001779</td>\n",
       "    </tr>\n",
       "    <tr>\n",
       "      <th>2019-11-30</th>\n",
       "      <td>0.001642</td>\n",
       "      <td>0.001473</td>\n",
       "    </tr>\n",
       "  </tbody>\n",
       "</table>\n",
       "<p>195 rows × 2 columns</p>\n",
       "</div>"
      ],
      "text/plain": [
       "                 IVV       IEF\n",
       "2003-09-30  0.000823  0.000745\n",
       "2003-10-31  0.000979  0.000743\n",
       "2003-11-30  0.000814  0.000676\n",
       "2003-12-31  0.000805  0.000665\n",
       "2004-01-31  0.000876  0.000789\n",
       "...              ...       ...\n",
       "2019-07-31  0.001899  0.001794\n",
       "2019-08-31  0.001962  0.001901\n",
       "2019-09-30  0.002046  0.001500\n",
       "2019-10-31  0.001865  0.001779\n",
       "2019-11-30  0.001642  0.001473\n",
       "\n",
       "[195 rows x 2 columns]"
      ]
     },
     "execution_count": 12,
     "metadata": {},
     "output_type": "execute_result"
    }
   ],
   "source": [
    "mu_implied = \\\n",
    "    rf.values.reshape(-1, 1, 1) + \\\n",
    "    gamma * sigma_t.values.reshape((-1, 2, 2)) @ W_MKTCAP_t.values.reshape(-1, 2, 1)\n",
    "    \n",
    "mu_implied = pd.DataFrame(mu_implied.reshape(-1, 2), columns=['IVV', 'IEF'], index=forecast_time_index)\n",
    "mu_implied = mu_implied[:-1] # remove the last forecast\n",
    "mu_implied"
   ]
  },
  {
   "cell_type": "markdown",
   "metadata": {},
   "source": [
    "Wrap up into a function"
   ]
  },
  {
   "cell_type": "code",
   "execution_count": 6,
   "metadata": {},
   "outputs": [],
   "source": [
    "def get_implied_expected_return(risk_free_rate:pd.DataFrame, \n",
    "                                equity_daily_return_df:pd.DataFrame,\n",
    "                                W_efficient:pd.DataFrame,\n",
    "                                date_index) -> pd.DataFrame:\n",
    "    '''\n",
    "\n",
    "    '''\n",
    "    # TO DO\n",
    "    # check return df columns match weights df columns\n",
    "\n",
    "    # hyper-parameter\n",
    "    N = stock_num = len(W_efficient.columns)\n",
    "    l = lagrange_multiplier = risk_free_rate\n",
    "    gamma = risk_averse = 2.4\n",
    "    equity_name_list = W_efficient.columns\n",
    "\n",
    "    sigma_t = equity_daily_return_df.groupby(pd.Grouper(freq='M')).cov()\n",
    "\n",
    "    mu_implied = \\\n",
    "        l.values.reshape(-1, 1, 1) + \\\n",
    "        gamma * sigma_t.values.reshape((-1, N, N)) @ W_efficient.values.reshape(-1, N, 1)\n",
    "    \n",
    "    mu_implied = pd.DataFrame(mu_implied.reshape(-1, N), columns=equity_name_list, index=date_index)\n",
    "    mu_implied = mu_implied[:-1] # remove the last forecast\n",
    "    \n",
    "    return(mu_implied)\n",
    "    "
   ]
  },
  {
   "cell_type": "code",
   "execution_count": 7,
   "metadata": {},
   "outputs": [],
   "source": [
    "mu_implied_mktcap = get_implied_expected_return(risk_free_rate=rf, equity_daily_return_df=IVV_IEF_daily_ret, W_efficient=W_MKTCAP_t, date_index=forecast_time_index)\n",
    "mu_implied_equal = get_implied_expected_return(risk_free_rate=rf, equity_daily_return_df=IVV_IEF_daily_ret, W_efficient=W_equal, date_index=forecast_time_index)\n",
    "mu_implied_svm = get_implied_expected_return(risk_free_rate=rf, equity_daily_return_df=IVV_IEF_daily_ret, W_efficient=w_svm, date_index=forecast_time_index)\n",
    "mu_implied_knn = get_implied_expected_return(risk_free_rate=rf, equity_daily_return_df=IVV_IEF_daily_ret, W_efficient=w_knn, date_index=forecast_time_index)"
   ]
  },
  {
   "cell_type": "code",
   "execution_count": 22,
   "metadata": {},
   "outputs": [],
   "source": [
    "# save the expected return forecast\n",
    "mu_implied_mktcap.to_csv('/Users/cheng/Google Drive/PhD/Research/Tactical asset allocation/data/implied_expected_return_MKTCAP.csv')\n",
    "mu_implied_equal.to_csv('/Users/cheng/Google Drive/PhD/Research/Tactical asset allocation/data/implied_expected_return_equal.csv')\n",
    "mu_implied_svm.to_csv('/Users/cheng/Google Drive/PhD/Research/Tactical asset allocation/data/implied_expected_return_svm.csv')\n",
    "mu_implied_knn.to_csv('/Users/cheng/Google Drive/PhD/Research/Tactical asset allocation/data/implied_expected_return_knn.csv')"
   ]
  },
  {
   "cell_type": "markdown",
   "metadata": {},
   "source": [
    "## Performance analyse"
   ]
  },
  {
   "cell_type": "markdown",
   "metadata": {},
   "source": [
    "### Hit ratio (HR)\n",
    "\n",
    "$$\n",
    "HR = \\frac{N_c}{N}\n",
    "$$\n",
    "\n",
    "Where $N_c$ is the number of predictions' sign is aligned with the true returns' sign, and $N$ is the number of predictions."
   ]
  },
  {
   "cell_type": "code",
   "execution_count": 23,
   "metadata": {},
   "outputs": [],
   "source": [
    "N_c = (np.sign(IVV_IEF_monthly_ret_oos) == np.sign(mu_implied)).sum().sum()\n",
    "N = IVV_IEF_monthly_ret_oos.count().sum()\n",
    "HR = N_c / N\n",
    "HR_percentage = HR * 100"
   ]
  },
  {
   "cell_type": "markdown",
   "metadata": {},
   "source": [
    "### Root-Mean-Squared Forecast Error (RMSFE)\n",
    "\n",
    "$$\n",
    "RMSFE = \\sqrt{\\frac{\\sum_{t=1}^n\\left(Y_t-\\hat{Y}_t\\right)^2}{n}}\n",
    "$$"
   ]
  },
  {
   "cell_type": "code",
   "execution_count": 24,
   "metadata": {},
   "outputs": [],
   "source": [
    "RMSFE = np.sqrt(np.square(mu_implied - IVV_IEF_monthly_ret_oos).sum().mean())\n",
    "RMSFE_percentage = RMSFE * 100"
   ]
  },
  {
   "cell_type": "markdown",
   "metadata": {},
   "source": [
    "### Cross-Sectional Standard Deviation\n",
    "\n",
    "$$\n",
    "\\sigma_i = \\frac{\\sum_{t=1}^T \\sigma_{i,t}}{T}\n",
    "$$\n",
    "Where $\\sigma_{i,t}$ is cross-sectional standard deviation at time $t$."
   ]
  },
  {
   "cell_type": "code",
   "execution_count": 25,
   "metadata": {},
   "outputs": [],
   "source": [
    "sigma_i = mu_implied.std(axis=1).mean()\n",
    "sigma_i_percentage = sigma_i * 100"
   ]
  },
  {
   "cell_type": "markdown",
   "metadata": {},
   "source": [
    "### Time Series Volatility\n",
    "$$\n",
    "\\sigma_t = \\frac{\\sum_{i=1}^N \\sigma_{t,i}}{N}\n",
    "$$\n",
    "Where $\\sigma_{t,i}$ is the time series volatility of equity $i$."
   ]
  },
  {
   "cell_type": "code",
   "execution_count": 26,
   "metadata": {},
   "outputs": [],
   "source": [
    "sigma_t = mu_implied.std(axis=0).mean()\n",
    "sigma_t_percentage = sigma_t * 100"
   ]
  },
  {
   "cell_type": "markdown",
   "metadata": {},
   "source": [
    "### The First-order Autocorrelation\n",
    "\n",
    "$$\n",
    "\\rho_1=\\frac{\\sum_{t=2}^T\\left(r_t-\\bar{r}\\right)\\left(r_{t-1}-\\bar{r}\\right)}{\\sum_{t=1}^T\\left(r_t-\\bar{r}\\right)^2}\n",
    "$$"
   ]
  },
  {
   "cell_type": "code",
   "execution_count": 27,
   "metadata": {},
   "outputs": [],
   "source": [
    "#calculate autocorrelations\n",
    "rho_1_vector = mu_implied.apply(lambda x: sm.tsa.acf(x, nlags=1)[1], axis=0)\n",
    "rho_1 = rho_1_vector.mean()\n",
    "rho_1_percentage = rho_1 * 100"
   ]
  },
  {
   "attachments": {},
   "cell_type": "markdown",
   "metadata": {},
   "source": [
    "### $R^2$\n",
    "\n",
    "$$\n",
    "\\begin{equation}\n",
    "R^2 = 1-\\frac{\\sum_i\\left(y_i-f_i\\right)^2}{\\sum_i\\left(y_i-\\bar{y}\\right)^2}\n",
    "\\end{equation}\n",
    "$$"
   ]
  },
  {
   "cell_type": "code",
   "execution_count": 35,
   "metadata": {},
   "outputs": [
    {
     "data": {
      "text/plain": [
       "-1.2315275624154625"
      ]
     },
     "execution_count": 35,
     "metadata": {},
     "output_type": "execute_result"
    }
   ],
   "source": [
    "ss_res = ((IVV_IEF_monthly_ret_oos - mu_implied_svm) ** 2).values.sum()\n",
    "ss_tot = ((IVV_IEF_monthly_ret_oos - IVV_IEF_monthly_ret_oos.mean()) ** 2).values.sum()\n",
    "R_2 = 1 - ss_res / ss_tot\n",
    "R_2"
   ]
  },
  {
   "cell_type": "markdown",
   "metadata": {},
   "source": [
    "### Performance function"
   ]
  },
  {
   "cell_type": "code",
   "execution_count": 36,
   "metadata": {},
   "outputs": [],
   "source": [
    "def get_return_forecast_performance(y_hat:pd.DataFrame, y:pd.DataFrame, forecast_name:str='forecast performance') -> tuple:\n",
    "    '''Evaluate the return forecast in terms of following measurement:\n",
    "    1. Hit ratio (HR)\n",
    "    2. Root-Mean-Squared Forecast Error (RMSFE)\n",
    "    3. Cross-Sectional Standard Deviation\n",
    "    4. Time Series Volatility\n",
    "    5. The First-order Autocorrelation\n",
    "\n",
    "    ----------\n",
    "    Args:\n",
    "    y_hat: return forecast\n",
    "    y: the true value\n",
    "\n",
    "    ----------\n",
    "    Returns:\n",
    "    a dataframe of five measurement\n",
    "    '''\n",
    "\n",
    "    N_c = (np.sign(y) == np.sign(y_hat)).sum().sum()\n",
    "    N = y.count().sum()\n",
    "    HR = N_c / N\n",
    "    HR_percentage = HR * 100\n",
    "\n",
    "    RMSFE = np.sqrt(np.square(y_hat - y).sum().mean())\n",
    "    RMSFE_percentage = RMSFE * 100\n",
    "\n",
    "    sigma_i = y_hat.std(axis=1).mean()\n",
    "    sigma_i_percentage = sigma_i * 100\n",
    "\n",
    "    sigma_t = y_hat.std(axis=0).mean()\n",
    "    sigma_t_percentage = sigma_t * 100\n",
    "\n",
    "    rho_1_vector = y_hat.apply(lambda x: sm.tsa.acf(x, nlags=1)[1], axis=0)\n",
    "    rho_1 = rho_1_vector.mean()\n",
    "    rho_1_percentage = rho_1 * 100\n",
    "\n",
    "    ss_res = ((y - y_hat) ** 2).values.sum()\n",
    "    ss_tot = ((y - y.mean()) ** 2).values.sum()\n",
    "    R_2 = 1 - ss_res / ss_tot\n",
    "\n",
    "    performance_df = pd.DataFrame([HR_percentage, RMSFE_percentage, sigma_i_percentage, sigma_t_percentage, rho_1_percentage, R_2], \n",
    "                                  index=['HR', ' RMSFE', 'sigma_i', 'sigma_t', 'rho_1', 'R^2'],\n",
    "                                  columns=[forecast_name])\n",
    "\n",
    "    return(performance_df)"
   ]
  },
  {
   "cell_type": "code",
   "execution_count": 37,
   "metadata": {},
   "outputs": [
    {
     "data": {
      "text/html": [
       "<div>\n",
       "<style scoped>\n",
       "    .dataframe tbody tr th:only-of-type {\n",
       "        vertical-align: middle;\n",
       "    }\n",
       "\n",
       "    .dataframe tbody tr th {\n",
       "        vertical-align: top;\n",
       "    }\n",
       "\n",
       "    .dataframe thead th {\n",
       "        text-align: right;\n",
       "    }\n",
       "</style>\n",
       "<table border=\"1\" class=\"dataframe\">\n",
       "  <thead>\n",
       "    <tr style=\"text-align: right;\">\n",
       "      <th></th>\n",
       "      <th>HR</th>\n",
       "      <th>RMSFE</th>\n",
       "      <th>sigma_i</th>\n",
       "      <th>sigma_t</th>\n",
       "      <th>rho_1</th>\n",
       "      <th>R^2</th>\n",
       "    </tr>\n",
       "  </thead>\n",
       "  <tbody>\n",
       "    <tr>\n",
       "      <th>MKTCAP</th>\n",
       "      <td>61.025641</td>\n",
       "      <td>3.051864</td>\n",
       "      <td>0.020628</td>\n",
       "      <td>0.134615</td>\n",
       "      <td>96.895911</td>\n",
       "      <td>-1.393877</td>\n",
       "    </tr>\n",
       "    <tr>\n",
       "      <th>Equal Weight</th>\n",
       "      <td>62.307692</td>\n",
       "      <td>2.980684</td>\n",
       "      <td>0.009263</td>\n",
       "      <td>0.132155</td>\n",
       "      <td>98.146977</td>\n",
       "      <td>-1.283513</td>\n",
       "    </tr>\n",
       "    <tr>\n",
       "      <th>SVM</th>\n",
       "      <td>61.025641</td>\n",
       "      <td>2.946561</td>\n",
       "      <td>0.009232</td>\n",
       "      <td>0.131928</td>\n",
       "      <td>98.232712</td>\n",
       "      <td>-1.231528</td>\n",
       "    </tr>\n",
       "    <tr>\n",
       "      <th>KNN</th>\n",
       "      <td>62.051282</td>\n",
       "      <td>2.984022</td>\n",
       "      <td>0.011007</td>\n",
       "      <td>0.132457</td>\n",
       "      <td>97.931872</td>\n",
       "      <td>-1.288629</td>\n",
       "    </tr>\n",
       "  </tbody>\n",
       "</table>\n",
       "</div>"
      ],
      "text/plain": [
       "                     HR     RMSFE   sigma_i   sigma_t      rho_1       R^2\n",
       "MKTCAP        61.025641  3.051864  0.020628  0.134615  96.895911 -1.393877\n",
       "Equal Weight  62.307692  2.980684  0.009263  0.132155  98.146977 -1.283513\n",
       "SVM           61.025641  2.946561  0.009232  0.131928  98.232712 -1.231528\n",
       "KNN           62.051282  2.984022  0.011007  0.132457  97.931872 -1.288629"
      ]
     },
     "execution_count": 37,
     "metadata": {},
     "output_type": "execute_result"
    }
   ],
   "source": [
    "performance_df_svm = get_return_forecast_performance(y_hat= mu_implied_svm, y = IVV_IEF_monthly_ret_oos, forecast_name='SVM')\n",
    "performance_df_knn = get_return_forecast_performance(y_hat= mu_implied_knn, y = IVV_IEF_monthly_ret_oos, forecast_name='KNN')\n",
    "performance_df_equal = get_return_forecast_performance(y_hat= mu_implied_equal, y = IVV_IEF_monthly_ret_oos, forecast_name='Equal Weight')\n",
    "performance_df_mktcap = get_return_forecast_performance(y_hat= mu_implied_mktcap, y = IVV_IEF_monthly_ret_oos, forecast_name='MKTCAP')\n",
    "performance_df = pd.concat([performance_df_mktcap, performance_df_equal, performance_df_svm, performance_df_knn], axis=1).T\n",
    "performance_df"
   ]
  },
  {
   "cell_type": "code",
   "execution_count": 40,
   "metadata": {},
   "outputs": [
    {
     "name": "stderr",
     "output_type": "stream",
     "text": [
      "/var/folders/cb/658kw2yn5c55qk9bt259xgvr0000gn/T/ipykernel_77037/2493249302.py:1: FutureWarning: In future versions `DataFrame.to_latex` is expected to utilise the base implementation of `Styler.to_latex` for formatting and rendering. The arguments signature may therefore change. It is recommended instead to use `DataFrame.style.to_latex` which also contains additional functionality.\n",
      "  performance_df.to_latex('/Users/cheng/Google Drive/PhD/Research/Tactical asset allocation/table/monthly_return_forecasts_performance_12_12.tex', float_format='%.3f')\n"
     ]
    }
   ],
   "source": [
    "performance_df.to_latex('/Users/cheng/Google Drive/PhD/Research/Tactical asset allocation/table/monthly_return_forecasts_performance_12_12.tex', float_format='%.3f')"
   ]
  }
 ],
 "metadata": {
  "kernelspec": {
   "display_name": "Python 3.9.13 ('tactical_asset_allocation')",
   "language": "python",
   "name": "python3"
  },
  "language_info": {
   "codemirror_mode": {
    "name": "ipython",
    "version": 3
   },
   "file_extension": ".py",
   "mimetype": "text/x-python",
   "name": "python",
   "nbconvert_exporter": "python",
   "pygments_lexer": "ipython3",
   "version": "3.9.13 (main, Aug 25 2022, 18:29:29) \n[Clang 12.0.0 ]"
  },
  "orig_nbformat": 4,
  "vscode": {
   "interpreter": {
    "hash": "7570e427e973fb3b6bfd659c66bf78cc4cabecf651bb8f199a8f71cadb6634f8"
   }
  }
 },
 "nbformat": 4,
 "nbformat_minor": 2
}
