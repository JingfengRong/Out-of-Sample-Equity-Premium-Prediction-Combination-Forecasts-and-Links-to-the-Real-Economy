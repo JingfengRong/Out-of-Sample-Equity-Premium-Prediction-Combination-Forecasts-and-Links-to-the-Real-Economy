{
 "cells": [
  {
   "cell_type": "markdown",
   "metadata": {},
   "source": [
    "# Machine Learning Benchmark"
   ]
  },
  {
   "cell_type": "code",
   "execution_count": 674,
   "metadata": {},
   "outputs": [],
   "source": [
    "import pandas as pd\n",
    "import numpy as np\n",
    "from sklearn.preprocessing import StandardScaler\n",
    "import yfinance as yf\n",
    "from sklearn import svm\n",
    "from sklearn.neighbors import KNeighborsClassifier\n",
    "from matplotlib.pyplot import figure\n",
    "import matplotlib.pyplot as plt\n"
   ]
  },
  {
   "cell_type": "markdown",
   "metadata": {},
   "source": [
    "## Data Processing"
   ]
  },
  {
   "cell_type": "code",
   "execution_count": 35,
   "metadata": {},
   "outputs": [
    {
     "name": "stdout",
     "output_type": "stream",
     "text": [
      "[*********************100%***********************]  1 of 1 completed\n",
      "[*********************100%***********************]  1 of 1 completed\n"
     ]
    }
   ],
   "source": [
    "data = pd.read_csv('/Users/cheng/Google Drive/PhD/Research/Tactical asset allocation/data/econ_predictors.csv', index_col = 0, parse_dates=True)\n",
    "data = data['2003': '2021']\n",
    "time_range = data.index\n",
    "\n",
    "SP = yf.download('SPY', start='2003-01-01', end='2021-10-01')['Adj Close']\n",
    "IEF = yf.download('IEF', start='2003-01-01', end='2021-10-01')['Adj Close']"
   ]
  },
  {
   "cell_type": "code",
   "execution_count": 36,
   "metadata": {},
   "outputs": [],
   "source": [
    "# market data\n",
    "SP_ret = SP.diff().dropna()\n",
    "SP_ret = SP_ret.resample('M').mean()\n",
    "date = [date.replace(day=1) for date in SP_ret.index]\n",
    "SP_ret.index = date\n",
    "\n",
    "IEF_ret = IEF.diff().dropna()\n",
    "IEF_ret = IEF_ret.resample('M').mean()\n",
    "date = [date.replace(day=1) for date in IEF_ret.index]\n",
    "IEF_ret.index = date\n",
    "\n",
    "ret_array = np.vstack((SP_ret, IEF_ret)).T"
   ]
  },
  {
   "cell_type": "code",
   "execution_count": 63,
   "metadata": {},
   "outputs": [],
   "source": [
    "# standardize feature set\n",
    "scaler = StandardScaler()\n",
    "scaler.fit(data)\n",
    "X = scaler.transform(data)"
   ]
  },
  {
   "cell_type": "code",
   "execution_count": 153,
   "metadata": {},
   "outputs": [],
   "source": [
    "# add label\n",
    "thredshould = 0\n",
    "label = [SP_ret > thredshould] * 1\n",
    "label = np.asarray([label[0][1:]* 1])\n"
   ]
  },
  {
   "cell_type": "code",
   "execution_count": 155,
   "metadata": {},
   "outputs": [],
   "source": [
    "# combine X and y\n",
    "data = np.concatenate((X[:len(X) - 1], label.T), axis=1)"
   ]
  },
  {
   "cell_type": "code",
   "execution_count": 558,
   "metadata": {},
   "outputs": [],
   "source": [
    "# rolling window subset\n",
    "window_size = 5 * 12\n",
    "year_start = 0\n",
    "year_end = len(data)\n",
    "year_range = np.arange(year_start, year_end)\n",
    "training_idx_list = np.array([np.arange(year, year + window_size, 1) for year in year_range[:-window_size]])\n",
    "testing_idx_list = np.array([training_idx_list[:,window_size-1] + 1]).T"
   ]
  },
  {
   "cell_type": "markdown",
   "metadata": {},
   "source": [
    "## Training and prediction"
   ]
  },
  {
   "cell_type": "code",
   "execution_count": 560,
   "metadata": {},
   "outputs": [],
   "source": [
    "X_train, y_train = data[training_idx_list, 0:12], data[training_idx_list, 12]\n",
    "X_test, y_test = data[testing_idx_list, 0:12], data[testing_idx_list, 12]"
   ]
  },
  {
   "cell_type": "code",
   "execution_count": 519,
   "metadata": {},
   "outputs": [],
   "source": [
    "def get_ml_predict_prob(X_train, y_train, X_test, seed, model):\n",
    "    np.random.seed(seed)\n",
    "    model.fit(X_train, y_train)\n",
    "    prob = model.predict_proba(X_test)[0][1]\n",
    "\n",
    "    return prob\n"
   ]
  },
  {
   "cell_type": "code",
   "execution_count": 535,
   "metadata": {},
   "outputs": [],
   "source": [
    "def get_ml_predict_prob_avg(X_train, y_train, X_test, model):\n",
    "    seed_range = np.arange(0, 30)\n",
    "    \n",
    "    # loop for different seed and get average prob\n",
    "    ml_prob_list = [get_ml_predict_prob(X_train, y_train, X_test, seed, model) for seed in seed_range]\n",
    "    ml_prob_avg = np.mean(ml_prob_list)\n",
    "    return ml_prob_avg"
   ]
  },
  {
   "cell_type": "code",
   "execution_count": 472,
   "metadata": {},
   "outputs": [],
   "source": [
    "clf = svm.SVC(probability = True)\n",
    "neigh = KNeighborsClassifier(n_neighbors=3)"
   ]
  },
  {
   "cell_type": "code",
   "execution_count": 578,
   "metadata": {},
   "outputs": [],
   "source": [
    "svm_prob_list = [get_ml_predict_prob_avg(X_train, y_train, X_test, model = clf) for X_train, y_train, X_test in zip(X_train, y_train, X_test)]\n",
    "knn_prob_list = [get_ml_predict_prob_avg(X_train, y_train, X_test, model = neigh) for X_train, y_train, X_test in zip(X_train, y_train, X_test)]\n",
    "naive_prob_list = [0.5] * len(svm_prob_list)"
   ]
  },
  {
   "cell_type": "markdown",
   "metadata": {},
   "source": [
    "## Backtesting"
   ]
  },
  {
   "cell_type": "code",
   "execution_count": 608,
   "metadata": {},
   "outputs": [],
   "source": [
    "# ml portfolio\n",
    "svm_weights_matrix = np.vstack((np.array(svm_prob_list), 1 - np.array(svm_prob_list)))\n",
    "knn_weights_matrix = np.vstack((np.array(knn_prob_list), 1 - np.array(knn_prob_list)))\n",
    "naive_weights_matrix = np.vstack((np.array(naive_prob_list), 1 - np.array(naive_prob_list)))\n",
    "\n",
    "# market data\n",
    "ret_test = ret_array[(window_size + 1):(window_size + len(X_test) + 1)]\n",
    "#price_test = "
   ]
  },
  {
   "cell_type": "code",
   "execution_count": 632,
   "metadata": {},
   "outputs": [],
   "source": [
    "svm_portfolio_ret = [weight @ ret for weight, ret in zip(svm_weights_matrix.T,ret_test)]\n",
    "knn_portfolio_ret = [weight @ ret for weight, ret in zip(knn_weights_matrix.T,ret_test)]\n",
    "naive_portfolio_ret = [weight @ ret for weight, ret in zip(naive_weights_matrix.T,ret_test)]"
   ]
  },
  {
   "cell_type": "code",
   "execution_count": 635,
   "metadata": {},
   "outputs": [],
   "source": [
    "portfolio_ret_df = pd.DataFrame({'svm': svm_portfolio_ret, 'knn':knn_portfolio_ret, 'naive': naive_portfolio_ret})"
   ]
  },
  {
   "cell_type": "code",
   "execution_count": 687,
   "metadata": {},
   "outputs": [],
   "source": [
    "index = SP_ret.index[(window_size + 1):(window_size + len(X_test) + 1)]"
   ]
  },
  {
   "cell_type": "code",
   "execution_count": 688,
   "metadata": {},
   "outputs": [],
   "source": [
    "portfolio_ret_df.index = index"
   ]
  },
  {
   "cell_type": "code",
   "execution_count": 659,
   "metadata": {},
   "outputs": [
    {
     "data": {
      "text/html": [
       "<div>\n",
       "<style scoped>\n",
       "    .dataframe tbody tr th:only-of-type {\n",
       "        vertical-align: middle;\n",
       "    }\n",
       "\n",
       "    .dataframe tbody tr th {\n",
       "        vertical-align: top;\n",
       "    }\n",
       "\n",
       "    .dataframe thead th {\n",
       "        text-align: right;\n",
       "    }\n",
       "</style>\n",
       "<table border=\"1\" class=\"dataframe\">\n",
       "  <thead>\n",
       "    <tr style=\"text-align: right;\">\n",
       "      <th></th>\n",
       "      <th>svm</th>\n",
       "      <th>knn</th>\n",
       "      <th>naive</th>\n",
       "    </tr>\n",
       "  </thead>\n",
       "  <tbody>\n",
       "    <tr>\n",
       "      <th>0</th>\n",
       "      <td>-0.066696</td>\n",
       "      <td>0.040698</td>\n",
       "      <td>-0.046625</td>\n",
       "    </tr>\n",
       "    <tr>\n",
       "      <th>1</th>\n",
       "      <td>-0.045149</td>\n",
       "      <td>0.086970</td>\n",
       "      <td>-0.046955</td>\n",
       "    </tr>\n",
       "    <tr>\n",
       "      <th>2</th>\n",
       "      <td>-0.064365</td>\n",
       "      <td>0.006488</td>\n",
       "      <td>0.021087</td>\n",
       "    </tr>\n",
       "    <tr>\n",
       "      <th>3</th>\n",
       "      <td>-0.057306</td>\n",
       "      <td>-0.005533</td>\n",
       "      <td>0.031208</td>\n",
       "    </tr>\n",
       "    <tr>\n",
       "      <th>4</th>\n",
       "      <td>-0.302597</td>\n",
       "      <td>-0.274696</td>\n",
       "      <td>-0.169037</td>\n",
       "    </tr>\n",
       "    <tr>\n",
       "      <th>...</th>\n",
       "      <td>...</td>\n",
       "      <td>...</td>\n",
       "      <td>...</td>\n",
       "    </tr>\n",
       "    <tr>\n",
       "      <th>159</th>\n",
       "      <td>-23.656106</td>\n",
       "      <td>-20.473272</td>\n",
       "      <td>178.692355</td>\n",
       "    </tr>\n",
       "    <tr>\n",
       "      <th>160</th>\n",
       "      <td>-31.808103</td>\n",
       "      <td>-28.703442</td>\n",
       "      <td>221.400685</td>\n",
       "    </tr>\n",
       "    <tr>\n",
       "      <th>161</th>\n",
       "      <td>-44.747431</td>\n",
       "      <td>-42.354673</td>\n",
       "      <td>288.269633</td>\n",
       "    </tr>\n",
       "    <tr>\n",
       "      <th>162</th>\n",
       "      <td>-63.906503</td>\n",
       "      <td>-66.646103</td>\n",
       "      <td>370.197114</td>\n",
       "    </tr>\n",
       "    <tr>\n",
       "      <th>163</th>\n",
       "      <td>-12.214242</td>\n",
       "      <td>-1.500840</td>\n",
       "      <td>169.587492</td>\n",
       "    </tr>\n",
       "  </tbody>\n",
       "</table>\n",
       "<p>164 rows × 3 columns</p>\n",
       "</div>"
      ],
      "text/plain": [
       "           svm        knn       naive\n",
       "0    -0.066696   0.040698   -0.046625\n",
       "1    -0.045149   0.086970   -0.046955\n",
       "2    -0.064365   0.006488    0.021087\n",
       "3    -0.057306  -0.005533    0.031208\n",
       "4    -0.302597  -0.274696   -0.169037\n",
       "..         ...        ...         ...\n",
       "159 -23.656106 -20.473272  178.692355\n",
       "160 -31.808103 -28.703442  221.400685\n",
       "161 -44.747431 -42.354673  288.269633\n",
       "162 -63.906503 -66.646103  370.197114\n",
       "163 -12.214242  -1.500840  169.587492\n",
       "\n",
       "[164 rows x 3 columns]"
      ]
     },
     "execution_count": 659,
     "metadata": {},
     "output_type": "execute_result"
    }
   ],
   "source": [
    "portfolio_ret_df.add(1).cumprod().sub(1)"
   ]
  },
  {
   "cell_type": "code",
   "execution_count": 689,
   "metadata": {},
   "outputs": [
    {
     "data": {
      "image/png": "[encoded data removed]",
      "text/plain": [
       "<Figure size 720x360 with 1 Axes>"
      ]
     },
     "metadata": {
      "needs_background": "light"
     },
     "output_type": "display_data"
    }
   ],
   "source": [
    "fig = np.log(portfolio_ret_df[0:120] + 1).cumsum().plot(figsize = (10,5))"
   ]
  },
  {
   "cell_type": "code",
   "execution_count": 690,
   "metadata": {},
   "outputs": [],
   "source": [
    "fig.get_figure().savefig(\"/Users/cheng/Google Drive/PhD/Research/Tactical asset allocation/picture/ml_cum.png\")"
   ]
  }
 ],
 "metadata": {
  "kernelspec": {
   "display_name": "Python 3.9.13 ('tactical_asset_allocation')",
   "language": "python",
   "name": "python3"
  },
  "language_info": {
   "codemirror_mode": {
    "name": "ipython",
    "version": 3
   },
   "file_extension": ".py",
   "mimetype": "text/x-python",
   "name": "python",
   "nbconvert_exporter": "python",
   "pygments_lexer": "ipython3",
   "version": "3.9.13 (main, Aug 25 2022, 18:29:29) \n[Clang 12.0.0 ]"
  },
  "orig_nbformat": 4,
  "vscode": {
   "interpreter": {
    "hash": "7570e427e973fb3b6bfd659c66bf78cc4cabecf651bb8f199a8f71cadb6634f8"
   }
  }
 },
 "nbformat": 4,
 "nbformat_minor": 2
}
