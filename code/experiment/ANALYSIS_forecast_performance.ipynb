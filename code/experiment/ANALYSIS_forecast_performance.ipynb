{
 "cells": [
  {
   "attachments": {},
   "cell_type": "markdown",
   "metadata": {},
   "source": [
    "# Return Forecasting Performance Analysis"
   ]
  },
  {
   "cell_type": "code",
   "execution_count": 41,
   "metadata": {},
   "outputs": [],
   "source": [
    "import pandas as pd\n",
    "import numpy as np\n",
    "import sys\n",
    "import os\n",
    "sys.path.append('../module')\n",
    "from analysis import get_return_forecast_performance\n",
    "from data_handler import get_monthly_date_format\n",
    "from IO_handler import post_dataframe_to_latex_table\n",
    "import matplotlib.pyplot as plt\n"
   ]
  },
  {
   "cell_type": "code",
   "execution_count": 12,
   "metadata": {},
   "outputs": [],
   "source": [
    "ret_pred_ief_elastic = pd.read_csv('../../data/performance_ief_elastic.csv', index_col=0, usecols = [0,1], names=['date','IEF'],header=0,parse_dates=True, date_parser=get_monthly_date_format)\n",
    "ret_pred_ivv_elastic = pd.read_csv('../../data/performance_ivv_elastic.csv', index_col=0, usecols = [0,1], names=['date','IVV'],header=0,parse_dates=True, date_parser=get_monthly_date_format)\n",
    "ret_pred_ief_svm = pd.read_csv('../../data/performance_ief_svm.csv', index_col=0, usecols = [0,1], names=['date','IEF'],header=0,parse_dates=True, date_parser=get_monthly_date_format)\n",
    "ret_pred_ivv_svm = pd.read_csv('../../data/performance_ivv_svm.csv', index_col=0, usecols = [0,1], names=['date','IVV'],header=0,parse_dates=True, date_parser=get_monthly_date_format)\n",
    "ret_pred_ivv_rf = pd.read_csv('../../data/performance_ivv_rf.csv', index_col=0, usecols = [0,1], names=['date','IVV'],header=0,parse_dates=True, date_parser=get_monthly_date_format)\n",
    "ret_pred_ief_rf = pd.read_csv('../../data/performance_ief_rf.csv', index_col=0, usecols = [0,1], names=['date','IEF'],header=0,parse_dates=True, date_parser=get_monthly_date_format)\n",
    "ivv_ief_daily_ret = pd.read_csv('../../data/IVV_IEF_daily_ret.csv', index_col=0, parse_dates=True)"
   ]
  },
  {
   "cell_type": "code",
   "execution_count": 52,
   "metadata": {},
   "outputs": [
    {
     "data": {
      "text/plain": [
       "IVV    0.109114\n",
       "IEF    0.048830\n",
       "dtype: float64"
      ]
     },
     "execution_count": 52,
     "metadata": {},
     "output_type": "execute_result"
    }
   ],
   "source": [
    "ivv_ief_daily_ret.mean() * 252"
   ]
  },
  {
   "attachments": {},
   "cell_type": "markdown",
   "metadata": {},
   "source": [
    "combine forecast for each model"
   ]
  },
  {
   "cell_type": "code",
   "execution_count": 16,
   "metadata": {},
   "outputs": [],
   "source": [
    "ret_pred_ivv_ief_elastic = pd.concat([ret_pred_ivv_elastic, ret_pred_ief_elastic], axis = 1)\n",
    "ret_pred_ivv_ief_svm = pd.concat([ret_pred_ivv_svm, ret_pred_ief_svm], axis = 1)\n",
    "ret_pred_ivv_ief_rf = pd.concat([ret_pred_ivv_rf, ret_pred_ief_rf], axis = 1)\n",
    "DATE_INDEX_PRED = ret_pred_ivv_ief_svm.index"
   ]
  },
  {
   "attachments": {},
   "cell_type": "markdown",
   "metadata": {},
   "source": [
    "prepare true for the return forecast"
   ]
  },
  {
   "cell_type": "code",
   "execution_count": 59,
   "metadata": {},
   "outputs": [],
   "source": [
    "ivv_ief_monthly_ret = ivv_ief_daily_ret.groupby(pd.Grouper(freq='M')).mean() * 20\n",
    "ivv_ief_monthly_ret.index = ivv_ief_monthly_ret.index.to_period(\"M\")\n",
    "ivv_ief_monthly_ret = ivv_ief_monthly_ret.loc[DATE_INDEX_PRED]"
   ]
  },
  {
   "cell_type": "code",
   "execution_count": 60,
   "metadata": {},
   "outputs": [
    {
     "data": {
      "text/plain": [
       "IVV    0.097244\n",
       "IEF    0.049919\n",
       "dtype: float64"
      ]
     },
     "execution_count": 60,
     "metadata": {},
     "output_type": "execute_result"
    }
   ],
   "source": [
    "ivv_ief_monthly_ret.mean() * 12"
   ]
  },
  {
   "attachments": {},
   "cell_type": "markdown",
   "metadata": {},
   "source": [
    "get forecast performance for each model"
   ]
  },
  {
   "cell_type": "code",
   "execution_count": 21,
   "metadata": {},
   "outputs": [
    {
     "data": {
      "text/html": [
       "<div>\n",
       "<style scoped>\n",
       "    .dataframe tbody tr th:only-of-type {\n",
       "        vertical-align: middle;\n",
       "    }\n",
       "\n",
       "    .dataframe tbody tr th {\n",
       "        vertical-align: top;\n",
       "    }\n",
       "\n",
       "    .dataframe thead th {\n",
       "        text-align: right;\n",
       "    }\n",
       "</style>\n",
       "<table border=\"1\" class=\"dataframe\">\n",
       "  <thead>\n",
       "    <tr style=\"text-align: right;\">\n",
       "      <th></th>\n",
       "      <th>elastic</th>\n",
       "      <th>svm</th>\n",
       "      <th>random forest</th>\n",
       "    </tr>\n",
       "  </thead>\n",
       "  <tbody>\n",
       "    <tr>\n",
       "      <th>HR</th>\n",
       "      <td>63.513514</td>\n",
       "      <td>49.662162</td>\n",
       "      <td>68.918919</td>\n",
       "    </tr>\n",
       "    <tr>\n",
       "      <th>RMSFE</th>\n",
       "      <td>1.812482</td>\n",
       "      <td>2.062633</td>\n",
       "      <td>1.716866</td>\n",
       "    </tr>\n",
       "    <tr>\n",
       "      <th>sigma_i</th>\n",
       "      <td>0.037382</td>\n",
       "      <td>0.078753</td>\n",
       "      <td>0.055901</td>\n",
       "    </tr>\n",
       "    <tr>\n",
       "      <th>sigma_t</th>\n",
       "      <td>0.044309</td>\n",
       "      <td>0.064252</td>\n",
       "      <td>0.061087</td>\n",
       "    </tr>\n",
       "    <tr>\n",
       "      <th>rho_1</th>\n",
       "      <td>49.869593</td>\n",
       "      <td>95.786535</td>\n",
       "      <td>56.017692</td>\n",
       "    </tr>\n",
       "    <tr>\n",
       "      <th>R^2</th>\n",
       "      <td>0.063802</td>\n",
       "      <td>-0.212452</td>\n",
       "      <td>0.159974</td>\n",
       "    </tr>\n",
       "  </tbody>\n",
       "</table>\n",
       "</div>"
      ],
      "text/plain": [
       "           elastic        svm  random forest\n",
       "HR       63.513514  49.662162      68.918919\n",
       " RMSFE    1.812482   2.062633       1.716866\n",
       "sigma_i   0.037382   0.078753       0.055901\n",
       "sigma_t   0.044309   0.064252       0.061087\n",
       "rho_1    49.869593  95.786535      56.017692\n",
       "R^2       0.063802  -0.212452       0.159974"
      ]
     },
     "execution_count": 21,
     "metadata": {},
     "output_type": "execute_result"
    }
   ],
   "source": [
    "performance_elastic = get_return_forecast_performance(y_hat=ret_pred_ivv_ief_elastic, y=ivv_ief_monthly_ret, forecast_name='elastic')\n",
    "performance_svm = get_return_forecast_performance(y_hat=ret_pred_ivv_ief_svm, y=ivv_ief_monthly_ret, forecast_name='svm')\n",
    "performance_rf = get_return_forecast_performance(y_hat=ret_pred_ivv_ief_rf, y=ivv_ief_monthly_ret, forecast_name='random forest')\n",
    "performance_df = pd.concat([performance_elastic,performance_svm,performance_rf], axis=1)\n",
    "performance_df"
   ]
  },
  {
   "cell_type": "code",
   "execution_count": 33,
   "metadata": {},
   "outputs": [
    {
     "data": {
      "text/html": [
       "<div>\n",
       "<style scoped>\n",
       "    .dataframe tbody tr th:only-of-type {\n",
       "        vertical-align: middle;\n",
       "    }\n",
       "\n",
       "    .dataframe tbody tr th {\n",
       "        vertical-align: top;\n",
       "    }\n",
       "\n",
       "    .dataframe thead th {\n",
       "        text-align: right;\n",
       "    }\n",
       "</style>\n",
       "<table border=\"1\" class=\"dataframe\">\n",
       "  <thead>\n",
       "    <tr style=\"text-align: right;\">\n",
       "      <th></th>\n",
       "      <th>elastic</th>\n",
       "      <th>svm</th>\n",
       "      <th>random forest</th>\n",
       "    </tr>\n",
       "  </thead>\n",
       "  <tbody>\n",
       "    <tr>\n",
       "      <th>HR</th>\n",
       "      <td>63.513514</td>\n",
       "      <td>49.662162</td>\n",
       "      <td>68.918919</td>\n",
       "    </tr>\n",
       "    <tr>\n",
       "      <th>RMSFE</th>\n",
       "      <td>1.812482</td>\n",
       "      <td>2.062633</td>\n",
       "      <td>1.716866</td>\n",
       "    </tr>\n",
       "    <tr>\n",
       "      <th>sigma_i</th>\n",
       "      <td>0.037382</td>\n",
       "      <td>0.078753</td>\n",
       "      <td>0.055901</td>\n",
       "    </tr>\n",
       "    <tr>\n",
       "      <th>sigma_t</th>\n",
       "      <td>0.044309</td>\n",
       "      <td>0.064252</td>\n",
       "      <td>0.061087</td>\n",
       "    </tr>\n",
       "    <tr>\n",
       "      <th>rho_1</th>\n",
       "      <td>49.869593</td>\n",
       "      <td>95.786535</td>\n",
       "      <td>56.017692</td>\n",
       "    </tr>\n",
       "    <tr>\n",
       "      <th>R^2</th>\n",
       "      <td>0.063802</td>\n",
       "      <td>-0.212452</td>\n",
       "      <td>0.159974</td>\n",
       "    </tr>\n",
       "  </tbody>\n",
       "</table>\n",
       "</div>"
      ],
      "text/plain": [
       "           elastic        svm  random forest\n",
       "HR       63.513514  49.662162      68.918919\n",
       " RMSFE    1.812482   2.062633       1.716866\n",
       "sigma_i   0.037382   0.078753       0.055901\n",
       "sigma_t   0.044309   0.064252       0.061087\n",
       "rho_1    49.869593  95.786535      56.017692\n",
       "R^2       0.063802  -0.212452       0.159974"
      ]
     },
     "execution_count": 33,
     "metadata": {},
     "output_type": "execute_result"
    }
   ],
   "source": [
    "performance_df"
   ]
  },
  {
   "cell_type": "code",
   "execution_count": 32,
   "metadata": {},
   "outputs": [
    {
     "name": "stdout",
     "output_type": "stream",
     "text": [
      "Save table to:../../table/\n"
     ]
    }
   ],
   "source": [
    "post_dataframe_to_latex_table(performance_df.T, 'ml_forecast_performance', kwargs={'header': False})"
   ]
  },
  {
   "cell_type": "code",
   "execution_count": 35,
   "metadata": {},
   "outputs": [
    {
     "data": {
      "text/html": [
       "<div>\n",
       "<style scoped>\n",
       "    .dataframe tbody tr th:only-of-type {\n",
       "        vertical-align: middle;\n",
       "    }\n",
       "\n",
       "    .dataframe tbody tr th {\n",
       "        vertical-align: top;\n",
       "    }\n",
       "\n",
       "    .dataframe thead th {\n",
       "        text-align: right;\n",
       "    }\n",
       "</style>\n",
       "<table border=\"1\" class=\"dataframe\">\n",
       "  <thead>\n",
       "    <tr style=\"text-align: right;\">\n",
       "      <th></th>\n",
       "      <th>IVV</th>\n",
       "      <th>IEF</th>\n",
       "    </tr>\n",
       "    <tr>\n",
       "      <th>date</th>\n",
       "      <th></th>\n",
       "      <th></th>\n",
       "    </tr>\n",
       "  </thead>\n",
       "  <tbody>\n",
       "    <tr>\n",
       "      <th>2007-08</th>\n",
       "      <td>0.000664</td>\n",
       "      <td>0.000980</td>\n",
       "    </tr>\n",
       "    <tr>\n",
       "      <th>2007-09</th>\n",
       "      <td>0.002153</td>\n",
       "      <td>0.000057</td>\n",
       "    </tr>\n",
       "    <tr>\n",
       "      <th>2007-10</th>\n",
       "      <td>0.000645</td>\n",
       "      <td>0.000473</td>\n",
       "    </tr>\n",
       "    <tr>\n",
       "      <th>2007-11</th>\n",
       "      <td>-0.001865</td>\n",
       "      <td>0.001904</td>\n",
       "    </tr>\n",
       "    <tr>\n",
       "      <th>2007-12</th>\n",
       "      <td>-0.000353</td>\n",
       "      <td>0.000042</td>\n",
       "    </tr>\n",
       "    <tr>\n",
       "      <th>...</th>\n",
       "      <td>...</td>\n",
       "      <td>...</td>\n",
       "    </tr>\n",
       "    <tr>\n",
       "      <th>2019-07</th>\n",
       "      <td>0.000699</td>\n",
       "      <td>0.000021</td>\n",
       "    </tr>\n",
       "    <tr>\n",
       "      <th>2019-08</th>\n",
       "      <td>-0.000659</td>\n",
       "      <td>0.001771</td>\n",
       "    </tr>\n",
       "    <tr>\n",
       "      <th>2019-09</th>\n",
       "      <td>0.000981</td>\n",
       "      <td>-0.000587</td>\n",
       "    </tr>\n",
       "    <tr>\n",
       "      <th>2019-10</th>\n",
       "      <td>0.000962</td>\n",
       "      <td>0.000088</td>\n",
       "    </tr>\n",
       "    <tr>\n",
       "      <th>2019-11</th>\n",
       "      <td>0.001794</td>\n",
       "      <td>-0.000339</td>\n",
       "    </tr>\n",
       "  </tbody>\n",
       "</table>\n",
       "<p>148 rows × 2 columns</p>\n",
       "</div>"
      ],
      "text/plain": [
       "              IVV       IEF\n",
       "date                       \n",
       "2007-08  0.000664  0.000980\n",
       "2007-09  0.002153  0.000057\n",
       "2007-10  0.000645  0.000473\n",
       "2007-11 -0.001865  0.001904\n",
       "2007-12 -0.000353  0.000042\n",
       "...           ...       ...\n",
       "2019-07  0.000699  0.000021\n",
       "2019-08 -0.000659  0.001771\n",
       "2019-09  0.000981 -0.000587\n",
       "2019-10  0.000962  0.000088\n",
       "2019-11  0.001794 -0.000339\n",
       "\n",
       "[148 rows x 2 columns]"
      ]
     },
     "execution_count": 35,
     "metadata": {},
     "output_type": "execute_result"
    }
   ],
   "source": [
    "ivv_ief_monthly_ret"
   ]
  },
  {
   "cell_type": "code",
   "execution_count": 50,
   "metadata": {},
   "outputs": [
    {
     "data": {
      "text/html": [
       "<div>\n",
       "<style scoped>\n",
       "    .dataframe tbody tr th:only-of-type {\n",
       "        vertical-align: middle;\n",
       "    }\n",
       "\n",
       "    .dataframe tbody tr th {\n",
       "        vertical-align: top;\n",
       "    }\n",
       "\n",
       "    .dataframe thead th {\n",
       "        text-align: right;\n",
       "    }\n",
       "</style>\n",
       "<table border=\"1\" class=\"dataframe\">\n",
       "  <thead>\n",
       "    <tr style=\"text-align: right;\">\n",
       "      <th></th>\n",
       "      <th>RF prediction</th>\n",
       "      <th>True return</th>\n",
       "    </tr>\n",
       "    <tr>\n",
       "      <th>date</th>\n",
       "      <th></th>\n",
       "      <th></th>\n",
       "    </tr>\n",
       "  </thead>\n",
       "  <tbody>\n",
       "    <tr>\n",
       "      <th>2007-08</th>\n",
       "      <td>0.000170</td>\n",
       "      <td>0.000664</td>\n",
       "    </tr>\n",
       "    <tr>\n",
       "      <th>2007-09</th>\n",
       "      <td>0.000218</td>\n",
       "      <td>0.002153</td>\n",
       "    </tr>\n",
       "    <tr>\n",
       "      <th>2007-10</th>\n",
       "      <td>-0.000107</td>\n",
       "      <td>0.000645</td>\n",
       "    </tr>\n",
       "    <tr>\n",
       "      <th>2007-11</th>\n",
       "      <td>0.000005</td>\n",
       "      <td>-0.001865</td>\n",
       "    </tr>\n",
       "    <tr>\n",
       "      <th>2007-12</th>\n",
       "      <td>0.000518</td>\n",
       "      <td>-0.000353</td>\n",
       "    </tr>\n",
       "    <tr>\n",
       "      <th>...</th>\n",
       "      <td>...</td>\n",
       "      <td>...</td>\n",
       "    </tr>\n",
       "    <tr>\n",
       "      <th>2019-07</th>\n",
       "      <td>0.000468</td>\n",
       "      <td>0.000699</td>\n",
       "    </tr>\n",
       "    <tr>\n",
       "      <th>2019-08</th>\n",
       "      <td>0.001054</td>\n",
       "      <td>-0.000659</td>\n",
       "    </tr>\n",
       "    <tr>\n",
       "      <th>2019-09</th>\n",
       "      <td>0.000434</td>\n",
       "      <td>0.000981</td>\n",
       "    </tr>\n",
       "    <tr>\n",
       "      <th>2019-10</th>\n",
       "      <td>0.000230</td>\n",
       "      <td>0.000962</td>\n",
       "    </tr>\n",
       "    <tr>\n",
       "      <th>2019-11</th>\n",
       "      <td>0.000667</td>\n",
       "      <td>0.001794</td>\n",
       "    </tr>\n",
       "  </tbody>\n",
       "</table>\n",
       "<p>148 rows × 2 columns</p>\n",
       "</div>"
      ],
      "text/plain": [
       "         RF prediction  True return\n",
       "date                               \n",
       "2007-08       0.000170     0.000664\n",
       "2007-09       0.000218     0.002153\n",
       "2007-10      -0.000107     0.000645\n",
       "2007-11       0.000005    -0.001865\n",
       "2007-12       0.000518    -0.000353\n",
       "...                ...          ...\n",
       "2019-07       0.000468     0.000699\n",
       "2019-08       0.001054    -0.000659\n",
       "2019-09       0.000434     0.000981\n",
       "2019-10       0.000230     0.000962\n",
       "2019-11       0.000667     0.001794\n",
       "\n",
       "[148 rows x 2 columns]"
      ]
     },
     "execution_count": 50,
     "metadata": {},
     "output_type": "execute_result"
    }
   ],
   "source": [
    "IVV_pred = pd.concat([ret_pred_ivv_ief_rf['IVV'], ivv_ief_monthly_ret['IVV']], axis=1)\n",
    "IVV_pred.columns = [\"RF prediction\", 'True return']\n",
    "IVV_pred"
   ]
  },
  {
   "cell_type": "code",
   "execution_count": 1,
   "metadata": {},
   "outputs": [
    {
     "ename": "NameError",
     "evalue": "name 'IVV_pred' is not defined",
     "output_type": "error",
     "traceback": [
      "\u001b[0;31m---------------------------------------------------------------------------\u001b[0m",
      "\u001b[0;31mNameError\u001b[0m                                 Traceback (most recent call last)",
      "\u001b[1;32m/Users/cheng/Google Drive/PhD/Research/Non-Myopic Equity Risk Premium/code/experiment/ANALYSIS_forecast_performance.ipynb Cell 16\u001b[0m in \u001b[0;36m<cell line: 1>\u001b[0;34m()\u001b[0m\n\u001b[0;32m----> <a href='vscode-notebook-cell:/Users/cheng/Google%20Drive/PhD/Research/Non-Myopic%20Equity%20Risk%20Premium/code/experiment/ANALYSIS_forecast_performance.ipynb#X21sZmlsZQ%3D%3D?line=0'>1</a>\u001b[0m IVV_pred\u001b[39m.\u001b[39mplot()\n\u001b[1;32m      <a href='vscode-notebook-cell:/Users/cheng/Google%20Drive/PhD/Research/Non-Myopic%20Equity%20Risk%20Premium/code/experiment/ANALYSIS_forecast_performance.ipynb#X21sZmlsZQ%3D%3D?line=1'>2</a>\u001b[0m plt\u001b[39m.\u001b[39mshow()\n",
      "\u001b[0;31mNameError\u001b[0m: name 'IVV_pred' is not defined"
     ]
    }
   ],
   "source": [
    "IVV_pred.plot()\n",
    "plt.show()"
   ]
  },
  {
   "cell_type": "code",
   "execution_count": 45,
   "metadata": {},
   "outputs": [],
   "source": [
    "plt.plot(IVV_pred)\n",
    "plt.show()"
   ]
  },
  {
   "cell_type": "code",
   "execution_count": 34,
   "metadata": {},
   "outputs": [
    {
     "data": {
      "text/html": [
       "<div>\n",
       "<style scoped>\n",
       "    .dataframe tbody tr th:only-of-type {\n",
       "        vertical-align: middle;\n",
       "    }\n",
       "\n",
       "    .dataframe tbody tr th {\n",
       "        vertical-align: top;\n",
       "    }\n",
       "\n",
       "    .dataframe thead th {\n",
       "        text-align: right;\n",
       "    }\n",
       "</style>\n",
       "<table border=\"1\" class=\"dataframe\">\n",
       "  <thead>\n",
       "    <tr style=\"text-align: right;\">\n",
       "      <th></th>\n",
       "      <th>IVV</th>\n",
       "      <th>IEF</th>\n",
       "    </tr>\n",
       "    <tr>\n",
       "      <th>date</th>\n",
       "      <th></th>\n",
       "      <th></th>\n",
       "    </tr>\n",
       "  </thead>\n",
       "  <tbody>\n",
       "    <tr>\n",
       "      <th>2007-08</th>\n",
       "      <td>0.000170</td>\n",
       "      <td>0.000237</td>\n",
       "    </tr>\n",
       "    <tr>\n",
       "      <th>2007-09</th>\n",
       "      <td>0.000218</td>\n",
       "      <td>0.000130</td>\n",
       "    </tr>\n",
       "    <tr>\n",
       "      <th>2007-10</th>\n",
       "      <td>-0.000107</td>\n",
       "      <td>0.000505</td>\n",
       "    </tr>\n",
       "    <tr>\n",
       "      <th>2007-11</th>\n",
       "      <td>0.000005</td>\n",
       "      <td>0.000387</td>\n",
       "    </tr>\n",
       "    <tr>\n",
       "      <th>2007-12</th>\n",
       "      <td>0.000518</td>\n",
       "      <td>0.000065</td>\n",
       "    </tr>\n",
       "    <tr>\n",
       "      <th>...</th>\n",
       "      <td>...</td>\n",
       "      <td>...</td>\n",
       "    </tr>\n",
       "    <tr>\n",
       "      <th>2019-07</th>\n",
       "      <td>0.000468</td>\n",
       "      <td>-0.000080</td>\n",
       "    </tr>\n",
       "    <tr>\n",
       "      <th>2019-08</th>\n",
       "      <td>0.001054</td>\n",
       "      <td>0.000439</td>\n",
       "    </tr>\n",
       "    <tr>\n",
       "      <th>2019-09</th>\n",
       "      <td>0.000434</td>\n",
       "      <td>0.000481</td>\n",
       "    </tr>\n",
       "    <tr>\n",
       "      <th>2019-10</th>\n",
       "      <td>0.000230</td>\n",
       "      <td>-0.000188</td>\n",
       "    </tr>\n",
       "    <tr>\n",
       "      <th>2019-11</th>\n",
       "      <td>0.000667</td>\n",
       "      <td>-0.000264</td>\n",
       "    </tr>\n",
       "  </tbody>\n",
       "</table>\n",
       "<p>148 rows × 2 columns</p>\n",
       "</div>"
      ],
      "text/plain": [
       "              IVV       IEF\n",
       "date                       \n",
       "2007-08  0.000170  0.000237\n",
       "2007-09  0.000218  0.000130\n",
       "2007-10 -0.000107  0.000505\n",
       "2007-11  0.000005  0.000387\n",
       "2007-12  0.000518  0.000065\n",
       "...           ...       ...\n",
       "2019-07  0.000468 -0.000080\n",
       "2019-08  0.001054  0.000439\n",
       "2019-09  0.000434  0.000481\n",
       "2019-10  0.000230 -0.000188\n",
       "2019-11  0.000667 -0.000264\n",
       "\n",
       "[148 rows x 2 columns]"
      ]
     },
     "execution_count": 34,
     "metadata": {},
     "output_type": "execute_result"
    }
   ],
   "source": [
    "ret_pred_ivv_ief_rf"
   ]
  }
 ],
 "metadata": {
  "kernelspec": {
   "display_name": "tactical_asset_allocation",
   "language": "python",
   "name": "python3"
  },
  "language_info": {
   "codemirror_mode": {
    "name": "ipython",
    "version": 3
   },
   "file_extension": ".py",
   "mimetype": "text/x-python",
   "name": "python",
   "nbconvert_exporter": "python",
   "pygments_lexer": "ipython3",
   "version": "3.9.13 (main, Aug 25 2022, 18:29:29) \n[Clang 12.0.0 ]"
  },
  "orig_nbformat": 4,
  "vscode": {
   "interpreter": {
    "hash": "7570e427e973fb3b6bfd659c66bf78cc4cabecf651bb8f199a8f71cadb6634f8"
   }
  }
 },
 "nbformat": 4,
 "nbformat_minor": 2
}
