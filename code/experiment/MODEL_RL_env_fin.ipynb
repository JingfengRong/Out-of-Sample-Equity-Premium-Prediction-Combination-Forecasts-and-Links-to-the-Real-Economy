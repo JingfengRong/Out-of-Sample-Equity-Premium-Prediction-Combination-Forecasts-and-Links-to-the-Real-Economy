{
 "cells": [
  {
   "attachments": {},
   "cell_type": "markdown",
   "metadata": {},
   "source": [
    "# Reinforcement Learning Environment for Economic Market (Time Series)\n",
    "This note book contains the RL environment for finance. We start with a base class for general finance problem. Then we use a derived class for a concrete environment for training."
   ]
  },
  {
   "cell_type": "code",
   "execution_count": 1,
   "metadata": {},
   "outputs": [],
   "source": [
    "import gym\n",
    "import numpy as np\n",
    "import pandas as pd\n",
    "from gym import spaces\n",
    "import random\n",
    "import sys\n",
    "sys.path.append('../module')\n",
    "from typing import Tuple\n",
    "import matplotlib.pyplot as plt\n",
    "\n",
    "from data_handler import get_econ_predictors, \\\n",
    "                         get_quarterly_date_format, \\\n",
    "                        get_monthly_date_format, \\\n",
    "                        get_equities_returns_volatility,\\\n",
    "                        get_equities_returns,\\\n",
    "                        get_env_data\n",
    "%matplotlib inline"
   ]
  },
  {
   "attachments": {},
   "cell_type": "markdown",
   "metadata": {},
   "source": [
    "# RL Environment Base Class for General Finance\n",
    "We firstly introduce a base class for general purpose. This idea is inspired by [gym-anytrading](https://github.com/AminHP/gym-anytrading/blob/296bae49e77d08a7c7349b542cdd00ea7ca23af0/gym_anytrading/envs/trading_env.py)"
   ]
  },
  {
   "cell_type": "code",
   "execution_count": 2,
   "metadata": {},
   "outputs": [],
   "source": [
    "class TimeSeriesEnvBase(gym.Env):\n",
    "    metadata = {\"render_modes\": \"human\"}\n",
    "\n",
    "    def __init__(self):\n",
    "        '''\n",
    "        Initialize the environment.\n",
    "        \n",
    "        Description\n",
    "        -----------\n",
    "        We use the OpenAI gym.Env class as the parent class of our environment.\n",
    "        Here we initialize some key properties of the environment.\n",
    "        We set the observation space and action space for our environment using OpenAI Gym's space API.\n",
    "        '''\n",
    "        self.action_space = None\n",
    "        self.state_space = None\n",
    "        self.state = None\n",
    "        self.reward = 0\n",
    "        self.terminated = False\n",
    "        self.info = {}\n",
    "\n",
    "        self.start_tick = None\n",
    "        self.end_tick = None\n",
    "        self.current_tick = None\n",
    "\n",
    "    def reset(self, seed=None):\n",
    "        '''\n",
    "        Reset the environment`s state. \n",
    "        Set the random seed once at the beginning of the experiment. \n",
    "        Then keep the same seed for the whole experiment.\n",
    "        Also, we need to reset the state to the initial state.\n",
    "        Clear the cumulative reward and other information.\n",
    "        '''\n",
    "        super().reset(seed=seed)\n",
    "        state = None # reset the state to the initial state\n",
    "        info = None\n",
    "\n",
    "        return state, info\n",
    "\n",
    "    def step(self, action):\n",
    "        '''\n",
    "        Take an action and return the next state, reward, done, info.\n",
    "        We use the term \"state\" instead of \"observation\" in this function.\n",
    "        The observation is the state plus some other information.\n",
    "        The state is the representation of the environment.\n",
    "        For research purpose, we want to keep the setting as simple as possible.\n",
    "        Therefore, we only use the state as the input.\n",
    "        '''\n",
    "\n",
    "        state_prime = self._trans_func(action)\n",
    "        reward = self._calculate_reward(action)\n",
    "        terminated = self._is_terminated()\n",
    "        info = self._get_info()\n",
    "\n",
    "        return state_prime, reward, terminated, info\n",
    "    \n",
    "    def _trans_func(self, action):\n",
    "        '''\n",
    "        Move to the next state based on the current state and action.\n",
    "        In the time series data, the transition is represented by the transition of the timestep.\n",
    "        We get the timestep of current state and action value to calculate the next state.\n",
    "        \n",
    "        '''\n",
    "        raise NotImplementedError\n",
    "\n",
    "    def _calculate_reward(self, action):\n",
    "        '''\n",
    "        Since this class is built for time series data, the transition is represented by the transition of the timestep.\n",
    "        Then we only need the timestep of state and action value to calculate the reward.\n",
    "        '''\n",
    "        raise NotImplementedError\n",
    "    \n",
    "    def _is_terminated(self):\n",
    "        '''\n",
    "        Check if the episode is terminated.\n",
    "        '''\n",
    "        raise NotImplementedError\n",
    "    \n",
    "    def _get_info(self):\n",
    "        raise NotImplementedError\n",
    "        \n",
    "    "
   ]
  },
  {
   "attachments": {},
   "cell_type": "markdown",
   "metadata": {},
   "source": [
    "# RL Environment for Economic Market"
   ]
  },
  {
   "attachments": {},
   "cell_type": "markdown",
   "metadata": {},
   "source": [
    "The RL problem is summarized as follow:\n",
    "\\begin{equation}\n",
    "\\begin{aligned}\n",
    "S &= \\{ECON_1, ECON_2, \\dots, ECON_{15}\\} \\\\\n",
    "A &= \\{(w_1, w_2)|w_1, w_2 \\in \\mathbb{R}\\} \\\\\n",
    "R &= \\log(PR)\n",
    "\\end{aligned}\n",
    "\\end{equation}"
   ]
  },
  {
   "cell_type": "code",
   "execution_count": 230,
   "metadata": {},
   "outputs": [],
   "source": [
    "class EconMarketEnv(gym.Env):\n",
    "    metadata = {\"render_modes\": \"human\"}\n",
    "    \"\"\"\n",
    "    This class defines an OpenAI Gym environment for simulating a simple trading market.\n",
    "    The market is modeled as a time series of econ factors.\n",
    "    The environment is used for training trading agents to learn how to select and manage a portfolio of equities.\n",
    "\n",
    "    The EconMarketEnv class is an implementation of the OpenAI Gym Env class.\n",
    "    It has two main functions:\n",
    "        - reset: reset the environment to its initial state and return the first observation\n",
    "        - step: take an action, update the state of the environment, and return the new observation, reward, done, and info.\n",
    "\n",
    "    The environment's state is a vector of econ factors, representing the market at a particular point in time.\n",
    "    The observation is the state vector plus some additional information, (TBD).\n",
    "    The action is a vector representing the portfolio weights for each equity.\n",
    "    The reward is computed based on the portfolio returns.\n",
    "    The environment is considered \"done\" if the episode reaches the last tick of the data.\n",
    "    \"\"\"\n",
    "\n",
    "    def __init__(self, data: pd.DataFrame, portfolio: pd.DataFrame, features: dict):\n",
    "        \"\"\"\n",
    "        Initialize the environment.\n",
    "\n",
    "        Parameters\n",
    "        ----------\n",
    "        data : pandas.DataFrame\n",
    "            The input time series data of econ factors.\n",
    "        portfolio : pandas.DataFrame\n",
    "            The portfolio time series of each individual equity return.\n",
    "\n",
    "        Description\n",
    "        -----------\n",
    "        We set the observation space and action space for our environment using OpenAI Gym's space API.\n",
    "        We also convert the data and portfolio to numpy arrays for performance reasons.\n",
    "        \"\"\"\n",
    "        super(EconMarketEnv, self).__init__()\n",
    "        self.observation_space = spaces.Box(low=-np.inf, high=np.inf, shape=(18,),dtype=np.float64)\n",
    "        self.action_space = spaces.Box(low=-1, high=1, dtype=np.float64)\n",
    "        self.data = data.values\n",
    "        self.index = data.index\n",
    "        self.portfolio = portfolio.values\n",
    "        self.features = features\n",
    "        self.equitites_vol = self.features['volatility'].values\n",
    "\n",
    "        self.start_tick = 0\n",
    "        self.end_tick = data.shape[0] - 2\n",
    "        self.current_tick = None\n",
    "        \n",
    "        self.total_reward = 0\n",
    "        self.port_ret = 0\n",
    "        self.terminated = False\n",
    "        self.info = {}\n",
    "        self.reward = 0.0\n",
    "\n",
    "        self.gamma = 1\n",
    "\n",
    "    def reset(self, seed=None):\n",
    "        '''\n",
    "        Reset the environment's state. \n",
    "    \n",
    "        Parameters\n",
    "        ----------\n",
    "        seed : int, optional\n",
    "            Random seed for the experiment, by default None.\n",
    "        \n",
    "        Returns\n",
    "        -------\n",
    "        state : ndarray\n",
    "            The initial state of the environment.\n",
    "        info : dict\n",
    "            A dictionary of additional information for the initial state.\n",
    "\n",
    "        Notes\n",
    "        -----\n",
    "        Set the random seed once at the beginning of the experiment. \n",
    "        Then keep the same seed for the whole experiment.\n",
    "        '''\n",
    "        super().reset(seed=seed)\n",
    "        self.current_tick = self.start_tick\n",
    "        state = self.data[self.current_tick]\n",
    "        state = np.append(state, [0.5, 0.5, 0.0]) # add weights and portfolio return\n",
    "\n",
    "        self.reward = 0.0\n",
    "        self.total_reward = 0.0\n",
    "        self.terminated = False\n",
    "        self.port_ret = 0.0\n",
    "        self.info = {}\n",
    "\n",
    "        return state\n",
    "    \n",
    "    def step(self, action):\n",
    "        '''\n",
    "        Takes an action and returns the next state, reward, done, info.\n",
    "\n",
    "        Parameters:\n",
    "        -----------\n",
    "        state : numpy.ndarray\n",
    "            The current state of the environment.\n",
    "        action : int\n",
    "            The action taken by the agent.\n",
    "\n",
    "        Returns:\n",
    "        --------\n",
    "        state_prime : numpy.ndarray\n",
    "            The next state of the environment.\n",
    "        reward : float\n",
    "            The reward received by the agent.\n",
    "        terminated : bool\n",
    "            True if the episode is over, False otherwise.\n",
    "        info : dict\n",
    "            A dictionary containing any additional information about the transition.\n",
    "\n",
    "        Notes:\n",
    "        ------\n",
    "        We use the term \"state\" instead of \"observation\" in this function.\n",
    "        The observation is the state plus some other information.\n",
    "        The state is the representation of the environment.\n",
    "        For research purposes, we want to keep the setting as simple as possible.\n",
    "        Therefore, we only use the state as the input.\n",
    "        '''\n",
    "        self.terminated = self._is_terminated()\n",
    "        self.reward = self._calculate_reward(action)\n",
    "        state_prime = self._trans_func(action)\n",
    "        info = self._get_info()\n",
    "        self.total_reward += self.reward\n",
    "\n",
    "        return state_prime, self.reward, self.terminated, info\n",
    "\n",
    "    \n",
    "    def _trans_func(self, action):\n",
    "        '''\n",
    "        Move to the next state based on the current state and action.\n",
    "\n",
    "        Parameters:\n",
    "        ----------\n",
    "        state : ndarray\n",
    "            A numpy array that represents the current state of the environment.\n",
    "        action : float\n",
    "            An float that represents the action taken by the agent.\n",
    "\n",
    "        Returns:\n",
    "        -------\n",
    "        state_prime : ndarray\n",
    "            A numpy array that represents the next state of the environment.\n",
    "\n",
    "        Description:\n",
    "        ------------\n",
    "        In the time series data, the transition is represented by the transition of the timestep.\n",
    "        We get the timestep of current state and action value to calculate the next state.    \n",
    "        '''\n",
    "        state_prime = self.data[self.current_tick + 1]\n",
    "        state_prime = np.append(state_prime, [action[0], 1 - action[0], np.sign(self.reward)])\n",
    "        self.current_tick += 1\n",
    "\n",
    "        return state_prime\n",
    "        \n",
    "    def _calculate_reward(self, action):\n",
    "        '''\n",
    "        Calculate the reward based on the current state and action.\n",
    "        \n",
    "        Parameters\n",
    "        ----------\n",
    "        state : numpy array\n",
    "            The current state of the environment.\n",
    "        action : numpy array\n",
    "            The action taken by the agent.\n",
    "\n",
    "        Returns\n",
    "        -------\n",
    "        float\n",
    "            The reward for the current state and action.\n",
    "        \n",
    "        Description:\n",
    "        ------------\n",
    "        For time series data, the transition is represented by the transition of the timestep.\n",
    "        We get the timestep of current state and action value to calculate the reward.\n",
    "        We need wait untile the next timestep to get the equity return.\n",
    "        Then we calculate the reward by the portfolio weight and the equity return.\n",
    "        '''\n",
    "        w = np.array([action, 1 - action]).reshape(-1,)\n",
    "        self.port_ret = w @ self.portfolio[self.current_tick + 1]\n",
    "        port_std = self.equitites_vol[self.current_tick + 1]\n",
    "        utility = self.port_ret - self.gamma * w ** 2 @ port_std ** 2\n",
    "        # reward = np.log(self.port_ret + 1)\n",
    "    \n",
    "        return utility\n",
    "\n",
    "    def _is_terminated(self):\n",
    "        '''\n",
    "        Check if the episode is terminated.\n",
    "        \n",
    "        Returns\n",
    "        -------\n",
    "        bool\n",
    "            True if the episode is terminated, False otherwise.\n",
    "        \n",
    "        Description:\n",
    "        ------------\n",
    "            An episode is terminated if the current tick is equal to the end tick.\n",
    "        '''\n",
    "        return self.current_tick == self.end_tick\n",
    "\n",
    "    def _get_info(self):\n",
    "        return {'portfolio return': self.port_ret, 'date': self.index[self.current_tick]}"
   ]
  },
  {
   "attachments": {},
   "cell_type": "markdown",
   "metadata": {},
   "source": [
    "# Test the environment"
   ]
  },
  {
   "attachments": {},
   "cell_type": "markdown",
   "metadata": {},
   "source": [
    "prepare the data to construct the environment"
   ]
  },
  {
   "cell_type": "code",
   "execution_count": 16,
   "metadata": {},
   "outputs": [],
   "source": [
    "def get_env_data(start_date: str, end_date: str, data_freq: str = 'quarterly') -> Tuple[pd.DataFrame, pd.DataFrame, pd.DataFrame]:\n",
    "    \"\"\"\n",
    "    Retrieve economic predictors, equities returns, and equities returns volatility data within the specified dates.\n",
    "\n",
    "    Parameters:\n",
    "    -----------\n",
    "    start_date : str\n",
    "        The start date in 'YYYY' format.\n",
    "    end_date : str\n",
    "        The end date in 'YYYY' format.\n",
    "    data_freq : str\n",
    "        The frequency of the data, either 'quarterly' or 'monthly'.\n",
    "\n",
    "    Returns:\n",
    "    --------\n",
    "    A tuple of the following:\n",
    "        - A data frame containing the economic predictors within the specified dates\n",
    "        - A series of equities returns within the specified dates\n",
    "        - A series of equities returns volatility within the specified dates\n",
    "    \"\"\"\n",
    "    data = get_econ_predictors(data_freq=data_freq, START_DATE=start_date, END_DATE=end_date)\n",
    "    data.pop('Equity Premium')\n",
    "    equities_returns = get_equities_returns(data_freq=data_freq)\n",
    "    equities_returns_vol = get_equities_returns_volatility(data_freq=data_freq)\n",
    "\n",
    "    data = data.loc[start_date:end_date]\n",
    "    index = data.index\n",
    "    equities_returns = equities_returns.loc[index]\n",
    "    equities_returns_vol = equities_returns_vol.loc[index]\n",
    "\n",
    "    return data, equities_returns, equities_returns_vol\n"
   ]
  },
  {
   "cell_type": "code",
   "execution_count": 14,
   "metadata": {},
   "outputs": [],
   "source": [
    "data, equities_returns, equities_returns_vol = get_env_data('1947', '1951')"
   ]
  },
  {
   "cell_type": "code",
   "execution_count": 3,
   "metadata": {},
   "outputs": [],
   "source": [
    "from RL_env import EconMarketEnv\n",
    "env_test = EconMarketEnv(data, equities_returns, {'volatility': equities_returns_vol})"
   ]
  },
  {
   "attachments": {},
   "cell_type": "markdown",
   "metadata": {},
   "source": [
    "Test the constructor of the environment class"
   ]
  },
  {
   "cell_type": "code",
   "execution_count": 13,
   "metadata": {},
   "outputs": [
    {
     "name": "stdout",
     "output_type": "stream",
     "text": [
      "(21, 15)\n",
      "(24, 2)\n",
      "PeriodIndex(['2000-03', '2000-06', '2000-09', '2000-12', '2001-03', '2001-06',\n",
      "             '2001-09', '2001-12', '2002-03', '2002-06', '2002-09', '2002-12',\n",
      "             '2003-03', '2003-06', '2003-09', '2003-12', '2004-03', '2004-06',\n",
      "             '2004-09', '2004-12', '2005-03'],\n",
      "            dtype='period[M]')\n",
      "0\n",
      "19\n",
      "None\n",
      "0\n",
      "False\n",
      "0.0\n",
      "{}\n"
     ]
    }
   ],
   "source": [
    "print(env_test.data.shape)\n",
    "print(env_test.portfolio.shape)\n",
    "print(env_test.index)\n",
    "print(env_test.start_tick)\n",
    "print(env_test.end_tick)\n",
    "print(env_test.current_tick)\n",
    "print(env_test.total_reward)\n",
    "print(env_test.terminated)\n",
    "print(env_test.reward)\n",
    "print(env_test.info)"
   ]
  },
  {
   "attachments": {},
   "cell_type": "markdown",
   "metadata": {},
   "source": [
    "Test the rest() function"
   ]
  },
  {
   "cell_type": "code",
   "execution_count": 53,
   "metadata": {},
   "outputs": [
    {
     "name": "stdout",
     "output_type": "stream",
     "text": [
      "[-4.49315885 -4.47339293 -3.38142851 -1.11173034  0.01488508  0.14997356\n",
      "  0.01829139  0.0569      0.0618      0.08832965  0.0049      0.0069\n",
      " -0.06422931  0.01723113  0.04337264  0.5         0.5         0.        ]\n",
      "0\n",
      "0\n",
      "False\n",
      "{'bit_generator': 'PCG64', 'state': {'state': 241834680195789509926839563169936010333, 'inc': 30008503642980956324491363429807189605}, 'has_uint32': 0, 'uinteger': 0}\n",
      "[-4.49315885 -4.47339293 -3.38142851 -1.11173034  0.01488508  0.14997356\n",
      "  0.01829139  0.0569      0.0618      0.08832965  0.0049      0.0069\n",
      " -0.06422931  0.01723113  0.04337264  0.5         0.5         0.        ]\n",
      "{'bit_generator': 'PCG64', 'state': {'state': 241834680195789509926839563169936010333, 'inc': 30008503642980956324491363429807189605}, 'has_uint32': 0, 'uinteger': 0}\n"
     ]
    }
   ],
   "source": [
    "print(env_test.reset(100))\n",
    "print(env_test.current_tick)\n",
    "print(env_test.total_reward)\n",
    "print(env_test.terminated)\n",
    "print(env_test.np_random.__getstate__())\n",
    "print(env_test.reset())\n",
    "print(env_test.np_random.__getstate__())"
   ]
  },
  {
   "attachments": {},
   "cell_type": "markdown",
   "metadata": {},
   "source": [
    "Test the step() function"
   ]
  },
  {
   "cell_type": "code",
   "execution_count": 74,
   "metadata": {},
   "outputs": [
    {
     "ename": "IndexError",
     "evalue": "index 21 is out of bounds for axis 0 with size 21",
     "output_type": "error",
     "traceback": [
      "\u001b[0;31m---------------------------------------------------------------------------\u001b[0m",
      "\u001b[0;31mIndexError\u001b[0m                                Traceback (most recent call last)",
      "\u001b[0;32m/tmp/ipykernel_2476147/1746340952.py\u001b[0m in \u001b[0;36m<module>\u001b[0;34m\u001b[0m\n\u001b[1;32m      1\u001b[0m \u001b[0maction\u001b[0m \u001b[0;34m=\u001b[0m \u001b[0mnp\u001b[0m\u001b[0;34m.\u001b[0m\u001b[0marray\u001b[0m\u001b[0;34m(\u001b[0m\u001b[0;34m[\u001b[0m\u001b[0;36m0\u001b[0m\u001b[0;34m]\u001b[0m\u001b[0;34m)\u001b[0m\u001b[0;34m\u001b[0m\u001b[0;34m\u001b[0m\u001b[0m\n\u001b[0;32m----> 2\u001b[0;31m \u001b[0mstate_prime\u001b[0m \u001b[0;34m=\u001b[0m \u001b[0menv_test\u001b[0m\u001b[0;34m.\u001b[0m\u001b[0mstep\u001b[0m\u001b[0;34m(\u001b[0m\u001b[0maction\u001b[0m\u001b[0;34m)\u001b[0m\u001b[0;34m\u001b[0m\u001b[0;34m\u001b[0m\u001b[0m\n\u001b[0m\u001b[1;32m      3\u001b[0m \u001b[0mprint\u001b[0m\u001b[0;34m(\u001b[0m\u001b[0mstate_prime\u001b[0m\u001b[0;34m)\u001b[0m\u001b[0;34m\u001b[0m\u001b[0;34m\u001b[0m\u001b[0m\n\u001b[1;32m      4\u001b[0m \u001b[0mprint\u001b[0m\u001b[0;34m(\u001b[0m\u001b[0menv_test\u001b[0m\u001b[0;34m.\u001b[0m\u001b[0mport_ret\u001b[0m\u001b[0;34m)\u001b[0m\u001b[0;34m\u001b[0m\u001b[0;34m\u001b[0m\u001b[0m\n\u001b[1;32m      5\u001b[0m \u001b[0mprint\u001b[0m\u001b[0;34m(\u001b[0m\u001b[0menv_test\u001b[0m\u001b[0;34m.\u001b[0m\u001b[0mcurrent_tick\u001b[0m\u001b[0;34m)\u001b[0m\u001b[0;34m\u001b[0m\u001b[0;34m\u001b[0m\u001b[0m\n",
      "\u001b[0;32m/tmp/ipykernel_2476147/923559212.py\u001b[0m in \u001b[0;36mstep\u001b[0;34m(self, action)\u001b[0m\n\u001b[1;32m    121\u001b[0m         \u001b[0mself\u001b[0m\u001b[0;34m.\u001b[0m\u001b[0mterminated\u001b[0m \u001b[0;34m=\u001b[0m \u001b[0mself\u001b[0m\u001b[0;34m.\u001b[0m\u001b[0m_is_terminated\u001b[0m\u001b[0;34m(\u001b[0m\u001b[0;34m)\u001b[0m\u001b[0;34m\u001b[0m\u001b[0;34m\u001b[0m\u001b[0m\n\u001b[1;32m    122\u001b[0m         \u001b[0mself\u001b[0m\u001b[0;34m.\u001b[0m\u001b[0mreward\u001b[0m \u001b[0;34m=\u001b[0m \u001b[0mself\u001b[0m\u001b[0;34m.\u001b[0m\u001b[0m_calculate_reward\u001b[0m\u001b[0;34m(\u001b[0m\u001b[0maction\u001b[0m\u001b[0;34m)\u001b[0m\u001b[0;34m\u001b[0m\u001b[0;34m\u001b[0m\u001b[0m\n\u001b[0;32m--> 123\u001b[0;31m         \u001b[0mstate_prime\u001b[0m \u001b[0;34m=\u001b[0m \u001b[0mself\u001b[0m\u001b[0;34m.\u001b[0m\u001b[0m_trans_func\u001b[0m\u001b[0;34m(\u001b[0m\u001b[0maction\u001b[0m\u001b[0;34m)\u001b[0m\u001b[0;34m\u001b[0m\u001b[0;34m\u001b[0m\u001b[0m\n\u001b[0m\u001b[1;32m    124\u001b[0m         \u001b[0minfo\u001b[0m \u001b[0;34m=\u001b[0m \u001b[0mself\u001b[0m\u001b[0;34m.\u001b[0m\u001b[0m_get_info\u001b[0m\u001b[0;34m(\u001b[0m\u001b[0;34m)\u001b[0m\u001b[0;34m\u001b[0m\u001b[0;34m\u001b[0m\u001b[0m\n\u001b[1;32m    125\u001b[0m         \u001b[0mself\u001b[0m\u001b[0;34m.\u001b[0m\u001b[0mtotal_reward\u001b[0m \u001b[0;34m+=\u001b[0m \u001b[0mself\u001b[0m\u001b[0;34m.\u001b[0m\u001b[0mreward\u001b[0m\u001b[0;34m\u001b[0m\u001b[0;34m\u001b[0m\u001b[0m\n",
      "\u001b[0;32m/tmp/ipykernel_2476147/923559212.py\u001b[0m in \u001b[0;36m_trans_func\u001b[0;34m(self, action)\u001b[0m\n\u001b[1;32m    149\u001b[0m         \u001b[0mWe\u001b[0m \u001b[0mget\u001b[0m \u001b[0mthe\u001b[0m \u001b[0mtimestep\u001b[0m \u001b[0mof\u001b[0m \u001b[0mcurrent\u001b[0m \u001b[0mstate\u001b[0m \u001b[0;32mand\u001b[0m \u001b[0maction\u001b[0m \u001b[0mvalue\u001b[0m \u001b[0mto\u001b[0m \u001b[0mcalculate\u001b[0m \u001b[0mthe\u001b[0m \u001b[0mnext\u001b[0m \u001b[0mstate\u001b[0m\u001b[0;34m.\u001b[0m\u001b[0;34m\u001b[0m\u001b[0;34m\u001b[0m\u001b[0m\n\u001b[1;32m    150\u001b[0m         '''\n\u001b[0;32m--> 151\u001b[0;31m         \u001b[0mstate_prime\u001b[0m \u001b[0;34m=\u001b[0m \u001b[0mself\u001b[0m\u001b[0;34m.\u001b[0m\u001b[0mdata\u001b[0m\u001b[0;34m[\u001b[0m\u001b[0mself\u001b[0m\u001b[0;34m.\u001b[0m\u001b[0mcurrent_tick\u001b[0m \u001b[0;34m+\u001b[0m \u001b[0;36m1\u001b[0m\u001b[0;34m]\u001b[0m\u001b[0;34m\u001b[0m\u001b[0;34m\u001b[0m\u001b[0m\n\u001b[0m\u001b[1;32m    152\u001b[0m         \u001b[0mstate_prime\u001b[0m \u001b[0;34m=\u001b[0m \u001b[0mnp\u001b[0m\u001b[0;34m.\u001b[0m\u001b[0mappend\u001b[0m\u001b[0;34m(\u001b[0m\u001b[0mstate_prime\u001b[0m\u001b[0;34m,\u001b[0m \u001b[0;34m[\u001b[0m\u001b[0maction\u001b[0m\u001b[0;34m[\u001b[0m\u001b[0;36m0\u001b[0m\u001b[0;34m]\u001b[0m\u001b[0;34m,\u001b[0m \u001b[0;36m1\u001b[0m \u001b[0;34m-\u001b[0m \u001b[0maction\u001b[0m\u001b[0;34m[\u001b[0m\u001b[0;36m0\u001b[0m\u001b[0;34m]\u001b[0m\u001b[0;34m,\u001b[0m \u001b[0mself\u001b[0m\u001b[0;34m.\u001b[0m\u001b[0mreward\u001b[0m\u001b[0;34m]\u001b[0m\u001b[0;34m)\u001b[0m\u001b[0;34m\u001b[0m\u001b[0;34m\u001b[0m\u001b[0m\n\u001b[1;32m    153\u001b[0m         \u001b[0mself\u001b[0m\u001b[0;34m.\u001b[0m\u001b[0mcurrent_tick\u001b[0m \u001b[0;34m+=\u001b[0m \u001b[0;36m1\u001b[0m\u001b[0;34m\u001b[0m\u001b[0;34m\u001b[0m\u001b[0m\n",
      "\u001b[0;31mIndexError\u001b[0m: index 21 is out of bounds for axis 0 with size 21"
     ]
    }
   ],
   "source": [
    "action = np.array([0])\n",
    "state_prime = env_test.step(action)\n",
    "print(state_prime)\n",
    "print(env_test.port_ret)\n",
    "print(env_test.current_tick)\n",
    "print(env_test.total_reward)\n",
    "print(env_test.terminated)\n"
   ]
  },
  {
   "attachments": {},
   "cell_type": "markdown",
   "metadata": {},
   "source": [
    "Test the environment as a whole"
   ]
  },
  {
   "cell_type": "code",
   "execution_count": 5,
   "metadata": {},
   "outputs": [
    {
     "name": "stdout",
     "output_type": "stream",
     "text": [
      "Total reward: -0.10317679779705956\n"
     ]
    }
   ],
   "source": [
    "env = EconMarketEnv(data, equities_returns, {'volatility': equities_returns_vol})  # create an instance of your environment\n",
    "np.random.seed(1234)  # set the random seed to 1234\n",
    "random.seed(1234)  # set the random seed to 1234\n",
    "\n",
    "# reset the environment to get the initial state\n",
    "state = env.reset(1234)\n",
    "done = False  # whether the episode is done\n",
    "total_reward = 0  # the total reward earned during the episode\n",
    "\n",
    "while not done:\n",
    "    # randomly select an action from the action space\n",
    "    action = env.action_space.sample()\n",
    "\n",
    "    # take a step in the environment with the selected action\n",
    "    next_state, reward, done, info = env.step(action)\n",
    "\n",
    "    total_reward += reward  # accumulate the reward\n",
    "\n",
    "print(f'Total reward: {total_reward}')\n"
   ]
  },
  {
   "attachments": {},
   "cell_type": "markdown",
   "metadata": {},
   "source": [
    "Make the environment compatible with stable-baselines3"
   ]
  },
  {
   "cell_type": "code",
   "execution_count": 6,
   "metadata": {},
   "outputs": [],
   "source": [
    "from stable_baselines3.common.env_checker import check_env"
   ]
  },
  {
   "cell_type": "code",
   "execution_count": 7,
   "metadata": {},
   "outputs": [],
   "source": [
    "check_env(env)"
   ]
  },
  {
   "attachments": {},
   "cell_type": "markdown",
   "metadata": {},
   "source": [
    "Train SB3 agent on the environment"
   ]
  },
  {
   "cell_type": "code",
   "execution_count": 77,
   "metadata": {},
   "outputs": [
    {
     "data": {
      "application/vnd.jupyter.widget-view+json": {
       "model_id": "f2792e3bf6e44706b29d3756b38da3ea",
       "version_major": 2,
       "version_minor": 0
      },
      "text/plain": [
       "Output()"
      ]
     },
     "metadata": {},
     "output_type": "display_data"
    },
    {
     "data": {
      "text/html": [
       "<pre style=\"white-space:pre;overflow-x:auto;line-height:normal;font-family:Menlo,'DejaVu Sans Mono',consolas,'Courier New',monospace\"></pre>\n"
      ],
      "text/plain": []
     },
     "metadata": {},
     "output_type": "display_data"
    },
    {
     "data": {
      "text/html": [
       "<pre style=\"white-space:pre;overflow-x:auto;line-height:normal;font-family:Menlo,'DejaVu Sans Mono',consolas,'Courier New',monospace\">\n",
       "</pre>\n"
      ],
      "text/plain": [
       "\n"
      ]
     },
     "metadata": {},
     "output_type": "display_data"
    }
   ],
   "source": [
    "from stable_baselines3.common.evaluation import evaluate_policy\n",
    "from stable_baselines3 import PPO, A2C, TD3\n",
    "\n",
    "# Create environment\n",
    "env = EconMarketEnv(data, equities_returns, {'volatility': equities_returns_vol})\n",
    "\n",
    "# Instantiate the agent\n",
    "model = PPO(\"MlpPolicy\", env, verbose=0, tensorboard_log=\"../../log/tensorboard_reward_utility/\")\n",
    "\n",
    "# Train the agent and display a progress bar\n",
    "model.learn(total_timesteps=int(2e5), progress_bar=True)\n",
    "\n",
    "model.save(\"../../log/model/ppo_reward_utility\")\n"
   ]
  },
  {
   "attachments": {},
   "cell_type": "markdown",
   "metadata": {},
   "source": [
    "# Extract action information from training period"
   ]
  },
  {
   "cell_type": "code",
   "execution_count": 2,
   "metadata": {},
   "outputs": [
    {
     "data": {
      "application/vnd.jupyter.widget-view+json": {
       "model_id": "a9225e4880e2466faf22159b4ae213c7",
       "version_major": 2,
       "version_minor": 0
      },
      "text/plain": [
       "Output()"
      ]
     },
     "metadata": {},
     "output_type": "display_data"
    },
    {
     "data": {
      "text/html": [
       "<pre style=\"white-space:pre;overflow-x:auto;line-height:normal;font-family:Menlo,'DejaVu Sans Mono',consolas,'Courier New',monospace\"></pre>\n"
      ],
      "text/plain": []
     },
     "metadata": {},
     "output_type": "display_data"
    },
    {
     "data": {
      "text/html": [
       "<pre style=\"white-space:pre;overflow-x:auto;line-height:normal;font-family:Menlo,'DejaVu Sans Mono',consolas,'Courier New',monospace\">\n",
       "</pre>\n"
      ],
      "text/plain": [
       "\n"
      ]
     },
     "metadata": {},
     "output_type": "display_data"
    }
   ],
   "source": [
    "from RL_env import EconMarketEnv\n",
    "from stable_baselines3 import PPO\n",
    "\n",
    "data, equities_returns, equities_returns_vol = get_env_data('1965', '1969')\n",
    "env = EconMarketEnv(data, equities_returns, {'volatility': equities_returns_vol})\n",
    "model = PPO(\"MlpPolicy\", env, tensorboard_log=\"../../log/tensorboard_reward_utility/\", verbose=0)\n",
    "model = model.learn(int(2e5), progress_bar=True)\n",
    "model.save(\"../../log/model/ppo_reward_utility\")\n",
    "# del model"
   ]
  },
  {
   "cell_type": "code",
   "execution_count": 4,
   "metadata": {},
   "outputs": [
    {
     "name": "stdout",
     "output_type": "stream",
     "text": [
      "Total reward: 0.12008318091684456\n"
     ]
    }
   ],
   "source": [
    "\n",
    "# env = EconMarketEnv(data, equities_returns, {'volatility': equities_returns_vol})\n",
    "#model = PPO.load(\"../../log/model/ppo_reward_utility\", env=env)\n",
    "state = env.reset()\n",
    "done = False \n",
    "total_reward = 0  \n",
    "action_list = []\n",
    "port_ret_list = []\n",
    "date_list = []\n",
    "while not done:\n",
    "    action, _states = model.predict(state, deterministic=False)\n",
    "    next_state, reward, done, info = env.step(action)\n",
    "    total_reward += reward \n",
    "    action_list.append(action[0])\n",
    "    port_ret_list.append(info['portfolio return'])\n",
    "    date_list.append(info['date'])\n",
    "\n",
    "print(f'Total reward: {total_reward}')"
   ]
  },
  {
   "cell_type": "code",
   "execution_count": 5,
   "metadata": {},
   "outputs": [
    {
     "data": {
      "text/html": [
       "<div>\n",
       "<style scoped>\n",
       "    .dataframe tbody tr th:only-of-type {\n",
       "        vertical-align: middle;\n",
       "    }\n",
       "\n",
       "    .dataframe tbody tr th {\n",
       "        vertical-align: top;\n",
       "    }\n",
       "\n",
       "    .dataframe thead th {\n",
       "        text-align: right;\n",
       "    }\n",
       "</style>\n",
       "<table border=\"1\" class=\"dataframe\">\n",
       "  <thead>\n",
       "    <tr style=\"text-align: right;\">\n",
       "      <th></th>\n",
       "      <th>action</th>\n",
       "      <th>portfolio return</th>\n",
       "    </tr>\n",
       "  </thead>\n",
       "  <tbody>\n",
       "    <tr>\n",
       "      <th>1965Q3</th>\n",
       "      <td>1.0</td>\n",
       "      <td>0.069425</td>\n",
       "    </tr>\n",
       "    <tr>\n",
       "      <th>1965Q4</th>\n",
       "      <td>1.0</td>\n",
       "      <td>0.027457</td>\n",
       "    </tr>\n",
       "    <tr>\n",
       "      <th>1966Q1</th>\n",
       "      <td>1.0</td>\n",
       "      <td>-0.034621</td>\n",
       "    </tr>\n",
       "    <tr>\n",
       "      <th>1966Q2</th>\n",
       "      <td>1.0</td>\n",
       "      <td>-0.050319</td>\n",
       "    </tr>\n",
       "    <tr>\n",
       "      <th>1966Q3</th>\n",
       "      <td>1.0</td>\n",
       "      <td>-0.096531</td>\n",
       "    </tr>\n",
       "    <tr>\n",
       "      <th>1966Q4</th>\n",
       "      <td>1.0</td>\n",
       "      <td>0.049242</td>\n",
       "    </tr>\n",
       "    <tr>\n",
       "      <th>1967Q1</th>\n",
       "      <td>1.0</td>\n",
       "      <td>0.122868</td>\n",
       "    </tr>\n",
       "    <tr>\n",
       "      <th>1967Q2</th>\n",
       "      <td>1.0</td>\n",
       "      <td>0.004878</td>\n",
       "    </tr>\n",
       "    <tr>\n",
       "      <th>1967Q3</th>\n",
       "      <td>1.0</td>\n",
       "      <td>0.066968</td>\n",
       "    </tr>\n",
       "    <tr>\n",
       "      <th>1967Q4</th>\n",
       "      <td>1.0</td>\n",
       "      <td>-0.002482</td>\n",
       "    </tr>\n",
       "    <tr>\n",
       "      <th>1968Q1</th>\n",
       "      <td>1.0</td>\n",
       "      <td>-0.064994</td>\n",
       "    </tr>\n",
       "    <tr>\n",
       "      <th>1968Q2</th>\n",
       "      <td>1.0</td>\n",
       "      <td>0.103991</td>\n",
       "    </tr>\n",
       "    <tr>\n",
       "      <th>1968Q3</th>\n",
       "      <td>1.0</td>\n",
       "      <td>0.031030</td>\n",
       "    </tr>\n",
       "    <tr>\n",
       "      <th>1968Q4</th>\n",
       "      <td>1.0</td>\n",
       "      <td>0.011591</td>\n",
       "    </tr>\n",
       "    <tr>\n",
       "      <th>1969Q1</th>\n",
       "      <td>1.0</td>\n",
       "      <td>-0.022627</td>\n",
       "    </tr>\n",
       "    <tr>\n",
       "      <th>1969Q2</th>\n",
       "      <td>1.0</td>\n",
       "      <td>-0.037435</td>\n",
       "    </tr>\n",
       "    <tr>\n",
       "      <th>1969Q3</th>\n",
       "      <td>1.0</td>\n",
       "      <td>-0.046976</td>\n",
       "    </tr>\n",
       "    <tr>\n",
       "      <th>1969Q4</th>\n",
       "      <td>1.0</td>\n",
       "      <td>-0.011383</td>\n",
       "    </tr>\n",
       "  </tbody>\n",
       "</table>\n",
       "</div>"
      ],
      "text/plain": [
       "        action  portfolio return\n",
       "1965Q3     1.0          0.069425\n",
       "1965Q4     1.0          0.027457\n",
       "1966Q1     1.0         -0.034621\n",
       "1966Q2     1.0         -0.050319\n",
       "1966Q3     1.0         -0.096531\n",
       "1966Q4     1.0          0.049242\n",
       "1967Q1     1.0          0.122868\n",
       "1967Q2     1.0          0.004878\n",
       "1967Q3     1.0          0.066968\n",
       "1967Q4     1.0         -0.002482\n",
       "1968Q1     1.0         -0.064994\n",
       "1968Q2     1.0          0.103991\n",
       "1968Q3     1.0          0.031030\n",
       "1968Q4     1.0          0.011591\n",
       "1969Q1     1.0         -0.022627\n",
       "1969Q2     1.0         -0.037435\n",
       "1969Q3     1.0         -0.046976\n",
       "1969Q4     1.0         -0.011383"
      ]
     },
     "execution_count": 5,
     "metadata": {},
     "output_type": "execute_result"
    }
   ],
   "source": [
    "performance = pd.DataFrame({'action': action_list, 'portfolio return': port_ret_list}, index=date_list)\n",
    "performance.index = performance.index.asfreq('Q')\n",
    "performance"
   ]
  },
  {
   "attachments": {},
   "cell_type": "markdown",
   "metadata": {},
   "source": [
    "The action is take at time t, the reward and portfolio return is recieved at time t+1. For simplicity, we put the action at time t and portfolio return at time t+1 at the same row."
   ]
  },
  {
   "attachments": {},
   "cell_type": "markdown",
   "metadata": {},
   "source": [
    "# Agent & Environment Trouble shooting"
   ]
  },
  {
   "attachments": {},
   "cell_type": "markdown",
   "metadata": {},
   "source": [
    "By looking into the test of RL agent and Econ Market Envrionment, we find several wired things need to be solved:\n",
    "\n",
    "- The action always converge to 1 or -1. It seems that the agent doesn't learn too much.\n",
    "- Unmatching total rewards. After trained on a data period, we test the well trained agent on the same data. The total reward received from testing is always smaller than the total reward form training.\n",
    "- The randomness of agent action.\n",
    "- Hyper-parameter tunning\n",
    "  - discount factor\n",
    "  - penalty in the reward\n",
    "  - num of year in the objectives\n",
    "  - state space (regime - POMDP)"
   ]
  },
  {
   "attachments": {},
   "cell_type": "markdown",
   "metadata": {},
   "source": [
    "# Performance Evaluation"
   ]
  },
  {
   "attachments": {},
   "cell_type": "markdown",
   "metadata": {},
   "source": [
    "The RL agent output action (weights for risky asset) at each time step. We also record the portfolio return at each time step. We want to evaluate the agent's action according to the portfolio return. We gather the agent's action, the portfolio's return time series and the benchmark's return togather. We compare the agent's performance against benchmark in terms of portfolio return, utility and risk-adjust return."
   ]
  },
  {
   "cell_type": "code",
   "execution_count": 8,
   "metadata": {},
   "outputs": [],
   "source": [
    "def evaluate_agent_action(df: pd.DataFrame) -> Tuple[float, plt.Figure, pd.DataFrame]:\n",
    "    \"\"\"\n",
    "    Calculates the Sharpe ratio for the portfolio returns in the given data frame.\n",
    "\n",
    "    Parameters:\n",
    "        df: A pandas DataFrame containing 'action' and 'portfolio return' columns.\n",
    "\n",
    "    Returns:\n",
    "        A tuple containing the Sharpe ratio, a figure object, and the performance DataFrame.\n",
    "        The performance DataFrame contains the 'portfolio return', 'benchmark 60/40', 'Market Index',\n",
    "        and 'Rfree' columns, which are used to calculate the Sharpe ratio and plot the cumulative\n",
    "        returns.\n",
    "        \n",
    "    Raises:\n",
    "        ValueError: If the input portfolio return does not match the calculated portfolio return.\n",
    "    \"\"\"\n",
    "    action = df['action'].values\n",
    "    portfolio_return_input = df['portfolio return'].values\n",
    "    equities_returns = get_equities_returns(data_freq='quarterly')\n",
    "    equities_returns.index = equities_returns.index.asfreq('Q')\n",
    "    index = df.index.asfreq('Q')\n",
    "    equities_returns = equities_returns.loc[index].values\n",
    "\n",
    "    w = np.column_stack([action, 1 - action])\n",
    "    portfolio_return = np.sum(equities_returns * w, axis=1)\n",
    "    if not np.array_equal(portfolio_return_input, portfolio_return):\n",
    "        raise ValueError(\"Input portfolio return does not match the calculated portfolio return.\")\n",
    "\n",
    "    benchmark_60_40 = equities_returns @ np.array([0.6, 0.4])\n",
    "    performance = pd.DataFrame(columns=['portfolio return', 'benchmark 60/40', 'Market Index', 'Rfree'],\n",
    "                               data=np.column_stack([portfolio_return, benchmark_60_40, equities_returns]))\n",
    "\n",
    "    fig, ax = plt.subplots()\n",
    "    performance.cumsum().plot(ax=ax)\n",
    "    ax.set(title='RL vs Benchmark', ylabel='Cumulative Returns')\n",
    "\n",
    "    sharpe_ratio = np.mean(performance[['portfolio return', 'benchmark 60/40']]) \\\n",
    "                    / np.std(performance[['portfolio return', 'benchmark 60/40']])\n",
    "    \n",
    "    return sharpe_ratio, fig, performance\n"
   ]
  },
  {
   "cell_type": "code",
   "execution_count": 9,
   "metadata": {},
   "outputs": [
    {
     "data": {
      "image/png": "[encoded data removed]",
      "text/plain": [
       "<Figure size 640x480 with 1 Axes>"
      ]
     },
     "metadata": {},
     "output_type": "display_data"
    }
   ],
   "source": [
    "a, b, c = evaluate_agent_action(performance)"
   ]
  },
  {
   "cell_type": "code",
   "execution_count": 10,
   "metadata": {},
   "outputs": [
    {
     "data": {
      "text/plain": [
       "portfolio return   -0.383279\n",
       "benchmark 60/40     0.517110\n",
       "dtype: float64"
      ]
     },
     "execution_count": 10,
     "metadata": {},
     "output_type": "execute_result"
    }
   ],
   "source": [
    "a"
   ]
  },
  {
   "attachments": {},
   "cell_type": "markdown",
   "metadata": {},
   "source": [
    "# Moving Training\n",
    "We use 5 years data to train the RL agent. That means the algo is maximizing the 5 years total rewards rather than the whole period. Once the agent is well trained on the 5 years data, we move one quarter ahead and repeat the same thing until the end of sample period. Finally, we get a well trained agent that maximizing 5 years total reward and include whole sample information."
   ]
  },
  {
   "cell_type": "code",
   "execution_count": 24,
   "metadata": {},
   "outputs": [],
   "source": [
    "from sklearn.model_selection import TimeSeriesSplit\n",
    "from stable_baselines3 import PPO, A2C, TD3\n",
    "from tqdm import tqdm"
   ]
  },
  {
   "cell_type": "code",
   "execution_count": 22,
   "metadata": {},
   "outputs": [],
   "source": [
    "from sklearn.model_selection import TimeSeriesSplit\n",
    "DATA_FREQUENCY = 4\n",
    "WINDOW_SIZE = 5\n",
    "SAMPLE_SIZE = data.shape[0]\n",
    "tscv = TimeSeriesSplit(n_splits = SAMPLE_SIZE - DATA_FREQUENCY * WINDOW_SIZE - 1,\n",
    "                       test_size=1, \n",
    "                       max_train_size= DATA_FREQUENCY * WINDOW_SIZE)"
   ]
  },
  {
   "cell_type": "code",
   "execution_count": 25,
   "metadata": {},
   "outputs": [
    {
     "name": "stderr",
     "output_type": "stream",
     "text": [
      "28it [30:08, 64.58s/it]\n"
     ]
    },
    {
     "ename": "KeyboardInterrupt",
     "evalue": "",
     "output_type": "error",
     "traceback": [
      "\u001b[0;31m---------------------------------------------------------------------------\u001b[0m",
      "\u001b[0;31mKeyboardInterrupt\u001b[0m                         Traceback (most recent call last)",
      "\u001b[0;32m/tmp/ipykernel_3226873/3798858528.py\u001b[0m in \u001b[0;36m<module>\u001b[0;34m\u001b[0m\n\u001b[1;32m      7\u001b[0m         \u001b[0mmodel\u001b[0m \u001b[0;34m=\u001b[0m \u001b[0mPPO\u001b[0m\u001b[0;34m.\u001b[0m\u001b[0mload\u001b[0m\u001b[0;34m(\u001b[0m\u001b[0;34m\"../../log/model/ppo_econmarket\"\u001b[0m\u001b[0;34m,\u001b[0m \u001b[0menv\u001b[0m\u001b[0;34m=\u001b[0m\u001b[0menv\u001b[0m\u001b[0;34m)\u001b[0m\u001b[0;34m\u001b[0m\u001b[0;34m\u001b[0m\u001b[0m\n\u001b[1;32m      8\u001b[0m \u001b[0;34m\u001b[0m\u001b[0m\n\u001b[0;32m----> 9\u001b[0;31m     \u001b[0mmodel\u001b[0m\u001b[0;34m.\u001b[0m\u001b[0mlearn\u001b[0m\u001b[0;34m(\u001b[0m\u001b[0mint\u001b[0m\u001b[0;34m(\u001b[0m\u001b[0;36m2e5\u001b[0m\u001b[0;34m)\u001b[0m\u001b[0;34m)\u001b[0m\u001b[0;34m\u001b[0m\u001b[0;34m\u001b[0m\u001b[0m\n\u001b[0m\u001b[1;32m     10\u001b[0m     \u001b[0mmodel\u001b[0m\u001b[0;34m.\u001b[0m\u001b[0msave\u001b[0m\u001b[0;34m(\u001b[0m\u001b[0;34m\"../../log/model/ppo_econmarket\"\u001b[0m\u001b[0;34m)\u001b[0m\u001b[0;34m\u001b[0m\u001b[0;34m\u001b[0m\u001b[0m\n",
      "\u001b[0;32m~/app/anaconda3/envs/ml_fin/lib/python3.7/site-packages/stable_baselines3/ppo/ppo.py\u001b[0m in \u001b[0;36mlearn\u001b[0;34m(self, total_timesteps, callback, log_interval, tb_log_name, reset_num_timesteps, progress_bar)\u001b[0m\n\u001b[1;32m    311\u001b[0m             \u001b[0mtb_log_name\u001b[0m\u001b[0;34m=\u001b[0m\u001b[0mtb_log_name\u001b[0m\u001b[0;34m,\u001b[0m\u001b[0;34m\u001b[0m\u001b[0;34m\u001b[0m\u001b[0m\n\u001b[1;32m    312\u001b[0m             \u001b[0mreset_num_timesteps\u001b[0m\u001b[0;34m=\u001b[0m\u001b[0mreset_num_timesteps\u001b[0m\u001b[0;34m,\u001b[0m\u001b[0;34m\u001b[0m\u001b[0;34m\u001b[0m\u001b[0m\n\u001b[0;32m--> 313\u001b[0;31m             \u001b[0mprogress_bar\u001b[0m\u001b[0;34m=\u001b[0m\u001b[0mprogress_bar\u001b[0m\u001b[0;34m,\u001b[0m\u001b[0;34m\u001b[0m\u001b[0;34m\u001b[0m\u001b[0m\n\u001b[0m\u001b[1;32m    314\u001b[0m         )\n",
      "\u001b[0;32m~/app/anaconda3/envs/ml_fin/lib/python3.7/site-packages/stable_baselines3/common/on_policy_algorithm.py\u001b[0m in \u001b[0;36mlearn\u001b[0;34m(self, total_timesteps, callback, log_interval, tb_log_name, reset_num_timesteps, progress_bar)\u001b[0m\n\u001b[1;32m    267\u001b[0m                 \u001b[0mself\u001b[0m\u001b[0;34m.\u001b[0m\u001b[0mlogger\u001b[0m\u001b[0;34m.\u001b[0m\u001b[0mdump\u001b[0m\u001b[0;34m(\u001b[0m\u001b[0mstep\u001b[0m\u001b[0;34m=\u001b[0m\u001b[0mself\u001b[0m\u001b[0;34m.\u001b[0m\u001b[0mnum_timesteps\u001b[0m\u001b[0;34m)\u001b[0m\u001b[0;34m\u001b[0m\u001b[0;34m\u001b[0m\u001b[0m\n\u001b[1;32m    268\u001b[0m \u001b[0;34m\u001b[0m\u001b[0m\n\u001b[0;32m--> 269\u001b[0;31m             \u001b[0mself\u001b[0m\u001b[0;34m.\u001b[0m\u001b[0mtrain\u001b[0m\u001b[0;34m(\u001b[0m\u001b[0;34m)\u001b[0m\u001b[0;34m\u001b[0m\u001b[0;34m\u001b[0m\u001b[0m\n\u001b[0m\u001b[1;32m    270\u001b[0m \u001b[0;34m\u001b[0m\u001b[0m\n\u001b[1;32m    271\u001b[0m         \u001b[0mcallback\u001b[0m\u001b[0;34m.\u001b[0m\u001b[0mon_training_end\u001b[0m\u001b[0;34m(\u001b[0m\u001b[0;34m)\u001b[0m\u001b[0;34m\u001b[0m\u001b[0;34m\u001b[0m\u001b[0m\n",
      "\u001b[0;32m~/app/anaconda3/envs/ml_fin/lib/python3.7/site-packages/stable_baselines3/ppo/ppo.py\u001b[0m in \u001b[0;36mtrain\u001b[0;34m(self)\u001b[0m\n\u001b[1;32m    271\u001b[0m                 \u001b[0;31m# Clip grad norm\u001b[0m\u001b[0;34m\u001b[0m\u001b[0;34m\u001b[0m\u001b[0;34m\u001b[0m\u001b[0m\n\u001b[1;32m    272\u001b[0m                 \u001b[0mth\u001b[0m\u001b[0;34m.\u001b[0m\u001b[0mnn\u001b[0m\u001b[0;34m.\u001b[0m\u001b[0mutils\u001b[0m\u001b[0;34m.\u001b[0m\u001b[0mclip_grad_norm_\u001b[0m\u001b[0;34m(\u001b[0m\u001b[0mself\u001b[0m\u001b[0;34m.\u001b[0m\u001b[0mpolicy\u001b[0m\u001b[0;34m.\u001b[0m\u001b[0mparameters\u001b[0m\u001b[0;34m(\u001b[0m\u001b[0;34m)\u001b[0m\u001b[0;34m,\u001b[0m \u001b[0mself\u001b[0m\u001b[0;34m.\u001b[0m\u001b[0mmax_grad_norm\u001b[0m\u001b[0;34m)\u001b[0m\u001b[0;34m\u001b[0m\u001b[0;34m\u001b[0m\u001b[0m\n\u001b[0;32m--> 273\u001b[0;31m                 \u001b[0mself\u001b[0m\u001b[0;34m.\u001b[0m\u001b[0mpolicy\u001b[0m\u001b[0;34m.\u001b[0m\u001b[0moptimizer\u001b[0m\u001b[0;34m.\u001b[0m\u001b[0mstep\u001b[0m\u001b[0;34m(\u001b[0m\u001b[0;34m)\u001b[0m\u001b[0;34m\u001b[0m\u001b[0;34m\u001b[0m\u001b[0m\n\u001b[0m\u001b[1;32m    274\u001b[0m \u001b[0;34m\u001b[0m\u001b[0m\n\u001b[1;32m    275\u001b[0m             \u001b[0;32mif\u001b[0m \u001b[0;32mnot\u001b[0m \u001b[0mcontinue_training\u001b[0m\u001b[0;34m:\u001b[0m\u001b[0;34m\u001b[0m\u001b[0;34m\u001b[0m\u001b[0m\n",
      "\u001b[0;32m~/app/anaconda3/envs/ml_fin/lib/python3.7/site-packages/torch/optim/optimizer.py\u001b[0m in \u001b[0;36mwrapper\u001b[0;34m(*args, **kwargs)\u001b[0m\n\u001b[1;32m    138\u001b[0m                 \u001b[0mprofile_name\u001b[0m \u001b[0;34m=\u001b[0m \u001b[0;34m\"Optimizer.step#{}.step\"\u001b[0m\u001b[0;34m.\u001b[0m\u001b[0mformat\u001b[0m\u001b[0;34m(\u001b[0m\u001b[0mobj\u001b[0m\u001b[0;34m.\u001b[0m\u001b[0m__class__\u001b[0m\u001b[0;34m.\u001b[0m\u001b[0m__name__\u001b[0m\u001b[0;34m)\u001b[0m\u001b[0;34m\u001b[0m\u001b[0;34m\u001b[0m\u001b[0m\n\u001b[1;32m    139\u001b[0m                 \u001b[0;32mwith\u001b[0m \u001b[0mtorch\u001b[0m\u001b[0;34m.\u001b[0m\u001b[0mautograd\u001b[0m\u001b[0;34m.\u001b[0m\u001b[0mprofiler\u001b[0m\u001b[0;34m.\u001b[0m\u001b[0mrecord_function\u001b[0m\u001b[0;34m(\u001b[0m\u001b[0mprofile_name\u001b[0m\u001b[0;34m)\u001b[0m\u001b[0;34m:\u001b[0m\u001b[0;34m\u001b[0m\u001b[0;34m\u001b[0m\u001b[0m\n\u001b[0;32m--> 140\u001b[0;31m                     \u001b[0mout\u001b[0m \u001b[0;34m=\u001b[0m \u001b[0mfunc\u001b[0m\u001b[0;34m(\u001b[0m\u001b[0;34m*\u001b[0m\u001b[0margs\u001b[0m\u001b[0;34m,\u001b[0m \u001b[0;34m**\u001b[0m\u001b[0mkwargs\u001b[0m\u001b[0;34m)\u001b[0m\u001b[0;34m\u001b[0m\u001b[0;34m\u001b[0m\u001b[0m\n\u001b[0m\u001b[1;32m    141\u001b[0m                     \u001b[0mobj\u001b[0m\u001b[0;34m.\u001b[0m\u001b[0m_optimizer_step_code\u001b[0m\u001b[0;34m(\u001b[0m\u001b[0;34m)\u001b[0m\u001b[0;34m\u001b[0m\u001b[0;34m\u001b[0m\u001b[0m\n\u001b[1;32m    142\u001b[0m                     \u001b[0;32mreturn\u001b[0m \u001b[0mout\u001b[0m\u001b[0;34m\u001b[0m\u001b[0;34m\u001b[0m\u001b[0m\n",
      "\u001b[0;32m~/app/anaconda3/envs/ml_fin/lib/python3.7/site-packages/torch/optim/optimizer.py\u001b[0m in \u001b[0;36m_use_grad\u001b[0;34m(self, *args, **kwargs)\u001b[0m\n\u001b[1;32m     21\u001b[0m         \u001b[0;32mtry\u001b[0m\u001b[0;34m:\u001b[0m\u001b[0;34m\u001b[0m\u001b[0;34m\u001b[0m\u001b[0m\n\u001b[1;32m     22\u001b[0m             \u001b[0mtorch\u001b[0m\u001b[0;34m.\u001b[0m\u001b[0mset_grad_enabled\u001b[0m\u001b[0;34m(\u001b[0m\u001b[0mself\u001b[0m\u001b[0;34m.\u001b[0m\u001b[0mdefaults\u001b[0m\u001b[0;34m[\u001b[0m\u001b[0;34m'differentiable'\u001b[0m\u001b[0;34m]\u001b[0m\u001b[0;34m)\u001b[0m\u001b[0;34m\u001b[0m\u001b[0;34m\u001b[0m\u001b[0m\n\u001b[0;32m---> 23\u001b[0;31m             \u001b[0mret\u001b[0m \u001b[0;34m=\u001b[0m \u001b[0mfunc\u001b[0m\u001b[0;34m(\u001b[0m\u001b[0mself\u001b[0m\u001b[0;34m,\u001b[0m \u001b[0;34m*\u001b[0m\u001b[0margs\u001b[0m\u001b[0;34m,\u001b[0m \u001b[0;34m**\u001b[0m\u001b[0mkwargs\u001b[0m\u001b[0;34m)\u001b[0m\u001b[0;34m\u001b[0m\u001b[0;34m\u001b[0m\u001b[0m\n\u001b[0m\u001b[1;32m     24\u001b[0m         \u001b[0;32mfinally\u001b[0m\u001b[0;34m:\u001b[0m\u001b[0;34m\u001b[0m\u001b[0;34m\u001b[0m\u001b[0m\n\u001b[1;32m     25\u001b[0m             \u001b[0mtorch\u001b[0m\u001b[0;34m.\u001b[0m\u001b[0mset_grad_enabled\u001b[0m\u001b[0;34m(\u001b[0m\u001b[0mprev_grad\u001b[0m\u001b[0;34m)\u001b[0m\u001b[0;34m\u001b[0m\u001b[0;34m\u001b[0m\u001b[0m\n",
      "\u001b[0;32m~/app/anaconda3/envs/ml_fin/lib/python3.7/site-packages/torch/optim/adam.py\u001b[0m in \u001b[0;36mstep\u001b[0;34m(self, closure, grad_scaler)\u001b[0m\n\u001b[1;32m    250\u001b[0m                  \u001b[0mfused\u001b[0m\u001b[0;34m=\u001b[0m\u001b[0mgroup\u001b[0m\u001b[0;34m[\u001b[0m\u001b[0;34m'fused'\u001b[0m\u001b[0;34m]\u001b[0m\u001b[0;34m,\u001b[0m\u001b[0;34m\u001b[0m\u001b[0;34m\u001b[0m\u001b[0m\n\u001b[1;32m    251\u001b[0m                  \u001b[0mgrad_scale\u001b[0m\u001b[0;34m=\u001b[0m\u001b[0mgrad_scale\u001b[0m\u001b[0;34m,\u001b[0m\u001b[0;34m\u001b[0m\u001b[0;34m\u001b[0m\u001b[0m\n\u001b[0;32m--> 252\u001b[0;31m                  found_inf=found_inf)\n\u001b[0m\u001b[1;32m    253\u001b[0m \u001b[0;34m\u001b[0m\u001b[0m\n\u001b[1;32m    254\u001b[0m         \u001b[0;32mreturn\u001b[0m \u001b[0mloss\u001b[0m\u001b[0;34m\u001b[0m\u001b[0;34m\u001b[0m\u001b[0m\n",
      "\u001b[0;32m~/app/anaconda3/envs/ml_fin/lib/python3.7/site-packages/torch/optim/adam.py\u001b[0m in \u001b[0;36madam\u001b[0;34m(params, grads, exp_avgs, exp_avg_sqs, max_exp_avg_sqs, state_steps, foreach, capturable, differentiable, fused, grad_scale, found_inf, amsgrad, beta1, beta2, lr, weight_decay, eps, maximize)\u001b[0m\n\u001b[1;32m    314\u001b[0m          \u001b[0mdifferentiable\u001b[0m\u001b[0;34m=\u001b[0m\u001b[0mdifferentiable\u001b[0m\u001b[0;34m,\u001b[0m\u001b[0;34m\u001b[0m\u001b[0;34m\u001b[0m\u001b[0m\n\u001b[1;32m    315\u001b[0m          \u001b[0mgrad_scale\u001b[0m\u001b[0;34m=\u001b[0m\u001b[0mgrad_scale\u001b[0m\u001b[0;34m,\u001b[0m\u001b[0;34m\u001b[0m\u001b[0;34m\u001b[0m\u001b[0m\n\u001b[0;32m--> 316\u001b[0;31m          found_inf=found_inf)\n\u001b[0m\u001b[1;32m    317\u001b[0m \u001b[0;34m\u001b[0m\u001b[0m\n\u001b[1;32m    318\u001b[0m \u001b[0;34m\u001b[0m\u001b[0m\n",
      "\u001b[0;32m~/app/anaconda3/envs/ml_fin/lib/python3.7/site-packages/torch/optim/adam.py\u001b[0m in \u001b[0;36m_single_tensor_adam\u001b[0;34m(params, grads, exp_avgs, exp_avg_sqs, max_exp_avg_sqs, state_steps, grad_scale, found_inf, amsgrad, beta1, beta2, lr, weight_decay, eps, maximize, capturable, differentiable)\u001b[0m\n\u001b[1;32m    349\u001b[0m \u001b[0;34m\u001b[0m\u001b[0m\n\u001b[1;32m    350\u001b[0m         \u001b[0;31m# update step\u001b[0m\u001b[0;34m\u001b[0m\u001b[0;34m\u001b[0m\u001b[0;34m\u001b[0m\u001b[0m\n\u001b[0;32m--> 351\u001b[0;31m         \u001b[0mstep_t\u001b[0m \u001b[0;34m+=\u001b[0m \u001b[0;36m1\u001b[0m\u001b[0;34m\u001b[0m\u001b[0;34m\u001b[0m\u001b[0m\n\u001b[0m\u001b[1;32m    352\u001b[0m \u001b[0;34m\u001b[0m\u001b[0m\n\u001b[1;32m    353\u001b[0m         \u001b[0;32mif\u001b[0m \u001b[0mweight_decay\u001b[0m \u001b[0;34m!=\u001b[0m \u001b[0;36m0\u001b[0m\u001b[0;34m:\u001b[0m\u001b[0;34m\u001b[0m\u001b[0;34m\u001b[0m\u001b[0m\n",
      "\u001b[0;31mKeyboardInterrupt\u001b[0m: "
     ]
    }
   ],
   "source": [
    "for i, (train_index, test_index) in tqdm(enumerate(tscv.split(data))):\n",
    "    env = EconMarketEnv(data.iloc[train_index], portfolio.iloc[train_index])\n",
    "    \n",
    "    if i == 0:\n",
    "        model = PPO(\"MlpPolicy\", env, verbose=0, tensorboard_log=\"../../log/tensorboard_econmarket/\")\n",
    "    else:\n",
    "        model = PPO.load(\"../../log/model/ppo_econmarket\", env=env)\n",
    "\n",
    "    model.learn(int(2e5))\n",
    "    model.save(\"../../log/model/ppo_econmarket\")"
   ]
  }
 ],
 "metadata": {
  "kernelspec": {
   "display_name": "ml_fin",
   "language": "python",
   "name": "python3"
  },
  "language_info": {
   "codemirror_mode": {
    "name": "ipython",
    "version": 3
   },
   "file_extension": ".py",
   "mimetype": "text/x-python",
   "name": "python",
   "nbconvert_exporter": "python",
   "pygments_lexer": "ipython3",
   "version": "3.7.13"
  },
  "orig_nbformat": 4,
  "vscode": {
   "interpreter": {
    "hash": "df1bd20b0aa4676359c3a4e1acc00212aee2b856ad4a02dcab7b28000647db5d"
   }
  }
 },
 "nbformat": 4,
 "nbformat_minor": 2
}
