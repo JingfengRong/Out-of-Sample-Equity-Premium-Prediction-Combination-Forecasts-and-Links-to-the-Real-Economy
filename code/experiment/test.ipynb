{
 "cells": [
  {
   "cell_type": "code",
   "execution_count": null,
   "metadata": {},
   "outputs": [],
   "source": []
  }
 ],
 "metadata": {
  "kernelspec": {
   "display_name": "tactical_asset_allocation",
   "language": "python",
   "name": "python3"
  },
  "language_info": {
   "codemirror_mode": {
    "name": "ipython",
    "version": 3
   },
   "file_extension": ".py",
   "mimetype": "text/x-python",
   "name": "python",
   "nbconvert_exporter": "python",
   "pygments_lexer": "ipython3",
   "version": "3.9.13 (main, Aug 25 2022, 18:29:29) \n[Clang 12.0.0 ]"
  },
  "orig_nbformat": 4,
  "vscode": {
   "interpreter": {
    "hash": "7570e427e973fb3b6bfd659c66bf78cc4cabecf651bb8f199a8f71cadb6634f8"
   }
  }
 },
 "nbformat": 4,
 "nbformat_minor": 2
}
